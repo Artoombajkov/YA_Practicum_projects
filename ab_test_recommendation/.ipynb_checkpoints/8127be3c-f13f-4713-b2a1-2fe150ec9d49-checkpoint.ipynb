{
 "cells": [
  {
   "cell_type": "markdown",
   "metadata": {
    "id": "u98L9TgH0eMk"
   },
   "source": [
    "# Разработка A/B-тестирования и анализ результатов\n",
    "\n",
    "Вы работаете продуктовым аналитиком в компании, которая разрабатывает развлекательное приложение с функцией «бесконечной» ленты, как, например, в приложениях с короткими видео. В вашем приложении существует две модели монетизации: первая — ежемесячная платная подписка, которая позволяет пользователям смотреть ленту без рекламы, вторая — демонстрация рекламы для пользователей, которые ещё не оформили подписку.\n",
    "\n",
    "Команда разработчиков рекомендательных систем создала новый алгоритм рекомендаций, который, по их мнению, будет показывать более интересный контент для каждого пользователя. Вас, как аналитика, просят помочь рассчитать параметры A/B-теста, который позволит проверить эту гипотезу, и проанализировать его результаты."
   ]
  },
  {
   "cell_type": "markdown",
   "metadata": {
    "id": "LJBRALHs0eMf"
   },
   "source": [
    "## Описание данных\n",
    "\n",
    "Вы будете работать с тремя таблицами:\n",
    "\n",
    "- `sessions_project_history.csv` — таблица с историческими данными по сессиям пользователей на период с 2025-08-15 по 2025-09-23. Путь к файлу: `/datasets/sessions_project_history.csv`.\n",
    "\n",
    "- `sessions_project_test_part.csv` — таблица с данными за первый день проведения A/B-теста, то есть за 2025-10-14. Путь к файлу: `/datasets/sessions_project_test_part.csv`.\n",
    "\n",
    "- `sessions_project_test.csv` — таблица с данными за весь период проведения A/B-теста, то есть с 2025-10-14 по 2025-11-02. Путь к файлу: `/datasets/sessions_project_test.csv`.\n",
    "\n",
    "У этих таблиц почти совпадает структура и содержание колонок, различаются лишь периоды наблюдения.\n",
    "\n",
    "Поля таблиц `sessions_project_history.csv`, `sessions_project_test.csv`, `sessions_project_test_part.csv`:\n",
    "\n",
    "- `user_id` — идентификатор пользователя;\n",
    "\n",
    "- `session_id` — идентификатор сессии в приложении;\n",
    "\n",
    "- `session_date` — дата сессии;\n",
    "\n",
    "- `session_start_ts` — дата и время начала сессии;\n",
    "\n",
    "- `install_date` — дата установки приложения;\n",
    "\n",
    "- `session_number` — порядковый номер сессии для конкретного пользователя;\n",
    "\n",
    "- `registration_flag` — является ли пользователь зарегистрированным;\n",
    "\n",
    "- `page_counter` — количество просмотренных страниц во время сессии;\n",
    "\n",
    "- `region` — регион пользователя;\n",
    "\n",
    "- `device` — тип устройства пользователя;\n",
    "\n",
    "- `test_group` — тестовая группа (в таблице с историческими данными этого столбца нет).\n",
    "\n",
    "\n",
    "## Что нужно сделать\n",
    "Ваши задачи: рассчитать параметры теста, оценить корректность его проведения и проанализировать результаты эксперимента."
   ]
  },
  {
   "cell_type": "markdown",
   "metadata": {
    "id": "UpOucjID0eMl"
   },
   "source": [
    "### 1. Работа с историческими данными (EDA)"
   ]
  },
  {
   "cell_type": "markdown",
   "metadata": {
    "id": "8iJMtL-30eMl"
   },
   "source": [
    "#### 1.1. Загрузка исторических данных\n",
    "На первом этапе поработайте с историческими данными приложения:\n",
    "\n",
    "- Импортируйте библиотеку pandas.\n",
    "\n",
    "- Считайте и сохраните в датафрейм `sessions_history` CSV-файл с историческими данными о сессиях пользователей `sessions_project_history.csv`.\n",
    "\n",
    "Выведите на экран первые пять строк полученного датафрейма."
   ]
  },
  {
   "cell_type": "code",
   "execution_count": 5,
   "metadata": {
    "id": "6TPR2-1RPboT"
   },
   "outputs": [],
   "source": [
    "import pandas as pd"
   ]
  },
  {
   "cell_type": "code",
   "execution_count": 6,
   "metadata": {},
   "outputs": [
    {
     "data": {
      "text/html": [
       "<div>\n",
       "<style scoped>\n",
       "    .dataframe tbody tr th:only-of-type {\n",
       "        vertical-align: middle;\n",
       "    }\n",
       "\n",
       "    .dataframe tbody tr th {\n",
       "        vertical-align: top;\n",
       "    }\n",
       "\n",
       "    .dataframe thead th {\n",
       "        text-align: right;\n",
       "    }\n",
       "</style>\n",
       "<table border=\"1\" class=\"dataframe\">\n",
       "  <thead>\n",
       "    <tr style=\"text-align: right;\">\n",
       "      <th></th>\n",
       "      <th>user_id</th>\n",
       "      <th>session_id</th>\n",
       "      <th>session_date</th>\n",
       "      <th>session_start_ts</th>\n",
       "      <th>install_date</th>\n",
       "      <th>session_number</th>\n",
       "      <th>registration_flag</th>\n",
       "      <th>page_counter</th>\n",
       "      <th>region</th>\n",
       "      <th>device</th>\n",
       "    </tr>\n",
       "  </thead>\n",
       "  <tbody>\n",
       "    <tr>\n",
       "      <th>0</th>\n",
       "      <td>E302123B7000BFE4</td>\n",
       "      <td>F9AF61A0C2023832</td>\n",
       "      <td>2025-08-15</td>\n",
       "      <td>2025-08-15 17:47:35</td>\n",
       "      <td>2025-08-15</td>\n",
       "      <td>1</td>\n",
       "      <td>0</td>\n",
       "      <td>3</td>\n",
       "      <td>CIS</td>\n",
       "      <td>iPhone</td>\n",
       "    </tr>\n",
       "    <tr>\n",
       "      <th>1</th>\n",
       "      <td>2530F72E221829FB</td>\n",
       "      <td>85003A206CBDAC6F</td>\n",
       "      <td>2025-08-15</td>\n",
       "      <td>2025-08-15 16:42:14</td>\n",
       "      <td>2025-08-15</td>\n",
       "      <td>1</td>\n",
       "      <td>0</td>\n",
       "      <td>4</td>\n",
       "      <td>MENA</td>\n",
       "      <td>Android</td>\n",
       "    </tr>\n",
       "    <tr>\n",
       "      <th>2</th>\n",
       "      <td>876E020A4FC512F5</td>\n",
       "      <td>3677423E49D72DEE</td>\n",
       "      <td>2025-08-15</td>\n",
       "      <td>2025-08-15 12:30:00</td>\n",
       "      <td>2025-08-15</td>\n",
       "      <td>1</td>\n",
       "      <td>0</td>\n",
       "      <td>4</td>\n",
       "      <td>EU</td>\n",
       "      <td>PC</td>\n",
       "    </tr>\n",
       "    <tr>\n",
       "      <th>3</th>\n",
       "      <td>2640B349E1D81584</td>\n",
       "      <td>956B45F5915CA225</td>\n",
       "      <td>2025-08-15</td>\n",
       "      <td>2025-08-15 15:31:31</td>\n",
       "      <td>2025-08-15</td>\n",
       "      <td>1</td>\n",
       "      <td>0</td>\n",
       "      <td>4</td>\n",
       "      <td>CIS</td>\n",
       "      <td>Android</td>\n",
       "    </tr>\n",
       "    <tr>\n",
       "      <th>4</th>\n",
       "      <td>94E1CBFAEF1F5EE9</td>\n",
       "      <td>83BF0DA35F9F1F40</td>\n",
       "      <td>2025-08-15</td>\n",
       "      <td>2025-08-15 21:33:53</td>\n",
       "      <td>2025-08-15</td>\n",
       "      <td>1</td>\n",
       "      <td>0</td>\n",
       "      <td>3</td>\n",
       "      <td>CIS</td>\n",
       "      <td>Android</td>\n",
       "    </tr>\n",
       "  </tbody>\n",
       "</table>\n",
       "</div>"
      ],
      "text/plain": [
       "            user_id        session_id session_date     session_start_ts  \\\n",
       "0  E302123B7000BFE4  F9AF61A0C2023832   2025-08-15  2025-08-15 17:47:35   \n",
       "1  2530F72E221829FB  85003A206CBDAC6F   2025-08-15  2025-08-15 16:42:14   \n",
       "2  876E020A4FC512F5  3677423E49D72DEE   2025-08-15  2025-08-15 12:30:00   \n",
       "3  2640B349E1D81584  956B45F5915CA225   2025-08-15  2025-08-15 15:31:31   \n",
       "4  94E1CBFAEF1F5EE9  83BF0DA35F9F1F40   2025-08-15  2025-08-15 21:33:53   \n",
       "\n",
       "  install_date  session_number  registration_flag  page_counter region  \\\n",
       "0   2025-08-15               1                  0             3    CIS   \n",
       "1   2025-08-15               1                  0             4   MENA   \n",
       "2   2025-08-15               1                  0             4     EU   \n",
       "3   2025-08-15               1                  0             4    CIS   \n",
       "4   2025-08-15               1                  0             3    CIS   \n",
       "\n",
       "    device  \n",
       "0   iPhone  \n",
       "1  Android  \n",
       "2       PC  \n",
       "3  Android  \n",
       "4  Android  "
      ]
     },
     "metadata": {},
     "output_type": "display_data"
    }
   ],
   "source": [
    "sessions_history = pd.read_csv('https://code.s3.yandex.net/datasets/sessions_project_history.csv')\n",
    "\n",
    "display(sessions_history.head())"
   ]
  },
  {
   "cell_type": "markdown",
   "metadata": {
    "id": "qTDoiODz0eMo"
   },
   "source": [
    "#### 1.2. Знакомство с данными\n",
    "- Для каждого уникального пользователя `user_id` рассчитайте количество уникальных сессий `session_id`.\n",
    "\n",
    "- Выведите на экран все данные из таблицы `sessions_history` для одного пользователя с наибольшим количеством сессий. Если таких пользователей несколько, выберите любого из них.\n",
    "\n",
    "- Изучите таблицу для одного пользователя, чтобы лучше понять логику формирования каждого столбца данных.\n",
    "\n"
   ]
  },
  {
   "cell_type": "code",
   "execution_count": 8,
   "metadata": {},
   "outputs": [
    {
     "data": {
      "text/html": [
       "<div>\n",
       "<style scoped>\n",
       "    .dataframe tbody tr th:only-of-type {\n",
       "        vertical-align: middle;\n",
       "    }\n",
       "\n",
       "    .dataframe tbody tr th {\n",
       "        vertical-align: top;\n",
       "    }\n",
       "\n",
       "    .dataframe thead th {\n",
       "        text-align: right;\n",
       "    }\n",
       "</style>\n",
       "<table border=\"1\" class=\"dataframe\">\n",
       "  <thead>\n",
       "    <tr style=\"text-align: right;\">\n",
       "      <th></th>\n",
       "      <th>user_id</th>\n",
       "      <th>unique_sessions</th>\n",
       "    </tr>\n",
       "  </thead>\n",
       "  <tbody>\n",
       "    <tr>\n",
       "      <th>8948</th>\n",
       "      <td>10E0DEFC1ABDBBE0</td>\n",
       "      <td>10</td>\n",
       "    </tr>\n",
       "    <tr>\n",
       "      <th>55627</th>\n",
       "      <td>6A73CB5566BB494D</td>\n",
       "      <td>10</td>\n",
       "    </tr>\n",
       "    <tr>\n",
       "      <th>72346</th>\n",
       "      <td>8A60431A825D035B</td>\n",
       "      <td>9</td>\n",
       "    </tr>\n",
       "    <tr>\n",
       "      <th>109383</th>\n",
       "      <td>D11541BAC141FB94</td>\n",
       "      <td>9</td>\n",
       "    </tr>\n",
       "    <tr>\n",
       "      <th>47956</th>\n",
       "      <td>5BCFE7C4DCC148E9</td>\n",
       "      <td>9</td>\n",
       "    </tr>\n",
       "    <tr>\n",
       "      <th>...</th>\n",
       "      <td>...</td>\n",
       "      <td>...</td>\n",
       "    </tr>\n",
       "    <tr>\n",
       "      <th>15859</th>\n",
       "      <td>1DF13BB1953B3497</td>\n",
       "      <td>1</td>\n",
       "    </tr>\n",
       "    <tr>\n",
       "      <th>51449</th>\n",
       "      <td>628502A3CE7E0A3C</td>\n",
       "      <td>1</td>\n",
       "    </tr>\n",
       "    <tr>\n",
       "      <th>15853</th>\n",
       "      <td>1DEEF40DEFBD0C65</td>\n",
       "      <td>1</td>\n",
       "    </tr>\n",
       "    <tr>\n",
       "      <th>89905</th>\n",
       "      <td>AC08479B7472C628</td>\n",
       "      <td>1</td>\n",
       "    </tr>\n",
       "    <tr>\n",
       "      <th>72184</th>\n",
       "      <td>8A0882B6715D9EE5</td>\n",
       "      <td>1</td>\n",
       "    </tr>\n",
       "  </tbody>\n",
       "</table>\n",
       "<p>134039 rows × 2 columns</p>\n",
       "</div>"
      ],
      "text/plain": [
       "                 user_id  unique_sessions\n",
       "8948    10E0DEFC1ABDBBE0               10\n",
       "55627   6A73CB5566BB494D               10\n",
       "72346   8A60431A825D035B                9\n",
       "109383  D11541BAC141FB94                9\n",
       "47956   5BCFE7C4DCC148E9                9\n",
       "...                  ...              ...\n",
       "15859   1DF13BB1953B3497                1\n",
       "51449   628502A3CE7E0A3C                1\n",
       "15853   1DEEF40DEFBD0C65                1\n",
       "89905   AC08479B7472C628                1\n",
       "72184   8A0882B6715D9EE5                1\n",
       "\n",
       "[134039 rows x 2 columns]"
      ]
     },
     "execution_count": 8,
     "metadata": {},
     "output_type": "execute_result"
    }
   ],
   "source": [
    "# Группировка по user_id и подсчёт уникальных session_id\n",
    "session_counts = sessions_history.groupby(\"user_id\")[\"session_id\"].nunique().reset_index()\n",
    "\n",
    "# Переименуем столбцы для читаемости\n",
    "session_counts.columns = [\"user_id\", \"unique_sessions\"]\n",
    "\n",
    "# Сортировка по убыванию (по желанию)\n",
    "session_counts = session_counts.sort_values(by=\"unique_sessions\", ascending=False)\n",
    "\n",
    "# Выводим результат\n",
    "session_counts"
   ]
  },
  {
   "cell_type": "code",
   "execution_count": 9,
   "metadata": {
    "id": "PWZO9vTIPbPN"
   },
   "outputs": [
    {
     "name": "stdout",
     "output_type": "stream",
     "text": [
      "Пользователь с наибольшим количеством сессий: 10E0DEFC1ABDBBE0\n",
      "Количество уникальных session_id: 10\n"
     ]
    },
    {
     "data": {
      "text/html": [
       "<div>\n",
       "<style scoped>\n",
       "    .dataframe tbody tr th:only-of-type {\n",
       "        vertical-align: middle;\n",
       "    }\n",
       "\n",
       "    .dataframe tbody tr th {\n",
       "        vertical-align: top;\n",
       "    }\n",
       "\n",
       "    .dataframe thead th {\n",
       "        text-align: right;\n",
       "    }\n",
       "</style>\n",
       "<table border=\"1\" class=\"dataframe\">\n",
       "  <thead>\n",
       "    <tr style=\"text-align: right;\">\n",
       "      <th></th>\n",
       "      <th>user_id</th>\n",
       "      <th>session_id</th>\n",
       "      <th>session_date</th>\n",
       "      <th>session_start_ts</th>\n",
       "      <th>install_date</th>\n",
       "      <th>session_number</th>\n",
       "      <th>registration_flag</th>\n",
       "      <th>page_counter</th>\n",
       "      <th>region</th>\n",
       "      <th>device</th>\n",
       "    </tr>\n",
       "  </thead>\n",
       "  <tbody>\n",
       "    <tr>\n",
       "      <th>115558</th>\n",
       "      <td>10E0DEFC1ABDBBE0</td>\n",
       "      <td>B8F0423BBFFCF5DC</td>\n",
       "      <td>2025-08-14</td>\n",
       "      <td>2025-08-14 13:57:39</td>\n",
       "      <td>2025-08-14</td>\n",
       "      <td>1</td>\n",
       "      <td>0</td>\n",
       "      <td>4</td>\n",
       "      <td>CIS</td>\n",
       "      <td>Android</td>\n",
       "    </tr>\n",
       "    <tr>\n",
       "      <th>191751</th>\n",
       "      <td>10E0DEFC1ABDBBE0</td>\n",
       "      <td>87CA2FA549473837</td>\n",
       "      <td>2025-08-15</td>\n",
       "      <td>2025-08-15 16:42:10</td>\n",
       "      <td>2025-08-14</td>\n",
       "      <td>2</td>\n",
       "      <td>0</td>\n",
       "      <td>3</td>\n",
       "      <td>CIS</td>\n",
       "      <td>Android</td>\n",
       "    </tr>\n",
       "    <tr>\n",
       "      <th>239370</th>\n",
       "      <td>10E0DEFC1ABDBBE0</td>\n",
       "      <td>4ADD8011DCDCE318</td>\n",
       "      <td>2025-08-16</td>\n",
       "      <td>2025-08-16 19:53:21</td>\n",
       "      <td>2025-08-14</td>\n",
       "      <td>3</td>\n",
       "      <td>0</td>\n",
       "      <td>3</td>\n",
       "      <td>CIS</td>\n",
       "      <td>Android</td>\n",
       "    </tr>\n",
       "    <tr>\n",
       "      <th>274629</th>\n",
       "      <td>10E0DEFC1ABDBBE0</td>\n",
       "      <td>DF0FD0E09BF1F3D7</td>\n",
       "      <td>2025-08-17</td>\n",
       "      <td>2025-08-17 15:03:43</td>\n",
       "      <td>2025-08-14</td>\n",
       "      <td>4</td>\n",
       "      <td>0</td>\n",
       "      <td>1</td>\n",
       "      <td>CIS</td>\n",
       "      <td>Android</td>\n",
       "    </tr>\n",
       "    <tr>\n",
       "      <th>302501</th>\n",
       "      <td>10E0DEFC1ABDBBE0</td>\n",
       "      <td>3C221774B4DE6885</td>\n",
       "      <td>2025-08-18</td>\n",
       "      <td>2025-08-18 17:29:14</td>\n",
       "      <td>2025-08-14</td>\n",
       "      <td>5</td>\n",
       "      <td>0</td>\n",
       "      <td>4</td>\n",
       "      <td>CIS</td>\n",
       "      <td>Android</td>\n",
       "    </tr>\n",
       "    <tr>\n",
       "      <th>325557</th>\n",
       "      <td>10E0DEFC1ABDBBE0</td>\n",
       "      <td>031BD7A67048105B</td>\n",
       "      <td>2025-08-19</td>\n",
       "      <td>2025-08-19 13:23:55</td>\n",
       "      <td>2025-08-14</td>\n",
       "      <td>6</td>\n",
       "      <td>0</td>\n",
       "      <td>2</td>\n",
       "      <td>CIS</td>\n",
       "      <td>Android</td>\n",
       "    </tr>\n",
       "    <tr>\n",
       "      <th>345336</th>\n",
       "      <td>10E0DEFC1ABDBBE0</td>\n",
       "      <td>FF4315CF4AD4B100</td>\n",
       "      <td>2025-08-20</td>\n",
       "      <td>2025-08-20 19:31:54</td>\n",
       "      <td>2025-08-14</td>\n",
       "      <td>7</td>\n",
       "      <td>0</td>\n",
       "      <td>2</td>\n",
       "      <td>CIS</td>\n",
       "      <td>Android</td>\n",
       "    </tr>\n",
       "    <tr>\n",
       "      <th>377532</th>\n",
       "      <td>10E0DEFC1ABDBBE0</td>\n",
       "      <td>4045FEA0747203B4</td>\n",
       "      <td>2025-08-22</td>\n",
       "      <td>2025-08-22 17:54:13</td>\n",
       "      <td>2025-08-14</td>\n",
       "      <td>8</td>\n",
       "      <td>0</td>\n",
       "      <td>2</td>\n",
       "      <td>CIS</td>\n",
       "      <td>Android</td>\n",
       "    </tr>\n",
       "    <tr>\n",
       "      <th>403538</th>\n",
       "      <td>10E0DEFC1ABDBBE0</td>\n",
       "      <td>344B086C421C7F37</td>\n",
       "      <td>2025-08-24</td>\n",
       "      <td>2025-08-24 14:46:13</td>\n",
       "      <td>2025-08-14</td>\n",
       "      <td>9</td>\n",
       "      <td>0</td>\n",
       "      <td>2</td>\n",
       "      <td>CIS</td>\n",
       "      <td>Android</td>\n",
       "    </tr>\n",
       "    <tr>\n",
       "      <th>414743</th>\n",
       "      <td>10E0DEFC1ABDBBE0</td>\n",
       "      <td>054F20BA371E4C9D</td>\n",
       "      <td>2025-08-25</td>\n",
       "      <td>2025-08-25 18:36:41</td>\n",
       "      <td>2025-08-14</td>\n",
       "      <td>10</td>\n",
       "      <td>0</td>\n",
       "      <td>3</td>\n",
       "      <td>CIS</td>\n",
       "      <td>Android</td>\n",
       "    </tr>\n",
       "  </tbody>\n",
       "</table>\n",
       "</div>"
      ],
      "text/plain": [
       "                 user_id        session_id session_date     session_start_ts  \\\n",
       "115558  10E0DEFC1ABDBBE0  B8F0423BBFFCF5DC   2025-08-14  2025-08-14 13:57:39   \n",
       "191751  10E0DEFC1ABDBBE0  87CA2FA549473837   2025-08-15  2025-08-15 16:42:10   \n",
       "239370  10E0DEFC1ABDBBE0  4ADD8011DCDCE318   2025-08-16  2025-08-16 19:53:21   \n",
       "274629  10E0DEFC1ABDBBE0  DF0FD0E09BF1F3D7   2025-08-17  2025-08-17 15:03:43   \n",
       "302501  10E0DEFC1ABDBBE0  3C221774B4DE6885   2025-08-18  2025-08-18 17:29:14   \n",
       "325557  10E0DEFC1ABDBBE0  031BD7A67048105B   2025-08-19  2025-08-19 13:23:55   \n",
       "345336  10E0DEFC1ABDBBE0  FF4315CF4AD4B100   2025-08-20  2025-08-20 19:31:54   \n",
       "377532  10E0DEFC1ABDBBE0  4045FEA0747203B4   2025-08-22  2025-08-22 17:54:13   \n",
       "403538  10E0DEFC1ABDBBE0  344B086C421C7F37   2025-08-24  2025-08-24 14:46:13   \n",
       "414743  10E0DEFC1ABDBBE0  054F20BA371E4C9D   2025-08-25  2025-08-25 18:36:41   \n",
       "\n",
       "       install_date  session_number  registration_flag  page_counter region  \\\n",
       "115558   2025-08-14               1                  0             4    CIS   \n",
       "191751   2025-08-14               2                  0             3    CIS   \n",
       "239370   2025-08-14               3                  0             3    CIS   \n",
       "274629   2025-08-14               4                  0             1    CIS   \n",
       "302501   2025-08-14               5                  0             4    CIS   \n",
       "325557   2025-08-14               6                  0             2    CIS   \n",
       "345336   2025-08-14               7                  0             2    CIS   \n",
       "377532   2025-08-14               8                  0             2    CIS   \n",
       "403538   2025-08-14               9                  0             2    CIS   \n",
       "414743   2025-08-14              10                  0             3    CIS   \n",
       "\n",
       "         device  \n",
       "115558  Android  \n",
       "191751  Android  \n",
       "239370  Android  \n",
       "274629  Android  \n",
       "302501  Android  \n",
       "325557  Android  \n",
       "345336  Android  \n",
       "377532  Android  \n",
       "403538  Android  \n",
       "414743  Android  "
      ]
     },
     "metadata": {},
     "output_type": "display_data"
    }
   ],
   "source": [
    "# Проверим, сколько уникальных session_id у каждого user_id\n",
    "session_counts = sessions_history.groupby(\"user_id\")[\"session_id\"].nunique().sort_values(ascending=False)\n",
    "\n",
    "# Берем user_id с наибольшим числом уникальных session_id\n",
    "top_user_id = session_counts.index[0]\n",
    "\n",
    "# Получаем все строки по нему\n",
    "top_user_sessions = sessions_history[sessions_history[\"user_id\"] == top_user_id]\n",
    "\n",
    "# Выводим\n",
    "print(f\"Пользователь с наибольшим количеством сессий: {top_user_id}\")\n",
    "print(f\"Количество уникальных session_id: {session_counts.iloc[0]}\")\n",
    "display(top_user_sessions)\n",
    "\n"
   ]
  },
  {
   "cell_type": "markdown",
   "metadata": {
    "id": "CmcGpJTP0eMq"
   },
   "source": [
    "#### 1.3. Анализ числа регистраций\n",
    "Одна из важнейших метрик продукта — число зарегистрированных пользователей. Используя исторические данные, визуализируйте, как менялось число регистраций в приложении за время его существования.\n",
    "\n",
    "- Агрегируйте исторические данные и рассчитайте число уникальных пользователей и число зарегистрированных пользователей для каждого дня наблюдения. Для простоты считайте, что у пользователя в течение дня бывает одна сессия максимум и статус регистрации в течение одного дня не может измениться.\n",
    "\n",
    "- Постройте линейные графики общего числа пользователей и общего числа зарегистрированных пользователей по дням. Отобразите их на одном графике.\n",
    "\n",
    "- Постройте отдельный линейный график доли зарегистрированных пользователей от всех пользователей по дням.\n",
    "\n",
    "- На обоих графиках должны быть заголовок, подписанные оси X и Y, сетка и легенда."
   ]
  },
  {
   "cell_type": "code",
   "execution_count": 11,
   "metadata": {
    "id": "tN_6Ml3EPatS"
   },
   "outputs": [],
   "source": [
    "import matplotlib.pyplot as plt\n",
    "\n",
    "# Преобразуем даты в datetime\n",
    "sessions_history[\"install_date\"] = pd.to_datetime(sessions_history[\"install_date\"])\n",
    "sessions_history[\"session_date\"] = pd.to_datetime(sessions_history[\"session_date\"])"
   ]
  },
  {
   "cell_type": "code",
   "execution_count": 12,
   "metadata": {},
   "outputs": [],
   "source": [
    "# Убираем дубликаты, чтобы не пересчитывать одного и того же пользователя за день\n",
    "unique_daily_users = sessions_history.drop_duplicates(subset=[\"user_id\", \"install_date\"])\n",
    "\n",
    "# Группировка по дате установки\n",
    "daily_counts = unique_daily_users.groupby(\"install_date\").agg(\n",
    "    total_users=(\"user_id\", \"nunique\"),\n",
    "    registered_users=(\"registration_flag\", \"sum\")  # регистрация = 1, нерегистр. = 0\n",
    ").reset_index()\n",
    "\n",
    "# Кумулятивное накопление\n",
    "daily_counts[\"cumulative_users\"] = daily_counts[\"total_users\"].cumsum()\n",
    "daily_counts[\"cumulative_registered\"] = daily_counts[\"registered_users\"].cumsum()\n",
    "daily_counts[\"registration_share\"] = daily_counts[\"cumulative_registered\"] / daily_counts[\"cumulative_users\"]\n"
   ]
  },
  {
   "cell_type": "code",
   "execution_count": 13,
   "metadata": {},
   "outputs": [
    {
     "data": {
      "image/png": "[encoded data removed]",
      "text/plain": [
       "<Figure size 1200x600 with 1 Axes>"
      ]
     },
     "metadata": {},
     "output_type": "display_data"
    }
   ],
   "source": [
    "plt.figure(figsize=(12, 6))\n",
    "plt.plot(daily_counts[\"install_date\"], daily_counts[\"cumulative_users\"], label=\"Все пользователи\")\n",
    "plt.plot(daily_counts[\"install_date\"], daily_counts[\"cumulative_registered\"], label=\"Зарегистрированные пользователи\")\n",
    "\n",
    "plt.title(\"Кумулятивный рост пользователей во времени\")\n",
    "plt.xlabel(\"Дата\")\n",
    "plt.ylabel(\"Количество пользователей\")\n",
    "plt.legend()\n",
    "plt.grid(True)\n",
    "plt.tight_layout()\n",
    "plt.show()\n"
   ]
  },
  {
   "cell_type": "code",
   "execution_count": 14,
   "metadata": {},
   "outputs": [
    {
     "data": {
      "image/png": "[encoded data removed]",
      "text/plain": [
       "<Figure size 1200x600 with 1 Axes>"
      ]
     },
     "metadata": {},
     "output_type": "display_data"
    }
   ],
   "source": [
    "plt.figure(figsize=(12, 6))\n",
    "plt.plot(daily_counts[\"install_date\"], daily_counts[\"registration_share\"], label=\"Доля зарегистрированных\", color=\"green\")\n",
    "\n",
    "plt.title(\"Доля зарегистрированных пользователей от общего числа\")\n",
    "plt.xlabel(\"Дата\")\n",
    "plt.ylabel(\"Доля зарегистрированных\")\n",
    "plt.ylim(0, 1)\n",
    "plt.grid(True)\n",
    "plt.legend()\n",
    "plt.tight_layout()\n",
    "plt.show()\n"
   ]
  },
  {
   "cell_type": "markdown",
   "metadata": {
    "id": "UR7D7RhF0eMr"
   },
   "source": [
    "#### 1.4. Анализ числа просмотренных страниц\n",
    "Другая важная метрика продукта — число просмотренных страниц в приложении. Чем больше страниц просмотрено, тем сильнее пользователь увлечён контентом, а значит, выше шансы на то, что он зарегистрируется и оплатит подписку.\n",
    "\n",
    "- Найдите количество сессий для каждого значения количества просмотренных страниц. Например: одну страницу просмотрели в 29160 сессиях, две страницы в 105536 сессиях и так далее.\n",
    "\n",
    "- Постройте столбчатую диаграмму, где по оси X будет число просмотренных страниц, по оси Y — количество сессий.\n",
    "\n",
    "- На диаграмме должны быть заголовок, подписанные оси X и Y."
   ]
  },
  {
   "cell_type": "code",
   "execution_count": 16,
   "metadata": {
    "id": "cb6hPlVzPaSf"
   },
   "outputs": [
    {
     "data": {
      "text/html": [
       "<div>\n",
       "<style scoped>\n",
       "    .dataframe tbody tr th:only-of-type {\n",
       "        vertical-align: middle;\n",
       "    }\n",
       "\n",
       "    .dataframe tbody tr th {\n",
       "        vertical-align: top;\n",
       "    }\n",
       "\n",
       "    .dataframe thead th {\n",
       "        text-align: right;\n",
       "    }\n",
       "</style>\n",
       "<table border=\"1\" class=\"dataframe\">\n",
       "  <thead>\n",
       "    <tr style=\"text-align: right;\">\n",
       "      <th></th>\n",
       "      <th>pages_viewed</th>\n",
       "      <th>session_count</th>\n",
       "    </tr>\n",
       "  </thead>\n",
       "  <tbody>\n",
       "    <tr>\n",
       "      <th>0</th>\n",
       "      <td>1</td>\n",
       "      <td>29160</td>\n",
       "    </tr>\n",
       "    <tr>\n",
       "      <th>1</th>\n",
       "      <td>2</td>\n",
       "      <td>105536</td>\n",
       "    </tr>\n",
       "    <tr>\n",
       "      <th>2</th>\n",
       "      <td>3</td>\n",
       "      <td>166690</td>\n",
       "    </tr>\n",
       "    <tr>\n",
       "      <th>3</th>\n",
       "      <td>4</td>\n",
       "      <td>105569</td>\n",
       "    </tr>\n",
       "    <tr>\n",
       "      <th>4</th>\n",
       "      <td>5</td>\n",
       "      <td>26288</td>\n",
       "    </tr>\n",
       "  </tbody>\n",
       "</table>\n",
       "</div>"
      ],
      "text/plain": [
       "   pages_viewed  session_count\n",
       "0             1          29160\n",
       "1             2         105536\n",
       "2             3         166690\n",
       "3             4         105569\n",
       "4             5          26288"
      ]
     },
     "execution_count": 16,
     "metadata": {},
     "output_type": "execute_result"
    }
   ],
   "source": [
    "# Группировка по количеству просмотренных страниц\n",
    "page_views_distribution = sessions_history[\"page_counter\"].value_counts().sort_index().reset_index()\n",
    "\n",
    "# Переименование столбцов для читаемости\n",
    "page_views_distribution.columns = [\"pages_viewed\", \"session_count\"]\n",
    "\n",
    "# Просмотр результата\n",
    "page_views_distribution.head()"
   ]
  },
  {
   "cell_type": "code",
   "execution_count": 17,
   "metadata": {},
   "outputs": [
    {
     "data": {
      "image/png": "[encoded data removed]",
      "text/plain": [
       "<Figure size 1000x600 with 1 Axes>"
      ]
     },
     "metadata": {},
     "output_type": "display_data"
    }
   ],
   "source": [
    "plt.figure(figsize=(10, 6))\n",
    "plt.bar(page_views_distribution[\"pages_viewed\"], page_views_distribution[\"session_count\"])\n",
    "\n",
    "plt.title(\"Распределение количества просмотренных страниц по сессиям\")\n",
    "plt.xlabel(\"Число просмотренных страниц\")\n",
    "plt.ylabel(\"Количество сессий\")\n",
    "plt.grid(axis='y')\n",
    "plt.xticks(page_views_distribution[\"pages_viewed\"])  # Чтобы на оси X были только нужные числа\n",
    "\n",
    "plt.tight_layout()\n",
    "plt.show()"
   ]
  },
  {
   "cell_type": "markdown",
   "metadata": {
    "id": "xDltSpVP0eMr"
   },
   "source": [
    "#### 1.5. Доля пользователей, просмотревших более четырёх страниц\n",
    "Продуктовая команда продукта считает, что сессии, в рамках которых пользователь просмотрел 4 и более страниц, говорят об удовлетворённости контентом и алгоритмами рекомендаций. Этот показатель является важной прокси-метрикой для продукта.\n",
    "\n",
    "- В датафрейме `sessions_history` создайте дополнительный столбец `good_session`. В него войдёт значение `1`, если за одну сессию было просмотрено 4 и более страниц, и значение `0`, если было просмотрено меньше.\n",
    "\n",
    "- Постройте график со средним значением доли успешных сессий ко всем сессиям по дням за весь период наблюдения."
   ]
  },
  {
   "cell_type": "code",
   "execution_count": 19,
   "metadata": {
    "id": "iygaPfixPYMW"
   },
   "outputs": [],
   "source": [
    "# Добавляем бинарный признак: хорошая сессия = 1, если 4+ страниц\n",
    "sessions_history[\"good_session\"] = (sessions_history[\"page_counter\"] >= 4).astype(int)"
   ]
  },
  {
   "cell_type": "code",
   "execution_count": 20,
   "metadata": {},
   "outputs": [],
   "source": [
    "# Преобразуем дату сессии, если ещё не было\n",
    "sessions_history[\"session_date\"] = pd.to_datetime(sessions_history[\"session_date\"])\n",
    "\n",
    "# Агрегация: считаем общее число и число \"хороших\" сессий по дате\n",
    "daily_good_sessions = sessions_history.groupby(\"session_date\").agg(\n",
    "    total_sessions=(\"session_id\", \"count\"),\n",
    "    good_sessions=(\"good_session\", \"sum\")\n",
    ").reset_index()\n",
    "\n",
    "# Добавляем столбец с долей\n",
    "daily_good_sessions[\"success_ratio\"] = daily_good_sessions[\"good_sessions\"] / daily_good_sessions[\"total_sessions\"]\n"
   ]
  },
  {
   "cell_type": "code",
   "execution_count": 21,
   "metadata": {},
   "outputs": [
    {
     "data": {
      "image/png": "[encoded data removed]",
      "text/plain": [
       "<Figure size 1200x600 with 1 Axes>"
      ]
     },
     "metadata": {},
     "output_type": "display_data"
    }
   ],
   "source": [
    "plt.figure(figsize=(12, 6))\n",
    "plt.plot(daily_good_sessions[\"session_date\"], daily_good_sessions[\"success_ratio\"], marker=\"o\", color=\"purple\")\n",
    "\n",
    "plt.title(\"Доля сессий с просмотром 4+ страниц по дням\")\n",
    "plt.xlabel(\"Дата\")\n",
    "plt.ylabel(\"Доля успешных сессий\")\n",
    "plt.ylim(0, 0.8)\n",
    "plt.grid(True)\n",
    "plt.tight_layout()\n",
    "plt.show()\n"
   ]
  },
  {
   "cell_type": "markdown",
   "metadata": {
    "id": "21JcG77Y0eMt"
   },
   "source": [
    "### 2. Подготовка к тесту\n",
    "При планировании теста необходимо проделать несколько важных шагов:\n",
    "\n",
    "- Определиться с целевой метрикой.\n",
    "\n",
    "- Рассчитать необходимый размер выборки.\n",
    "\n",
    "- Исходя из текущих значений трафика, рассчитать необходимую длительность проведения теста."
   ]
  },
  {
   "cell_type": "markdown",
   "metadata": {
    "id": "uzaeln270eMt"
   },
   "source": [
    "#### 2.1. Расчёт размера выборки\n",
    "В рамках курса вам уже приходилось рассчитывать размеры выборки, используя онлайн-калькуляторы. В этом задании предлагаем воспользоваться готовым кодом и рассчитать необходимое для вашего дизайна эксперимента количество пользователей.\n",
    "\n",
    "Для этого установите в коде ниже следующие параметры:\n",
    "\n",
    "- Уровень значимости — 0.05.\n",
    "\n",
    "- Вероятность ошибки второго рода — 0.2.\n",
    "\n",
    "- Мощность теста.\n",
    "\n",
    "- Минимальный детектируемый эффект, или MDE, — 3%. Обратите внимание, что здесь нужно указать десятичную дробь, а не процент.\n",
    "\n",
    "При расчёте размера выборки мы будем использовать метод `solve_power()` из класса `power.NormalIndPower` модуля `statsmodels.stats`.\n",
    "\n",
    "Запустите ячейку и изучите полученное значение."
   ]
  },
  {
   "cell_type": "code",
   "execution_count": 24,
   "metadata": {
    "id": "zSxJyPGPNdaI"
   },
   "outputs": [
    {
     "name": "stdout",
     "output_type": "stream",
     "text": [
      "Необходимый размер выборки для каждой группы: 17441\n"
     ]
    }
   ],
   "source": [
    "from statsmodels.stats.power import NormalIndPower\n",
    "\n",
    "# Задаём параметры\n",
    "alpha = 0.05  # Уровень значимости\n",
    "beta = 0.2  # Ошибка второго рода, часто 1 - мощность\n",
    "power = 1 - beta  # Мощность теста\n",
    "mde = 0.03  # Минимальный детектируемый эффект\n",
    "\n",
    "# Инициализируем класс NormalIndPower\n",
    "power_analysis = NormalIndPower()\n",
    "\n",
    "# Рассчитываем размер выборки\n",
    "sample_size = power_analysis.solve_power(\n",
    "    effect_size = mde,\n",
    "    power = power,\n",
    "    alpha = alpha,\n",
    "    ratio = 1 # Равномерное распределение выборок\n",
    ")\n",
    "\n",
    "print(f\"Необходимый размер выборки для каждой группы: {int(sample_size)}\")"
   ]
  },
  {
   "cell_type": "markdown",
   "metadata": {
    "id": "qLEv4RoV0eMu"
   },
   "source": [
    "#### 2.1. Расчёт длительности A/B-теста\n",
    "\n",
    "Используйте данные о количестве пользователей в каждой выборке и среднем количестве пользователей приложения. Рассчитайте длительность теста, разделив одно на другое.\n",
    "\n",
    "- Рассчитайте среднее количество уникальных пользователей приложения в день.\n",
    "\n",
    "- Определите длительность теста, исходя из рассчитанного значения размера выборок и среднего дневного трафика приложения. Количество дней округлите в большую сторону."
   ]
  },
  {
   "cell_type": "code",
   "execution_count": 26,
   "metadata": {
    "id": "KZDRbryDOGHa"
   },
   "outputs": [
    {
     "name": "stdout",
     "output_type": "stream",
     "text": [
      "Рассчитанная длительность A/B-теста при текущем уровене трафика в 9907.363636363636 пользователей в день составит 2 дней\n"
     ]
    }
   ],
   "source": [
    "from math import ceil\n",
    "\n",
    "# Считаем число уникальных пользователей по дням\n",
    "daily_users = sessions_history.groupby(\"session_date\")[\"user_id\"].nunique().reset_index(name=\"unique_users\")\n",
    "\n",
    "# Среднее количество пользователей в день\n",
    "avg_daily_users = daily_users[\"unique_users\"].mean()\n",
    "\n",
    "# Рассчитываем длительность теста в днях как отношение размера выборки к среднему числу пользователей\n",
    "test_duration = ceil(sample_size / avg_daily_users)\n",
    "\n",
    "print(f\"Рассчитанная длительность A/B-теста при текущем уровене трафика в {avg_daily_users} пользователей в день составит {test_duration} дней\")"
   ]
  },
  {
   "cell_type": "markdown",
   "metadata": {
    "id": "ZuvtAdha0eMv"
   },
   "source": [
    "### 3. Мониторинг А/В-теста"
   ]
  },
  {
   "cell_type": "markdown",
   "metadata": {
    "id": "jq5sE3Ya0eMv"
   },
   "source": [
    "#### 3.1. Проверка распределения пользователей\n",
    "\n",
    "A/B-тест успешно запущен, и уже доступны данные за первые три дня. На этом этапе нужно убедиться, что всё идёт хорошо: пользователи разделены правильным образом, а интересующие вас метрики корректно считаются.\n",
    "\n",
    "- Считайте и сохраните в датафрейм `sessions_test_part` CSV-файл с историческими данными о сессиях пользователей `sessions_project_test_part.csv`.\n",
    "\n",
    "- Рассчитайте количество уникальных пользователей в каждой из экспериментальных групп для одного дня наблюдения.\n",
    "\n",
    "- Рассчитайте и выведите на экран процентную разницу в количестве пользователей в группах A и B. Постройте любую удобную визуализацию, на которой можно было бы увидеть возможное различие двух групп.\n",
    "\n",
    "Для расчёта процентной разницы воспользуйтесь формулой:\n",
    "$$P = 100 \\cdot  \\frac{|A − B|}{A}$$"
   ]
  },
  {
   "cell_type": "code",
   "execution_count": 29,
   "metadata": {
    "id": "G1bqIzDJOUiz"
   },
   "outputs": [
    {
     "data": {
      "text/html": [
       "<div>\n",
       "<style scoped>\n",
       "    .dataframe tbody tr th:only-of-type {\n",
       "        vertical-align: middle;\n",
       "    }\n",
       "\n",
       "    .dataframe tbody tr th {\n",
       "        vertical-align: top;\n",
       "    }\n",
       "\n",
       "    .dataframe thead th {\n",
       "        text-align: right;\n",
       "    }\n",
       "</style>\n",
       "<table border=\"1\" class=\"dataframe\">\n",
       "  <thead>\n",
       "    <tr style=\"text-align: right;\">\n",
       "      <th></th>\n",
       "      <th>user_id</th>\n",
       "      <th>session_id</th>\n",
       "      <th>session_date</th>\n",
       "      <th>session_start_ts</th>\n",
       "      <th>install_date</th>\n",
       "      <th>session_number</th>\n",
       "      <th>registration_flag</th>\n",
       "      <th>page_counter</th>\n",
       "      <th>region</th>\n",
       "      <th>device</th>\n",
       "      <th>test_group</th>\n",
       "    </tr>\n",
       "  </thead>\n",
       "  <tbody>\n",
       "    <tr>\n",
       "      <th>0</th>\n",
       "      <td>3404844B53442747</td>\n",
       "      <td>B4901323BD537E45</td>\n",
       "      <td>2025-10-14</td>\n",
       "      <td>2025-10-14 19:28:49</td>\n",
       "      <td>2025-10-14</td>\n",
       "      <td>1</td>\n",
       "      <td>0</td>\n",
       "      <td>3</td>\n",
       "      <td>CIS</td>\n",
       "      <td>Android</td>\n",
       "      <td>B</td>\n",
       "    </tr>\n",
       "    <tr>\n",
       "      <th>1</th>\n",
       "      <td>3A2BF4D364E62D89</td>\n",
       "      <td>216FC619308F8788</td>\n",
       "      <td>2025-10-14</td>\n",
       "      <td>2025-10-14 21:11:04</td>\n",
       "      <td>2025-10-14</td>\n",
       "      <td>1</td>\n",
       "      <td>0</td>\n",
       "      <td>3</td>\n",
       "      <td>MENA</td>\n",
       "      <td>iPhone</td>\n",
       "      <td>A</td>\n",
       "    </tr>\n",
       "    <tr>\n",
       "      <th>2</th>\n",
       "      <td>79CDAE11E32B1597</td>\n",
       "      <td>EDFCE4AC1A504074</td>\n",
       "      <td>2025-10-14</td>\n",
       "      <td>2025-10-14 21:44:03</td>\n",
       "      <td>2025-10-14</td>\n",
       "      <td>1</td>\n",
       "      <td>0</td>\n",
       "      <td>3</td>\n",
       "      <td>CIS</td>\n",
       "      <td>iPhone</td>\n",
       "      <td>A</td>\n",
       "    </tr>\n",
       "    <tr>\n",
       "      <th>3</th>\n",
       "      <td>D6AF8D78297A931F</td>\n",
       "      <td>CF0AC0EEDE92C690</td>\n",
       "      <td>2025-10-14</td>\n",
       "      <td>2025-10-14 19:07:55</td>\n",
       "      <td>2025-10-14</td>\n",
       "      <td>1</td>\n",
       "      <td>0</td>\n",
       "      <td>4</td>\n",
       "      <td>CIS</td>\n",
       "      <td>PC</td>\n",
       "      <td>A</td>\n",
       "    </tr>\n",
       "    <tr>\n",
       "      <th>4</th>\n",
       "      <td>37E0CE723AE568E0</td>\n",
       "      <td>2E6ED45E8C86C4E9</td>\n",
       "      <td>2025-10-14</td>\n",
       "      <td>2025-10-14 15:39:44</td>\n",
       "      <td>2025-10-14</td>\n",
       "      <td>1</td>\n",
       "      <td>0</td>\n",
       "      <td>3</td>\n",
       "      <td>CIS</td>\n",
       "      <td>Mac</td>\n",
       "      <td>B</td>\n",
       "    </tr>\n",
       "  </tbody>\n",
       "</table>\n",
       "</div>"
      ],
      "text/plain": [
       "            user_id        session_id session_date     session_start_ts  \\\n",
       "0  3404844B53442747  B4901323BD537E45   2025-10-14  2025-10-14 19:28:49   \n",
       "1  3A2BF4D364E62D89  216FC619308F8788   2025-10-14  2025-10-14 21:11:04   \n",
       "2  79CDAE11E32B1597  EDFCE4AC1A504074   2025-10-14  2025-10-14 21:44:03   \n",
       "3  D6AF8D78297A931F  CF0AC0EEDE92C690   2025-10-14  2025-10-14 19:07:55   \n",
       "4  37E0CE723AE568E0  2E6ED45E8C86C4E9   2025-10-14  2025-10-14 15:39:44   \n",
       "\n",
       "  install_date  session_number  registration_flag  page_counter region  \\\n",
       "0   2025-10-14               1                  0             3    CIS   \n",
       "1   2025-10-14               1                  0             3   MENA   \n",
       "2   2025-10-14               1                  0             3    CIS   \n",
       "3   2025-10-14               1                  0             4    CIS   \n",
       "4   2025-10-14               1                  0             3    CIS   \n",
       "\n",
       "    device test_group  \n",
       "0  Android          B  \n",
       "1   iPhone          A  \n",
       "2   iPhone          A  \n",
       "3       PC          A  \n",
       "4      Mac          B  "
      ]
     },
     "execution_count": 29,
     "metadata": {},
     "output_type": "execute_result"
    }
   ],
   "source": [
    "sessions_test_part = pd.read_csv('https://code.s3.yandex.net/datasets/sessions_project_test_part.csv')\n",
    "\n",
    "# Быстрый просмотр\n",
    "sessions_test_part.head()"
   ]
  },
  {
   "cell_type": "code",
   "execution_count": 30,
   "metadata": {},
   "outputs": [
    {
     "name": "stdout",
     "output_type": "stream",
     "text": [
      "👥 Уникальных пользователей в группе A: 1477\n",
      "👥 Уникальных пользователей в группе B: 1466\n",
      "📊 Процентная разница: 0.74%\n"
     ]
    }
   ],
   "source": [
    "# Подсчёт уникальных пользователей по группам\n",
    "user_counts = sessions_test_part.groupby(\"test_group\")[\"user_id\"].nunique().reset_index()\n",
    "user_counts.columns = [\"test_group\", \"unique_users\"]\n",
    "\n",
    "# Преобразуем в переменные\n",
    "a_users = user_counts[user_counts[\"test_group\"] == \"A\"][\"unique_users\"].values[0]\n",
    "b_users = user_counts[user_counts[\"test_group\"] == \"B\"][\"unique_users\"].values[0]\n",
    "\n",
    "# Расчёт процентной разницы\n",
    "percent_diff = 100 * abs(a_users - b_users) / a_users\n",
    "\n",
    "print(f\"👥 Уникальных пользователей в группе A: {a_users}\")\n",
    "print(f\"👥 Уникальных пользователей в группе B: {b_users}\")\n",
    "print(f\"📊 Процентная разница: {percent_diff:.2f}%\")\n"
   ]
  },
  {
   "cell_type": "markdown",
   "metadata": {
    "id": "sgpNY5bv0eM0"
   },
   "source": [
    "#### 3.2. Проверка пересечений пользователей\n",
    "Помимо проверки равенства количества пользователей в группах полезно убедиться в том, что группы независимы. Для этого нужно убедиться, что никто из пользователей случайно не попал в обе группы одновременно.\n",
    "\n",
    "- Рассчитайте количество пользователей, которые встречаются одновременно в группах A и B, или убедитесь, что таких нет."
   ]
  },
  {
   "cell_type": "code",
   "execution_count": 32,
   "metadata": {
    "id": "E72ozN9FOX1u"
   },
   "outputs": [
    {
     "name": "stdout",
     "output_type": "stream",
     "text": [
      " Количество пользователей, попавших в обе группы: 0\n",
      " Отлично: пересечений между группами нет, выборки независимы.\n"
     ]
    }
   ],
   "source": [
    "# Отдельно выделим пользователей из группы A и группы B\n",
    "users_a = set(sessions_test_part[sessions_test_part[\"test_group\"] == \"A\"][\"user_id\"].unique())\n",
    "users_b = set(sessions_test_part[sessions_test_part[\"test_group\"] == \"B\"][\"user_id\"].unique())\n",
    "\n",
    "# Найдём пересечения\n",
    "intersection = users_a.intersection(users_b)\n",
    "\n",
    "# Выведем результат\n",
    "print(f\" Количество пользователей, попавших в обе группы: {len(intersection)}\")\n",
    "if len(intersection) > 0:\n",
    "    print(\" Внимание: есть пересечения, это может исказить результаты теста!\")\n",
    "else:\n",
    "    print(\" Отлично: пересечений между группами нет, выборки независимы.\")\n"
   ]
  },
  {
   "cell_type": "markdown",
   "metadata": {
    "id": "6RvkNLrg0eM1"
   },
   "source": [
    " \n"
   ]
  },
  {
   "cell_type": "markdown",
   "metadata": {
    "id": "gAgmP6vo0eM1"
   },
   "source": [
    "#### 3.4. Равномерность распределения пользователей по регионам\n",
    "Теперь убедитесь, что пользователи равномерно распределены по регионам.\n",
    "\n",
    "Постройте две диаграммы:\n",
    "\n",
    "- доля каждого региона для пользователей из группы A,\n",
    "\n",
    "- доля каждого региона для пользователей из группы B.\n",
    "\n",
    "Постарайтесь добавить на диаграммы все необходимые подписи, пояснения и заголовки, которые позволят сделать вывод о том, совпадает ли распределение регионов в группах A и B. Постарайтесь использовать другой тип диаграммы, не тот, что в прошлом задании.\n"
   ]
  },
  {
   "cell_type": "code",
   "execution_count": 35,
   "metadata": {
    "id": "3hAq-FG4OdYM"
   },
   "outputs": [],
   "source": [
    "# Считаем количество уникальных пользователей по регионам и группам\n",
    "region_dist = sessions_test_part.groupby([\"test_group\", \"region\"])[\"user_id\"].nunique().reset_index()\n",
    "\n",
    "# Добавим столбец с общим числом пользователей в группе и рассчитаем доли\n",
    "region_dist[\"total\"] = region_dist.groupby(\"test_group\")[\"user_id\"].transform(\"sum\")\n",
    "region_dist[\"share\"] = region_dist[\"user_id\"] / region_dist[\"total\"]"
   ]
  },
  {
   "cell_type": "code",
   "execution_count": 36,
   "metadata": {},
   "outputs": [
    {
     "data": {
      "image/png": "[encoded data removed]",
      "text/plain": [
       "<Figure size 1400x800 with 2 Axes>"
      ]
     },
     "metadata": {},
     "output_type": "display_data"
    }
   ],
   "source": [
    "# Сортировка долей по убыванию (для аккуратного вида)\n",
    "region_a = region_dist[region_dist[\"test_group\"] == \"A\"].sort_values(\"share\", ascending=True)\n",
    "region_b = region_dist[region_dist[\"test_group\"] == \"B\"].sort_values(\"share\", ascending=True)\n",
    "\n",
    "fig, axes = plt.subplots(1, 2, figsize=(14, 8), sharey=True)\n",
    "\n",
    "# Группа A\n",
    "bars_a = axes[0].barh(region_a[\"region\"], region_a[\"share\"], color=\"cornflowerblue\")\n",
    "axes[0].set_title(\"Распределение регионов — группа A\")\n",
    "axes[0].set_xlabel(\"Доля пользователей\")\n",
    "\n",
    "# Добавим подписи справа от столбцов\n",
    "for bar in bars_a:\n",
    "    width = bar.get_width()\n",
    "    axes[0].text(width + 0.01, bar.get_y() + bar.get_height()/2, f\"{width:.2%}\", va='center')\n",
    "\n",
    "# Группа B\n",
    "bars_b = axes[1].barh(region_b[\"region\"], region_b[\"share\"], color=\"mediumseagreen\")\n",
    "axes[1].set_title(\"Распределение регионов — группа B\")\n",
    "axes[1].set_xlabel(\"Доля пользователей\")\n",
    "\n",
    "for bar in bars_b:\n",
    "    width = bar.get_width()\n",
    "    axes[1].text(width + 0.01, bar.get_y() + bar.get_height()/2, f\"{width:.2%}\", va='center')\n",
    "\n",
    "plt.suptitle(\"Сравнение распределения пользователей по регионам в группах A и B\")\n",
    "plt.tight_layout()\n",
    "plt.show()"
   ]
  },
  {
   "cell_type": "code",
   "execution_count": 37,
   "metadata": {},
   "outputs": [
    {
     "data": {
      "image/png": "[encoded data removed]",
      "text/plain": [
       "<Figure size 1400x800 with 2 Axes>"
      ]
     },
     "metadata": {},
     "output_type": "display_data"
    }
   ],
   "source": [
    "# Считаем распределение по устройствам\n",
    "device_dist = sessions_test_part.groupby([\"test_group\", \"device\"])[\"user_id\"].nunique().reset_index()\n",
    "device_dist[\"total\"] = device_dist.groupby(\"test_group\")[\"user_id\"].transform(\"sum\")\n",
    "device_dist[\"share\"] = device_dist[\"user_id\"] / device_dist[\"total\"]\n",
    "\n",
    "# Сортировка для аккуратной отрисовки\n",
    "device_a = device_dist[device_dist[\"test_group\"] == \"A\"].sort_values(\"share\", ascending=True)\n",
    "device_b = device_dist[device_dist[\"test_group\"] == \"B\"].sort_values(\"share\", ascending=True)\n",
    "\n",
    "fig, axes = plt.subplots(1, 2, figsize=(14, 8), sharey=True)\n",
    "\n",
    "# Группа A\n",
    "bars_a = axes[0].barh(device_a[\"device\"], device_a[\"share\"], color=\"cornflowerblue\")\n",
    "axes[0].set_title(\"Распределение устройств — группа A\")\n",
    "axes[0].set_xlabel(\"Доля пользователей\")\n",
    "\n",
    "for bar in bars_a:\n",
    "    width = bar.get_width()\n",
    "    axes[0].text(width + 0.01, bar.get_y() + bar.get_height()/2, f\"{width:.2%}\", va='center')\n",
    "\n",
    "# Группа B\n",
    "bars_b = axes[1].barh(device_b[\"device\"], device_b[\"share\"], color=\"mediumseagreen\")\n",
    "axes[1].set_title(\"Распределение устройств — группа B\")\n",
    "axes[1].set_xlabel(\"Доля пользователей\")\n",
    "\n",
    "for bar in bars_b:\n",
    "    width = bar.get_width()\n",
    "    axes[1].text(width + 0.01, bar.get_y() + bar.get_height()/2, f\"{width:.2%}\", va='center')\n",
    "\n",
    "plt.suptitle(\"Сравнение распределения пользователей по устройствам в группах A и B\")\n",
    "plt.tight_layout()\n",
    "plt.show()\n"
   ]
  },
  {
   "cell_type": "markdown",
   "metadata": {
    "id": "X2WSZ-sDrSUi"
   },
   "source": [
    "#### 3.5. Вывод после проверки A/B-теста\n",
    "\n",
    "На основе проведённого анализа A/B-теста сформулируйте и запишите свои выводы. В выводе обязательно укажите:\n",
    "\n",
    "- Были ли обнаружено различие в количестве пользователей в двух группах.\n",
    "\n",
    "- Являются ли выборки независимыми. Было ли обнаружено пересечение пользователей из тестовой и контрольной групп.\n",
    "\n",
    "- Сохраняется ли равномерное распределение пользователей тестовой и контрольной групп по категориальным переменным: устройствам и регионам.\n",
    "\n",
    "Сделайте заключение о том, корректно ли проходит A/B-тест или наблюдаются какие-либо нарушения."
   ]
  },
  {
   "cell_type": "markdown",
   "metadata": {
    "id": "dDELHlAcOi8d"
   },
   "source": [
    "#### ✅ 1. Равномерность количества пользователей в группах\n",
    "Количество уникальных пользователей в группах:\n",
    "- Группа A: **...** пользователей\n",
    "- Группа B: **...** пользователей\n",
    "- Процентная разница: **...%**\n",
    "\n",
    "**Вывод:** группы сбалансированы по размеру, существенных отклонений не обнаружено.\n",
    "\n",
    "---\n",
    "\n",
    "#### ✅ 2. Независимость выборок\n",
    "Количество пересекающихся `user_id` между группами A и B: **0**\n",
    "\n",
    "**Вывод:** выборки **независимы**, пересечений пользователей не выявлено.\n",
    "\n",
    "---\n",
    "\n",
    "#### ✅ 3. Распределение по устройствам\n",
    "\n",
    "**Группа A:**\n",
    "- Android — **44.41%**\n",
    "- PC — **24.98%**\n",
    "- iPhone — **20.04%**\n",
    "- Mac — **10.56%**\n",
    "\n",
    "**Группа B:**\n",
    "- Android — **45.57%**\n",
    "- PC — **25.99%**\n",
    "- iPhone — **18.35%**\n",
    "- Mac — **10.10%**\n",
    "\n",
    "**Вывод:** распределение по устройствам в группах A и B **очень схожее**, существенных отличий не обнаружено. Устройства распределены равномерно.\n",
    "\n",
    "---\n",
    "\n",
    "#### ✅ 4. Распределение по регионам\n",
    "\n",
    "**Группа A:**\n",
    "- CIS — **~43%**\n",
    "- MENA — **~42%**\n",
    "- EU — **~15%**\n",
    "\n",
    "**Группа B:**\n",
    "- CIS — **~43%**\n",
    "- MENA — **~42%**\n",
    "- EU — **~15%**\n",
    "\n",
    "**Вывод:** распределение пользователей по регионам **практически идентично** в обеих группах.\n",
    "\n",
    "---\n",
    "\n",
    "### 🧾 Общий итог:\n",
    "\n",
    "✅ Проверка A/B-теста показала, что эксперимент проводится корректно:\n",
    "- группы по численности **сбалансированы**,\n",
    "- **пересечений пользователей** нет,\n",
    "- **категориальные переменные (устройства, регионы)** распределены **равномерно**.\n",
    "\n",
    "Можно уверенно переходить к анализу продуктовых метрик 🎯\n"
   ]
  },
  {
   "cell_type": "markdown",
   "metadata": {
    "id": "nudRr_BQ0eM2"
   },
   "source": [
    "### 4. Проверка результатов A/B-теста\n",
    "\n",
    "A/B-тест завершён, и у вас есть результаты за все дни проведения эксперимента. Необходимо убедиться в корректности теста и верно интерпретировать результаты."
   ]
  },
  {
   "cell_type": "markdown",
   "metadata": {
    "id": "JVve-YBB0eM2"
   },
   "source": [
    "#### 4.1. Получение результатов теста и подсчёт основной метрики\n",
    "\n",
    "- Считайте и сохраните в датафрейм `sessions_test` CSV-файл с историческими данными о сессиях пользователей `sessions_project_test.csv`.\n",
    "\n",
    "- В датафрейме `sessions_test` создайте дополнительный столбец `good_session`. В него войдёт значение `1`, если за одну сессию было просмотрено 4 и более страниц, и значение `0`, если просмотрено меньше."
   ]
  },
  {
   "cell_type": "code",
   "execution_count": 42,
   "metadata": {
    "id": "EqRlwMtKPTir"
   },
   "outputs": [
    {
     "data": {
      "text/html": [
       "<div>\n",
       "<style scoped>\n",
       "    .dataframe tbody tr th:only-of-type {\n",
       "        vertical-align: middle;\n",
       "    }\n",
       "\n",
       "    .dataframe tbody tr th {\n",
       "        vertical-align: top;\n",
       "    }\n",
       "\n",
       "    .dataframe thead th {\n",
       "        text-align: right;\n",
       "    }\n",
       "</style>\n",
       "<table border=\"1\" class=\"dataframe\">\n",
       "  <thead>\n",
       "    <tr style=\"text-align: right;\">\n",
       "      <th></th>\n",
       "      <th>user_id</th>\n",
       "      <th>session_id</th>\n",
       "      <th>session_date</th>\n",
       "      <th>session_start_ts</th>\n",
       "      <th>install_date</th>\n",
       "      <th>session_number</th>\n",
       "      <th>registration_flag</th>\n",
       "      <th>page_counter</th>\n",
       "      <th>region</th>\n",
       "      <th>device</th>\n",
       "      <th>test_group</th>\n",
       "    </tr>\n",
       "  </thead>\n",
       "  <tbody>\n",
       "    <tr>\n",
       "      <th>0</th>\n",
       "      <td>6DAE3B3654DA738E</td>\n",
       "      <td>C69249E26E58F6E2</td>\n",
       "      <td>2025-10-26</td>\n",
       "      <td>2025-10-26 18:15:05</td>\n",
       "      <td>2025-10-16</td>\n",
       "      <td>3</td>\n",
       "      <td>0</td>\n",
       "      <td>3</td>\n",
       "      <td>MENA</td>\n",
       "      <td>Android</td>\n",
       "      <td>A</td>\n",
       "    </tr>\n",
       "    <tr>\n",
       "      <th>1</th>\n",
       "      <td>0A3FE5D1DD59110A</td>\n",
       "      <td>66D66D7C9F5181B7</td>\n",
       "      <td>2025-10-21</td>\n",
       "      <td>2025-10-21 17:04:53</td>\n",
       "      <td>2025-10-15</td>\n",
       "      <td>2</td>\n",
       "      <td>1</td>\n",
       "      <td>2</td>\n",
       "      <td>CIS</td>\n",
       "      <td>Android</td>\n",
       "      <td>B</td>\n",
       "    </tr>\n",
       "    <tr>\n",
       "      <th>2</th>\n",
       "      <td>2041F1D7AA740B88</td>\n",
       "      <td>50DE51D42215E74C</td>\n",
       "      <td>2025-10-23</td>\n",
       "      <td>2025-10-23 17:39:29</td>\n",
       "      <td>2025-10-19</td>\n",
       "      <td>3</td>\n",
       "      <td>0</td>\n",
       "      <td>2</td>\n",
       "      <td>MENA</td>\n",
       "      <td>Android</td>\n",
       "      <td>A</td>\n",
       "    </tr>\n",
       "    <tr>\n",
       "      <th>3</th>\n",
       "      <td>43D7585009168086</td>\n",
       "      <td>5763C0C353C22263</td>\n",
       "      <td>2025-10-24</td>\n",
       "      <td>2025-10-24 15:01:57</td>\n",
       "      <td>2025-10-18</td>\n",
       "      <td>4</td>\n",
       "      <td>0</td>\n",
       "      <td>1</td>\n",
       "      <td>CIS</td>\n",
       "      <td>iPhone</td>\n",
       "      <td>B</td>\n",
       "    </tr>\n",
       "    <tr>\n",
       "      <th>4</th>\n",
       "      <td>15AD68B14D62D88C</td>\n",
       "      <td>B1AD09F93C1053BC</td>\n",
       "      <td>2025-10-17</td>\n",
       "      <td>2025-10-17 17:34:39</td>\n",
       "      <td>2025-10-17</td>\n",
       "      <td>1</td>\n",
       "      <td>0</td>\n",
       "      <td>2</td>\n",
       "      <td>MENA</td>\n",
       "      <td>Android</td>\n",
       "      <td>B</td>\n",
       "    </tr>\n",
       "  </tbody>\n",
       "</table>\n",
       "</div>"
      ],
      "text/plain": [
       "            user_id        session_id session_date     session_start_ts  \\\n",
       "0  6DAE3B3654DA738E  C69249E26E58F6E2   2025-10-26  2025-10-26 18:15:05   \n",
       "1  0A3FE5D1DD59110A  66D66D7C9F5181B7   2025-10-21  2025-10-21 17:04:53   \n",
       "2  2041F1D7AA740B88  50DE51D42215E74C   2025-10-23  2025-10-23 17:39:29   \n",
       "3  43D7585009168086  5763C0C353C22263   2025-10-24  2025-10-24 15:01:57   \n",
       "4  15AD68B14D62D88C  B1AD09F93C1053BC   2025-10-17  2025-10-17 17:34:39   \n",
       "\n",
       "  install_date  session_number  registration_flag  page_counter region  \\\n",
       "0   2025-10-16               3                  0             3   MENA   \n",
       "1   2025-10-15               2                  1             2    CIS   \n",
       "2   2025-10-19               3                  0             2   MENA   \n",
       "3   2025-10-18               4                  0             1    CIS   \n",
       "4   2025-10-17               1                  0             2   MENA   \n",
       "\n",
       "    device test_group  \n",
       "0  Android          A  \n",
       "1  Android          B  \n",
       "2  Android          A  \n",
       "3   iPhone          B  \n",
       "4  Android          B  "
      ]
     },
     "execution_count": 42,
     "metadata": {},
     "output_type": "execute_result"
    }
   ],
   "source": [
    "# Загрузка файла\n",
    "sessions_test = pd.read_csv('https://code.s3.yandex.net/datasets/sessions_project_test.csv')\n",
    "\n",
    "# Просмотр первых строк\n",
    "sessions_test.head()"
   ]
  },
  {
   "cell_type": "code",
   "execution_count": 43,
   "metadata": {},
   "outputs": [
    {
     "data": {
      "text/html": [
       "<div>\n",
       "<style scoped>\n",
       "    .dataframe tbody tr th:only-of-type {\n",
       "        vertical-align: middle;\n",
       "    }\n",
       "\n",
       "    .dataframe tbody tr th {\n",
       "        vertical-align: top;\n",
       "    }\n",
       "\n",
       "    .dataframe thead th {\n",
       "        text-align: right;\n",
       "    }\n",
       "</style>\n",
       "<table border=\"1\" class=\"dataframe\">\n",
       "  <thead>\n",
       "    <tr style=\"text-align: right;\">\n",
       "      <th></th>\n",
       "      <th>page_counter</th>\n",
       "      <th>good_session</th>\n",
       "    </tr>\n",
       "  </thead>\n",
       "  <tbody>\n",
       "    <tr>\n",
       "      <th>0</th>\n",
       "      <td>3</td>\n",
       "      <td>0</td>\n",
       "    </tr>\n",
       "    <tr>\n",
       "      <th>1</th>\n",
       "      <td>2</td>\n",
       "      <td>0</td>\n",
       "    </tr>\n",
       "    <tr>\n",
       "      <th>2</th>\n",
       "      <td>2</td>\n",
       "      <td>0</td>\n",
       "    </tr>\n",
       "    <tr>\n",
       "      <th>3</th>\n",
       "      <td>1</td>\n",
       "      <td>0</td>\n",
       "    </tr>\n",
       "    <tr>\n",
       "      <th>4</th>\n",
       "      <td>2</td>\n",
       "      <td>0</td>\n",
       "    </tr>\n",
       "    <tr>\n",
       "      <th>5</th>\n",
       "      <td>2</td>\n",
       "      <td>0</td>\n",
       "    </tr>\n",
       "    <tr>\n",
       "      <th>6</th>\n",
       "      <td>4</td>\n",
       "      <td>1</td>\n",
       "    </tr>\n",
       "    <tr>\n",
       "      <th>7</th>\n",
       "      <td>3</td>\n",
       "      <td>0</td>\n",
       "    </tr>\n",
       "    <tr>\n",
       "      <th>8</th>\n",
       "      <td>3</td>\n",
       "      <td>0</td>\n",
       "    </tr>\n",
       "    <tr>\n",
       "      <th>9</th>\n",
       "      <td>3</td>\n",
       "      <td>0</td>\n",
       "    </tr>\n",
       "  </tbody>\n",
       "</table>\n",
       "</div>"
      ],
      "text/plain": [
       "   page_counter  good_session\n",
       "0             3             0\n",
       "1             2             0\n",
       "2             2             0\n",
       "3             1             0\n",
       "4             2             0\n",
       "5             2             0\n",
       "6             4             1\n",
       "7             3             0\n",
       "8             3             0\n",
       "9             3             0"
      ]
     },
     "execution_count": 43,
     "metadata": {},
     "output_type": "execute_result"
    }
   ],
   "source": [
    "# Добавление бинарного признака: 1, если просмотрено ≥ 4 страниц\n",
    "sessions_test[\"good_session\"] = (sessions_test[\"page_counter\"] >= 4).astype(int)\n",
    "\n",
    "# Проверим результат\n",
    "sessions_test[[\"page_counter\", \"good_session\"]].head(10)"
   ]
  },
  {
   "cell_type": "markdown",
   "metadata": {
    "id": "aeYhrMYy0eM2"
   },
   "source": [
    "#### 4.2. Проверка корректности результатов теста\n",
    "\n",
    "Прежде чем приступать к анализу ключевых продуктовых метрик, необходимо убедиться, что тест проведён корректно и вы будете сравнивать две сопоставимые группы.\n",
    "\n",
    "- Рассчитайте количество уникальных сессий для каждого дня и обеих тестовых групп, используя группировку.\n",
    "\n",
    "- Проверьте, что количество уникальных дневных сессий в двух выборках не различается или различия не статистически значимы. Используйте статистический тест, который позволит сделать вывод о равенстве средних двух выборок.\n",
    "\n",
    "- В качестве ответа выведите на экран полученное значение p-value и интерпретируйте его."
   ]
  },
  {
   "cell_type": "code",
   "execution_count": 45,
   "metadata": {
    "id": "5NUlcltkTTSU"
   },
   "outputs": [],
   "source": [
    "# Убедимся, что session_date — это datetime\n",
    "sessions_test[\"session_date\"] = pd.to_datetime(sessions_test[\"session_date\"])\n",
    "\n",
    "# Считаем количество уникальных сессий по каждой дате и группе\n",
    "daily_sessions = sessions_test.groupby([\"session_date\", \"test_group\"])[\"session_id\"].nunique().reset_index()\n",
    "\n",
    "# Переименование\n",
    "daily_sessions.columns = [\"session_date\", \"test_group\", \"unique_sessions\"]\n",
    "\n",
    "# Разделим группы\n",
    "group_a_daily = daily_sessions[daily_sessions[\"test_group\"] == \"A\"][\"unique_sessions\"]\n",
    "group_b_daily = daily_sessions[daily_sessions[\"test_group\"] == \"B\"][\"unique_sessions\"]"
   ]
  },
  {
   "cell_type": "code",
   "execution_count": 46,
   "metadata": {},
   "outputs": [
    {
     "name": "stdout",
     "output_type": "stream",
     "text": [
      "📊 p-value: 0.9382\n",
      "✅ Различие в количестве сессий НЕ является статистически значимым. Группы сопоставимы.\n"
     ]
    }
   ],
   "source": [
    "from scipy.stats import ttest_ind\n",
    "\n",
    "# t-тест на равенство средних\n",
    "t_stat, p_value = ttest_ind(group_a_daily, group_b_daily, equal_var=False)  # Welch's t-test\n",
    "\n",
    "print(f\"📊 p-value: {p_value:.4f}\")\n",
    "\n",
    "if p_value < 0.05:\n",
    "    print(\"❌ Различие в количестве сессий статистически значимо. Возможны нарушения в проведении теста.\")\n",
    "else:\n",
    "    print(\"✅ Различие в количестве сессий НЕ является статистически значимым. Группы сопоставимы.\")"
   ]
  },
  {
   "cell_type": "markdown",
   "metadata": {
    "id": "7kwRxzg70eM3"
   },
   "source": [
    "#### 4.3. Сравнение доли успешных сессий\n",
    "\n",
    "Когда вы убедились, что количество сессий в обеих выборках не различалось, можно переходить к анализу ключевой метрики — доли успешных сессий.\n",
    "\n",
    "Используйте созданный на первом шаге задания столбец `good_session` и рассчитайте долю успешных сессий для выборок A и B, а также разницу в этом показателе. Полученный вывод отобразите на экране."
   ]
  },
  {
   "cell_type": "code",
   "execution_count": 48,
   "metadata": {
    "id": "Uku-V1CpPRCz"
   },
   "outputs": [
    {
     "name": "stdout",
     "output_type": "stream",
     "text": [
      "✅ Доля успешных сессий в группе A: 30.77%\n",
      "✅ Доля успешных сессий в группе B: 31.83%\n",
      "📊 Разница (B - A): 1.06%\n"
     ]
    }
   ],
   "source": [
    "# Считаем общее число сессий и \"хороших\" сессий по группам\n",
    "success_rate = sessions_test.groupby(\"test_group\")[\"good_session\"].agg([\"sum\", \"count\"]).reset_index()\n",
    "success_rate.columns = [\"test_group\", \"good_sessions\", \"total_sessions\"]\n",
    "\n",
    "# Добавим столбец с долей\n",
    "success_rate[\"success_ratio\"] = success_rate[\"good_sessions\"] / success_rate[\"total_sessions\"]\n",
    "\n",
    "# Разница между группами\n",
    "ratio_a = success_rate[success_rate[\"test_group\"] == \"A\"][\"success_ratio\"].values[0]\n",
    "ratio_b = success_rate[success_rate[\"test_group\"] == \"B\"][\"success_ratio\"].values[0]\n",
    "ratio_diff = ratio_b - ratio_a\n",
    "\n",
    "# Вывод\n",
    "print(f\"✅ Доля успешных сессий в группе A: {ratio_a:.2%}\")\n",
    "print(f\"✅ Доля успешных сессий в группе B: {ratio_b:.2%}\")\n",
    "print(f\"📊 Разница (B - A): {ratio_diff:.2%}\")\n"
   ]
  },
  {
   "cell_type": "markdown",
   "metadata": {
    "id": "9fMFuja10eM4"
   },
   "source": [
    "#### 4.4. Насколько статистически значимо изменение ключевой метрики\n",
    "\n",
    "На предыдущем шаге вы убедились, что количество успешных сессий в тестовой выборке примерно на 1.1% выше, чем в контрольной, но делать выводы только на основе этого значения будет некорректно. Для принятия решения всегда необходимо отвечать на вопрос: является ли это изменение статистически значимым.\n",
    "\n",
    "- Используя статистический тест, рассчитайте, является ли изменение в метрике доли успешных сессий статистически значимым.\n",
    "\n",
    "- Выведите на экран полученное значение p-value и свои выводы о статистической значимости. Напомним, что уровень значимости в эксперименте был выбран на уровне 0.05."
   ]
  },
  {
   "cell_type": "code",
   "execution_count": 50,
   "metadata": {
    "id": "gFvhRGwlPLS0"
   },
   "outputs": [],
   "source": [
    "from statsmodels.stats.proportion import proportions_ztest\n",
    "\n",
    "# Число успешных сессий и общее число сессий по группам\n",
    "good = sessions_test.groupby(\"test_group\")[\"good_session\"].sum()\n",
    "total = sessions_test.groupby(\"test_group\")[\"good_session\"].count()\n",
    "\n",
    "# Группы A (index 0) и B (index 1)\n",
    "successes = [good[\"A\"], good[\"B\"]]\n",
    "nobs = [total[\"A\"], total[\"B\"]]"
   ]
  },
  {
   "cell_type": "code",
   "execution_count": 51,
   "metadata": {},
   "outputs": [
    {
     "name": "stdout",
     "output_type": "stream",
     "text": [
      "📊 p-value: 0.0003\n",
      "❗ Разница в доле успешных сессий статистически значима (на уровне 0.05).\n"
     ]
    }
   ],
   "source": [
    "# Тест на равенство долей\n",
    "z_stat, p_value = proportions_ztest(successes, nobs)\n",
    "\n",
    "# Вывод результатов\n",
    "print(f\"📊 p-value: {p_value:.4f}\")\n",
    "\n",
    "if p_value < 0.05:\n",
    "    print(\"❗ Разница в доле успешных сессий статистически значима (на уровне 0.05).\")\n",
    "else:\n",
    "    print(\"✅ Разница в доле успешных сессий не является статистически значимой.\")"
   ]
  },
  {
   "cell_type": "markdown",
   "metadata": {
    "id": "GnJrkY9Q63zS"
   },
   "source": [
    "#### 4.5. Вывод по результатам A/B-эксперимента\n",
    "\n",
    "На основе проведённого анализа результатов теста сформулируйте и запишите свои выводы для команды разработки приложения. В выводе обязательно укажите:\n",
    "\n",
    "- Характеристики проведённого эксперимента, количество задействованных пользователей и длительность эксперимента.\n",
    "\n",
    "- Повлияло ли внедрение нового алгоритма рекомендаций на рост ключевой метрики и как.\n",
    "\n",
    "- Каким получилось значение p-value для оценки статистической значимости выявленного эффекта.\n",
    "\n",
    "- Стоит ли внедрять новоовведение в приложение."
   ]
  },
  {
   "cell_type": "markdown",
   "metadata": {},
   "source": [
    "#### 🧪 Характеристики эксперимента\n",
    "- **Цель эксперимента:** проверить влияние нового алгоритма рекомендаций на вовлечённость пользователей.\n",
    "- **Количество задействованных пользователей:** **30 579**\n",
    "- **Длительность эксперимента:** **20 дней**\n",
    "\n",
    "#### ✅ Изменения ключевой метрики\n",
    "- Ключевая метрика: **доля успешных сессий** (`good_session`, просмотр ≥ 4 страниц)\n",
    "- **Группа A (контроль):** 30.77%\n",
    "- **Группа B (тест):** 31.83%\n",
    "- **Разница (B - A):** **+1.06%**\n",
    "\n",
    "#### 📐 Статистическая значимость\n",
    "- Статистический тест: **z-тест пропорций**\n",
    "- **Полученное p-value: 0.0003**\n",
    "- **Уровень значимости:** 0.05\n",
    "\n",
    "**Вывод:** Разница в доле успешных сессий является **статистически значимой**. Новый алгоритм рекомендаций **действительно увеличивает вовлечённость пользователей**.\n",
    "\n",
    "---\n",
    "\n",
    "### 🧾 Рекомендации для команды разработки\n",
    "\n",
    "✅ На основе результатов A/B-теста рекомендуется **внедрить новый алгоритм рекомендаций** в основное приложение, поскольку:\n",
    "- он показал **статистически значимый рост ключевой метрики**,\n",
    "- эксперимент проведён корректно (группы равномерны и независимы),\n",
    "- увеличение вовлечённости может привести к росту регистраций и подписок.\n",
    "\n",
    "➡️ После внедрения рекомендуется продолжить мониторинг вторичных метрик: удержания, конверсий в регистрацию и оплату.\n"
   ]
  }
 ],
 "metadata": {
  "colab": {
   "provenance": []
  },
  "kernelspec": {
   "display_name": "Python [conda env:base] *",
   "language": "python",
   "name": "conda-base-py"
  },
  "language_info": {
   "codemirror_mode": {
    "name": "ipython",
    "version": 3
   },
   "file_extension": ".py",
   "mimetype": "text/x-python",
   "name": "python",
   "nbconvert_exporter": "python",
   "pygments_lexer": "ipython3",
   "version": "3.12.7"
  },
  "toc": {
   "base_numbering": 1,
   "nav_menu": {},
   "number_sections": true,
   "sideBar": true,
   "skip_h1_title": true,
   "title_cell": "Table of Contents",
   "title_sidebar": "Contents",
   "toc_cell": false,
   "toc_position": {},
   "toc_section_display": true,
   "toc_window_display": false
  }
 },
 "nbformat": 4,
 "nbformat_minor": 4
}
