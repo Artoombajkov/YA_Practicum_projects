{
 "cells": [
  {
   "cell_type": "markdown",
   "id": "b9064e6a-7ca1-403b-ba3e-121526569f78",
   "metadata": {},
   "source": [
    "# Введение в проект: Анализ данных сервиса проката самокатов GoFast\n",
    "\n",
    "## Описание проекта\n",
    "В данном проекте мы будем анализировать данные крупного сервиса проката самокатов **GoFast**. Наша задача — изучить демографию пользователей, особенности их поездок, а также оценить потенциальную выгоду от распространения платной подписки на самокаты.\n",
    "\n",
    "Компания предоставила три набора данных:\n",
    "1. **Пользователи (`users_go.csv`)**: информация о пользователях, включая их идентификатор, имя, возраст, город и тип подписки.\n",
    "2. **Поездки (`rides_go.csv`)**: данные о поездках пользователей, включая расстояние, продолжительность и дату поездки.\n",
    "3. **Подписки (`subscriptions_go.csv`)**: информация о типах подписок, их стоимости и тарифах.\n"
   ]
  },
  {
   "cell_type": "markdown",
   "id": "57acd169-79f6-4196-ae3c-a67cc2166cdf",
   "metadata": {},
   "source": [
    "## Описание данных\n",
    "\n",
    "В данном проекте мы работаем с тремя основными таблицами, предоставленными сервисом проката самокатов **GoFast**. Ниже приведено описание каждой таблицы и её полей.\n",
    "\n",
    "---\n",
    "\n",
    "### 1. Таблица с пользователями: **users_go.csv**\n",
    "\n",
    "Эта таблица содержит информацию о пользователях сервиса. Поля таблицы:\n",
    "\n",
    "- **user_id**: Уникальный идентификатор пользователя.\n",
    "- **name**: Имя пользователя.\n",
    "- **age**: Возраст пользователя.\n",
    "- **city**: Город, в котором проживает пользователь.\n",
    "- **subscription_type**: Тип подписки пользователя. Возможные значения:\n",
    "  - `free` — бесплатная подписка.\n",
    "  - `ultra` — платная подписка.\n",
    "\n",
    "---\n",
    "\n",
    "### 2. Таблица с поездками: **rides_go.csv**\n",
    "\n",
    "Эта таблица содержит данные о поездках пользователей. Поля таблицы:\n",
    "\n",
    "- **user_id**: Уникальный идентификатор пользователя, совершившего поездку.\n",
    "- **distance**: Расстояние в метрах, которое пользователь проехал в текущей сессии.\n",
    "- **duration**: Продолжительность сессии в минутах. Это время с момента нажатия кнопки «Начать поездку» до нажатия кнопки «Завершить поездку».\n",
    "- **date**: Дата совершения поездки.\n",
    "\n",
    "---\n",
    "\n",
    "### 3. Таблица с подписками: **subscriptions_go.csv**\n",
    "\n",
    "Эта таблица содержит информацию о типах подписок и их тарифах. Поля таблицы:\n",
    "\n",
    "- **subscription_type**: Тип подписки. Возможные значения:\n",
    "  - `free` — бесплатная подписка.\n",
    "  - `ultra` — платная подписка.\n",
    "- **minute_price**: Стоимость одной минуты поездки для данного типа подписки.\n",
    "- **start_ride_price**: Стоимость начала поездки для данного типа подписки.\n",
    "- **subscription_fee**: Стоимость ежемесячного платежа для данного типа подписки.\n",
    "\n",
    "---"
   ]
  },
  {
   "cell_type": "markdown",
   "id": "737e4313-c1bf-41c5-896e-a675fe55b009",
   "metadata": {},
   "source": [
    "### Шаг 1. Загрузка данных"
   ]
  },
  {
   "cell_type": "code",
   "execution_count": 4,
   "id": "13bce25d-d915-4524-a90f-6056c5212543",
   "metadata": {},
   "outputs": [],
   "source": [
    "# Добавляем библиотеки \n",
    "import pandas as pd\n",
    "import numpy as np\n",
    "import matplotlib.pyplot as plt\n",
    "import seaborn as sns"
   ]
  },
  {
   "cell_type": "code",
   "execution_count": 5,
   "id": "a737bc69-39d0-47f2-9923-bdc6db3b96de",
   "metadata": {},
   "outputs": [],
   "source": [
    "# Заружеаем датафремы\n",
    "df_users_go = pd.read_csv('https://code.s3.yandex.net/datasets/users_go.csv')\n",
    "df_rides_go = pd.read_csv('https://code.s3.yandex.net/datasets/rides_go.csv')\n",
    "df_subscriptions_go = pd.read_csv('https://code.s3.yandex.net/datasets/subscriptions_go.csv')"
   ]
  },
  {
   "cell_type": "code",
   "execution_count": 163,
   "id": "c0906dc4-a4f5-4cff-9205-4df78a74463d",
   "metadata": {},
   "outputs": [
    {
     "name": "stdout",
     "output_type": "stream",
     "text": [
      "1534 18068 2\n"
     ]
    }
   ],
   "source": [
    "len_users = len(df_users_go)\n",
    "len_rides = len(df_rides_go)\n",
    "len_subs = len(df_subscriptions_go)\n",
    "print(len_users, len_rides, len_subs)"
   ]
  },
  {
   "cell_type": "markdown",
   "id": "093dddb4-1259-4da4-8f3f-ac2ad3cccd5a",
   "metadata": {},
   "source": [
    "#### Вывод первых строк каждого датафрейма"
   ]
  },
  {
   "cell_type": "code",
   "execution_count": 7,
   "id": "551dc2fd-9e92-4d7b-beab-82cfe6e5f5cf",
   "metadata": {},
   "outputs": [
    {
     "name": "stdout",
     "output_type": "stream",
     "text": [
      "\n",
      "Первые строки df_users_go:\n",
      "\n"
     ]
    },
    {
     "data": {
      "text/html": [
       "<div>\n",
       "<style scoped>\n",
       "    .dataframe tbody tr th:only-of-type {\n",
       "        vertical-align: middle;\n",
       "    }\n",
       "\n",
       "    .dataframe tbody tr th {\n",
       "        vertical-align: top;\n",
       "    }\n",
       "\n",
       "    .dataframe thead th {\n",
       "        text-align: right;\n",
       "    }\n",
       "</style>\n",
       "<table border=\"1\" class=\"dataframe\">\n",
       "  <thead>\n",
       "    <tr style=\"text-align: right;\">\n",
       "      <th></th>\n",
       "      <th>user_id</th>\n",
       "      <th>name</th>\n",
       "      <th>age</th>\n",
       "      <th>city</th>\n",
       "      <th>subscription_type</th>\n",
       "    </tr>\n",
       "  </thead>\n",
       "  <tbody>\n",
       "    <tr>\n",
       "      <th>0</th>\n",
       "      <td>1</td>\n",
       "      <td>Кира</td>\n",
       "      <td>22</td>\n",
       "      <td>Тюмень</td>\n",
       "      <td>ultra</td>\n",
       "    </tr>\n",
       "    <tr>\n",
       "      <th>1</th>\n",
       "      <td>2</td>\n",
       "      <td>Станислав</td>\n",
       "      <td>31</td>\n",
       "      <td>Омск</td>\n",
       "      <td>ultra</td>\n",
       "    </tr>\n",
       "    <tr>\n",
       "      <th>2</th>\n",
       "      <td>3</td>\n",
       "      <td>Алексей</td>\n",
       "      <td>20</td>\n",
       "      <td>Москва</td>\n",
       "      <td>ultra</td>\n",
       "    </tr>\n",
       "    <tr>\n",
       "      <th>3</th>\n",
       "      <td>4</td>\n",
       "      <td>Константин</td>\n",
       "      <td>26</td>\n",
       "      <td>Ростов-на-Дону</td>\n",
       "      <td>ultra</td>\n",
       "    </tr>\n",
       "    <tr>\n",
       "      <th>4</th>\n",
       "      <td>5</td>\n",
       "      <td>Адель</td>\n",
       "      <td>28</td>\n",
       "      <td>Омск</td>\n",
       "      <td>ultra</td>\n",
       "    </tr>\n",
       "  </tbody>\n",
       "</table>\n",
       "</div>"
      ],
      "text/plain": [
       "   user_id        name  age            city subscription_type\n",
       "0        1        Кира   22          Тюмень             ultra\n",
       "1        2   Станислав   31            Омск             ultra\n",
       "2        3     Алексей   20          Москва             ultra\n",
       "3        4  Константин   26  Ростов-на-Дону             ultra\n",
       "4        5       Адель   28            Омск             ultra"
      ]
     },
     "metadata": {},
     "output_type": "display_data"
    }
   ],
   "source": [
    "print(\"\\nПервые строки df_users_go:\\n\")\n",
    "display(df_users_go.head())"
   ]
  },
  {
   "cell_type": "code",
   "execution_count": 8,
   "id": "b28a1f03-e885-402c-8b71-dc486caed3d6",
   "metadata": {},
   "outputs": [
    {
     "name": "stdout",
     "output_type": "stream",
     "text": [
      "\n",
      "Первые строки df_rides_go:\n",
      "\n",
      "   user_id     distance   duration        date\n",
      "0        1  4409.919140  25.599769  2021-01-01\n",
      "1        1  2617.592153  15.816871  2021-01-18\n",
      "2        1   754.159807   6.232113  2021-04-20\n",
      "3        1  2694.783254  18.511000  2021-08-11\n",
      "4        1  4028.687306  26.265803  2021-08-28\n"
     ]
    }
   ],
   "source": [
    "print(\"\\nПервые строки df_rides_go:\\n\")\n",
    "print(df_rides_go.head())"
   ]
  },
  {
   "cell_type": "code",
   "execution_count": 9,
   "id": "b3ce1976-0a90-47f7-90aa-2e2ad8d9d7f1",
   "metadata": {},
   "outputs": [
    {
     "name": "stdout",
     "output_type": "stream",
     "text": [
      "\n",
      "Первые строки df_subscriptions_go:\n",
      "\n",
      "  subscription_type  minute_price  start_ride_price  subscription_fee\n",
      "0              free             8                50                 0\n",
      "1             ultra             6                 0               199\n"
     ]
    }
   ],
   "source": [
    "print(\"\\nПервые строки df_subscriptions_go:\\n\")\n",
    "print(df_subscriptions_go.head())"
   ]
  },
  {
   "cell_type": "markdown",
   "id": "100c9715-cd0c-42b8-a44f-684f3bb131ed",
   "metadata": {},
   "source": [
    "#### Изучение общей информации о каждом датафрейм"
   ]
  },
  {
   "cell_type": "code",
   "execution_count": 11,
   "id": "3bb72beb-eff1-4866-ad60-55b3fb2b3afc",
   "metadata": {},
   "outputs": [
    {
     "name": "stdout",
     "output_type": "stream",
     "text": [
      "\n",
      "Информация о df_users_go:\n",
      "\n",
      "<class 'pandas.core.frame.DataFrame'>\n",
      "RangeIndex: 1565 entries, 0 to 1564\n",
      "Data columns (total 5 columns):\n",
      " #   Column             Non-Null Count  Dtype \n",
      "---  ------             --------------  ----- \n",
      " 0   user_id            1565 non-null   int64 \n",
      " 1   name               1565 non-null   object\n",
      " 2   age                1565 non-null   int64 \n",
      " 3   city               1565 non-null   object\n",
      " 4   subscription_type  1565 non-null   object\n",
      "dtypes: int64(2), object(3)\n",
      "memory usage: 61.3+ KB\n",
      "None\n"
     ]
    }
   ],
   "source": [
    "print(\"\\nИнформация о df_users_go:\\n\")\n",
    "print(df_users_go.info())"
   ]
  },
  {
   "cell_type": "markdown",
   "id": "829516b4-169b-440f-9499-20efcd5c6b3d",
   "metadata": {},
   "source": [
    "#### 1. Таблица **df_users_go** (пользователи)\n",
    "- **Количество записей**: 1565\n",
    "- **Поля**:\n",
    "  - `user_id`: Уникальный идентификатор пользователя.\n",
    "  - `name`: Имя пользователя.\n",
    "  - `age`: Возраст пользователя.\n",
    "  - `city`: Город проживания пользователя.\n",
    "  - `subscription_type`: Тип подписки (`free` или `ultra`).\n",
    "- **Типы данных**:\n",
    "  - `int64`: `user_id`, `age`.\n",
    "  - `object`: `name`, `city`, `subscription_type`.\n",
    "- **Пропуски**: Отсутствуют (все поля заполнены)."
   ]
  },
  {
   "cell_type": "code",
   "execution_count": 13,
   "id": "28982f6a-5a68-4a14-8a18-4044d77dc866",
   "metadata": {},
   "outputs": [
    {
     "name": "stdout",
     "output_type": "stream",
     "text": [
      "\n",
      "Информация о df_rides_go:\n",
      "\n",
      "<class 'pandas.core.frame.DataFrame'>\n",
      "RangeIndex: 18068 entries, 0 to 18067\n",
      "Data columns (total 4 columns):\n",
      " #   Column    Non-Null Count  Dtype  \n",
      "---  ------    --------------  -----  \n",
      " 0   user_id   18068 non-null  int64  \n",
      " 1   distance  18068 non-null  float64\n",
      " 2   duration  18068 non-null  float64\n",
      " 3   date      18068 non-null  object \n",
      "dtypes: float64(2), int64(1), object(1)\n",
      "memory usage: 564.8+ KB\n",
      "None\n"
     ]
    }
   ],
   "source": [
    "print(\"\\nИнформация о df_rides_go:\\n\")\n",
    "print(df_rides_go.info())"
   ]
  },
  {
   "cell_type": "markdown",
   "id": "58054a34-fc18-45e5-9b43-e4964c6c6fe2",
   "metadata": {},
   "source": [
    "#### 2. Таблица df_rides_go (поездки)\n",
    "- **Количество записей**: 18068\n",
    "- **Поля**:\n",
    "    - 'user_id': Уникальный идентификатор пользователя.\n",
    "    - 'distance': Расстояние поездки в метрах.\n",
    "    - 'duration': Продолжительность поездки в минутах.\n",
    "    - 'date': Дата поездки.\n",
    "- **Типы данных**:\n",
    "    - 'int64': 'user_id'.\n",
    "    - 'float64': 'distance', 'duration'.\n",
    "    - 'object': 'date'.\n",
    "- **Пропуски**: Отсутствуют (все поля заполнены)."
   ]
  },
  {
   "cell_type": "code",
   "execution_count": 15,
   "id": "d2df840c-61ee-4221-bf47-632bd5640ef7",
   "metadata": {},
   "outputs": [
    {
     "name": "stdout",
     "output_type": "stream",
     "text": [
      "\n",
      "Информация о df_subscriptions_go:\n",
      "\n",
      "<class 'pandas.core.frame.DataFrame'>\n",
      "RangeIndex: 2 entries, 0 to 1\n",
      "Data columns (total 4 columns):\n",
      " #   Column             Non-Null Count  Dtype \n",
      "---  ------             --------------  ----- \n",
      " 0   subscription_type  2 non-null      object\n",
      " 1   minute_price       2 non-null      int64 \n",
      " 2   start_ride_price   2 non-null      int64 \n",
      " 3   subscription_fee   2 non-null      int64 \n",
      "dtypes: int64(3), object(1)\n",
      "memory usage: 196.0+ bytes\n",
      "None\n"
     ]
    }
   ],
   "source": [
    "print(\"\\nИнформация о df_subscriptions_go:\\n\")\n",
    "print(df_subscriptions_go.info())"
   ]
  },
  {
   "cell_type": "markdown",
   "id": "5ac7d621-e8bd-4111-bf54-cf70ad465516",
   "metadata": {},
   "source": [
    "#### 3. Таблица **df_subscriptions_go** (подписки)\n",
    "- **Количество записей**: 2\n",
    "- **Поля**:\n",
    "  - `subscription_type`: Тип подписки (`free` или `ultra`).\n",
    "  - `minute_price`: Стоимость одной минуты поездки.\n",
    "  - `start_ride_price`: Стоимость начала поездки.\n",
    "  - `subscription_fee`: Ежемесячная стоимость подписки.\n",
    "- **Типы данных**:\n",
    "  - `object`: `subscription_type`.\n",
    "  - `int64`: `minute_price`, `start_ride_price`, `subscription_fee`.\n",
    "- **Пропуски**: Отсутствуют (все поля заполнены)."
   ]
  },
  {
   "cell_type": "markdown",
   "id": "4808ddec-49d2-44a2-8804-782b4ddc929f",
   "metadata": {},
   "source": [
    "---"
   ]
  },
  {
   "cell_type": "markdown",
   "id": "a333655c-d17b-47de-bcab-cb5e2c6f6689",
   "metadata": {},
   "source": [
    "### Шаг 2. Предобработка данных"
   ]
  },
  {
   "cell_type": "markdown",
   "id": "c41b68f1-c97c-493a-9198-57e14c0e509c",
   "metadata": {},
   "source": [
    "#### 2.1 Приведение столбца `date` к типу даты\n",
    "Для корректной работы с датами в pandas преобразуем столбец `date` в датафрейме `df_rides_go` в тип `datetime`."
   ]
  },
  {
   "cell_type": "code",
   "execution_count": 20,
   "id": "ca1b2798-e2de-4472-a126-175c552d24eb",
   "metadata": {},
   "outputs": [
    {
     "name": "stdout",
     "output_type": "stream",
     "text": [
      "\n",
      "Тип данных столбца date после преобразования:\n",
      "\n",
      "datetime64[ns]\n"
     ]
    }
   ],
   "source": [
    "# Преобразуем столбец date в тип datetime\n",
    "df_rides_go['date'] = pd.to_datetime(df_rides_go['date'])\n",
    "\n",
    "# Проверяем результат\n",
    "print(\"\\nТип данных столбца date после преобразования:\\n\")\n",
    "print(df_rides_go['date'].dtype)"
   ]
  },
  {
   "cell_type": "markdown",
   "id": "aac452e5-dcd3-4fae-99db-ba8b509c25ba",
   "metadata": {},
   "source": [
    "#### 2.2 Создание нового столбца с номером месяца\n",
    "На основе столбца date создадим новый столбец month, который будет содержать номер месяца поездки."
   ]
  },
  {
   "cell_type": "code",
   "execution_count": 22,
   "id": "bf358e54-a9ac-437c-a33f-52e9c7e415e7",
   "metadata": {},
   "outputs": [
    {
     "name": "stdout",
     "output_type": "stream",
     "text": [
      "\n",
      "Первые строки df_rides_go с новым столбцом month:\n",
      "\n",
      "   user_id     distance   duration       date  month\n",
      "0        1  4409.919140  25.599769 2021-01-01      1\n",
      "1        1  2617.592153  15.816871 2021-01-18      1\n",
      "2        1   754.159807   6.232113 2021-04-20      4\n",
      "3        1  2694.783254  18.511000 2021-08-11      8\n",
      "4        1  4028.687306  26.265803 2021-08-28      8\n"
     ]
    }
   ],
   "source": [
    "# Создаем новый столбец month\n",
    "df_rides_go['month'] = df_rides_go['date'].dt.month\n",
    "\n",
    "# Проверяем результат\n",
    "print(\"\\nПервые строки df_rides_go с новым столбцом month:\\n\")\n",
    "print(df_rides_go.head())"
   ]
  },
  {
   "cell_type": "markdown",
   "id": "648f11e5-39b4-4f3f-b073-685f4f5e488e",
   "metadata": {},
   "source": [
    "#### Шаг 2.3 Проверка и обработка пропущенных значений и дубликатов\n",
    "\n",
    "**Проверка пропущенных значений**\n",
    "\n",
    "Проверим наличие пропущенных значений в каждом датафрейме."
   ]
  },
  {
   "cell_type": "code",
   "execution_count": 24,
   "id": "d8c30552-c809-4b57-84cf-bf86145c1819",
   "metadata": {},
   "outputs": [
    {
     "name": "stdout",
     "output_type": "stream",
     "text": [
      "Пропущенные значения в df_users_go:\n",
      "user_id              0\n",
      "name                 0\n",
      "age                  0\n",
      "city                 0\n",
      "subscription_type    0\n",
      "dtype: int64\n",
      "\n",
      "Пропущенные значения в df_rides_go:\n",
      "user_id     0\n",
      "distance    0\n",
      "duration    0\n",
      "date        0\n",
      "month       0\n",
      "dtype: int64\n",
      "\n",
      "Пропущенные значения в df_subscriptions_go:\n",
      "subscription_type    0\n",
      "minute_price         0\n",
      "start_ride_price     0\n",
      "subscription_fee     0\n",
      "dtype: int64\n"
     ]
    }
   ],
   "source": [
    "# Проверка пропущенных значений в df_users_go\n",
    "print(\"Пропущенные значения в df_users_go:\")\n",
    "print(df_users_go.isnull().sum())\n",
    "\n",
    "# Проверка пропущенных значений в df_rides_go\n",
    "print(\"\\nПропущенные значения в df_rides_go:\")\n",
    "print(df_rides_go.isnull().sum())\n",
    "\n",
    "# Проверка пропущенных значений в df_subscriptions_go\n",
    "print(\"\\nПропущенные значения в df_subscriptions_go:\")\n",
    "print(df_subscriptions_go.isnull().sum())"
   ]
  },
  {
   "cell_type": "markdown",
   "id": "623d651d-c143-471d-9020-55655995e79b",
   "metadata": {},
   "source": [
    "**Проверка дубликатов**\n",
    "\n",
    "Проверим наличие дубликатов в каждом датафрейме."
   ]
  },
  {
   "cell_type": "code",
   "execution_count": 26,
   "id": "e39d95c2-4b88-4180-9c04-a2c01477a52c",
   "metadata": {},
   "outputs": [
    {
     "name": "stdout",
     "output_type": "stream",
     "text": [
      "Количество дубликатов в df_users_go:\n",
      "31\n",
      "\n",
      "Количество дубликатов в df_rides_go:\n",
      "0\n",
      "\n",
      "Количество дубликатов в df_subscriptions_go:\n",
      "0\n"
     ]
    }
   ],
   "source": [
    "# Проверка дубликатов в df_users_go\n",
    "print(\"Количество дубликатов в df_users_go:\")\n",
    "print(df_users_go.duplicated().sum())\n",
    "\n",
    "# Проверка дубликатов в df_rides_go\n",
    "print(\"\\nКоличество дубликатов в df_rides_go:\")\n",
    "print(df_rides_go.duplicated().sum())\n",
    "\n",
    "# Проверка дубликатов в df_subscriptions_go\n",
    "print(\"\\nКоличество дубликатов в df_subscriptions_go:\")\n",
    "print(df_subscriptions_go.duplicated().sum())"
   ]
  },
  {
   "cell_type": "markdown",
   "id": "875bb55d-acb5-496f-93ce-efba4e388d84",
   "metadata": {},
   "source": [
    "**Обработка дубликатов в 'df_users_go'**\n",
    "\n",
    "В датафрейме `df_users_go` обнаружено **31 дубликат**. \n",
    "\n",
    "Удалим их, так как дубликаты могут искажать результаты анализа."
   ]
  },
  {
   "cell_type": "code",
   "execution_count": 28,
   "id": "7f54d135-a92d-4bc8-8182-9ae4e5b522d0",
   "metadata": {},
   "outputs": [
    {
     "name": "stdout",
     "output_type": "stream",
     "text": [
      "Количество дубликатов в df_users_go после удаления:\n",
      "0\n"
     ]
    }
   ],
   "source": [
    "# Удаление дубликатов в df_users_go\n",
    "df_users_go.drop_duplicates(inplace=True)\n",
    "\n",
    "# Проверка количества дубликатов после удаления\n",
    "print(\"Количество дубликатов в df_users_go после удаления:\")\n",
    "print(df_users_go.duplicated().sum())"
   ]
  },
  {
   "cell_type": "markdown",
   "id": "7dde1aff-4bb1-4ad5-acfb-714edd897f63",
   "metadata": {},
   "source": [
    "---"
   ]
  },
  {
   "cell_type": "markdown",
   "id": "112ae78c-2400-46d2-aa09-3b0baaa9571e",
   "metadata": {},
   "source": [
    "### Шаг 3. Исследовательский анализ данных"
   ]
  },
  {
   "cell_type": "markdown",
   "id": "dc400daa-e786-47f5-97b5-b42f9561cb01",
   "metadata": {},
   "source": [
    "#### 3.1 Частота встречаемости городов\n",
    "\n",
    "**Инструмент**: горизонтальная гистограмма по частоте city.\n",
    "\n",
    "**Цель**: выявить города с наибшей активностью.\n"
   ]
  },
  {
   "cell_type": "code",
   "execution_count": 66,
   "id": "deb17833-6378-4005-a2aa-46c131aebfff",
   "metadata": {},
   "outputs": [
    {
     "data": {
      "image/png": "[encoded data removed]",
      "text/plain": [
       "<Figure size 1000x500 with 1 Axes>"
      ]
     },
     "metadata": {},
     "output_type": "display_data"
    }
   ],
   "source": [
    "# Цветовая палитра\n",
    "main_color = '#4C72B0'     # синий для гистограмм\n",
    "accent_color = '#55A868'   # зелёный для pie chart\n",
    "\n",
    "# Построение графика\n",
    "df_users_go['city'].value_counts().plot(\n",
    "    kind='barh',\n",
    "    figsize=(10, 5),\n",
    "    color=main_color\n",
    ")\n",
    "plt.title('Частота встречаемости городов')\n",
    "plt.xlabel('Количество пользователей')\n",
    "plt.ylabel('Город')\n",
    "plt.grid(axis='x')\n",
    "plt.show()"
   ]
  },
  {
   "cell_type": "markdown",
   "id": "5a44ef55-cf41-4ffc-9562-d7417464c622",
   "metadata": {},
   "source": [
    "**График показывает:**\n",
    "- Наибольшее количество пользователей проживает в Пятигорске, Екатеринбурге и Ростове-на-Дону.\n",
    "- Москва занимает не первую позицию, что может указывать на либо насыщенность рынка, либо меньшую востребованность сервиса.\n",
    "\n",
    "**Вывод:**  \n",
    "Региональное распределение пользователей помогает определить ключевые направления для маркетинга и локального развития сервиса."
   ]
  },
  {
   "cell_type": "markdown",
   "id": "96f5a462-9ac8-4b22-a84d-929d3e3b6a49",
   "metadata": {},
   "source": [
    "#### 3.2 Соотношение пользователей с подпиской и без подписки\n",
    "\n",
    "**Цель:** определить долю пользователей, использующих платную (`ultra`) и бесплатную (`free`) подписку.\n"
   ]
  },
  {
   "cell_type": "code",
   "execution_count": 64,
   "id": "05d905ec-068b-445a-841d-91d9d0039ac4",
   "metadata": {},
   "outputs": [
    {
     "data": {
      "image/png": "[encoded data removed]",
      "text/plain": [
       "<Figure size 600x600 with 1 Axes>"
      ]
     },
     "metadata": {},
     "output_type": "display_data"
    }
   ],
   "source": [
    "colors = ['#4C72B0', '#55A868']  # синий — бесплатная, зелёный — платная\n",
    "\n",
    "df_users_go['subscription_type'].value_counts().plot(\n",
    "    kind='pie',\n",
    "    autopct='%.1f%%',\n",
    "    startangle=90,\n",
    "    colors=colors,\n",
    "    figsize=(6, 6)\n",
    ")\n",
    "plt.title('Соотношение пользователей по типу подписки')\n",
    "plt.ylabel('')\n",
    "plt.show()"
   ]
  },
  {
   "cell_type": "markdown",
   "id": "ff65818a-e285-44fb-b552-54afdbc47bef",
   "metadata": {},
   "source": [
    "**График показывает:**\n",
    "- Почти **поровну**: ~54% пользователей остаются на бесплатной версии.\n",
    "- Почти **половина** аудитории уже платит за подписку `ultra`.\n",
    "\n",
    "**Вывод:**  \n",
    "Доля платных пользователей довольно высока, что может говорить о востребованности модели подписки.  \n",
    "Тем не менее, ещё половина аудитории — потенциальные клиенты, которых можно конвертировать при помощи бонусов, акций или дополнительных функций."
   ]
  },
  {
   "cell_type": "markdown",
   "id": "cee64437-4b9a-4921-92c5-0ac4fa2905e5",
   "metadata": {},
   "source": [
    "#### 3.3 Возраст пользователей\n",
    "\n",
    "**Цель:** изучить распределение возрастов среди пользователей сервиса GoFast."
   ]
  },
  {
   "cell_type": "code",
   "execution_count": 70,
   "id": "e737df9e-b4a0-4850-bc74-dea650e32e14",
   "metadata": {},
   "outputs": [
    {
     "data": {
      "image/png": "[encoded data removed]",
      "text/plain": [
       "<Figure size 1000x500 with 1 Axes>"
      ]
     },
     "metadata": {},
     "output_type": "display_data"
    }
   ],
   "source": [
    "# Цветовая палитра\n",
    "main_color = '#4C72B0'\n",
    "\n",
    "# Визуализация\n",
    "plt.figure(figsize=(10, 5))\n",
    "sns.histplot(df_users_go['age'], bins=20, kde=True, color=main_color)\n",
    "plt.title('Распределение возраста пользователей')\n",
    "plt.xlabel('Возраст')\n",
    "plt.ylabel('Количество пользователей')\n",
    "plt.grid()\n",
    "plt.show()"
   ]
  },
  {
   "cell_type": "markdown",
   "id": "2036e8f3-bea5-4a81-a654-a3606dea7c43",
   "metadata": {},
   "source": [
    "**График показывает:**\n",
    "- Наиболее активная группа — пользователи в возрасте от **18 до 30 лет**.\n",
    "- Пик активности приходится на **24–27 лет**.\n",
    "- После 35 лет количество пользователей резко уменьшается.\n",
    "\n",
    "**Вывод:**  \n",
    "Целевая аудитория сервиса — молодые люди, скорее всего студенты и молодые специалисты.  \n",
    "В дальнейших маркетинговых активностях стоит делать акцент на молодёжную аудиторию и учитывать их привычки, график активности и каналы коммуникации."
   ]
  },
  {
   "cell_type": "markdown",
   "id": "225f03e8-3a39-4ad7-9854-1a604f834d03",
   "metadata": {},
   "source": [
    "#### 3.4 Расстояние за одну поездку\n",
    "\n",
    "**Цель:** изучить, какие дистанции пользователи проезжают за одну поездку."
   ]
  },
  {
   "cell_type": "code",
   "execution_count": 74,
   "id": "edcb8dcf-45df-48e6-9ab9-8706a6e442e9",
   "metadata": {},
   "outputs": [
    {
     "data": {
      "image/png": "[encoded data removed]",
      "text/plain": [
       "<Figure size 1000x500 with 1 Axes>"
      ]
     },
     "metadata": {},
     "output_type": "display_data"
    }
   ],
   "source": [
    "# Цветовая палитра\n",
    "main_color = '#4C72B0'\n",
    "\n",
    "# Визуализация\n",
    "plt.figure(figsize=(10, 5))\n",
    "sns.histplot(df_rides_go['distance'] / 1000, bins=30, kde=True, color=main_color)\n",
    "plt.title('Распределение расстояний за поездку (в километрах)')\n",
    "plt.xlabel('Расстояние (км)')\n",
    "plt.ylabel('Количество поездок')\n",
    "plt.grid()\n",
    "plt.show()"
   ]
  },
  {
   "cell_type": "markdown",
   "id": "50e356d3-1aaf-4127-b6ce-f61fbac6ab3c",
   "metadata": {},
   "source": [
    "**График показывает:**\n",
    "- Основной кластер поездок — от **1.5 до 4 км**, с пиком около **3 км**.\n",
    "- Распределение скошено вправо — длинные поездки редки, но присутствуют (возможно, прогулки или поездки за город).\n",
    "- Поездки длиной более 6 км — единичны и могут быть выбросами или нетипичным сценарием использования.\n",
    "\n",
    "**Вывод:**  \n",
    "Типичная поездка на самокате GoFast — это короткое перемещение в пределах 3 км.  "
   ]
  },
  {
   "cell_type": "markdown",
   "id": "f96466a7-74c0-4e49-892b-bb27294eafce",
   "metadata": {},
   "source": [
    "#### 3.5 Продолжительность поездки\n",
    "\n",
    "**Цель:** проанализировать, как долго в среднем длятся поездки на самокатах GoFast.\n"
   ]
  },
  {
   "cell_type": "code",
   "execution_count": 77,
   "id": "3197f260-1c6d-4987-a5c2-acd4e93f01c5",
   "metadata": {},
   "outputs": [
    {
     "data": {
      "image/png": "[encoded data removed]",
      "text/plain": [
       "<Figure size 1000x500 with 1 Axes>"
      ]
     },
     "metadata": {},
     "output_type": "display_data"
    }
   ],
   "source": [
    "# Цветовая палитра\n",
    "main_color = '#4C72B0'\n",
    "\n",
    "# Визуализация\n",
    "plt.figure(figsize=(10, 5))\n",
    "sns.histplot(df_rides_go['duration'], bins=30, kde=True, color=main_color)\n",
    "plt.title('Распределение продолжительности поездок (в минутах)')\n",
    "plt.xlabel('Продолжительность (мин)')\n",
    "plt.ylabel('Количество поездок')\n",
    "plt.grid()\n",
    "plt.show()\n"
   ]
  },
  {
   "cell_type": "markdown",
   "id": "61a301ff-ea7f-4cef-8aab-74944d520486",
   "metadata": {},
   "source": [
    "**График показывает:**\n",
    "- Основная масса поездок длится **от 10 до 25 минут**.\n",
    "- Пик распределения приходится примерно на **17–18 минут**.\n",
    "- Поездки дольше 30 минут — редкость, скорее исключения.\n",
    "\n",
    "**Вывод:**  \n",
    "Средняя поездка на самокате длится около **15–20 минут**. Это хорошо согласуется с гипотезой «поездка по делам» — в магазин, до транспорта, на встречу.  \n",
    "Такой временной паттерн можно учитывать при разработке тарифов: например, предлагать выгодные условия для коротких поездок до 20 минут или пакеты минут."
   ]
  },
  {
   "cell_type": "markdown",
   "id": "e2d2e5ab-51f5-4fc5-abbe-f0410e9de5ed",
   "metadata": {},
   "source": [
    "---"
   ]
  },
  {
   "cell_type": "markdown",
   "id": "57e25581-c7fe-46b1-bafe-11869d1aa00d",
   "metadata": {},
   "source": [
    "### Шаг 4. Объединение данных"
   ]
  },
  {
   "cell_type": "markdown",
   "id": "c49ffa50-7699-46d1-b56a-632947bb30ef",
   "metadata": {},
   "source": [
    "#### 4.1 Объединение данных\n",
    "\n",
    "**Цель:** объединить информацию о пользователях, их поездках и условиях подписки в один датафрейм для дальнейшего анализа.\n",
    "\n",
    "**Что объединяем:**\n",
    "- Таблицу `df_users_go` — информация о пользователях.\n",
    "- Таблицу `df_rides_go` — информация о каждой поездке.\n",
    "- Таблицу `df_subscriptions_go` — условия подписки (цены, тарификация).\n",
    "\n",
    "**Результат:**  \n",
    "Создан единый датафрейм `df_merged`, содержащий всю необходимую информацию по каждому пользователю и его поездкам.  \n",
    "Далее на его основе можно формировать сегменты, считать выручку и строить сравнения между подписчиками и бесплатными пользователями."
   ]
  },
  {
   "cell_type": "code",
   "execution_count": 86,
   "id": "48e516f8-d805-4472-a1c3-199a73f5f466",
   "metadata": {},
   "outputs": [
    {
     "data": {
      "text/html": [
       "<div>\n",
       "<style scoped>\n",
       "    .dataframe tbody tr th:only-of-type {\n",
       "        vertical-align: middle;\n",
       "    }\n",
       "\n",
       "    .dataframe tbody tr th {\n",
       "        vertical-align: top;\n",
       "    }\n",
       "\n",
       "    .dataframe thead th {\n",
       "        text-align: right;\n",
       "    }\n",
       "</style>\n",
       "<table border=\"1\" class=\"dataframe\">\n",
       "  <thead>\n",
       "    <tr style=\"text-align: right;\">\n",
       "      <th></th>\n",
       "      <th>user_id</th>\n",
       "      <th>name</th>\n",
       "      <th>age</th>\n",
       "      <th>city</th>\n",
       "      <th>subscription_type</th>\n",
       "      <th>distance</th>\n",
       "      <th>duration</th>\n",
       "      <th>date</th>\n",
       "      <th>month</th>\n",
       "      <th>minute_price</th>\n",
       "      <th>start_ride_price</th>\n",
       "      <th>subscription_fee</th>\n",
       "    </tr>\n",
       "  </thead>\n",
       "  <tbody>\n",
       "    <tr>\n",
       "      <th>0</th>\n",
       "      <td>1</td>\n",
       "      <td>Кира</td>\n",
       "      <td>22</td>\n",
       "      <td>Тюмень</td>\n",
       "      <td>ultra</td>\n",
       "      <td>4409.919140</td>\n",
       "      <td>25.599769</td>\n",
       "      <td>2021-01-01</td>\n",
       "      <td>1</td>\n",
       "      <td>6</td>\n",
       "      <td>0</td>\n",
       "      <td>199</td>\n",
       "    </tr>\n",
       "    <tr>\n",
       "      <th>1</th>\n",
       "      <td>1</td>\n",
       "      <td>Кира</td>\n",
       "      <td>22</td>\n",
       "      <td>Тюмень</td>\n",
       "      <td>ultra</td>\n",
       "      <td>2617.592153</td>\n",
       "      <td>15.816871</td>\n",
       "      <td>2021-01-18</td>\n",
       "      <td>1</td>\n",
       "      <td>6</td>\n",
       "      <td>0</td>\n",
       "      <td>199</td>\n",
       "    </tr>\n",
       "    <tr>\n",
       "      <th>2</th>\n",
       "      <td>1</td>\n",
       "      <td>Кира</td>\n",
       "      <td>22</td>\n",
       "      <td>Тюмень</td>\n",
       "      <td>ultra</td>\n",
       "      <td>754.159807</td>\n",
       "      <td>6.232113</td>\n",
       "      <td>2021-04-20</td>\n",
       "      <td>4</td>\n",
       "      <td>6</td>\n",
       "      <td>0</td>\n",
       "      <td>199</td>\n",
       "    </tr>\n",
       "    <tr>\n",
       "      <th>3</th>\n",
       "      <td>1</td>\n",
       "      <td>Кира</td>\n",
       "      <td>22</td>\n",
       "      <td>Тюмень</td>\n",
       "      <td>ultra</td>\n",
       "      <td>2694.783254</td>\n",
       "      <td>18.511000</td>\n",
       "      <td>2021-08-11</td>\n",
       "      <td>8</td>\n",
       "      <td>6</td>\n",
       "      <td>0</td>\n",
       "      <td>199</td>\n",
       "    </tr>\n",
       "    <tr>\n",
       "      <th>4</th>\n",
       "      <td>1</td>\n",
       "      <td>Кира</td>\n",
       "      <td>22</td>\n",
       "      <td>Тюмень</td>\n",
       "      <td>ultra</td>\n",
       "      <td>4028.687306</td>\n",
       "      <td>26.265803</td>\n",
       "      <td>2021-08-28</td>\n",
       "      <td>8</td>\n",
       "      <td>6</td>\n",
       "      <td>0</td>\n",
       "      <td>199</td>\n",
       "    </tr>\n",
       "  </tbody>\n",
       "</table>\n",
       "</div>"
      ],
      "text/plain": [
       "   user_id  name  age    city subscription_type     distance   duration  \\\n",
       "0        1  Кира   22  Тюмень             ultra  4409.919140  25.599769   \n",
       "1        1  Кира   22  Тюмень             ultra  2617.592153  15.816871   \n",
       "2        1  Кира   22  Тюмень             ultra   754.159807   6.232113   \n",
       "3        1  Кира   22  Тюмень             ultra  2694.783254  18.511000   \n",
       "4        1  Кира   22  Тюмень             ultra  4028.687306  26.265803   \n",
       "\n",
       "        date  month  minute_price  start_ride_price  subscription_fee  \n",
       "0 2021-01-01      1             6                 0               199  \n",
       "1 2021-01-18      1             6                 0               199  \n",
       "2 2021-04-20      4             6                 0               199  \n",
       "3 2021-08-11      8             6                 0               199  \n",
       "4 2021-08-28      8             6                 0               199  "
      ]
     },
     "execution_count": 86,
     "metadata": {},
     "output_type": "execute_result"
    }
   ],
   "source": [
    "# Объединение пользователей и поездок по user_id\n",
    "df_merged = df_users_go.merge(df_rides_go, on='user_id', how='inner')\n",
    "\n",
    "# Объединение с тарифами по типу подписки\n",
    "df_merged = df_merged.merge(df_subscriptions_go, on='subscription_type', how='left')\n",
    "\n",
    "# Просмотр итоговой таблицы\n",
    "df_merged.head()"
   ]
  },
  {
   "cell_type": "markdown",
   "id": "ca153ae5-2c6d-4055-a443-32d22e50b59d",
   "metadata": {},
   "source": [
    "#### 4.2 Разделение пользователей по подписке\n",
    "\n",
    "**Цель:** разделить объединённый датафрейм `df_merged` на две группы для последующего сравнения.\n",
    "\n",
    "- `df_free` — пользователи с бесплатной подпиской (`subscription_type == 'free'`);\n",
    "- `df_ultra` — пользователи с платной подпиской (`subscription_type == 'ultra'`).\n",
    "\n",
    "**Зачем это нужно:**  \n",
    "Разделение позволит сравнить поведение двух аудиторий — сколько ездят, как долго, и насколько окупается платная модель."
   ]
  },
  {
   "cell_type": "code",
   "execution_count": 91,
   "id": "165d2ec2-1e6b-4e5f-941d-ddf021a11bab",
   "metadata": {},
   "outputs": [],
   "source": [
    "# Пользователи с бесплатной подпиской\n",
    "df_free = df_merged[df_merged['subscription_type'] == 'free'].copy()\n",
    "\n",
    "# Пользователи с платной подпиской\n",
    "df_ultra = df_merged[df_merged['subscription_type'] == 'ultra'].copy()"
   ]
  },
  {
   "cell_type": "markdown",
   "id": "1abbac93-5f11-41c2-bf3b-5b3ed2daa968",
   "metadata": {},
   "source": [
    "#### 4.3 Визуализация расстояния и времени поездок\n",
    "\n",
    "**Цель:** сравнить поведение пользователей с подпиской и без подписки."
   ]
  },
  {
   "cell_type": "code",
   "execution_count": 94,
   "id": "befd102d-35e4-44aa-9848-825aa590a2d0",
   "metadata": {},
   "outputs": [
    {
     "data": {
      "image/png": "[encoded data removed]",
      "text/plain": [
       "<Figure size 1000x500 with 1 Axes>"
      ]
     },
     "metadata": {},
     "output_type": "display_data"
    }
   ],
   "source": [
    "# Расстояние поездок (в км)\n",
    "plt.figure(figsize=(10, 5))\n",
    "sns.kdeplot(df_free['distance'] / 1000, label='free', fill=True)\n",
    "sns.kdeplot(df_ultra['distance'] / 1000, label='ultra', fill=True)\n",
    "plt.title('Сравнение расстояния поездок (в км)')\n",
    "plt.xlabel('Расстояние (км)')\n",
    "plt.ylabel('Плотность')\n",
    "plt.legend()\n",
    "plt.grid()\n",
    "plt.show()"
   ]
  },
  {
   "cell_type": "markdown",
   "id": "596f193e-c24b-417f-a281-be354633f7e7",
   "metadata": {},
   "source": [
    "**Расстояние поездок**\n",
    "\n",
    "**График показывает:**\n",
    "- Пользователи с платной подпиской (`ultra`) совершают более **предсказуемые** и **чуть более длинные** поездки.\n",
    "- У пользователей без подписки (`free`) расстояние **варьируется шире** — есть и короткие, и длинные маршруты.\n",
    "- Пик у `ultra` более выраженный — около **3.2 км**, тогда как у `free` — около **2.8 км** с более размазанным распределением.\n",
    "\n",
    "**Вывод:**  \n",
    "Платные пользователи склонны использовать самокаты **регулярно и по делам** — возможно, добраться до офиса, университета или метро.  \n",
    "Бесплатные чаще тестируют, катаются для развлечения или используют эпизодически."
   ]
  },
  {
   "cell_type": "code",
   "execution_count": 96,
   "id": "8744b5fe-dbf1-4e4b-99ee-58b1cfad7438",
   "metadata": {},
   "outputs": [
    {
     "data": {
      "image/png": "[encoded data removed]",
      "text/plain": [
       "<Figure size 1000x500 with 1 Axes>"
      ]
     },
     "metadata": {},
     "output_type": "display_data"
    }
   ],
   "source": [
    "# Продолжительность поездок (в минутах)\n",
    "plt.figure(figsize=(10, 5))\n",
    "sns.kdeplot(df_free['duration'], label='free', fill=True)\n",
    "sns.kdeplot(df_ultra['duration'], label='ultra', fill=True)\n",
    "plt.title('Сравнение продолжительности поездок (в минутах)')\n",
    "plt.xlabel('Продолжительность (мин)')\n",
    "plt.ylabel('Плотность')\n",
    "plt.legend()\n",
    "plt.grid()\n",
    "plt.show()"
   ]
  },
  {
   "cell_type": "markdown",
   "id": "0878a08f-84d1-480d-b085-4903db91763f",
   "metadata": {},
   "source": [
    "**Продолжительность поездок**\n",
    "\n",
    "**График показывает:**\n",
    "- У пользователей с подпиской (`ultra`) средняя продолжительность поездки **чуть выше**, пик смещён вправо (~19 минут).\n",
    "- У пользователей без подписки (`free`) пик распределения ближе к **17 минутам**.\n",
    "- У `ultra` больше \"хвост\" — то есть встречаются поездки продолжительностью свыше 30 минут.\n",
    "\n",
    "**Вывод:**  \n",
    "Платные пользователи проводят в поездке **больше времени**, вероятно, не ограничивая себя из-за тарификации.  \n",
    "Это говорит о более активном и, возможно, **целевом** использовании сервиса: поездка по делам, а не просто прокатиться.  \n",
    "Такая аналитика может лечь в основу предложения — например, минутных пакетов или опции продления для `free`-пользователей.\n"
   ]
  },
  {
   "cell_type": "markdown",
   "id": "e5b7faba-1383-4a08-987a-e5aef98f4198",
   "metadata": {},
   "source": [
    "### Шаг 5. Подсчёт выручки"
   ]
  },
  {
   "cell_type": "markdown",
   "id": "bdddf483-2207-406f-8c6c-c4c802074168",
   "metadata": {},
   "source": [
    "#### 5.1 Агрегирование данных по пользователю и месяцу\n",
    "\n",
    "**Цель:** подготовить агрегированный датафрейм с активностью каждого пользователя по месяцам.\n",
    "\n",
    "**Что считаем:**\n",
    "- `distance` — общее расстояние (метры),\n",
    "- `duration` — общее время поездок (минуты),\n",
    "- `ride_count` — количество поездок.\n",
    "\n",
    "**Группировка выполняется по:**\n",
    "- `user_id`,\n",
    "- `name`,\n",
    "- `subscription_type`,\n",
    "- `month`.\n",
    "\n",
    "**Результат:**  \n",
    "Создан датафрейм `df_grouped`, где каждая строка — пользователь в определённом месяце с обобщёнными значениями по активности."
   ]
  },
  {
   "cell_type": "code",
   "execution_count": 102,
   "id": "820c9cd7-9e6f-4239-b395-87651a32100b",
   "metadata": {},
   "outputs": [
    {
     "data": {
      "text/html": [
       "<div>\n",
       "<style scoped>\n",
       "    .dataframe tbody tr th:only-of-type {\n",
       "        vertical-align: middle;\n",
       "    }\n",
       "\n",
       "    .dataframe tbody tr th {\n",
       "        vertical-align: top;\n",
       "    }\n",
       "\n",
       "    .dataframe thead th {\n",
       "        text-align: right;\n",
       "    }\n",
       "</style>\n",
       "<table border=\"1\" class=\"dataframe\">\n",
       "  <thead>\n",
       "    <tr style=\"text-align: right;\">\n",
       "      <th></th>\n",
       "      <th>user_id</th>\n",
       "      <th>name</th>\n",
       "      <th>subscription_type</th>\n",
       "      <th>month</th>\n",
       "      <th>distance</th>\n",
       "      <th>duration</th>\n",
       "      <th>ride_count</th>\n",
       "    </tr>\n",
       "  </thead>\n",
       "  <tbody>\n",
       "    <tr>\n",
       "      <th>0</th>\n",
       "      <td>1</td>\n",
       "      <td>Кира</td>\n",
       "      <td>ultra</td>\n",
       "      <td>1</td>\n",
       "      <td>7027.511294</td>\n",
       "      <td>41.416640</td>\n",
       "      <td>2</td>\n",
       "    </tr>\n",
       "    <tr>\n",
       "      <th>1</th>\n",
       "      <td>1</td>\n",
       "      <td>Кира</td>\n",
       "      <td>ultra</td>\n",
       "      <td>4</td>\n",
       "      <td>754.159807</td>\n",
       "      <td>6.232113</td>\n",
       "      <td>1</td>\n",
       "    </tr>\n",
       "    <tr>\n",
       "      <th>2</th>\n",
       "      <td>1</td>\n",
       "      <td>Кира</td>\n",
       "      <td>ultra</td>\n",
       "      <td>8</td>\n",
       "      <td>6723.470560</td>\n",
       "      <td>44.776802</td>\n",
       "      <td>2</td>\n",
       "    </tr>\n",
       "    <tr>\n",
       "      <th>3</th>\n",
       "      <td>1</td>\n",
       "      <td>Кира</td>\n",
       "      <td>ultra</td>\n",
       "      <td>10</td>\n",
       "      <td>5809.911100</td>\n",
       "      <td>31.578017</td>\n",
       "      <td>2</td>\n",
       "    </tr>\n",
       "    <tr>\n",
       "      <th>4</th>\n",
       "      <td>1</td>\n",
       "      <td>Кира</td>\n",
       "      <td>ultra</td>\n",
       "      <td>11</td>\n",
       "      <td>7003.499363</td>\n",
       "      <td>53.397424</td>\n",
       "      <td>3</td>\n",
       "    </tr>\n",
       "  </tbody>\n",
       "</table>\n",
       "</div>"
      ],
      "text/plain": [
       "   user_id  name subscription_type  month     distance   duration  ride_count\n",
       "0        1  Кира             ultra      1  7027.511294  41.416640           2\n",
       "1        1  Кира             ultra      4   754.159807   6.232113           1\n",
       "2        1  Кира             ultra      8  6723.470560  44.776802           2\n",
       "3        1  Кира             ultra     10  5809.911100  31.578017           2\n",
       "4        1  Кира             ultra     11  7003.499363  53.397424           3"
      ]
     },
     "execution_count": 102,
     "metadata": {},
     "output_type": "execute_result"
    }
   ],
   "source": [
    "# Группировка по пользователю, имени, подписке и месяцу\n",
    "df_grouped = df_merged.groupby(\n",
    "    ['user_id', 'name', 'subscription_type', 'month'],\n",
    "    as_index=False\n",
    ").agg({\n",
    "    'distance': 'sum',\n",
    "    'duration': 'sum',\n",
    "    'date': 'count'  # количество поездок\n",
    "})\n",
    "\n",
    "# Переименование столбца с количеством поездок\n",
    "df_grouped.rename(columns={'date': 'ride_count'}, inplace=True)\n",
    "\n",
    "# Просмотр результата\n",
    "df_grouped.head()\n"
   ]
  },
  {
   "cell_type": "markdown",
   "id": "eb88d9c7-9c05-437f-a2f7-e5c961c5b6c5",
   "metadata": {},
   "source": [
    "#### 5.2 Расчёт выручки по месяцам\n",
    "\n",
    "**Цель:** определить, сколько денег принёс каждый пользователь в каждом месяце с учётом их типа подписки.\n",
    "\n",
    "**Условия:**\n",
    "- `free`: оплачивают каждую поездку и минуты.\n",
    "- `ultra`: платят только фиксированную сумму — `199` в месяц, вне зависимости от количества поездок."
   ]
  },
  {
   "cell_type": "code",
   "execution_count": 105,
   "id": "09c40253-f1da-4794-9268-705b6c5b18f1",
   "metadata": {},
   "outputs": [
    {
     "data": {
      "text/html": [
       "<div>\n",
       "<style scoped>\n",
       "    .dataframe tbody tr th:only-of-type {\n",
       "        vertical-align: middle;\n",
       "    }\n",
       "\n",
       "    .dataframe tbody tr th {\n",
       "        vertical-align: top;\n",
       "    }\n",
       "\n",
       "    .dataframe thead th {\n",
       "        text-align: right;\n",
       "    }\n",
       "</style>\n",
       "<table border=\"1\" class=\"dataframe\">\n",
       "  <thead>\n",
       "    <tr style=\"text-align: right;\">\n",
       "      <th></th>\n",
       "      <th>user_id</th>\n",
       "      <th>name</th>\n",
       "      <th>subscription_type</th>\n",
       "      <th>month</th>\n",
       "      <th>distance</th>\n",
       "      <th>duration</th>\n",
       "      <th>ride_count</th>\n",
       "      <th>revenue</th>\n",
       "    </tr>\n",
       "  </thead>\n",
       "  <tbody>\n",
       "    <tr>\n",
       "      <th>0</th>\n",
       "      <td>1</td>\n",
       "      <td>Кира</td>\n",
       "      <td>ultra</td>\n",
       "      <td>1</td>\n",
       "      <td>7027.511294</td>\n",
       "      <td>41.416640</td>\n",
       "      <td>2</td>\n",
       "      <td>199.0</td>\n",
       "    </tr>\n",
       "    <tr>\n",
       "      <th>1</th>\n",
       "      <td>1</td>\n",
       "      <td>Кира</td>\n",
       "      <td>ultra</td>\n",
       "      <td>4</td>\n",
       "      <td>754.159807</td>\n",
       "      <td>6.232113</td>\n",
       "      <td>1</td>\n",
       "      <td>199.0</td>\n",
       "    </tr>\n",
       "    <tr>\n",
       "      <th>2</th>\n",
       "      <td>1</td>\n",
       "      <td>Кира</td>\n",
       "      <td>ultra</td>\n",
       "      <td>8</td>\n",
       "      <td>6723.470560</td>\n",
       "      <td>44.776802</td>\n",
       "      <td>2</td>\n",
       "      <td>199.0</td>\n",
       "    </tr>\n",
       "    <tr>\n",
       "      <th>3</th>\n",
       "      <td>1</td>\n",
       "      <td>Кира</td>\n",
       "      <td>ultra</td>\n",
       "      <td>10</td>\n",
       "      <td>5809.911100</td>\n",
       "      <td>31.578017</td>\n",
       "      <td>2</td>\n",
       "      <td>199.0</td>\n",
       "    </tr>\n",
       "    <tr>\n",
       "      <th>4</th>\n",
       "      <td>1</td>\n",
       "      <td>Кира</td>\n",
       "      <td>ultra</td>\n",
       "      <td>11</td>\n",
       "      <td>7003.499363</td>\n",
       "      <td>53.397424</td>\n",
       "      <td>3</td>\n",
       "      <td>199.0</td>\n",
       "    </tr>\n",
       "  </tbody>\n",
       "</table>\n",
       "</div>"
      ],
      "text/plain": [
       "   user_id  name subscription_type  month     distance   duration  ride_count  \\\n",
       "0        1  Кира             ultra      1  7027.511294  41.416640           2   \n",
       "1        1  Кира             ultra      4   754.159807   6.232113           1   \n",
       "2        1  Кира             ultra      8  6723.470560  44.776802           2   \n",
       "3        1  Кира             ultra     10  5809.911100  31.578017           2   \n",
       "4        1  Кира             ultra     11  7003.499363  53.397424           3   \n",
       "\n",
       "   revenue  \n",
       "0    199.0  \n",
       "1    199.0  \n",
       "2    199.0  \n",
       "3    199.0  \n",
       "4    199.0  "
      ]
     },
     "execution_count": 105,
     "metadata": {},
     "output_type": "execute_result"
    }
   ],
   "source": [
    "# Добавим столбец выручки\n",
    "def calculate_monthly_revenue(row):\n",
    "    if row['subscription_type'] == 'free':\n",
    "        return (row['ride_count'] * 29) + (row['duration'] * 8)\n",
    "    else:  # ultra\n",
    "        return 199  # фиксированная месячная оплата\n",
    "\n",
    "df_grouped['revenue'] = df_grouped.apply(calculate_monthly_revenue, axis=1)\n",
    "\n",
    "# Просмотр результата\n",
    "df_grouped.head()\n"
   ]
  },
  {
   "cell_type": "markdown",
   "id": "c8cd506b-2303-4896-ade0-3e727fa063eb",
   "metadata": {},
   "source": [
    "**Результат:**  \n",
    "Добавлен столбец `revenue` с посчитанной выручкой по каждому пользователю в разрезе месяцев."
   ]
  },
  {
   "cell_type": "markdown",
   "id": "d6c68300-2bf4-4f79-affb-246eb687accb",
   "metadata": {},
   "source": [
    "---"
   ]
  },
  {
   "cell_type": "markdown",
   "id": "111becb7-805a-4d72-8d96-607ef01ede49",
   "metadata": {},
   "source": [
    "### Шаг 6. Проверка гипотез"
   ]
  },
  {
   "cell_type": "markdown",
   "id": "5ce2a067-0827-4413-809b-df2f4e11048d",
   "metadata": {},
   "source": [
    "#### 6.1 Сравнение времени поездки между подписчиками и пользователями без подписки\n",
    "\n",
    "**Гипотезы:**\n",
    "- **H₀:** средняя продолжительность поездки у пользователей с подпиской (`ultra`) **не превышает** среднюю у `free`\n",
    "- **H₁:** пользователи с подпиской **тратят больше времени** на поездку"
   ]
  },
  {
   "cell_type": "code",
   "execution_count": 116,
   "id": "37f314f7-f1c1-4a4e-824c-d3fb8b6d0939",
   "metadata": {},
   "outputs": [
    {
     "name": "stdout",
     "output_type": "stream",
     "text": [
      "Статистика t: 12.683\n",
      "p-value: 0.00000\n"
     ]
    }
   ],
   "source": [
    "from scipy.stats import ttest_ind\n",
    "\n",
    "# Получаем выборки\n",
    "ultra_durations = df_ultra['duration']\n",
    "free_durations = df_free['duration']\n",
    "\n",
    "# Проверка на равенство дисперсий (по умолчанию считаем дисперсии неравными)\n",
    "t_stat, p_value = ttest_ind(ultra_durations, free_durations, equal_var=False, alternative='greater')\n",
    "\n",
    "print(f'Статистика t: {t_stat:.3f}')\n",
    "print(f'p-value: {p_value:.5f}')"
   ]
  },
  {
   "cell_type": "markdown",
   "id": "8624af54-f668-41d7-abda-ebd2b9ad735d",
   "metadata": {},
   "source": [
    "**Вывод:**  \n",
    "p-value значительно меньше 0.05, поэтому мы **отвергаем нулевую гипотезу**.  \n",
    "Это означает, что с высокой степенью уверенности можно утверждать:  \n",
    "**пользователи с подпиской тратят больше времени на поездку**, чем те, у кого подписки нет.  \n",
    "Подписчики действительно могут быть **более вовлечёнными и ценными** клиентами."
   ]
  },
  {
   "cell_type": "markdown",
   "id": "3bfc7ca7-edee-4c9a-b197-a9468def06b3",
   "metadata": {},
   "source": [
    "#### 6.2 Проверка: превышает ли среднее расстояние поездки у подписчиков 3130 метров?\n",
    "\n",
    "**Гипотезы:**\n",
    "- **H₀:** среднее расстояние поездки у подписчиков **не превышает** 3130 м\n",
    "- **H₁:** среднее расстояние **превышает** 3130 м"
   ]
  },
  {
   "cell_type": "code",
   "execution_count": 120,
   "id": "7d37db4b-1555-4e5b-ab9c-d887d8cdcd37",
   "metadata": {},
   "outputs": [
    {
     "name": "stdout",
     "output_type": "stream",
     "text": [
      "Статистика t: -1.402\n",
      "p-value: 0.91954\n"
     ]
    }
   ],
   "source": [
    "from scipy.stats import ttest_1samp\n",
    "\n",
    "# Берём выборку расстояний у подписчиков\n",
    "ultra_distances = df_ultra['distance']\n",
    "\n",
    "# Гипотеза: среднее расстояние ≤ 3130\n",
    "t_stat, p_value = ttest_1samp(ultra_distances, popmean=3130, alternative='greater')\n",
    "\n",
    "print(f'Статистика t: {t_stat:.3f}')\n",
    "print(f'p-value: {p_value:.5f}')\n"
   ]
  },
  {
   "cell_type": "markdown",
   "id": "3fc0c31b-ddd4-4de4-8410-70ddfb7f3ece",
   "metadata": {},
   "source": [
    "**Результаты:**\n",
    "- Статистика t: **-1.402**\n",
    "- p-value: **0.91954**\n",
    "\n",
    "**Вывод:**  \n",
    "p-value значительно **больше** 0.05 — мы **не отвергаем нулевую гипотезу**.  \n",
    "Это означает, что **у нас нет оснований утверждать**, что подписчики в среднем проезжают **больше 3130 метров** за поездку.  \n",
    "Напротив, данные **подтверждают, что средняя дистанция не превышает 3130 м**, что соответствует критерию оптимального износа самоката."
   ]
  },
  {
   "cell_type": "markdown",
   "id": "fafa57b2-afff-4da7-9ee9-ed1cb1aa38b1",
   "metadata": {},
   "source": [
    "#### 6.3 Проверка: отличается ли помесячная выручка между пользователями с подпиской и без\n",
    "\n",
    "**Гипотезы:**\n",
    "- **H₀:** средняя месячная выручка от пользователей с подпиской **не превышает** выручку от пользователей без подписки\n",
    "- **H₁:** пользователи с подпиской приносят **больше** выручки в месяц"
   ]
  },
  {
   "cell_type": "code",
   "execution_count": 124,
   "id": "6899cd6c-69e8-4cc8-8aa0-0cbc5118792a",
   "metadata": {},
   "outputs": [
    {
     "name": "stdout",
     "output_type": "stream",
     "text": [
      "Статистика t: -44.013\n",
      "p-value: 1.00000\n"
     ]
    },
    {
     "name": "stderr",
     "output_type": "stream",
     "text": [
      "C:\\ProgramData\\anaconda3\\Lib\\site-packages\\scipy\\stats\\_axis_nan_policy.py:531: RuntimeWarning: Precision loss occurred in moment calculation due to catastrophic cancellation. This occurs when the data are nearly identical. Results may be unreliable.\n",
      "  res = hypotest_fun_out(*samples, **kwds)\n"
     ]
    }
   ],
   "source": [
    "from scipy.stats import ttest_ind\n",
    "\n",
    "# Разделим агрегированный датафрейм на две выборки по подписке\n",
    "ultra_rev = df_grouped[df_grouped['subscription_type'] == 'ultra']['revenue']\n",
    "free_rev = df_grouped[df_grouped['subscription_type'] == 'free']['revenue']\n",
    "\n",
    "# Проверка гипотезы\n",
    "t_stat, p_value = ttest_ind(ultra_rev, free_rev, equal_var=False, alternative='greater')\n",
    "\n",
    "print(f'Статистика t: {t_stat:.3f}')\n",
    "print(f'p-value: {p_value:.5f}')\n"
   ]
  },
  {
   "cell_type": "markdown",
   "id": "99bb4a34-8474-4d9c-9774-f15800cbc1fa",
   "metadata": {},
   "source": [
    "**Результаты:**\n",
    "- Статистика t: **-44.013**\n",
    "- p-value: **1.00000**\n",
    "\n",
    "**Вывод:**  \n",
    "p-value = 1.00000 — это означает, что нулевая гипотеза **не может быть отвергнута**.  \n",
    "Более того, значение t-статистики **отрицательное**, что указывает на противоположное направление:  \n",
    "**средняя месячная выручка от пользователей без подписки даже выше, чем от подписчиков**."
   ]
  },
  {
   "cell_type": "markdown",
   "id": "420ca4c6-e74d-4e72-be97-00e9a9087189",
   "metadata": {},
   "source": [
    "**Заключение:**  \n",
    "Нельзя утверждать, что подписчики приносят больше выручки в месяц. Важно учитывать, что платные пользователи платят фиксированную сумму, а бесплатные — платят только при активных поездках.  \n",
    "Это открывает потенциал для **гибридных моделей монетизации** или **разных сценариев тарификации**."
   ]
  },
  {
   "cell_type": "markdown",
   "id": "802d77c7-9d54-494e-aa5c-2aae48f47bca",
   "metadata": {},
   "source": [
    "---"
   ]
  },
  {
   "cell_type": "markdown",
   "id": "b60dadc0-25a1-4987-b644-d165690663fc",
   "metadata": {},
   "source": [
    "### Шаг 7. Распределения"
   ]
  },
  {
   "cell_type": "markdown",
   "id": "464715f7-92eb-40f2-bf8d-f28d91a7d6f1",
   "metadata": {},
   "source": [
    "#### 7.1 Расчёт среднего и стандартного отклонения длительности поездки\n",
    "\n",
    "**Цель:** определить параметры нормального распределения (среднее и стандартное отклонение) на основе выборки всех поездок."
   ]
  },
  {
   "cell_type": "code",
   "execution_count": 133,
   "id": "dfe7c9b4-fd06-4f74-b808-80574132c039",
   "metadata": {},
   "outputs": [
    {
     "name": "stdout",
     "output_type": "stream",
     "text": [
      "Средняя длительность поездки: 17.81 мин\n",
      "Стандартное отклонение: 6.09 мин\n"
     ]
    }
   ],
   "source": [
    "# Расчёт среднего и стандартного отклонения\n",
    "mean_duration = df_merged['duration'].mean()\n",
    "std_duration = df_merged['duration'].std()\n",
    "\n",
    "print(f'Средняя длительность поездки: {mean_duration:.2f} мин')\n",
    "print(f'Стандартное отклонение: {std_duration:.2f} мин')\n"
   ]
  },
  {
   "cell_type": "markdown",
   "id": "461701c1-9ca7-4b81-aacb-1c85265ad7f0",
   "metadata": {},
   "source": [
    "**Результаты:**\n",
    "- **Средняя длительность поездки:** 17.81 минут\n",
    "- **Стандартное отклонение:** 6.09 минут\n",
    "\n",
    "**Вывод:**  \n",
    "Полученные параметры можно использовать для моделирования нормального распределения и оценки вероятности различных сценариев: например, поездок длительностью более 30 минут или в интервале от 20 до 30 минут."
   ]
  },
  {
   "cell_type": "markdown",
   "id": "03a5b253-9735-42c1-9ec1-946b96c77247",
   "metadata": {},
   "source": [
    "#### 7.2 Расчёт вероятности поездки более 30 минут\n",
    "\n",
    "**Цель:** оценить вероятность того, что пользователь проведёт в поездке **более 30 минут**.\n",
    "\n",
    "**Что делаем:**  \n",
    "Используем нормальное распределение с параметрами:\n",
    "- Среднее: **17.81 мин**\n",
    "- Стандартное отклонение: **6.09 мин**\n",
    "\n",
    "С помощью функции **CDF** находим:\n",
    "\n",
    "P(X>30)=1−CDF(30)"
   ]
  },
  {
   "cell_type": "code",
   "execution_count": 137,
   "id": "d6caec14-c138-4fab-a413-01131693ad32",
   "metadata": {},
   "outputs": [
    {
     "name": "stdout",
     "output_type": "stream",
     "text": [
      "Вероятность поездки > 30 минут: 0.0227 (2.27%)\n"
     ]
    }
   ],
   "source": [
    "from scipy.stats import norm\n",
    "\n",
    "# Параметры из п. 7.1\n",
    "mean = 17.81\n",
    "std = 6.09\n",
    "\n",
    "# Вероятность поездки более 30 минут\n",
    "prob_over_30 = 1 - norm.cdf(30, loc=mean, scale=std)\n",
    "\n",
    "print(f'Вероятность поездки > 30 минут: {prob_over_30:.4f} ({prob_over_30 * 100:.2f}%)')\n"
   ]
  },
  {
   "cell_type": "markdown",
   "id": "3633914e-e7c2-4087-a406-36f1b8a398df",
   "metadata": {},
   "source": [
    "**Результат:**\n",
    "- Вероятность поездки дольше 30 минут: **0.0227** (или **2.27%**)\n",
    "\n",
    "**Вывод:**  \n",
    "Только **примерно 2.27%** поездок длится более 30 минут.  \n",
    "Это довольно низкий процент, и проведение промоакции только для таких поездок вряд ли окажет существенное влияние на общую лояльность или поведение пользователей."
   ]
  },
  {
   "cell_type": "markdown",
   "id": "d3db0b4d-94e9-4f19-b8c0-570e5079a30c",
   "metadata": {},
   "source": [
    "#### 7.3 Расчёт вероятности поездки от 20 до 30 минут\n",
    "\n",
    "**Цель:** определить, сколько поездок укладывается в интервал от **20 до 30 минут** — возможно, именно на этих пользователей стоит нацелить промоакцию.\n",
    "\n",
    "**Что делаем:**  \n",
    "Используем нормальное распределение с параметрами:\n",
    "- Среднее: **17.81 мин**\n",
    "- Стандартное отклонение: **6.09 мин**\n",
    "\n",
    "Вычисляем:\n",
    "\n",
    "P(20≤X≤30)=CDF(30)−CDF(20)"
   ]
  },
  {
   "cell_type": "code",
   "execution_count": 147,
   "id": "df6b7297-8780-4251-845c-41eac7478c2e",
   "metadata": {},
   "outputs": [
    {
     "name": "stdout",
     "output_type": "stream",
     "text": [
      "Вероятность поездки от 20 до 30 минут: 0.3369 (33.69%)\n"
     ]
    }
   ],
   "source": [
    "from scipy.stats import norm\n",
    "\n",
    "# Параметры\n",
    "mean = 17.81\n",
    "std = 6.09\n",
    "\n",
    "# Расчёт вероятности попасть в интервал от 20 до 30 минут\n",
    "prob_20_30 = norm.cdf(30, loc=mean, scale=std) - norm.cdf(20, loc=mean, scale=std)\n",
    "\n",
    "print(f'Вероятность поездки от 20 до 30 минут: {prob_20_30:.4f} ({prob_20_30 * 100:.2f}%)')\n"
   ]
  },
  {
   "cell_type": "markdown",
   "id": "22abfd3a-d374-4c33-a0a7-d07149172494",
   "metadata": {},
   "source": [
    "**Результат:**\n",
    "- Вероятность поездки от 20 до 30 минут: **0.3369** (или **33.69%**)\n",
    "\n",
    "**Вывод:**  \n",
    "Почти **треть всех поездок** укладывается в диапазон от 20 до 30 минут.  \n",
    "Это делает **эту группу гораздо более перспективной для проведения акций и мотивации** — охват будет ощутимо выше, чем у поездок более 30 минут (всего 2.27%)."
   ]
  },
  {
   "cell_type": "markdown",
   "id": "64adf3d4-774f-4b80-9eb8-517cf06dd8e4",
   "metadata": {},
   "source": [
    "#### 7.4 Расчёт критической длительности поездки (90-й процентиль)\n",
    "\n",
    "**Цель:** определить, какое значение длительности поездки превышается только в **10% случаев**.  \n",
    "Это значение можно использовать как **порог**, после которого к поездке применяется **дополнительная плата** — чтобы снизить нагрузку на самокаты.\n",
    "\n",
    "**Что делаем:**  \n",
    "Используем нормальное распределение с параметрами:\n",
    "- Средняя длительность: **17.81 мин**\n",
    "- Стандартное отклонение: **6.09 мин**\n",
    "\n",
    "Вычисляем 90-й процентиль:\n",
    "\n",
    "X \n",
    "90\n",
    "​\n",
    " =PPF(0.9)"
   ]
  },
  {
   "cell_type": "code",
   "execution_count": 152,
   "id": "6360888b-f2f6-4781-b938-648eb4b61b5d",
   "metadata": {},
   "outputs": [
    {
     "name": "stdout",
     "output_type": "stream",
     "text": [
      "Критическая длительность (90-й процентиль): 25.61 мин\n"
     ]
    }
   ],
   "source": [
    "from scipy.stats import norm\n",
    "\n",
    "# Параметры нормального распределения\n",
    "mean = 17.81\n",
    "std = 6.09\n",
    "\n",
    "# Расчёт 90-го процентиля\n",
    "critical_duration = norm.ppf(0.9, loc=mean, scale=std)\n",
    "\n",
    "print(f'Критическая длительность (90-й процентиль): {critical_duration:.2f} мин')\n"
   ]
  },
  {
   "cell_type": "markdown",
   "id": "d72172a7-f102-4571-bbfb-874b6372e378",
   "metadata": {},
   "source": [
    "\n",
    "**Результат:**\n",
    "- **Критическая длительность поездки:** **25.61 минут**\n",
    "\n",
    "**Вывод:**  \n",
    "Только **10% поездок** длятся **дольше 25.61 минут**. (25.61 минут = 25 минут и 37 секунд (с округлением))  \n",
    "Это значение можно использовать как логическую границу для повышения тарифа, так как оно охватывает лишь небольшой, но потенциально затратный сегмент пользователей."
   ]
  },
  {
   "cell_type": "markdown",
   "id": "fb0c6016-e1ac-4ab8-bdcb-fc3bee2e756d",
   "metadata": {},
   "source": [
    "---"
   ]
  },
  {
   "cell_type": "markdown",
   "id": "5a10e632-c063-447c-bb72-516041d37b4a",
   "metadata": {},
   "source": [
    "## Вывод по проекту\n",
    "\n",
    "### Общие наблюдения\n",
    "- Аудитория сервиса GoFast — преимущественно молодые люди в возрасте **18–30 лет**, живущие в крупных городах.\n",
    "- Пользователи с подпиской (`ultra`) совершают **длиннее и продолжительнее** поездки, чем пользователи без подписки (`free`).\n",
    "- **Средняя поездка** длится **17.81 минут**, что соответствует перемещению на короткие и средние дистанции в городе.\n",
    "\n",
    "### Подписки и выручка\n",
    "- Подписчики платят фиксированную сумму — **199₽ в месяц**.\n",
    "- Пользователи без подписки платят по поездке и минутам — **их месячная выручка может быть выше**, особенно при высокой активности.\n",
    "- **Гипотеза о большей выручке от подписчиков не подтвердилась.**\n",
    "\n",
    "### Проверка гипотез\n",
    "- ✅ **Подписчики тратят больше времени на поездку** — разница статистически значима.\n",
    "- ❌ Средняя дистанция поездки у `ultra` **не превышает** 3130 м — ограничение по износу не нарушается.\n",
    "- ❌ Месячная выручка от подписчиков **не выше**, чем от бесплатных пользователей.\n",
    "\n",
    "### Рекомендации для бизнеса\n",
    "- Только **2.27%** поездок длятся **дольше 30 минут** — делать промо на них **нецелесообразно**.\n",
    "- **33.7%** поездок укладываются в диапазон **от 20 до 30 минут** — идеальная аудитория для промоакций и бонусов.\n",
    "- **90-й процентиль по длительности**: **25.61 минут** — логичный порог для внедрения дополнительной платы за чрезмерно длительные поездки.\n",
    "- Рассмотреть внедрение **гибридных тарифов**: базовая подписка + бонусные минуты + платные сверхлимитные поездки.\n",
    "\n",
    "### Итого\n",
    "Сервису стоит акцентироваться на:\n",
    "- удержании и повторной активации подписчиков;\n",
    "- стимулировании поездок **средней продолжительности**;\n",
    "- увеличении окупаемости за счёт гибких тарифных моделей."
   ]
  },
  {
   "cell_type": "code",
   "execution_count": null,
   "id": "5b92bfe0-1344-4407-8cb5-a092030ae090",
   "metadata": {},
   "outputs": [],
   "source": []
  }
 ],
 "metadata": {
  "kernelspec": {
   "display_name": "Python [conda env:base] *",
   "language": "python",
   "name": "conda-base-py"
  },
  "language_info": {
   "codemirror_mode": {
    "name": "ipython",
    "version": 3
   },
   "file_extension": ".py",
   "mimetype": "text/x-python",
   "name": "python",
   "nbconvert_exporter": "python",
   "pygments_lexer": "ipython3",
   "version": "3.12.7"
  }
 },
 "nbformat": 4,
 "nbformat_minor": 5
}
