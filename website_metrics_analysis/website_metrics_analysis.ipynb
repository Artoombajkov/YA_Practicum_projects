{
 "cells": [
  {
   "cell_type": "markdown",
   "id": "0f8d5f4d-67a9-410f-8b2c-71954fc01fcc",
   "metadata": {},
   "source": [
    "# Часть 1. Анализ пользовательского поведения в Яндекс Книгах и проверка A/B-теста"
   ]
  },
  {
   "cell_type": "markdown",
   "id": "b57eaea4-65ce-4399-90f1-016fb8cc8d66",
   "metadata": {},
   "source": [
    "### 👤 Автор проекта\n",
    "\n",
    "**Артем Байков**  \n",
    "**14.04.2025**"
   ]
  },
  {
   "cell_type": "markdown",
   "id": "28fd73fd-8fee-4d17-be39-13016e9922ee",
   "metadata": {},
   "source": [
    "## Описание данных\n",
    "\n",
    "В первой части проекта анализируются данные о пользователях сервиса Яндекс Книги. Основная цель — изучить активность пользователей из Москвы и Санкт-Петербурга и проверить гипотезу о различии их поведения.\n",
    "\n",
    "Вторая часть посвящена анализу результатов A/B-теста на других данных, которые включают в себя группы пользователей, метрики и условия эксперимента.\n",
    "\n",
    "**Файл `yandex_knigi_data.csv` содержит:**\n",
    "- `city` — город пользователя (Москва или Санкт-Петербург);\n",
    "- `puid` — уникальный идентификатор пользователя;\n",
    "- `hours` — общее количество часов активности (чтение или прослушивание контента).\n"
   ]
  },
  {
   "cell_type": "markdown",
   "id": "9a0a797b-f2f7-43db-9b31-46dee39d742a",
   "metadata": {},
   "source": [
    "## 🎯 Цель проекта\n",
    "\n",
    "Цель проекта — проверить гипотезу о том, что пользователи из Санкт-Петербурга **проводят в среднем больше времени за чтением и прослушиванием контента** в сервисе **Яндекс Книги**, чем пользователи из Москвы. Анализ проводится с использованием агрегированных данных по пользователям и одностороннего t-теста для двух независимых выборок.\n",
    "\n",
    "---\n",
    "\n",
    "## 🧭 Этапы проекта\n",
    "\n",
    "1. **Импорт и подготовка данных:**\n",
    "   - Загрузка агрегированных данных (`city`, `puid`, `hours`);\n",
    "   - Проверка на наличие дубликатов в идентификаторах пользователей;\n",
    "   - Предварительное сравнение выборок (размер, средние значения, дисперсии).\n",
    "\n",
    "2. **Проверка гипотезы:**\n",
    "   - Формализация гипотез:\n",
    "     - **Нулевая гипотеза (H₀)**: среднее время активности пользователей из Санкт-Петербурга **не больше**, чем у пользователей из Москвы.\n",
    "     - **Альтернативная гипотеза (H₁)**: пользователи из Санкт-Петербурга **проводят больше времени** в приложении.\n",
    "   - Выбор подходящего t-теста и уровня значимости (например, α = 0.05);\n",
    "   - Проведение одностороннего t-теста для двух независимых выборок;\n",
    "   - Расчёт p-value и вывод результата.\n",
    "\n",
    "3. **Интерпретация результатов:**\n",
    "   - Интерпретация p-value и принятие или отклонение нулевой гипотезы;\n",
    "   - Формулировка возможных причин различий в поведении пользователей;\n",
    "   - Подготовка аналитической записки с результатами анализа.\n",
    "\n",
    "---\n",
    "\n",
    "📌 В конце проекта будет сделан статистический вывод и предложены объяснения наблюдаемых различий в активности пользователей двух городов.\n",
    "\n"
   ]
  },
  {
   "cell_type": "code",
   "execution_count": 7,
   "id": "e21ad284-e903-47ca-a789-5b325fa411cb",
   "metadata": {},
   "outputs": [],
   "source": [
    "import pandas as pd\n",
    "import os\n",
    "import matplotlib.pyplot as plt\n",
    "import seaborn as sns\n",
    "import numpy as np\n",
    "from scipy.stats import norm\n",
    "from math import ceil\n",
    "from scipy.stats import ttest_ind, mannwhitneyu\n",
    "from scipy.stats import levene\n",
    "from statsmodels.stats.power import NormalIndPower\n",
    "from statsmodels.stats.proportion import proportions_ztest"
   ]
  },
  {
   "cell_type": "code",
   "execution_count": 9,
   "id": "4af29656-0ec2-4485-902d-062e570f5750",
   "metadata": {
    "scrolled": true
   },
   "outputs": [
    {
     "name": "stdout",
     "output_type": "stream",
     "text": [
      "✅ Данные загружены из локального файла\n"
     ]
    },
    {
     "data": {
      "text/html": [
       "<div>\n",
       "<style scoped>\n",
       "    .dataframe tbody tr th:only-of-type {\n",
       "        vertical-align: middle;\n",
       "    }\n",
       "\n",
       "    .dataframe tbody tr th {\n",
       "        vertical-align: top;\n",
       "    }\n",
       "\n",
       "    .dataframe thead th {\n",
       "        text-align: right;\n",
       "    }\n",
       "</style>\n",
       "<table border=\"1\" class=\"dataframe\">\n",
       "  <thead>\n",
       "    <tr style=\"text-align: right;\">\n",
       "      <th></th>\n",
       "      <th>Unnamed: 0</th>\n",
       "      <th>city</th>\n",
       "      <th>puid</th>\n",
       "      <th>hours</th>\n",
       "    </tr>\n",
       "  </thead>\n",
       "  <tbody>\n",
       "    <tr>\n",
       "      <th>0</th>\n",
       "      <td>0</td>\n",
       "      <td>Москва</td>\n",
       "      <td>9668</td>\n",
       "      <td>26.167776</td>\n",
       "    </tr>\n",
       "    <tr>\n",
       "      <th>1</th>\n",
       "      <td>1</td>\n",
       "      <td>Москва</td>\n",
       "      <td>16598</td>\n",
       "      <td>82.111217</td>\n",
       "    </tr>\n",
       "    <tr>\n",
       "      <th>2</th>\n",
       "      <td>2</td>\n",
       "      <td>Москва</td>\n",
       "      <td>80401</td>\n",
       "      <td>4.656906</td>\n",
       "    </tr>\n",
       "    <tr>\n",
       "      <th>3</th>\n",
       "      <td>3</td>\n",
       "      <td>Москва</td>\n",
       "      <td>140205</td>\n",
       "      <td>1.840556</td>\n",
       "    </tr>\n",
       "    <tr>\n",
       "      <th>4</th>\n",
       "      <td>4</td>\n",
       "      <td>Москва</td>\n",
       "      <td>248755</td>\n",
       "      <td>151.326434</td>\n",
       "    </tr>\n",
       "  </tbody>\n",
       "</table>\n",
       "</div>"
      ],
      "text/plain": [
       "   Unnamed: 0    city    puid       hours\n",
       "0           0  Москва    9668   26.167776\n",
       "1           1  Москва   16598   82.111217\n",
       "2           2  Москва   80401    4.656906\n",
       "3           3  Москва  140205    1.840556\n",
       "4           4  Москва  248755  151.326434"
      ]
     },
     "execution_count": 9,
     "metadata": {},
     "output_type": "execute_result"
    }
   ],
   "source": [
    "# Пути\n",
    "local_path = 'yandex_knigi_data.csv'\n",
    "remote_url = 'https://code.s3.yandex.net/datasets/yandex_knigi_data.csv'\n",
    "\n",
    "# Если файл уже есть локально — читаем из него, иначе — скачиваем\n",
    "if os.path.exists(local_path):\n",
    "    df = pd.read_csv(local_path)\n",
    "    print(\"✅ Данные загружены из локального файла\")\n",
    "else:\n",
    "    df = pd.read_csv(remote_url)\n",
    "    print(\"🌐 Данные загружены по ссылке\")\n",
    "    # Сохраняем локально на будущее (опционально)\n",
    "    df.to_csv(local_path, index=False)\n",
    "    print(\"💾 Файл сохранён локально\")\n",
    "\n",
    "# Просмотр первых строк\n",
    "df.head()"
   ]
  },
  {
   "cell_type": "code",
   "execution_count": 10,
   "id": "a4f8a90d-265c-428c-bb23-b286a83ea1d8",
   "metadata": {},
   "outputs": [],
   "source": [
    "df = df.drop(columns=['Unnamed: 0'])"
   ]
  },
  {
   "cell_type": "code",
   "execution_count": 13,
   "id": "1e555586-9b5b-4a0a-846d-f2b0075f5c58",
   "metadata": {},
   "outputs": [
    {
     "name": "stdout",
     "output_type": "stream",
     "text": [
      "Всего строк в данных: 8784\n",
      "Уникальных пользователей: 8540\n",
      "Количество дубликатов: 244\n"
     ]
    }
   ],
   "source": [
    "# Проверим количество уникальных пользователей и общее количество строк\n",
    "total_rows = len(df)\n",
    "unique_users = df['puid'].nunique()\n",
    "\n",
    "print(f'Всего строк в данных: {total_rows}')\n",
    "print(f'Уникальных пользователей: {unique_users}')\n",
    "print(f'Количество дубликатов: {total_rows - unique_users}')"
   ]
  },
  {
   "cell_type": "code",
   "execution_count": 14,
   "id": "4e30e386",
   "metadata": {},
   "outputs": [
    {
     "name": "stdout",
     "output_type": "stream",
     "text": [
      "Размер данных до удаления дубликатов: 8784\n",
      "Размер данных после удаления дубликатов: 8540\n"
     ]
    }
   ],
   "source": [
    "# Удалим дубликаты по идентификатору пользователя (оставим первую строку)\n",
    "df_dedup = df.drop_duplicates(subset='puid', keep='first')\n",
    "\n",
    "print(f'Размер данных до удаления дубликатов: {len(df)}')\n",
    "print(f'Размер данных после удаления дубликатов: {len(df_dedup)}')\n"
   ]
  },
  {
   "cell_type": "code",
   "execution_count": 16,
   "id": "097cd1e9-b2ed-432e-b20c-efc7247017f5",
   "metadata": {},
   "outputs": [
    {
     "name": "stdout",
     "output_type": "stream",
     "text": [
      "Количество пользователей, указанных в более чем одном городе: 0\n"
     ]
    }
   ],
   "source": [
    "# Ищем пользователей, у которых более одного уникального значения 'city'\n",
    "user_city_counts = df_dedup.groupby('puid')['city'].nunique()\n",
    "overlap_users = user_city_counts[user_city_counts > 1]\n",
    "\n",
    "print(f'Количество пользователей, указанных в более чем одном городе: {len(overlap_users)}')"
   ]
  },
  {
   "cell_type": "markdown",
   "id": "14be5910-213f-4fec-bcb1-1ecd0b1ce1b3",
   "metadata": {},
   "source": [
    "### Сравнение описательных статистик по городам\n",
    "\n",
    "Перед проведением проверки гипотез важно сравнить группы по ключевым статистическим характеристикам:\n",
    "- размер выборки;\n",
    "- среднее и медиану активности;\n",
    "- стандартное отклонение;\n",
    "- минимальные и максимальные значения.\n",
    "\n",
    "Это позволит понять, насколько выборки сбалансированы и можно ли применять параметрический тест."
   ]
  },
  {
   "cell_type": "code",
   "execution_count": 19,
   "id": "ca152913-d5a0-4b08-adad-d3b39910a7f2",
   "metadata": {},
   "outputs": [
    {
     "name": "stdout",
     "output_type": "stream",
     "text": [
      "Размеры выборок:\n",
      " city\n",
      "Москва             6234\n",
      "Санкт-Петербург    2306\n",
      "Name: count, dtype: int64 \n",
      "\n",
      "Описательные статистики:\n",
      "                  count   mean  median    std  min     max\n",
      "city                                                     \n",
      "Москва            6234  10.88    0.92  36.85  0.0  857.21\n",
      "Санкт-Петербург   2306  11.26    0.88  39.83  0.0  978.76\n"
     ]
    }
   ],
   "source": [
    "# Сравнение размеров выборок и описательных статистик\n",
    "group_sizes = df_dedup['city'].value_counts()\n",
    "print(\"Размеры выборок:\\n\", group_sizes, \"\\n\")\n",
    "\n",
    "group_stats = df_dedup.groupby('city')['hours'].agg(['count', 'mean', 'median', 'std', 'min', 'max']).round(2)\n",
    "print(\"Описательные статистики:\\n\", group_stats)"
   ]
  },
  {
   "cell_type": "markdown",
   "id": "01827f1f-3ed3-482e-9376-8de85bf29344",
   "metadata": {},
   "source": [
    "### 📌 Предварительные выводы\n",
    "\n",
    "На основе описательных статистик и анализа данных можно сделать следующие выводы:\n",
    "\n",
    "- **Размеры выборок существенно различаются**: в Москве — 6234 пользователя, в Санкт-Петербурге — 2306.  \n",
    "  → Разница превышает 25%, что уже требует осторожности при выборе параметрических тестов.\n",
    "\n",
    "- **Распределения времени активности асимметричны и содержат выбросы**, особенно в группе СПб,  \n",
    "  что подтверждается разбросом значений и большим стандартным отклонением.\n",
    "\n",
    "- **Медианы почти совпадают**, в то время как средние значения и стандартные отклонения различаются.\n",
    "\n",
    "---\n",
    "\n",
    "📌 **Вывод:**\n",
    "- Тест **на равенство дисперсий** (Levene test) обязателен, чтобы подтвердить или опровергнуть равенство дисперсий.\n",
    "- При проверке гипотезы о разнице средних:\n",
    "  - будем использовать **Welch’s t-test** — учитывает неравные размеры выборок;\n",
    "  - а также **Mann–Whitney U-test** — более устойчив к выбросам и асимметрии.\n",
    "\n",
    "Оба метода дадут полную картину и позволят корректно интерпретировать различия между группами.\n",
    "\n"
   ]
  },
  {
   "cell_type": "markdown",
   "id": "c9fef367-74ab-4ff2-b8ce-31e81fcb46e6",
   "metadata": {},
   "source": [
    "#### 📏 Сравнение размеров выборок\n",
    "\n",
    "| Город            | Кол-во пользователей |\n",
    "|------------------|----------------------|\n",
    "| Москва           | 6234                 |\n",
    "| Санкт-Петербург  | 2306                 |\n",
    "\n",
    "→ Разница в размере между группами составляет **более 60%**,  \n",
    "что превышает допустимый порог в 25% для использования классического t-test без поправки.  \n",
    "\n",
    "❗ Поэтому при проверке гипотезы будет применяться **Welch’s t-test** — метод, устойчивый к неравенству выборок.\n"
   ]
  },
  {
   "cell_type": "code",
   "execution_count": 28,
   "id": "4cb96f05-9e08-4d25-aadd-ac2b88470a6e",
   "metadata": {},
   "outputs": [
    {
     "data": {
      "image/png": "[encoded data removed]",
      "text/plain": [
       "<Figure size 2000x1000 with 1 Axes>"
      ]
     },
     "metadata": {},
     "output_type": "display_data"
    }
   ],
   "source": [
    "# Визуализация boxplot\n",
    "plt.figure(figsize=(20, 10))\n",
    "sns.boxplot(x='city', y='hours', data=df_dedup)\n",
    "plt.title('Распределение времени активности по городам')\n",
    "plt.ylabel('Часы активности')\n",
    "plt.xlabel('Город')\n",
    "plt.grid(True)\n",
    "plt.show()"
   ]
  },
  {
   "cell_type": "markdown",
   "id": "02284946-22fc-4680-943d-4664dbc98428",
   "metadata": {},
   "source": [
    "###  📉 Вывод на основе визуального анализа\n",
    "\n",
    "- Данные содержат **значительное количество выбросов**;\n",
    "- Распределения **асимметричны** и имеют вытянутые хвосты;\n",
    "- **Размеры выборок отличаются более чем на 25%**.\n",
    "\n",
    "📌 **Вывод**: проводить параметрический тест на \"сырых\" данных нецелесообразно.\n",
    "\n",
    "---\n",
    "\n",
    "###  🧹 Подготовка данных к проверке гипотезы\n",
    "\n",
    "Чтобы корректно провести параметрический тест, мы:\n",
    "- удалим выбросы по правилу межквартильного размаха (IQR),\n",
    "- применим **Welch’s t-test**, устойчивый к разному размеру выборок,\n",
    "- не будем использовать Mann–Whitney U — так как устранили проблему выбросов.\n",
    "\n",
    "---\n",
    "\n",
    "📘 *После очистки данных и удаления выбросов проверим основную гипотезу:*\n",
    "\n",
    "> **H₀:** Среднее время активности в Санкт-Петербурге не больше, чем в Москве  \n",
    "> **H₁:** Среднее время активности в Санкт-Петербурге больше, чем в Москве\n"
   ]
  },
  {
   "cell_type": "markdown",
   "id": "2ac0c8db-e76d-4ff6-9f78-929dfc20adaf",
   "metadata": {},
   "source": [
    "#### 📤 Удаление выбросов\n",
    "\n",
    "Чтобы сделать выборки сопоставимыми и применить параметрический тест, устраним выбросы по правилу межквартильного размаха (IQR) — для каждой группы отдельно:\n",
    "\n",
    "- Отсекаем данные, которые лежат за пределами [Q1 − 1.5 * IQR; Q3 + 1.5 * IQR]\n",
    "- Это позволит снизить влияние аномальных значений и сделать t-test корректным.\n"
   ]
  },
  {
   "cell_type": "code",
   "execution_count": 31,
   "id": "d1b203b0-139d-4927-86a5-64e0c68d54ad",
   "metadata": {},
   "outputs": [
    {
     "name": "stdout",
     "output_type": "stream",
     "text": [
      "Размер выборки после удаления выбросов:\n",
      " city\n",
      "Москва             5334\n",
      "Санкт-Петербург    1960\n",
      "Name: count, dtype: int64\n",
      "\n",
      "Статистики:\n",
      "                   count  mean   std  min   25%   50%   75%    max\n",
      "city                                                             \n",
      "Москва           5334.0  2.06  3.18  0.0  0.04  0.49  2.68  14.76\n",
      "Санкт-Петербург  1960.0  2.03  3.27  0.0  0.04  0.47  2.61  15.20\n"
     ]
    }
   ],
   "source": [
    "# Вычислим границы IQR для каждой группы по отдельности\n",
    "def remove_outliers_iqr(data, city_col='city', value_col='hours'):\n",
    "    cleaned_data = pd.DataFrame()\n",
    "    \n",
    "    for city in data[city_col].unique():\n",
    "        city_data = data[data[city_col] == city]\n",
    "        q1 = city_data[value_col].quantile(0.25)\n",
    "        q3 = city_data[value_col].quantile(0.75)\n",
    "        iqr = q3 - q1\n",
    "        lower = q1 - 1.5 * iqr\n",
    "        upper = q3 + 1.5 * iqr\n",
    "        filtered = city_data[(city_data[value_col] >= lower) & (city_data[value_col] <= upper)]\n",
    "        cleaned_data = pd.concat([cleaned_data, filtered], ignore_index=True)\n",
    "    \n",
    "    return cleaned_data\n",
    "\n",
    "# Применим функцию к исходным данным без дубликатов\n",
    "df_filtered = remove_outliers_iqr(df_dedup)\n",
    "\n",
    "# Проверим размер и статистику после удаления выбросов\n",
    "print(\"Размер выборки после удаления выбросов:\\n\", df_filtered['city'].value_counts())\n",
    "print(\"\\nСтатистики:\\n\", df_filtered.groupby('city')['hours'].describe().round(2))\n"
   ]
  },
  {
   "cell_type": "code",
   "execution_count": 32,
   "id": "7d05a667-0f3a-49fe-bbc6-2d19a2dfd22b",
   "metadata": {},
   "outputs": [
    {
     "name": "stdout",
     "output_type": "stream",
     "text": [
      "t-статистика: -0.3666\n",
      "Односторонний p-value: 0.6430\n",
      "❌ Нет оснований отвергнуть H₀.\n"
     ]
    }
   ],
   "source": [
    "# Выделим данные после удаления выбросов\n",
    "moscow_hours = df_filtered[df_filtered['city'] == 'Москва']['hours']\n",
    "spb_hours = df_filtered[df_filtered['city'] == 'Санкт-Петербург']['hours']\n",
    "\n",
    "\n",
    "t_stat, p_value = ttest_ind(spb_hours, moscow_hours, equal_var=False)\n",
    "\n",
    "# Преобразуем в одностороннюю проверку\n",
    "p_one_sided = p_value / 2 if t_stat > 0 else 1 - (p_value / 2)\n",
    "\n",
    "# Вывод результатов\n",
    "print(f\"t-статистика: {t_stat:.4f}\")\n",
    "print(f\"Односторонний p-value: {p_one_sided:.4f}\")\n",
    "\n",
    "alpha = 0.05\n",
    "if p_one_sided < alpha:\n",
    "    print(\"✅ Отвергаем H₀: средняя активность в СПб статистически выше, чем в Москве.\")\n",
    "else:\n",
    "    print(\"❌ Нет оснований отвергнуть H₀.\")\n"
   ]
  },
  {
   "cell_type": "markdown",
   "id": "7d0a22fc-50c1-4e06-a869-dbddcb0638ac",
   "metadata": {},
   "source": [
    "### 📊  — Вывод по результатам проверки гипотезы\n",
    "\n",
    "- После удаления выбросов распределения по городам стали более сопоставимыми.\n",
    "- Проведён **односторонний t-тест Уэлча**, устойчивый к неравенству дисперсий.\n",
    "\n",
    "> **Результаты теста:**\n",
    "> - t-статистика = -0.3666  \n",
    "> - p-value (односторонний) = 0.6430\n",
    "\n",
    "🔬 **Статистический вывод:**  \n",
    "На уровне значимости **α = 0.05** нет оснований отвергнуть нулевую гипотезу.  \n",
    "Это означает, что **разница в среднем времени активности между пользователями из Санкт-Петербурга и Москвы статистически незначима**.\n",
    "\n",
    "💼 **Что это значит для бизнеса:**  \n",
    "- Поведение пользователей из двух крупнейших городов **схоже** с точки зрения времени, проводимого в сервисе.\n",
    "- Это позволяет применять **унифицированные маркетинговые стратегии** и продуктовые решения сразу для обоих городов.\n",
    "- Нет необходимости в **дополнительной локализации или персонализации** интерфейса/функционала по этим регионам — можно сосредоточиться на масштабируемых улучшениях.\n"
   ]
  },
  {
   "cell_type": "markdown",
   "id": "a54b6975-18f9-4cb5-8e56-8feeebb9361c",
   "metadata": {},
   "source": [
    "---\n",
    "🧩 Переход ко второй части проекта: анализ A/B-теста\n",
    "\n",
    "⬇️ Ниже начинается новая аналитическая задача. Теперь анализируем поведение пользователей на сайте BitMotion с помощью A/B-тестирования.\n",
    "\n",
    "---\n"
   ]
  },
  {
   "cell_type": "markdown",
   "id": "83ad1bca-8f4f-44b0-9360-c45e6393ba12",
   "metadata": {},
   "source": [
    "# Часть 2. Анализ A/B-теста редизайна сайта интернет-магазина BitMotion Kit"
   ]
  },
  {
   "cell_type": "markdown",
   "id": "8ae35e65-a9ea-4794-9b14-6b1905412208",
   "metadata": {},
   "source": [
    "## Цель проекта\n",
    "\n",
    "Цель проекта — проанализировать корректность и результаты A/B-теста, проведённого интернет-магазином BitMotion Kit, и определить, привёл ли новый интерфейс к увеличению доли пользователей, совершающих покупку.\n",
    "\n",
    "Тест затрагивает пользователей, зарегистрировавшихся в системе, и сравнивает конверсии в течение 7 дней после регистрации.\n",
    "\n",
    "---\n",
    "\n",
    "## Этапы проекта:\n",
    "\n",
    "1. Загрузка данных и ознакомление со структурой;\n",
    "2. Проверка на дубликаты и пропущенные значения;\n",
    "3. Предобработка данных;\n",
    "4. Проверка корректности проведения A/B-теста;\n",
    "5. Проверка гипотезы с использованием статистических методов;\n",
    "6. Формулировка выводов и рекомендации для бизнеса.\n",
    "\n",
    "___"
   ]
  },
  {
   "cell_type": "markdown",
   "id": "f3357a51-ccba-4c7d-856c-b3b2c61f02e5",
   "metadata": {},
   "source": [
    "## Описание данных\n",
    "\n",
    "**Датасет 1 — Участники A/B-теста (`ab_test_participants.csv`)**:\n",
    "- `user_id` — уникальный идентификатор пользователя;\n",
    "- `group` — группа пользователя (`A` — контроль, `B` — новый интерфейс);\n",
    "- `ab_test` — название теста (в нашем случае `interface_eu_test`);\n",
    "- `device` — устройство пользователя при регистрации.\n",
    "\n",
    "**Датасет 2 — События пользователей (`ab_test_events.csv`)**:\n",
    "- `user_id` — уникальный идентификатор пользователя;\n",
    "- `event_dt` — дата и время события;\n",
    "- `event_name` — тип события;\n",
    "- `details` — дополнительные данные о событии (если есть).\n"
   ]
  },
  {
   "cell_type": "code",
   "execution_count": 48,
   "id": "5411125e-7788-4067-9c5b-396b3fa41261",
   "metadata": {},
   "outputs": [],
   "source": [
    "import zipfile\n",
    "import requests\n",
    "from io import BytesIO\n",
    "from statsmodels.stats.power import zt_ind_solve_power"
   ]
  },
  {
   "cell_type": "code",
   "execution_count": 49,
   "id": "064a02e1-5e6a-475b-b0b7-6185efe33b45",
   "metadata": {},
   "outputs": [
    {
     "data": {
      "text/html": [
       "<div>\n",
       "<style scoped>\n",
       "    .dataframe tbody tr th:only-of-type {\n",
       "        vertical-align: middle;\n",
       "    }\n",
       "\n",
       "    .dataframe tbody tr th {\n",
       "        vertical-align: top;\n",
       "    }\n",
       "\n",
       "    .dataframe thead th {\n",
       "        text-align: right;\n",
       "    }\n",
       "</style>\n",
       "<table border=\"1\" class=\"dataframe\">\n",
       "  <thead>\n",
       "    <tr style=\"text-align: right;\">\n",
       "      <th></th>\n",
       "      <th>user_id</th>\n",
       "      <th>event_dt</th>\n",
       "      <th>event_name</th>\n",
       "      <th>details</th>\n",
       "    </tr>\n",
       "  </thead>\n",
       "  <tbody>\n",
       "    <tr>\n",
       "      <th>0</th>\n",
       "      <td>GLOBAL</td>\n",
       "      <td>2020-12-01 00:00:00</td>\n",
       "      <td>End of Black Friday Ads Campaign</td>\n",
       "      <td>ZONE_CODE15</td>\n",
       "    </tr>\n",
       "    <tr>\n",
       "      <th>1</th>\n",
       "      <td>CCBE9E7E99F94A08</td>\n",
       "      <td>2020-12-01 00:00:11</td>\n",
       "      <td>registration</td>\n",
       "      <td>0.0</td>\n",
       "    </tr>\n",
       "    <tr>\n",
       "      <th>2</th>\n",
       "      <td>GLOBAL</td>\n",
       "      <td>2020-12-01 00:00:25</td>\n",
       "      <td>product_page</td>\n",
       "      <td>NaN</td>\n",
       "    </tr>\n",
       "    <tr>\n",
       "      <th>3</th>\n",
       "      <td>CCBE9E7E99F94A08</td>\n",
       "      <td>2020-12-01 00:00:33</td>\n",
       "      <td>login</td>\n",
       "      <td>NaN</td>\n",
       "    </tr>\n",
       "    <tr>\n",
       "      <th>4</th>\n",
       "      <td>CCBE9E7E99F94A08</td>\n",
       "      <td>2020-12-01 00:00:52</td>\n",
       "      <td>product_page</td>\n",
       "      <td>NaN</td>\n",
       "    </tr>\n",
       "  </tbody>\n",
       "</table>\n",
       "</div>"
      ],
      "text/plain": [
       "            user_id             event_dt                        event_name  \\\n",
       "0            GLOBAL  2020-12-01 00:00:00  End of Black Friday Ads Campaign   \n",
       "1  CCBE9E7E99F94A08  2020-12-01 00:00:11                      registration   \n",
       "2            GLOBAL  2020-12-01 00:00:25                      product_page   \n",
       "3  CCBE9E7E99F94A08  2020-12-01 00:00:33                             login   \n",
       "4  CCBE9E7E99F94A08  2020-12-01 00:00:52                      product_page   \n",
       "\n",
       "       details  \n",
       "0  ZONE_CODE15  \n",
       "1          0.0  \n",
       "2          NaN  \n",
       "3          NaN  \n",
       "4          NaN  "
      ]
     },
     "execution_count": 49,
     "metadata": {},
     "output_type": "execute_result"
    }
   ],
   "source": [
    "events_df = pd.read_csv(\n",
    "    \"https://code.s3.yandex.net/datasets/ab_test_events.zip\", \n",
    "    compression='zip', \n",
    "    low_memory=False\n",
    ")\n",
    "\n",
    "# Проверим первые строки\n",
    "events_df.head()"
   ]
  },
  {
   "cell_type": "markdown",
   "id": "38b10647-3e33-4850-b756-e69044766be4",
   "metadata": {},
   "source": [
    "## Загрузка таблицы участников A/B-теста\n",
    "\n",
    "Теперь загрузим второй файл — таблицу с распределением пользователей по тестовым группам.\n"
   ]
  },
  {
   "cell_type": "code",
   "execution_count": 52,
   "id": "75bbfc59-8424-4d05-b3e5-93eba519cf5d",
   "metadata": {},
   "outputs": [
    {
     "data": {
      "text/html": [
       "<div>\n",
       "<style scoped>\n",
       "    .dataframe tbody tr th:only-of-type {\n",
       "        vertical-align: middle;\n",
       "    }\n",
       "\n",
       "    .dataframe tbody tr th {\n",
       "        vertical-align: top;\n",
       "    }\n",
       "\n",
       "    .dataframe thead th {\n",
       "        text-align: right;\n",
       "    }\n",
       "</style>\n",
       "<table border=\"1\" class=\"dataframe\">\n",
       "  <thead>\n",
       "    <tr style=\"text-align: right;\">\n",
       "      <th></th>\n",
       "      <th>user_id</th>\n",
       "      <th>group</th>\n",
       "      <th>ab_test</th>\n",
       "      <th>device</th>\n",
       "    </tr>\n",
       "  </thead>\n",
       "  <tbody>\n",
       "    <tr>\n",
       "      <th>0</th>\n",
       "      <td>0002CE61FF2C4011</td>\n",
       "      <td>B</td>\n",
       "      <td>interface_eu_test</td>\n",
       "      <td>Mac</td>\n",
       "    </tr>\n",
       "    <tr>\n",
       "      <th>1</th>\n",
       "      <td>001064FEAAB631A1</td>\n",
       "      <td>B</td>\n",
       "      <td>recommender_system_test</td>\n",
       "      <td>Android</td>\n",
       "    </tr>\n",
       "    <tr>\n",
       "      <th>2</th>\n",
       "      <td>001064FEAAB631A1</td>\n",
       "      <td>A</td>\n",
       "      <td>interface_eu_test</td>\n",
       "      <td>Android</td>\n",
       "    </tr>\n",
       "    <tr>\n",
       "      <th>3</th>\n",
       "      <td>0010A1C096941592</td>\n",
       "      <td>A</td>\n",
       "      <td>recommender_system_test</td>\n",
       "      <td>Android</td>\n",
       "    </tr>\n",
       "    <tr>\n",
       "      <th>4</th>\n",
       "      <td>001E72F50D1C48FA</td>\n",
       "      <td>A</td>\n",
       "      <td>interface_eu_test</td>\n",
       "      <td>Mac</td>\n",
       "    </tr>\n",
       "  </tbody>\n",
       "</table>\n",
       "</div>"
      ],
      "text/plain": [
       "            user_id group                  ab_test   device\n",
       "0  0002CE61FF2C4011     B        interface_eu_test      Mac\n",
       "1  001064FEAAB631A1     B  recommender_system_test  Android\n",
       "2  001064FEAAB631A1     A        interface_eu_test  Android\n",
       "3  0010A1C096941592     A  recommender_system_test  Android\n",
       "4  001E72F50D1C48FA     A        interface_eu_test      Mac"
      ]
     },
     "execution_count": 52,
     "metadata": {},
     "output_type": "execute_result"
    }
   ],
   "source": [
    "# Загрузка CSV-файла с участниками теста\n",
    "participants_df = pd.read_csv(\"https://code.s3.yandex.net/datasets/ab_test_participants.csv\")\n",
    "\n",
    "# Выводим первые строки\n",
    "participants_df.head()"
   ]
  },
  {
   "cell_type": "markdown",
   "id": "4d508d97-8216-46b9-9008-6df1b0ea00d4",
   "metadata": {},
   "source": [
    "### Проверка данных на дубликаты и пропуски\n",
    "\n",
    "Прежде чем приступать к объединению и анализу, проверим оба датасета на наличие:\n",
    "\n",
    "- дубликатов,\n",
    "- пропущенных значений.\n",
    "\n",
    "Это поможет убедиться, что данные корректны и не содержат артефактов, способных исказить результаты A/B-теста.\n"
   ]
  },
  {
   "cell_type": "code",
   "execution_count": 54,
   "id": "ad61c560-89f5-4f52-8c02-74e478f34460",
   "metadata": {},
   "outputs": [
    {
     "name": "stdout",
     "output_type": "stream",
     "text": [
      "📋 Участники A/B-теста:\n",
      "Дубликаты по user_id: 887\n",
      "Пропуски:\n",
      " user_id    0\n",
      "group      0\n",
      "ab_test    0\n",
      "device     0\n",
      "dtype: int64\n",
      "\n",
      "📋 События пользователей:\n",
      "Дубликаты по строкам: 36318\n",
      "Пропуски:\n",
      " user_id            0\n",
      "event_dt           0\n",
      "event_name         0\n",
      "details       538264\n",
      "dtype: int64\n"
     ]
    }
   ],
   "source": [
    "# Проверка таблицы участников\n",
    "print(\"📋 Участники A/B-теста:\")\n",
    "print(\"Дубликаты по user_id:\", participants_df.duplicated(subset='user_id').sum())\n",
    "print(\"Пропуски:\\n\", participants_df.isna().sum())\n",
    "\n",
    "# Проверка таблицы событий\n",
    "print(\"\\n📋 События пользователей:\")\n",
    "print(\"Дубликаты по строкам:\", events_df.duplicated().sum())\n",
    "print(\"Пропуски:\\n\", events_df.isna().sum())"
   ]
  },
  {
   "cell_type": "markdown",
   "id": "9046405b-85ff-4966-b513-4977cd77a18f",
   "metadata": {},
   "source": [
    "## ✅ Результаты проверки на дубликаты и пропуски\n",
    "\n",
    "**📋 Участники A/B-теста (`ab_test_participants.csv`):**\n",
    "- Найдено **887 дубликатов по `user_id`**, необходимо оставить только первую запись;\n",
    "- Пропущенные значения отсутствуют.\n",
    "\n",
    "**📋 События пользователей (`ab_test_events.csv`):**\n",
    "- Обнаружено **36 318 полных дубликатов строк** — они подлежат удалению;\n",
    "- Пропуски есть только в поле `details` — это допустимо, так как оно содержит необязательную дополнительную информацию.\n",
    "\n",
    "📌 Сделан вывод, что данные можно использовать для анализа после очистки от дубликатов и фильтрации по нужному тесту.\n",
    "___"
   ]
  },
  {
   "cell_type": "markdown",
   "id": "f76c446c-e0d1-4578-ba38-4f99195ee91b",
   "metadata": {},
   "source": [
    "## Предобработка данных\n",
    "\n",
    "Перед анализом необходимо убедиться, что данные подготовлены корректно. Для этого:\n",
    "\n",
    "- 📌 Проверим, что **каждый пользователь участвует только в одной группе** теста — A или B. Если пользователь попал в обе группы, его данные нужно исключить.\n",
    "- 🔍 Отфильтруем данные только по нужному A/B-тесту — `interface_eu_test`.\n",
    "- 🔗 Объединим события с участниками теста.\n",
    "- ✅ Убедимся, что анализируем только события, произошедшие **после регистрации** пользователя.\n",
    "\n",
    "После этих шагов мы получим чистые данные, подходящие для анализа результатов A/B-теста.\n"
   ]
  },
  {
   "cell_type": "code",
   "execution_count": 57,
   "id": "b57e3265",
   "metadata": {},
   "outputs": [
    {
     "name": "stdout",
     "output_type": "stream",
     "text": [
      "Уникальных участников: 10850\n",
      "Событий после фильтрации: 73545\n"
     ]
    }
   ],
   "source": [
    "# 1. Удалим полные дубликаты из таблицы событий\n",
    "events_df = events_df.drop_duplicates()\n",
    "\n",
    "# 2. Оставим участников только теста interface_eu_test\n",
    "participants_filtered = participants_df[participants_df['ab_test'] == 'interface_eu_test']\n",
    "\n",
    "# 3. Фильтруем события по этим участникам\n",
    "events_filtered = events_df[events_df['user_id'].isin(participants_filtered['user_id'])].copy()\n",
    "\n",
    "# Проверим результат\n",
    "print(f\"Уникальных участников: {participants_filtered['user_id'].nunique()}\")\n",
    "print(f\"Событий после фильтрации: {events_filtered.shape[0]}\")\n"
   ]
  },
  {
   "cell_type": "markdown",
   "id": "dc8982cd-8be7-48ee-9d06-1489ae90b4b1",
   "metadata": {},
   "source": [
    "## 🔎 Проверка корректности: уникальность распределения по группам\n",
    "\n",
    "Важно убедиться, что **каждый пользователь участвует только в одной группе** A/B-теста. Если один и тот же `user_id` попал в обе группы, это нарушает условия эксперимента и делает результаты недостоверными.\n"
   ]
  },
  {
   "cell_type": "code",
   "execution_count": 59,
   "id": "9bd5bd69-4b37-479e-989c-89358ae4306c",
   "metadata": {},
   "outputs": [
    {
     "name": "stdout",
     "output_type": "stream",
     "text": [
      "Найдено пересечений внутри B: 116 пользователей\n",
      "Уникальных участников после фильтрации participants_filtered: 10734\n"
     ]
    }
   ],
   "source": [
    "# Сначала оставляем из полного participants_df только группу B\n",
    "b_only = participants_df[participants_df['group'] == 'B']\n",
    "\n",
    "# Находим пользователей, которые в группе B участвовали в более чем одном тесте\n",
    "overlap_users = (\n",
    "    b_only\n",
    "    .groupby('user_id')['ab_test']\n",
    "    .nunique()\n",
    "    .loc[lambda x: x > 1]\n",
    "    .index\n",
    ")\n",
    "print(f\"Найдено пересечений внутри B: {len(overlap_users)} пользователей\")\n",
    "\n",
    "# Фильтруем participants_filtered и events_filtered\n",
    "participants_filtered = participants_filtered[\n",
    "    ~participants_filtered['user_id'].isin(overlap_users)\n",
    "].copy()\n",
    "events_filtered = events_filtered[\n",
    "    ~events_filtered['user_id'].isin(overlap_users)\n",
    "].copy()\n",
    "\n",
    "# Контроль размерности после фильтрации\n",
    "print(\"Уникальных участников после фильтрации participants_filtered:\", \n",
    "      participants_filtered['user_id'].nunique())"
   ]
  },
  {
   "cell_type": "markdown",
   "id": "14486732-f5c1-4753-9918-b8250cb5145d",
   "metadata": {},
   "source": [
    "___\n",
    "## Расчёт конверсии в покупку за 7 дней после регистрации\n",
    "\n",
    "В рамках анализа необходимо определить, сколько пользователей из каждой группы совершили покупку в течение **семи дней после регистрации**.\n",
    "\n",
    "Шаги:\n",
    "1. Определить дату регистрации для каждого пользователя;\n",
    "2. Отфильтровать события, произошедшие **в течение 7 дней** после регистрации;\n",
    "3. Проверить, совершал ли пользователь событие `purchase`;\n",
    "4. Посчитать конверсию по группам A и B.\n"
   ]
  },
  {
   "cell_type": "code",
   "execution_count": 71,
   "id": "f6575793",
   "metadata": {},
   "outputs": [
    {
     "name": "stdout",
     "output_type": "stream",
     "text": [
      "Уникальных участников: 10734\n",
      "Покупок в первые 7 дней: 3059\n",
      "Уникальных участников в группе A: 5383\n",
      "Уникальных участников в группе B: 5351\n"
     ]
    }
   ],
   "source": [
    "# Приводим к datetime\n",
    "events_filtered['event_dt'] = pd.to_datetime(events_filtered['event_dt'])\n",
    "\n",
    "# Получаем дату первой регистрации\n",
    "regs = (\n",
    "    events_filtered[events_filtered['event_name'] == 'registration']\n",
    "    .sort_values('event_dt')\n",
    "    .drop_duplicates('user_id', keep='first')\n",
    "    .rename(columns={'event_dt': 'reg_dt'})\n",
    ")\n",
    "\n",
    "# Мёржим и фильтруем покупки в период [reg_dt, reg_dt + 7 дней]\n",
    "df_merged = events_filtered.merge(regs[['user_id','reg_dt']], on='user_id')\n",
    "mask = (\n",
    "    (df_merged['event_name'] == 'purchase') &\n",
    "    (df_merged['event_dt'] >= df_merged['reg_dt']) &\n",
    "    (df_merged['event_dt'] <= df_merged['reg_dt'] + pd.Timedelta(days=7))\n",
    ")\n",
    "purchases_7d = df_merged.loc[mask, ['user_id']].drop_duplicates()\n",
    "\n",
    "# Финальная таблица с флагом\n",
    "participants_7d = (\n",
    "    participants_filtered\n",
    "    .merge(purchases_7d.assign(converted_7d=1), on='user_id', how='left')\n",
    "    .fillna({'converted_7d': 0})\n",
    ")\n",
    "participants_7d['converted_7d'] = participants_7d['converted_7d'].astype(int)\n",
    "\n",
    "# Проверка общего результата\n",
    "print(\"Уникальных участников:\", participants_7d['user_id'].nunique())\n",
    "print(\"Покупок в первые 7 дней:\", participants_7d['converted_7d'].sum())\n",
    "\n",
    "# Размерности выборок по группам\n",
    "group_counts = participants_7d.groupby('group')['user_id'].nunique()\n",
    "print(f\"Уникальных участников в группе A: {group_counts['A']}\")\n",
    "print(f\"Уникальных участников в группе B: {group_counts['B']}\")\n"
   ]
  },
  {
   "cell_type": "markdown",
   "id": "d47b96d1-c6b9-4a65-b17d-cdf39e704881",
   "metadata": {},
   "source": [
    "### 📊 Вывод: проверка размеров выборок\n",
    "\n",
    "- В группе **A** — 5 383 пользователя  \n",
    "- В группе **B** — 5 351 пользователей  \n",
    "- Разница между группами составляет ≈ 0.05 %, что **меньше допустимого порога в 25 %**\n",
    "\n",
    "✅ **Вывод:**  \n",
    "Выборки сбалансированы, различие в размерах незначительное.  \n",
    "Это позволяет применять как **параметрические**, так и **непараметрические** методы при анализе.  \n"
   ]
  },
  {
   "cell_type": "markdown",
   "id": "a42d14e0-fc5c-4e44-9ac3-4fcdeb466c1d",
   "metadata": {},
   "source": [
    "## Проверка гипотезы о различии конверсии\n",
    "\n",
    "**H₀ (нулевая гипотеза):**  \n",
    "Конверсия в покупку в группе B **не выше**, чем в группе A.  \n",
    "> p_B ≤ p_A\n",
    "\n",
    "**H₁ (альтернативная гипотеза):**  \n",
    "Конверсия в группе B **выше**, чем в группе A.  \n",
    "> p_B > p_A\n",
    "\n",
    "🧪 Применим **односторонний t-test для долей** (или z-test) — так как нас интересует только рост."
   ]
  },
  {
   "cell_type": "code",
   "execution_count": 74,
   "id": "9f2787ab-ca12-48e7-8e0c-3821e6752834",
   "metadata": {},
   "outputs": [
    {
     "name": "stdout",
     "output_type": "stream",
     "text": [
      "Конверсия B = 29.509%, A = 27.494%\n",
      "Разница (B−A) = 2.015%\n",
      "Z-статистика = 2.312, p-value (one-sided) = 0.0104\n",
      "📈 Отвергаем H₀: Конверсия в группе B статистически выше, чем в группе A.\n"
     ]
    }
   ],
   "source": [
    "# Исправленный односторонний Z-тест (B > A) с корректной интерпретацией\n",
    "# Собираем успехи (B, A) и объемы (B, A)\n",
    "counts = participants_7d.groupby('group')['converted_7d'].sum().loc[['B', 'A']].values\n",
    "nobs   = participants_7d.groupby('group')['converted_7d'].count().loc[['B', 'A']].values\n",
    "\n",
    "# Проводим односторонний тест: H1 — конверсия в B выше, чем в A\n",
    "z_stat, p_val = proportions_ztest(count=counts, nobs=nobs, alternative='larger')\n",
    "\n",
    "# Печать результатов\n",
    "p_B = counts[0] / nobs[0]\n",
    "p_A = counts[1] / nobs[1]\n",
    "diff = p_B - p_A\n",
    "\n",
    "print(f\"Конверсия B = {p_B:.3%}, A = {p_A:.3%}\")\n",
    "print(f\"Разница (B−A) = {diff:.3%}\")\n",
    "print(f\"Z-статистика = {z_stat:.3f}, p-value (one-sided) = {p_val:.4f}\")\n",
    "\n",
    "alpha = 0.05\n",
    "if p_val < alpha:\n",
    "    print(\"📈 Отвергаем H₀: Конверсия в группе B статистически выше, чем в группе A.\")\n",
    "else:\n",
    "    print(\"📉 Нет оснований отвергнуть H₀: статистически значимых различий не найдено.\")"
   ]
  },
  {
   "cell_type": "markdown",
   "id": "207abd14-5082-4ae5-a52f-15cd4a044043",
   "metadata": {},
   "source": [
    "## 📊 Вывод (односторонний тест B > A)\n",
    "\n",
    "- Конверсия B = 29.509 %, A = 27.494 %  \n",
    "- Абсолютная разница = +2.015 п.п.  \n",
    "- Z-статистика = 2.312  \n",
    "- p-value (one-sided) = 0.0104 (< 0.05)  \n",
    "📈 **Отвергаем H₀:** конверсия в группе B статистически выше, чем в группе A.  "
   ]
  },
  {
   "cell_type": "markdown",
   "id": "62d7a911-92bf-414d-a0f3-1fd6029ad9c8",
   "metadata": {},
   "source": [
    "## 📊 Вывод (односторонний тест B > A)\n",
    "\n",
    "- Конверсия B = 29.509 %, A = 27.494 %  \n",
    "- Абсолютная разница = +2.015 п.п.  \n",
    "- Z-статистика = 2.312  \n",
    "- p-value (one-sided) = 0.0104 (< 0.05)  \n",
    "\n",
    "📈 **Отвергаем H₀:** конверсия в группе B статистически выше, чем в группе A.\n",
    "\n",
    "---\n",
    "\n",
    "### 🧠 Что это значит для бизнеса:\n",
    "- Новый интерфейс действительно повышает конверсию.  \n",
    "- Рекомендуется внедрение обновлённого интерфейса для всех пользователей.  \n",
    "- Ожидается рост количества покупок и выручки после запуска.  "
   ]
  }
 ],
 "metadata": {
  "ExecuteTimeLog": [
   {
    "duration": 1600,
    "start_time": "2025-04-15T13:40:15.907Z"
   },
   {
    "duration": 799,
    "start_time": "2025-04-15T13:40:17.509Z"
   },
   {
    "duration": 7,
    "start_time": "2025-04-15T13:40:18.310Z"
   },
   {
    "duration": 8,
    "start_time": "2025-04-15T13:40:18.319Z"
   },
   {
    "duration": 13,
    "start_time": "2025-04-15T13:40:18.329Z"
   },
   {
    "duration": 33,
    "start_time": "2025-04-15T13:40:18.344Z"
   },
   {
    "duration": 1557,
    "start_time": "2025-04-15T14:10:13.635Z"
   },
   {
    "duration": 103,
    "start_time": "2025-04-15T14:10:15.194Z"
   },
   {
    "duration": 5,
    "start_time": "2025-04-15T14:10:15.299Z"
   },
   {
    "duration": 39,
    "start_time": "2025-04-15T14:10:15.306Z"
   },
   {
    "duration": 52,
    "start_time": "2025-04-15T14:10:15.347Z"
   },
   {
    "duration": 15,
    "start_time": "2025-04-15T14:10:15.401Z"
   },
   {
    "duration": 1534,
    "start_time": "2025-04-15T14:20:43.360Z"
   },
   {
    "duration": 63,
    "start_time": "2025-04-15T14:20:44.896Z"
   },
   {
    "duration": 6,
    "start_time": "2025-04-15T14:20:44.961Z"
   },
   {
    "duration": 35,
    "start_time": "2025-04-15T14:20:44.969Z"
   },
   {
    "duration": 24,
    "start_time": "2025-04-15T14:20:45.006Z"
   },
   {
    "duration": 50,
    "start_time": "2025-04-15T14:20:45.032Z"
   },
   {
    "duration": 58,
    "start_time": "2025-04-15T14:20:45.084Z"
   },
   {
    "duration": 1358,
    "start_time": "2025-04-16T15:04:45.858Z"
   },
   {
    "duration": 469,
    "start_time": "2025-04-16T15:04:47.219Z"
   },
   {
    "duration": 4,
    "start_time": "2025-04-16T15:04:47.690Z"
   },
   {
    "duration": 31,
    "start_time": "2025-04-16T15:04:47.697Z"
   },
   {
    "duration": 30,
    "start_time": "2025-04-16T15:04:47.731Z"
   },
   {
    "duration": 48,
    "start_time": "2025-04-16T15:04:47.763Z"
   },
   {
    "duration": 24,
    "start_time": "2025-04-16T15:04:47.812Z"
   },
   {
    "duration": 8,
    "start_time": "2025-04-16T15:04:47.837Z"
   },
   {
    "duration": 172,
    "start_time": "2025-04-16T15:04:47.847Z"
   },
   {
    "duration": 23,
    "start_time": "2025-04-16T15:04:48.020Z"
   },
   {
    "duration": 59,
    "start_time": "2025-04-16T15:04:48.044Z"
   },
   {
    "duration": 1263,
    "start_time": "2025-04-16T15:04:48.104Z"
   },
   {
    "duration": 100,
    "start_time": "2025-04-16T15:04:49.369Z"
   },
   {
    "duration": 642,
    "start_time": "2025-04-16T15:04:49.472Z"
   },
   {
    "duration": 8,
    "start_time": "2025-04-16T15:04:50.116Z"
   },
   {
    "duration": 22,
    "start_time": "2025-04-16T15:04:50.125Z"
   },
   {
    "duration": 941,
    "start_time": "2025-04-16T15:04:50.149Z"
   },
   {
    "duration": 49,
    "start_time": "2025-04-16T15:04:51.092Z"
   },
   {
    "duration": 59,
    "start_time": "2025-04-16T15:04:51.143Z"
   },
   {
    "duration": 82,
    "start_time": "2025-04-16T15:04:51.205Z"
   },
   {
    "duration": 5,
    "start_time": "2025-04-16T15:05:02.461Z"
   },
   {
    "duration": 6,
    "start_time": "2025-04-16T15:05:13.205Z"
   },
   {
    "duration": 7,
    "start_time": "2025-04-16T15:05:21.421Z"
   },
   {
    "duration": 21,
    "start_time": "2025-04-16T15:05:23.286Z"
   },
   {
    "duration": 6,
    "start_time": "2025-04-16T15:05:36.125Z"
   },
   {
    "duration": 124,
    "start_time": "2025-04-16T15:05:45.629Z"
   },
   {
    "duration": 19,
    "start_time": "2025-04-16T15:05:51.542Z"
   },
   {
    "duration": 1420,
    "start_time": "2025-04-18T21:48:27.459Z"
   },
   {
    "duration": 74,
    "start_time": "2025-04-18T21:48:28.881Z"
   },
   {
    "duration": 4,
    "start_time": "2025-04-18T21:48:28.957Z"
   },
   {
    "duration": 17,
    "start_time": "2025-04-18T21:48:28.962Z"
   },
   {
    "duration": 14,
    "start_time": "2025-04-18T21:48:28.981Z"
   },
   {
    "duration": 22,
    "start_time": "2025-04-18T21:48:28.996Z"
   },
   {
    "duration": 19,
    "start_time": "2025-04-18T21:48:29.020Z"
   },
   {
    "duration": 278,
    "start_time": "2025-04-18T21:48:29.041Z"
   },
   {
    "duration": 35,
    "start_time": "2025-04-18T21:48:29.321Z"
   },
   {
    "duration": 10,
    "start_time": "2025-04-18T21:48:29.358Z"
   },
   {
    "duration": 71,
    "start_time": "2025-04-18T21:48:29.370Z"
   },
   {
    "duration": 1477,
    "start_time": "2025-04-18T21:48:29.443Z"
   },
   {
    "duration": 60,
    "start_time": "2025-04-18T21:48:30.921Z"
   },
   {
    "duration": 633,
    "start_time": "2025-04-18T21:48:30.984Z"
   },
   {
    "duration": 573,
    "start_time": "2025-04-18T21:48:31.619Z"
   },
   {
    "duration": 23,
    "start_time": "2025-04-18T21:48:32.194Z"
   },
   {
    "duration": 81,
    "start_time": "2025-04-18T21:48:32.219Z"
   },
   {
    "duration": 916,
    "start_time": "2025-04-18T21:48:32.302Z"
   },
   {
    "duration": 99,
    "start_time": "2025-04-18T21:48:33.220Z"
   },
   {
    "duration": 158,
    "start_time": "2025-04-18T21:48:33.321Z"
   },
   {
    "duration": 0,
    "start_time": "2025-04-18T21:48:33.481Z"
   },
   {
    "duration": 25,
    "start_time": "2025-04-18T21:48:49.427Z"
   },
   {
    "duration": 25,
    "start_time": "2025-04-18T21:48:51.952Z"
   },
   {
    "duration": 1162,
    "start_time": "2025-04-22T09:30:22.696Z"
   },
   {
    "duration": 100,
    "start_time": "2025-04-22T09:30:23.861Z"
   },
   {
    "duration": 4,
    "start_time": "2025-04-22T09:30:23.962Z"
   },
   {
    "duration": 11,
    "start_time": "2025-04-22T09:30:23.967Z"
   },
   {
    "duration": 21,
    "start_time": "2025-04-22T09:30:23.980Z"
   },
   {
    "duration": 10,
    "start_time": "2025-04-22T09:30:24.002Z"
   },
   {
    "duration": 25,
    "start_time": "2025-04-22T09:30:24.013Z"
   },
   {
    "duration": 187,
    "start_time": "2025-04-22T09:30:24.039Z"
   },
   {
    "duration": 43,
    "start_time": "2025-04-22T09:30:24.227Z"
   },
   {
    "duration": 9,
    "start_time": "2025-04-22T09:30:24.272Z"
   },
   {
    "duration": 50,
    "start_time": "2025-04-22T09:30:24.283Z"
   },
   {
    "duration": 1308,
    "start_time": "2025-04-22T09:30:24.334Z"
   },
   {
    "duration": 81,
    "start_time": "2025-04-22T09:30:25.644Z"
   },
   {
    "duration": 610,
    "start_time": "2025-04-22T09:30:25.727Z"
   },
   {
    "duration": 543,
    "start_time": "2025-04-22T09:30:26.339Z"
   },
   {
    "duration": 10,
    "start_time": "2025-04-22T09:30:26.883Z"
   },
   {
    "duration": 25,
    "start_time": "2025-04-22T09:30:26.895Z"
   },
   {
    "duration": 9,
    "start_time": "2025-04-22T09:30:26.922Z"
   },
   {
    "duration": 1172,
    "start_time": "2025-04-22T09:31:31.404Z"
   },
   {
    "duration": 57,
    "start_time": "2025-04-22T09:31:32.578Z"
   },
   {
    "duration": 4,
    "start_time": "2025-04-22T09:31:32.636Z"
   },
   {
    "duration": 6,
    "start_time": "2025-04-22T09:31:32.643Z"
   },
   {
    "duration": 23,
    "start_time": "2025-04-22T09:31:32.651Z"
   },
   {
    "duration": 21,
    "start_time": "2025-04-22T09:31:32.676Z"
   },
   {
    "duration": 24,
    "start_time": "2025-04-22T09:31:32.699Z"
   },
   {
    "duration": 199,
    "start_time": "2025-04-22T09:31:32.725Z"
   },
   {
    "duration": 42,
    "start_time": "2025-04-22T09:31:32.926Z"
   },
   {
    "duration": 8,
    "start_time": "2025-04-22T09:31:32.971Z"
   },
   {
    "duration": 63,
    "start_time": "2025-04-22T09:31:32.981Z"
   },
   {
    "duration": 1339,
    "start_time": "2025-04-22T09:31:33.045Z"
   },
   {
    "duration": 66,
    "start_time": "2025-04-22T09:31:34.386Z"
   },
   {
    "duration": 552,
    "start_time": "2025-04-22T09:31:34.454Z"
   },
   {
    "duration": 539,
    "start_time": "2025-04-22T09:31:35.008Z"
   },
   {
    "duration": 15,
    "start_time": "2025-04-22T09:31:35.548Z"
   },
   {
    "duration": 57,
    "start_time": "2025-04-22T09:31:35.565Z"
   },
   {
    "duration": 10,
    "start_time": "2025-04-22T09:31:35.624Z"
   },
   {
    "duration": 880,
    "start_time": "2025-04-22T09:31:35.636Z"
   },
   {
    "duration": 102,
    "start_time": "2025-04-22T09:31:36.517Z"
   },
   {
    "duration": 42,
    "start_time": "2025-04-22T09:31:36.621Z"
   },
   {
    "duration": 6,
    "start_time": "2025-04-22T09:31:36.665Z"
   },
   {
    "duration": 4,
    "start_time": "2025-04-22T09:31:52.066Z"
   },
   {
    "duration": 28,
    "start_time": "2025-04-23T13:28:11.572Z"
   }
  ],
  "kernelspec": {
   "display_name": "Python [conda env:base] *",
   "language": "python",
   "name": "conda-base-py"
  },
  "language_info": {
   "codemirror_mode": {
    "name": "ipython",
    "version": 3
   },
   "file_extension": ".py",
   "mimetype": "text/x-python",
   "name": "python",
   "nbconvert_exporter": "python",
   "pygments_lexer": "ipython3",
   "version": "3.12.7"
  },
  "toc": {
   "base_numbering": 1,
   "nav_menu": {},
   "number_sections": true,
   "sideBar": true,
   "skip_h1_title": true,
   "title_cell": "Table of Contents",
   "title_sidebar": "Contents",
   "toc_cell": false,
   "toc_position": {},
   "toc_section_display": true,
   "toc_window_display": false
  }
 },
 "nbformat": 4,
 "nbformat_minor": 5
}
