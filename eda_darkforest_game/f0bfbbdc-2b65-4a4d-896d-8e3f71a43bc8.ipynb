{
 "cells": [
  {
   "cell_type": "markdown",
   "id": "ca683a92-549b-4cc5-93e3-96d0fb664535",
   "metadata": {},
   "source": [
    "# Проект спринта"
   ]
  },
  {
   "cell_type": "markdown",
   "id": "7961e2c0-36e0-4b25-9a69-2ccbad8e4e43",
   "metadata": {},
   "source": [
    "## Анализ данных игры \"Секреты Темнолесья\""
   ]
  },
  {
   "cell_type": "markdown",
   "id": "9d14e60c-8937-4009-8b45-ba3ce8a95f98",
   "metadata": {},
   "source": [
    "**Цель: Узнать топ 7 платформ на которых выпускались игры в период с 2000 до 2013 года и привести данные в читаемый вид**"
   ]
  },
  {
   "cell_type": "markdown",
   "id": "daaa9f18-51f2-44c2-b6f0-986ba8ea86e1",
   "metadata": {},
   "source": [
    "### Знакомсво с данными"
   ]
  },
  {
   "cell_type": "code",
   "execution_count": 7,
   "id": "c86a7e8e-b30a-4538-bfd1-893410f5fe12",
   "metadata": {},
   "outputs": [],
   "source": [
    "# Подключаем библиотеку pandas\n",
    "import pandas as pd\n",
    "# Подключаем библиотеку numpy\n",
    "import numpy as np"
   ]
  },
  {
   "cell_type": "code",
   "execution_count": 8,
   "id": "0bc3e14d-dbba-4aa4-8338-89dd332ca303",
   "metadata": {},
   "outputs": [],
   "source": [
    "# Выгружаем данные из датасета hotel_dataset.csv в датафрейм games\n",
    "games = pd.read_csv('https://code.s3.yandex.net/datasets/new_games.csv')"
   ]
  },
  {
   "cell_type": "code",
   "execution_count": 9,
   "id": "f854ae30-25d6-4a9c-b5ae-2a5034f7c53d",
   "metadata": {},
   "outputs": [
    {
     "name": "stdout",
     "output_type": "stream",
     "text": [
      "<class 'pandas.core.frame.DataFrame'>\n",
      "RangeIndex: 16956 entries, 0 to 16955\n",
      "Data columns (total 11 columns):\n",
      " #   Column           Non-Null Count  Dtype  \n",
      "---  ------           --------------  -----  \n",
      " 0   Name             16954 non-null  object \n",
      " 1   Platform         16956 non-null  object \n",
      " 2   Year of Release  16681 non-null  float64\n",
      " 3   Genre            16954 non-null  object \n",
      " 4   NA sales         16956 non-null  float64\n",
      " 5   EU sales         16956 non-null  object \n",
      " 6   JP sales         16956 non-null  object \n",
      " 7   Other sales      16956 non-null  float64\n",
      " 8   Critic Score     8242 non-null   float64\n",
      " 9   User Score       10152 non-null  object \n",
      " 10  Rating           10085 non-null  object \n",
      "dtypes: float64(4), object(7)\n",
      "memory usage: 1.4+ MB\n",
      "None\n",
      "Кол-во строк датафрейма до предобработкаи данных 16956\n"
     ]
    }
   ],
   "source": [
    "# Выводим информацию о датафрейме\n",
    "print(games.info())\n",
    "\n",
    "# Сохраним объем датафрейма в отдельной переменной для сравления после удаления дубликатов и пустых строк\n",
    "total_rows = games.shape[0]\n",
    "print(f'Кол-во строк датафрейма до предобработкаи данных {total_rows}')"
   ]
  },
  {
   "cell_type": "markdown",
   "id": "e3767f3c-9165-48a0-8197-e351f6674342",
   "metadata": {},
   "source": [
    "Информация о данных:\n",
    "1. Датафрейм содержит 10 столбцов\n",
    "2. Датафрем содержит 16 956 строчек\n",
    "3. Данные в датафреме двух типов: *object* и *float64*\n",
    "4. Столбец Critic Score - содержит наибольшее количество пропусков"
   ]
  },
  {
   "cell_type": "code",
   "execution_count": 12,
   "id": "c7a33cd7-b7d7-4803-89c1-a270005a747a",
   "metadata": {},
   "outputs": [
    {
     "data": {
      "text/html": [
       "<div>\n",
       "<style scoped>\n",
       "    .dataframe tbody tr th:only-of-type {\n",
       "        vertical-align: middle;\n",
       "    }\n",
       "\n",
       "    .dataframe tbody tr th {\n",
       "        vertical-align: top;\n",
       "    }\n",
       "\n",
       "    .dataframe thead th {\n",
       "        text-align: right;\n",
       "    }\n",
       "</style>\n",
       "<table border=\"1\" class=\"dataframe\">\n",
       "  <thead>\n",
       "    <tr style=\"text-align: right;\">\n",
       "      <th></th>\n",
       "      <th>Name</th>\n",
       "      <th>Platform</th>\n",
       "      <th>Year of Release</th>\n",
       "      <th>Genre</th>\n",
       "      <th>NA sales</th>\n",
       "      <th>EU sales</th>\n",
       "      <th>JP sales</th>\n",
       "      <th>Other sales</th>\n",
       "      <th>Critic Score</th>\n",
       "      <th>User Score</th>\n",
       "      <th>Rating</th>\n",
       "    </tr>\n",
       "  </thead>\n",
       "  <tbody>\n",
       "    <tr>\n",
       "      <th>0</th>\n",
       "      <td>Wii Sports</td>\n",
       "      <td>Wii</td>\n",
       "      <td>2006.0</td>\n",
       "      <td>Sports</td>\n",
       "      <td>41.36</td>\n",
       "      <td>28.96</td>\n",
       "      <td>3.77</td>\n",
       "      <td>8.45</td>\n",
       "      <td>76.0</td>\n",
       "      <td>8</td>\n",
       "      <td>E</td>\n",
       "    </tr>\n",
       "    <tr>\n",
       "      <th>1</th>\n",
       "      <td>Super Mario Bros.</td>\n",
       "      <td>NES</td>\n",
       "      <td>1985.0</td>\n",
       "      <td>Platform</td>\n",
       "      <td>29.08</td>\n",
       "      <td>3.58</td>\n",
       "      <td>6.81</td>\n",
       "      <td>0.77</td>\n",
       "      <td>NaN</td>\n",
       "      <td>NaN</td>\n",
       "      <td>NaN</td>\n",
       "    </tr>\n",
       "    <tr>\n",
       "      <th>2</th>\n",
       "      <td>Mario Kart Wii</td>\n",
       "      <td>Wii</td>\n",
       "      <td>2008.0</td>\n",
       "      <td>Racing</td>\n",
       "      <td>15.68</td>\n",
       "      <td>12.76</td>\n",
       "      <td>3.79</td>\n",
       "      <td>3.29</td>\n",
       "      <td>82.0</td>\n",
       "      <td>8.3</td>\n",
       "      <td>E</td>\n",
       "    </tr>\n",
       "    <tr>\n",
       "      <th>3</th>\n",
       "      <td>Wii Sports Resort</td>\n",
       "      <td>Wii</td>\n",
       "      <td>2009.0</td>\n",
       "      <td>Sports</td>\n",
       "      <td>15.61</td>\n",
       "      <td>10.93</td>\n",
       "      <td>3.28</td>\n",
       "      <td>2.95</td>\n",
       "      <td>80.0</td>\n",
       "      <td>8</td>\n",
       "      <td>E</td>\n",
       "    </tr>\n",
       "    <tr>\n",
       "      <th>4</th>\n",
       "      <td>Pokemon Red/Pokemon Blue</td>\n",
       "      <td>GB</td>\n",
       "      <td>1996.0</td>\n",
       "      <td>Role-Playing</td>\n",
       "      <td>11.27</td>\n",
       "      <td>8.89</td>\n",
       "      <td>10.22</td>\n",
       "      <td>1.00</td>\n",
       "      <td>NaN</td>\n",
       "      <td>NaN</td>\n",
       "      <td>NaN</td>\n",
       "    </tr>\n",
       "  </tbody>\n",
       "</table>\n",
       "</div>"
      ],
      "text/plain": [
       "                       Name Platform  Year of Release         Genre  NA sales  \\\n",
       "0                Wii Sports      Wii           2006.0        Sports     41.36   \n",
       "1         Super Mario Bros.      NES           1985.0      Platform     29.08   \n",
       "2            Mario Kart Wii      Wii           2008.0        Racing     15.68   \n",
       "3         Wii Sports Resort      Wii           2009.0        Sports     15.61   \n",
       "4  Pokemon Red/Pokemon Blue       GB           1996.0  Role-Playing     11.27   \n",
       "\n",
       "  EU sales JP sales  Other sales  Critic Score User Score Rating  \n",
       "0    28.96     3.77         8.45          76.0          8      E  \n",
       "1     3.58     6.81         0.77           NaN        NaN    NaN  \n",
       "2    12.76     3.79         3.29          82.0        8.3      E  \n",
       "3    10.93     3.28         2.95          80.0          8      E  \n",
       "4     8.89    10.22         1.00           NaN        NaN    NaN  "
      ]
     },
     "metadata": {},
     "output_type": "display_data"
    },
    {
     "data": {
      "text/html": [
       "<div>\n",
       "<style scoped>\n",
       "    .dataframe tbody tr th:only-of-type {\n",
       "        vertical-align: middle;\n",
       "    }\n",
       "\n",
       "    .dataframe tbody tr th {\n",
       "        vertical-align: top;\n",
       "    }\n",
       "\n",
       "    .dataframe thead th {\n",
       "        text-align: right;\n",
       "    }\n",
       "</style>\n",
       "<table border=\"1\" class=\"dataframe\">\n",
       "  <thead>\n",
       "    <tr style=\"text-align: right;\">\n",
       "      <th></th>\n",
       "      <th>Name</th>\n",
       "      <th>Platform</th>\n",
       "      <th>Year of Release</th>\n",
       "      <th>Genre</th>\n",
       "      <th>NA sales</th>\n",
       "      <th>EU sales</th>\n",
       "      <th>JP sales</th>\n",
       "      <th>Other sales</th>\n",
       "      <th>Critic Score</th>\n",
       "      <th>User Score</th>\n",
       "      <th>Rating</th>\n",
       "    </tr>\n",
       "  </thead>\n",
       "  <tbody>\n",
       "    <tr>\n",
       "      <th>16951</th>\n",
       "      <td>Samurai Warriors: Sanada Maru</td>\n",
       "      <td>PS3</td>\n",
       "      <td>2016.0</td>\n",
       "      <td>Action</td>\n",
       "      <td>0.00</td>\n",
       "      <td>0.0</td>\n",
       "      <td>0.01</td>\n",
       "      <td>0.0</td>\n",
       "      <td>NaN</td>\n",
       "      <td>NaN</td>\n",
       "      <td>NaN</td>\n",
       "    </tr>\n",
       "    <tr>\n",
       "      <th>16952</th>\n",
       "      <td>LMA Manager 2007</td>\n",
       "      <td>X360</td>\n",
       "      <td>2006.0</td>\n",
       "      <td>Sports</td>\n",
       "      <td>0.00</td>\n",
       "      <td>0.01</td>\n",
       "      <td>0.0</td>\n",
       "      <td>0.0</td>\n",
       "      <td>NaN</td>\n",
       "      <td>NaN</td>\n",
       "      <td>NaN</td>\n",
       "    </tr>\n",
       "    <tr>\n",
       "      <th>16953</th>\n",
       "      <td>Haitaka no Psychedelica</td>\n",
       "      <td>PSV</td>\n",
       "      <td>2016.0</td>\n",
       "      <td>Adventure</td>\n",
       "      <td>0.00</td>\n",
       "      <td>0.0</td>\n",
       "      <td>0.01</td>\n",
       "      <td>0.0</td>\n",
       "      <td>NaN</td>\n",
       "      <td>NaN</td>\n",
       "      <td>NaN</td>\n",
       "    </tr>\n",
       "    <tr>\n",
       "      <th>16954</th>\n",
       "      <td>Spirits &amp; Spells</td>\n",
       "      <td>GBA</td>\n",
       "      <td>2003.0</td>\n",
       "      <td>Platform</td>\n",
       "      <td>0.01</td>\n",
       "      <td>0.0</td>\n",
       "      <td>0.0</td>\n",
       "      <td>0.0</td>\n",
       "      <td>NaN</td>\n",
       "      <td>NaN</td>\n",
       "      <td>NaN</td>\n",
       "    </tr>\n",
       "    <tr>\n",
       "      <th>16955</th>\n",
       "      <td>Winning Post 8 2016</td>\n",
       "      <td>PSV</td>\n",
       "      <td>2016.0</td>\n",
       "      <td>Simulation</td>\n",
       "      <td>0.00</td>\n",
       "      <td>0.0</td>\n",
       "      <td>0.01</td>\n",
       "      <td>0.0</td>\n",
       "      <td>NaN</td>\n",
       "      <td>NaN</td>\n",
       "      <td>NaN</td>\n",
       "    </tr>\n",
       "  </tbody>\n",
       "</table>\n",
       "</div>"
      ],
      "text/plain": [
       "                                Name Platform  Year of Release       Genre  \\\n",
       "16951  Samurai Warriors: Sanada Maru      PS3           2016.0      Action   \n",
       "16952               LMA Manager 2007     X360           2006.0      Sports   \n",
       "16953        Haitaka no Psychedelica      PSV           2016.0   Adventure   \n",
       "16954               Spirits & Spells      GBA           2003.0    Platform   \n",
       "16955            Winning Post 8 2016      PSV           2016.0  Simulation   \n",
       "\n",
       "       NA sales EU sales JP sales  Other sales  Critic Score User Score Rating  \n",
       "16951      0.00      0.0     0.01          0.0           NaN        NaN    NaN  \n",
       "16952      0.00     0.01      0.0          0.0           NaN        NaN    NaN  \n",
       "16953      0.00      0.0     0.01          0.0           NaN        NaN    NaN  \n",
       "16954      0.01      0.0      0.0          0.0           NaN        NaN    NaN  \n",
       "16955      0.00      0.0     0.01          0.0           NaN        NaN    NaN  "
      ]
     },
     "metadata": {},
     "output_type": "display_data"
    }
   ],
   "source": [
    "# Выводим первые 5 и последние 5 строк датафрейма на экран\n",
    "display(games.head(5))\n",
    "display(games.tail(5))"
   ]
  },
  {
   "cell_type": "markdown",
   "id": "e5c3da67-ad47-417e-ab95-1d4901bb6654",
   "metadata": {},
   "source": [
    "Столбцы:\n",
    "\n",
    "- Year of Release - тип данных Float64, при этом в столбце хранится год - подойдет тип данных *int* или *datetime64*\n",
    "- EU sales, JP sales, Other sales и User Score - содержат данные типа Чисто с плавающей точкой - подойдет тип данных *float64*\n"
   ]
  },
  {
   "cell_type": "markdown",
   "id": "34cc197b-635a-42c5-bc87-7b46a9758150",
   "metadata": {},
   "source": [
    "### Предобработка данных"
   ]
  },
  {
   "cell_type": "markdown",
   "id": "1506338b-b2c2-4826-9bc8-870972bfeb9b",
   "metadata": {},
   "source": [
    "#### Столбцы"
   ]
  },
  {
   "cell_type": "code",
   "execution_count": 19,
   "id": "e8198270-d5a0-4783-b8ca-b7e186ff40b6",
   "metadata": {},
   "outputs": [
    {
     "name": "stdout",
     "output_type": "stream",
     "text": [
      "Index(['Name', 'Platform', 'Year of Release', 'Genre', 'NA sales', 'EU sales',\n",
      "       'JP sales', 'Other sales', 'Critic Score', 'User Score', 'Rating'],\n",
      "      dtype='object')\n"
     ]
    }
   ],
   "source": [
    "#Выводим названия столбцов\n",
    "print(games.columns)"
   ]
  },
  {
   "cell_type": "markdown",
   "id": "b447eaa3-d027-4d62-bc68-fb713c3c8297",
   "metadata": {},
   "source": [
    "Названия столбцов написаны не в стиле  **snake case**"
   ]
  },
  {
   "cell_type": "code",
   "execution_count": 21,
   "id": "97ea6511-5d63-4c84-a10d-ce2204543732",
   "metadata": {},
   "outputs": [],
   "source": [
    "# Приводим названи колонок к стилю snake case\n",
    "games.columns = games.columns.str.lower().str.replace(' ', '_')"
   ]
  },
  {
   "cell_type": "code",
   "execution_count": 23,
   "id": "d9bedf92-e588-4027-bfb4-8d73723d6d2a",
   "metadata": {},
   "outputs": [
    {
     "name": "stdout",
     "output_type": "stream",
     "text": [
      "Index(['name', 'platform', 'year_of_release', 'genre', 'na_sales', 'eu_sales',\n",
      "       'jp_sales', 'other_sales', 'critic_score', 'user_score', 'rating'],\n",
      "      dtype='object')\n"
     ]
    }
   ],
   "source": [
    "# выводим новое название колонок\n",
    "print(games.columns)"
   ]
  },
  {
   "cell_type": "markdown",
   "id": "8de0c738-935f-47fd-8245-3e06e95deae5",
   "metadata": {},
   "source": [
    "#### Типы данных"
   ]
  },
  {
   "cell_type": "code",
   "execution_count": 25,
   "id": "95b8e351-1232-4d5a-a080-6152917176fe",
   "metadata": {},
   "outputs": [],
   "source": [
    "# Преобразуем год выпуска в float64\n",
    "games['year_of_release'] = games['year_of_release'].astype('float64', errors='raise')\n",
    "# Удаляем строки с пропущеным годом\n",
    "games = games.dropna(subset=['year_of_release'])\n",
    "# Преобразуем 'year_of_release' в int64\n",
    "games['year_of_release'] = games['year_of_release'].astype('int64')\n"
   ]
  },
  {
   "cell_type": "code",
   "execution_count": 28,
   "id": "e33d4824-2e39-49f8-b381-209585a799c8",
   "metadata": {},
   "outputs": [
    {
     "name": "stdout",
     "output_type": "stream",
     "text": [
      "<class 'pandas.core.frame.DataFrame'>\n",
      "Index: 16681 entries, 0 to 16955\n",
      "Data columns (total 11 columns):\n",
      " #   Column           Non-Null Count  Dtype  \n",
      "---  ------           --------------  -----  \n",
      " 0   name             16679 non-null  object \n",
      " 1   platform         16681 non-null  object \n",
      " 2   year_of_release  16681 non-null  int64  \n",
      " 3   genre            16679 non-null  object \n",
      " 4   na_sales         16681 non-null  float64\n",
      " 5   eu_sales         16681 non-null  object \n",
      " 6   jp_sales         16681 non-null  object \n",
      " 7   other_sales      16681 non-null  float64\n",
      " 8   critic_score     8085 non-null   float64\n",
      " 9   user_score       9974 non-null   object \n",
      " 10  rating           9901 non-null   object \n",
      "dtypes: float64(3), int64(1), object(7)\n",
      "memory usage: 1.5+ MB\n",
      "None\n"
     ]
    }
   ],
   "source": [
    "#Выводим информацию об измененном ДатаФреме\n",
    "print(games.info())"
   ]
  },
  {
   "cell_type": "code",
   "execution_count": 29,
   "id": "e16a6d8c-892a-4c58-9051-8cd4bfc75bc1",
   "metadata": {},
   "outputs": [],
   "source": [
    "# Преобразуем данные к типу float64\n",
    "games['eu_sales'] = pd.to_numeric(games['eu_sales'], errors='coerce')\n",
    "games['jp_sales'] = pd.to_numeric(games['jp_sales'], errors='coerce')\n",
    "games['other_sales'] = pd.to_numeric(games['other_sales'], errors='coerce')\n",
    "games['user_score'] = pd.to_numeric(games['user_score'], errors='coerce')"
   ]
  },
  {
   "cell_type": "code",
   "execution_count": 31,
   "id": "75f52400-fda0-41d3-b00e-b3e1cb8967df",
   "metadata": {},
   "outputs": [
    {
     "name": "stdout",
     "output_type": "stream",
     "text": [
      "<class 'pandas.core.frame.DataFrame'>\n",
      "Index: 16681 entries, 0 to 16955\n",
      "Data columns (total 11 columns):\n",
      " #   Column           Non-Null Count  Dtype  \n",
      "---  ------           --------------  -----  \n",
      " 0   name             16679 non-null  object \n",
      " 1   platform         16681 non-null  object \n",
      " 2   year_of_release  16681 non-null  int64  \n",
      " 3   genre            16679 non-null  object \n",
      " 4   na_sales         16681 non-null  float64\n",
      " 5   eu_sales         16675 non-null  float64\n",
      " 6   jp_sales         16677 non-null  float64\n",
      " 7   other_sales      16681 non-null  float64\n",
      " 8   critic_score     8085 non-null   float64\n",
      " 9   user_score       7558 non-null   float64\n",
      " 10  rating           9901 non-null   object \n",
      "dtypes: float64(6), int64(1), object(4)\n",
      "memory usage: 1.5+ MB\n",
      "None\n"
     ]
    }
   ],
   "source": [
    "#Выводим информацию об измененном ДатаФреме\n",
    "print(games.info())"
   ]
  },
  {
   "cell_type": "code",
   "execution_count": 32,
   "id": "97282795-5f4e-4e74-bbc5-0e982e93ed0e",
   "metadata": {},
   "outputs": [
    {
     "name": "stdout",
     "output_type": "stream",
     "text": [
      "name                  2\n",
      "platform              0\n",
      "year_of_release       0\n",
      "genre                 2\n",
      "na_sales              0\n",
      "eu_sales              6\n",
      "jp_sales              4\n",
      "other_sales           0\n",
      "critic_score       8596\n",
      "user_score         9123\n",
      "rating             6780\n",
      "dtype: int64\n"
     ]
    }
   ],
   "source": [
    "# Посчитаем пропуски\n",
    "print(games.isnull().sum())"
   ]
  },
  {
   "cell_type": "code",
   "execution_count": 33,
   "id": "407cc8d8-28a6-4bbe-9de0-751fb86792d5",
   "metadata": {},
   "outputs": [
    {
     "name": "stdout",
     "output_type": "stream",
     "text": [
      "name                0.01\n",
      "platform            0.00\n",
      "year_of_release     0.00\n",
      "genre               0.01\n",
      "na_sales            0.00\n",
      "eu_sales            0.04\n",
      "jp_sales            0.02\n",
      "other_sales         0.00\n",
      "critic_score       51.53\n",
      "user_score         54.69\n",
      "rating             40.65\n",
      "dtype: float64\n"
     ]
    }
   ],
   "source": [
    "# Посчитаем пропуски в %\n",
    "print(round((games.isnull().mean() * 100),2))"
   ]
  },
  {
   "cell_type": "markdown",
   "id": "43a19d0f-e710-4525-8c59-6bfb84f45300",
   "metadata": {},
   "source": [
    "#### Наибольшее кол-во пропусков в столбцах:\n",
    "- user_score - 43.53%\n",
    "- critic_score - 37.67%\n",
    "- rating - 31.84%\n"
   ]
  },
  {
   "cell_type": "markdown",
   "id": "f1fb5b1d-40c6-49aa-896f-456822d81850",
   "metadata": {},
   "source": [
    "##### Есть гипотеза, что кол-во пропусков в рейтиге зависит от кол-ва проданных копий игры"
   ]
  },
  {
   "cell_type": "code",
   "execution_count": 36,
   "id": "61db3366-98c5-4c52-aedc-49d31b81a7c8",
   "metadata": {},
   "outputs": [
    {
     "name": "stdout",
     "output_type": "stream",
     "text": [
      "             critic_score  user_score  rating\n",
      "total_sales                                  \n",
      "0.00                    2           2       2\n",
      "0.01                  556         584     458\n",
      "0.02                  766         796     645\n",
      "0.03                  580         629     494\n",
      "0.04                  418         461     325\n",
      "0.05                  381         450     320\n",
      "0.06                  247         266     200\n",
      "0.06                   76          99      58\n",
      "0.07                   55          52      34\n",
      "0.07                  219         233     188\n",
      "             critic_score  user_score  rating\n",
      "total_sales                                  \n",
      "17.28                   1           1       1\n",
      "18.14                   1           1       1\n",
      "18.24                   1           1       1\n",
      "20.62                   1           1       1\n",
      "23.09                   1           1       1\n",
      "24.67                   1           1       1\n",
      "28.31                   1           1       1\n",
      "30.26                   1           1       1\n",
      "31.38                   1           1       1\n",
      "40.24                   1           1       1\n"
     ]
    }
   ],
   "source": [
    "# Суммируем продажи\n",
    "sales_columns = ['na_sales', 'eu_sales', 'jp_sales', 'other_sales']\n",
    "games['total_sales'] = games[sales_columns].sum(axis=1)\n",
    "\n",
    "# Создаем DataFrame с пропусками\n",
    "null_mask = games.isnull()\n",
    "games_with_nulls = games[null_mask.any(axis=1)]\n",
    "\n",
    "# Список столбцов для проверки пропусков\n",
    "columns_to_check = ['critic_score', 'user_score', 'rating']\n",
    "\n",
    "# Группируем по total_sales и считаем пропуски в выбранных столбцах\n",
    "null_by_total_sales = games_with_nulls.groupby('total_sales')[columns_to_check].agg(lambda x: x.isnull().sum())\n",
    "print(null_by_total_sales.head(10))\n",
    "print(null_by_total_sales.tail(10))"
   ]
  },
  {
   "cell_type": "markdown",
   "id": "4729aa71-0d7f-4983-9225-100621cc1b0c",
   "metadata": {},
   "source": [
    "Наибольшее кол-во пропусков в столбцах с рейтингом у игр с маленьким кол-вом проданых копий"
   ]
  },
  {
   "cell_type": "markdown",
   "id": "553e6e94-5932-4688-91f1-47ad91923f9e",
   "metadata": {},
   "source": [
    "#### Заполним пропуски"
   ]
  },
  {
   "cell_type": "markdown",
   "id": "181c6e4c-43a1-49de-8c38-56ddc065f58b",
   "metadata": {},
   "source": [
    "Для начала заполним пропуски с данными по продажам относильно года выпуска и платформы"
   ]
  },
  {
   "cell_type": "code",
   "execution_count": 41,
   "id": "e1859e6f-7a70-4ff1-81da-b31755674d5d",
   "metadata": {},
   "outputs": [
    {
     "name": "stdout",
     "output_type": "stream",
     "text": [
      "<class 'pandas.core.frame.DataFrame'>\n",
      "Index: 16681 entries, 0 to 16955\n",
      "Data columns (total 12 columns):\n",
      " #   Column           Non-Null Count  Dtype  \n",
      "---  ------           --------------  -----  \n",
      " 0   name             16679 non-null  object \n",
      " 1   platform         16681 non-null  object \n",
      " 2   year_of_release  16681 non-null  int64  \n",
      " 3   genre            16679 non-null  object \n",
      " 4   na_sales         16681 non-null  float64\n",
      " 5   eu_sales         16681 non-null  float64\n",
      " 6   jp_sales         16681 non-null  float64\n",
      " 7   other_sales      16681 non-null  float64\n",
      " 8   critic_score     8085 non-null   float64\n",
      " 9   user_score       7558 non-null   float64\n",
      " 10  rating           9901 non-null   object \n",
      " 11  total_sales      16681 non-null  float64\n",
      "dtypes: float64(7), int64(1), object(4)\n",
      "memory usage: 1.7+ MB\n",
      "None\n",
      "\n",
      "Проверка на пропуски после заполнения\n",
      "eu_sales    0\n",
      "jp_sales    0\n",
      "dtype: int64\n"
     ]
    }
   ],
   "source": [
    "# Список столбцов с продажами\n",
    "sales_columns = ['eu_sales', 'jp_sales']\n",
    "\n",
    "# Заполняем пропуски, применяя transform ко всем sales_columns\n",
    "games[sales_columns] = games.groupby(['platform', 'year_of_release'])[sales_columns].transform(lambda x: x.fillna(x.mean()))\n",
    "\n",
    "# Вывод\n",
    "print(games.info())\n",
    "print('\\nПроверка на пропуски после заполнения')\n",
    "print(games[sales_columns].isnull().sum())"
   ]
  },
  {
   "cell_type": "markdown",
   "id": "e36047f6-8750-4628-90e7-c6b844b086d6",
   "metadata": {},
   "source": [
    "Данные заполнены, пропусков в продажах нет"
   ]
  },
  {
   "cell_type": "markdown",
   "id": "38f54f19-3364-44f0-a11c-9a1d9775eac2",
   "metadata": {},
   "source": [
    "Заполним данные с пропуском рейтинга игр по стобцам critic_score, user_score, rating, относительно года выпуска и платформы"
   ]
  },
  {
   "cell_type": "code",
   "execution_count": 48,
   "id": "f59f1b14-06d3-4ce2-a116-c7a45ca7bb1a",
   "metadata": {},
   "outputs": [
    {
     "name": "stdout",
     "output_type": "stream",
     "text": [
      "<class 'pandas.core.frame.DataFrame'>\n",
      "Index: 16681 entries, 0 to 16955\n",
      "Data columns (total 12 columns):\n",
      " #   Column           Non-Null Count  Dtype  \n",
      "---  ------           --------------  -----  \n",
      " 0   name             16679 non-null  object \n",
      " 1   platform         16681 non-null  object \n",
      " 2   year_of_release  16681 non-null  int64  \n",
      " 3   genre            16679 non-null  object \n",
      " 4   na_sales         16681 non-null  float64\n",
      " 5   eu_sales         16681 non-null  float64\n",
      " 6   jp_sales         16681 non-null  float64\n",
      " 7   other_sales      16681 non-null  float64\n",
      " 8   critic_score     16681 non-null  float64\n",
      " 9   user_score       16681 non-null  float64\n",
      " 10  rating           9901 non-null   object \n",
      " 11  total_sales      16681 non-null  float64\n",
      "dtypes: float64(7), int64(1), object(4)\n",
      "memory usage: 1.7+ MB\n",
      "None\n",
      "\n",
      "Проверка на пропуски после заполнения\n",
      "critic_score    0\n",
      "user_score      0\n",
      "dtype: int64\n",
      "\n",
      "Процент пропусков \n",
      "critic_score    0.0\n",
      "user_score      0.0\n",
      "dtype: float64\n"
     ]
    }
   ],
   "source": [
    "# Список столбцов для заполнения\n",
    "rating_columns = ['critic_score', 'user_score']\n",
    "\n",
    "# Заполняем пропуски\n",
    "games[rating_columns] = games[rating_columns].fillna(-1)\n",
    "\n",
    "# Вывод\n",
    "print(games.info())\n",
    "print('\\nПроверка на пропуски после заполнения')\n",
    "print(games[rating_columns].isnull().sum())\n",
    "# Посчитаем пропуски в %\n",
    "print(f'\\nПроцент пропусков \\n{round((games[rating_columns].isnull().mean() * 100),2)}')"
   ]
  },
  {
   "cell_type": "markdown",
   "id": "72793860-e570-46ac-b559-6d7729900b1e",
   "metadata": {},
   "source": [
    "Нулевые значения по рейтигам заполнены, остальные строки можно удалить, на анализ они будут влиять незаначительно"
   ]
  },
  {
   "cell_type": "code",
   "execution_count": 50,
   "id": "570647fa-90ed-4494-9a9e-1bc2c1ce1345",
   "metadata": {},
   "outputs": [],
   "source": [
    "# Удаляем пропуски по столбцам name и genre там по 2 пропуска из всего датафрема\n",
    "games = games.dropna(subset=['name', 'genre'])"
   ]
  },
  {
   "cell_type": "markdown",
   "id": "7c1cfb11-1671-46c5-9630-908d64f1f844",
   "metadata": {},
   "source": [
    "#### Удаление дубликатов"
   ]
  },
  {
   "cell_type": "markdown",
   "id": "6f53277c-b2b4-4d63-9bb1-85b9d088f648",
   "metadata": {},
   "source": [
    "Приведем данные к общему виду"
   ]
  },
  {
   "cell_type": "code",
   "execution_count": 54,
   "id": "b33748ee-831e-4c70-8e61-1f23c7f8ddc8",
   "metadata": {},
   "outputs": [],
   "source": [
    "# Все названия игр и жанр приведем к нижему регистру, а рейтинг к верхнему\n",
    "games['name'] = games['name'].str.lower()\n",
    "games['genre'] = games['genre'].str.lower()\n",
    "games['rating'] = games['rating'].str.upper()"
   ]
  },
  {
   "cell_type": "markdown",
   "id": "5dcb4132-2bf1-459f-ab7e-956f3ad5a99d",
   "metadata": {},
   "source": [
    "Найдем неявные дубликаты по названию"
   ]
  },
  {
   "cell_type": "code",
   "execution_count": 56,
   "id": "912cae42-b7c4-47c9-a930-4cea52784284",
   "metadata": {},
   "outputs": [
    {
     "name": "stdout",
     "output_type": "stream",
     "text": [
      "name               11426\n",
      "year_of_release       37\n",
      "dtype: int64\n",
      "                                              name platform  year_of_release\n",
      "15191                               beyblade burst      3DS             2016\n",
      "15192                               beyblade burst      3DS             2016\n",
      "1086                             fire emblem fates      3DS             2015\n",
      "3394                          frozen: olaf's quest      3DS             2013\n",
      "3906                          frozen: olaf's quest       DS             2013\n",
      "13983                   haikyu!! cross team match!      3DS             2016\n",
      "2478                             tales of xillia 2      PS3             2012\n",
      "4782                                   '98 koshien       PS             1998\n",
      "8460                    .hack//g.u. vol.1//rebirth      PS2             2006\n",
      "7182                  .hack//g.u. vol.2//reminisce      PS2             2006\n",
      "8719       .hack//g.u. vol.2//reminisce (jp sales)      PS2             2006\n",
      "8410                 .hack//g.u. vol.3//redemption      PS2             2007\n",
      "1575                       .hack//infection part 1      PS2             2002\n",
      "9189                                   .hack//link      PSP             2010\n",
      "3023                        .hack//mutation part 2      PS2             2002\n",
      "4313                        .hack//outbreak part 3      PS2             2002\n",
      "8098   .hack//quarantine part 4: the final chapter      PS2             2003\n",
      "14525            .hack: sekai no mukou ni + versus      PS3             2012\n",
      "3800                                    007 racing       PS             2000\n",
      "9637                        007: quantum of solace       DS             2008\n",
      "14860                       007: quantum of solace       PC             2008\n",
      "4524                        007: quantum of solace      PS2             2008\n",
      "1802                        007: quantum of solace      PS3             2008\n",
      "3153                        007: quantum of solace      Wii             2008\n",
      "1293                        007: quantum of solace     X360             2008\n",
      "1211                  007: the world is not enough      N64             2000\n",
      "2263                  007: the world is not enough       PS             2000\n",
      "425                       007: tomorrow never dies       PS             1999\n",
      "11425                                    1 vs. 100       DS             2008\n",
      "16455                                 1/2 summer +      PSP             2013\n"
     ]
    }
   ],
   "source": [
    "# Посчитаем кол-во дубликатов по названию и году выхода\n",
    "unique_games_count = games[['name', 'year_of_release']].nunique()\n",
    "\n",
    "# Выведем кол-во уникальных значений\n",
    "print(unique_games_count)\n",
    "\n",
    "# Выведем название, год выхода и платформу для проверки\n",
    "print(games[['name',  'platform', 'year_of_release']].sort_values(\n",
    "    by=['name', 'platform']).head(30))"
   ]
  },
  {
   "cell_type": "markdown",
   "id": "721040ec-a0d7-4ae7-85a3-334bfa56e41c",
   "metadata": {},
   "source": [
    "Данные содержат дубликарты по названию и году выхода, но различаются разной платформой выхода. Пример:\n",
    "Игра 007: quantum of solace - вышла в 2008 году и сразу на 6 платформах"
   ]
  },
  {
   "cell_type": "markdown",
   "id": "6b8fcee7-6386-4ad5-8cb7-d1322f078357",
   "metadata": {},
   "source": [
    "Найдем явные дубликаты"
   ]
  },
  {
   "cell_type": "code",
   "execution_count": 59,
   "id": "a20e7271-6bfe-4916-8579-d2ec81774ad0",
   "metadata": {},
   "outputs": [
    {
     "name": "stdout",
     "output_type": "stream",
     "text": [
      "Кол-во дубликатов до удаления 235\n",
      "Кол-во дубликатов после удаления 0\n",
      "Кол-во строк после удаления дубликатов 16444\n"
     ]
    }
   ],
   "source": [
    "# Проверим наличие дубликатов\n",
    "dublicated = games.duplicated(subset=None, keep='first').sum() \n",
    "print(f'Кол-во дубликатов до удаления {dublicated}')\n",
    "\n",
    "# Удаляем явные дубликаты\n",
    "games = games.drop_duplicates(subset=None, keep='first', inplace=False)\n",
    "\n",
    "dublicated = games.duplicated(subset=None, keep='first').sum() \n",
    "print(f'Кол-во дубликатов после удаления {dublicated}')\n",
    "print(f'Кол-во строк после удаления дубликатов {len(games)}')"
   ]
  },
  {
   "cell_type": "code",
   "execution_count": 65,
   "id": "a62aa7d6-ba7e-4d23-8f11-94ed54688097",
   "metadata": {},
   "outputs": [],
   "source": [
    "# Заменим рейтинг K-A на актуальный E\n",
    "games['rating'] = games['rating'].str.replace('K-A', 'E')\n",
    "# Заменим пропуске в рейтиге на \"заглушку\" - 'no_rating'\n",
    "games['rating'] = games['rating'].fillna('no_rating')"
   ]
  },
  {
   "cell_type": "markdown",
   "id": "747e49ee-7d4c-4a0b-b8d6-907251196ef4",
   "metadata": {},
   "source": [
    "Результаты предобработки:\n",
    "- Название столбцов приведены к стилю snake_case\n",
    "- Заполены пропуски в продажах по регионам и в стобцах рейтинг от критиков и пользователей\n",
    "- Удалены строки с пропусками в рейтинге от критиков и пользователей (менее 9% от общего числа)\n",
    "- Названия игр, жанр, рейтигн - приведены к общему виду (нижний регистр и верхний)\n",
    "- Удалены явные дубликаты строк"
   ]
  },
  {
   "cell_type": "code",
   "execution_count": 67,
   "id": "27b47955-1395-4237-bfc1-d96c95129584",
   "metadata": {
    "scrolled": true
   },
   "outputs": [
    {
     "name": "stdout",
     "output_type": "stream",
     "text": [
      "Кол-во строк датафрейма до предобработкаи данных 16956\n",
      "Кол-во строк датафрема после предобработки данных 16444\n",
      " Кол-во удаленных строк 512\n"
     ]
    }
   ],
   "source": [
    "# Сравним кол-во строк до предобработки и после\n",
    "print(f'Кол-во строк датафрейма до предобработкаи данных {total_rows}')\n",
    "print(f'Кол-во строк датафрема после предобработки данных {games.shape[0]}')\n",
    "print(f' Кол-во удаленных строк {total_rows - games.shape[0]}')"
   ]
  },
  {
   "cell_type": "code",
   "execution_count": 68,
   "id": "c2a4cb39",
   "metadata": {},
   "outputs": [
    {
     "data": {
      "text/plain": [
       "name               0\n",
       "platform           0\n",
       "year_of_release    0\n",
       "genre              0\n",
       "na_sales           0\n",
       "eu_sales           0\n",
       "jp_sales           0\n",
       "other_sales        0\n",
       "critic_score       0\n",
       "user_score         0\n",
       "rating             0\n",
       "total_sales        0\n",
       "dtype: int64"
      ]
     },
     "execution_count": 68,
     "metadata": {},
     "output_type": "execute_result"
    }
   ],
   "source": [
    "# код ревьюера\n",
    "games.isnull().sum()"
   ]
  },
  {
   "cell_type": "markdown",
   "id": "50333d95-4f33-4eb8-a972-1a72af8e66fe",
   "metadata": {},
   "source": [
    "**Пропусков в DataFrame больше нет**"
   ]
  },
  {
   "cell_type": "markdown",
   "id": "cd4e5856-20b5-4c3c-9f23-0f19b9c6543a",
   "metadata": {},
   "source": [
    "#### Отфильруем данные по годам в рамках диавазоно 2000 год - 2013 год включительно"
   ]
  },
  {
   "cell_type": "code",
   "execution_count": 72,
   "id": "65b7e231-fcc3-4dc1-8acb-2a762aa51a2e",
   "metadata": {},
   "outputs": [],
   "source": [
    "# Фильтрация данных по году выпуска игры\n",
    "games_actual = games[(games['year_of_release'] >= 2000) & (games['year_of_release'] <= 2013)].copy()"
   ]
  },
  {
   "cell_type": "markdown",
   "id": "94fbc3d6-2e31-44fa-bcd2-7e6734f5ddec",
   "metadata": {},
   "source": [
    "#### Категоризация данных"
   ]
  },
  {
   "cell_type": "code",
   "execution_count": 75,
   "id": "2a6e15db-6fc9-4e89-a5d4-d507392136b2",
   "metadata": {},
   "outputs": [],
   "source": [
    "#  Категорируем рейтинг пользователей\n",
    "bins_user = [0, 3, 8, 10]\n",
    "labels_user = ['low', 'medium', 'high']\n",
    "games_actual['user_score_category'] = pd.cut(\n",
    "                                             games_actual['user_score'], \n",
    "                                             bins=bins_user, \n",
    "                                             labels=labels_user, \n",
    "                                             right=False, # Позволяет сделать интервалы открытыми справа\n",
    "                                             include_lowest=True # Гарантирует, что самая левая граница диапазона будет включена\n",
    "                                             ).astype('category') # Оптимизирует хранение данных категориального типа"
   ]
  },
  {
   "cell_type": "code",
   "execution_count": 77,
   "id": "2e4c0e91-42e2-465d-8ad4-c0ebc3e9f46a",
   "metadata": {},
   "outputs": [],
   "source": [
    "# Категорируем рейтиг критиков\n",
    "bins_critic = [0, 30, 80, 100]\n",
    "labels_critic = ['low', 'medium', 'high']\n",
    "games_actual['critic_score_category'] = pd.cut(\n",
    "                                            games_actual['critic_score'], \n",
    "                                            bins=bins_critic, \n",
    "                                            labels=labels_critic, \n",
    "                                            right=False, # Позволяет сделать интервалы открытыми справа\n",
    "                                            include_lowest=True # Гарантирует, что самая левая граница диапазона будет включена\n",
    "                                            ).astype('category') # Оптимизирует хранение данных категориального типа"
   ]
  },
  {
   "cell_type": "code",
   "execution_count": 78,
   "id": "73e82634-7a00-4668-bf86-ce0c58526006",
   "metadata": {},
   "outputs": [
    {
     "data": {
      "text/html": [
       "<div>\n",
       "<style scoped>\n",
       "    .dataframe tbody tr th:only-of-type {\n",
       "        vertical-align: middle;\n",
       "    }\n",
       "\n",
       "    .dataframe tbody tr th {\n",
       "        vertical-align: top;\n",
       "    }\n",
       "\n",
       "    .dataframe thead th {\n",
       "        text-align: right;\n",
       "    }\n",
       "</style>\n",
       "<table border=\"1\" class=\"dataframe\">\n",
       "  <thead>\n",
       "    <tr style=\"text-align: right;\">\n",
       "      <th></th>\n",
       "      <th>name</th>\n",
       "      <th>platform</th>\n",
       "      <th>year_of_release</th>\n",
       "      <th>genre</th>\n",
       "      <th>na_sales</th>\n",
       "      <th>eu_sales</th>\n",
       "      <th>jp_sales</th>\n",
       "      <th>other_sales</th>\n",
       "      <th>critic_score</th>\n",
       "      <th>user_score</th>\n",
       "      <th>rating</th>\n",
       "      <th>total_sales</th>\n",
       "      <th>user_score_category</th>\n",
       "      <th>critic_score_category</th>\n",
       "    </tr>\n",
       "  </thead>\n",
       "  <tbody>\n",
       "    <tr>\n",
       "      <th>0</th>\n",
       "      <td>wii sports</td>\n",
       "      <td>Wii</td>\n",
       "      <td>2006</td>\n",
       "      <td>sports</td>\n",
       "      <td>41.36</td>\n",
       "      <td>28.96</td>\n",
       "      <td>3.77</td>\n",
       "      <td>8.45</td>\n",
       "      <td>76.0</td>\n",
       "      <td>8.0</td>\n",
       "      <td>E</td>\n",
       "      <td>82.54</td>\n",
       "      <td>high</td>\n",
       "      <td>medium</td>\n",
       "    </tr>\n",
       "    <tr>\n",
       "      <th>2</th>\n",
       "      <td>mario kart wii</td>\n",
       "      <td>Wii</td>\n",
       "      <td>2008</td>\n",
       "      <td>racing</td>\n",
       "      <td>15.68</td>\n",
       "      <td>12.76</td>\n",
       "      <td>3.79</td>\n",
       "      <td>3.29</td>\n",
       "      <td>82.0</td>\n",
       "      <td>8.3</td>\n",
       "      <td>E</td>\n",
       "      <td>35.52</td>\n",
       "      <td>high</td>\n",
       "      <td>high</td>\n",
       "    </tr>\n",
       "    <tr>\n",
       "      <th>3</th>\n",
       "      <td>wii sports resort</td>\n",
       "      <td>Wii</td>\n",
       "      <td>2009</td>\n",
       "      <td>sports</td>\n",
       "      <td>15.61</td>\n",
       "      <td>10.93</td>\n",
       "      <td>3.28</td>\n",
       "      <td>2.95</td>\n",
       "      <td>80.0</td>\n",
       "      <td>8.0</td>\n",
       "      <td>E</td>\n",
       "      <td>32.77</td>\n",
       "      <td>high</td>\n",
       "      <td>high</td>\n",
       "    </tr>\n",
       "    <tr>\n",
       "      <th>6</th>\n",
       "      <td>new super mario bros.</td>\n",
       "      <td>DS</td>\n",
       "      <td>2006</td>\n",
       "      <td>platform</td>\n",
       "      <td>11.28</td>\n",
       "      <td>9.14</td>\n",
       "      <td>6.50</td>\n",
       "      <td>2.88</td>\n",
       "      <td>89.0</td>\n",
       "      <td>8.5</td>\n",
       "      <td>E</td>\n",
       "      <td>29.80</td>\n",
       "      <td>high</td>\n",
       "      <td>high</td>\n",
       "    </tr>\n",
       "    <tr>\n",
       "      <th>7</th>\n",
       "      <td>wii play</td>\n",
       "      <td>Wii</td>\n",
       "      <td>2006</td>\n",
       "      <td>misc</td>\n",
       "      <td>13.96</td>\n",
       "      <td>9.18</td>\n",
       "      <td>2.93</td>\n",
       "      <td>2.84</td>\n",
       "      <td>58.0</td>\n",
       "      <td>6.6</td>\n",
       "      <td>E</td>\n",
       "      <td>28.91</td>\n",
       "      <td>medium</td>\n",
       "      <td>medium</td>\n",
       "    </tr>\n",
       "  </tbody>\n",
       "</table>\n",
       "</div>"
      ],
      "text/plain": [
       "                    name platform  year_of_release     genre  na_sales  \\\n",
       "0             wii sports      Wii             2006    sports     41.36   \n",
       "2         mario kart wii      Wii             2008    racing     15.68   \n",
       "3      wii sports resort      Wii             2009    sports     15.61   \n",
       "6  new super mario bros.       DS             2006  platform     11.28   \n",
       "7               wii play      Wii             2006      misc     13.96   \n",
       "\n",
       "   eu_sales  jp_sales  other_sales  critic_score  user_score rating  \\\n",
       "0     28.96      3.77         8.45          76.0         8.0      E   \n",
       "2     12.76      3.79         3.29          82.0         8.3      E   \n",
       "3     10.93      3.28         2.95          80.0         8.0      E   \n",
       "6      9.14      6.50         2.88          89.0         8.5      E   \n",
       "7      9.18      2.93         2.84          58.0         6.6      E   \n",
       "\n",
       "   total_sales user_score_category critic_score_category  \n",
       "0        82.54                high                medium  \n",
       "2        35.52                high                  high  \n",
       "3        32.77                high                  high  \n",
       "6        29.80                high                  high  \n",
       "7        28.91              medium                medium  "
      ]
     },
     "metadata": {},
     "output_type": "display_data"
    }
   ],
   "source": [
    "# Выыедем 5 строк для проверки\n",
    "display(games_actual.head(5))"
   ]
  },
  {
   "cell_type": "markdown",
   "id": "1efbceea-a21c-4841-b679-9a8b4b9cc6c8",
   "metadata": {},
   "source": [
    "#### Топ 7 платформ по кол-ву игр выпущенных за весь актуальный перион"
   ]
  },
  {
   "cell_type": "code",
   "execution_count": 81,
   "id": "c3ec9442-4524-45ad-8ecf-1f7151ea4de2",
   "metadata": {},
   "outputs": [
    {
     "name": "stdout",
     "output_type": "stream",
     "text": [
      "platform\n",
      "PS2     2127\n",
      "DS      2120\n",
      "Wii     1275\n",
      "PSP     1180\n",
      "X360    1121\n",
      "PS3     1087\n",
      "GBA      811\n",
      "Name: count, dtype: int64\n"
     ]
    }
   ],
   "source": [
    "# Сгруппируем данные\n",
    "top_platforms = games_actual['platform'].value_counts().nlargest(7)\n",
    "# Выведем топ\n",
    "print(top_platforms)"
   ]
  },
  {
   "cell_type": "markdown",
   "id": "908d6995-9145-4ce8-8e1a-2739ff70844d",
   "metadata": {},
   "source": [
    "#### Вывод\n",
    "Рейтинг платформ:"
   ]
  },
  {
   "cell_type": "code",
   "execution_count": 84,
   "id": "9903720e-2b00-4f64-b362-ae2049096d2b",
   "metadata": {},
   "outputs": [
    {
     "name": "stdout",
     "output_type": "stream",
     "text": [
      "platform\n",
      "PS2     2127\n",
      "DS      2120\n",
      "Wii     1275\n",
      "PSP     1180\n",
      "X360    1121\n",
      "PS3     1087\n",
      "GBA      811\n",
      "Name: count, dtype: int64\n"
     ]
    }
   ],
   "source": [
    "print(top_platforms)"
   ]
  },
  {
   "cell_type": "markdown",
   "id": "e4bc7388-f649-490d-946c-51c4c796a804",
   "metadata": {},
   "source": [
    "Результаты предобработки:\n",
    "- Название столбцов приведены к стилю snake_case\n",
    "- Заполены пропуски в продажах по регионам и в стобцах рейтинг от критиков и пользователей\n",
    "- Удалены строки с пропусками в рейтинге от критиков и пользователей (менее 9% от общего числа)\n",
    "- Названия игр, жанр, рейтигн - приведены к общему виду (нижний регистр и верхний)\n",
    "- Удалены явные дубликаты строк\n",
    "\n",
    "Были добавлены столбцы:\n",
    "- total_sales - с общим объемом продаж\n",
    "- user_score_category - рейтинг игры от пользователей (низкий, средний и высокий)\n",
    "- critic_score_category - рейтинг игры от критиков (низкий, средний и высокий)"
   ]
  },
  {
   "cell_type": "code",
   "execution_count": null,
   "id": "a17b0ce6-1d76-4744-a518-fb019650b525",
   "metadata": {},
   "outputs": [],
   "source": []
  }
 ],
 "metadata": {
  "ExecuteTimeLog": [
   {
    "duration": 434,
    "start_time": "2025-01-15T09:24:53.529Z"
   },
   {
    "duration": 117,
    "start_time": "2025-01-15T09:24:53.965Z"
   },
   {
    "duration": 23,
    "start_time": "2025-01-15T09:24:54.085Z"
   },
   {
    "duration": 30,
    "start_time": "2025-01-15T09:24:54.110Z"
   },
   {
    "duration": 4,
    "start_time": "2025-01-15T09:24:54.144Z"
   },
   {
    "duration": 30,
    "start_time": "2025-01-15T09:24:54.150Z"
   },
   {
    "duration": 6,
    "start_time": "2025-01-15T09:24:54.182Z"
   },
   {
    "duration": 14,
    "start_time": "2025-01-15T09:24:54.189Z"
   },
   {
    "duration": 38,
    "start_time": "2025-01-15T09:24:54.205Z"
   },
   {
    "duration": 39,
    "start_time": "2025-01-15T09:24:54.245Z"
   },
   {
    "duration": 17,
    "start_time": "2025-01-15T09:24:54.287Z"
   },
   {
    "duration": 24,
    "start_time": "2025-01-15T09:24:54.306Z"
   },
   {
    "duration": 16,
    "start_time": "2025-01-15T09:24:54.332Z"
   },
   {
    "duration": 291,
    "start_time": "2025-01-15T09:24:54.352Z"
   },
   {
    "duration": 816,
    "start_time": "2025-01-15T09:24:54.645Z"
   },
   {
    "duration": 593,
    "start_time": "2025-01-15T09:24:55.464Z"
   },
   {
    "duration": 9,
    "start_time": "2025-01-15T09:24:56.059Z"
   },
   {
    "duration": 55,
    "start_time": "2025-01-15T09:24:56.070Z"
   },
   {
    "duration": 73,
    "start_time": "2025-01-15T09:24:56.128Z"
   },
   {
    "duration": 39,
    "start_time": "2025-01-15T09:24:56.202Z"
   },
   {
    "duration": 33,
    "start_time": "2025-01-15T09:24:56.243Z"
   },
   {
    "duration": 25,
    "start_time": "2025-01-15T09:24:56.278Z"
   }
  ],
  "kernelspec": {
   "display_name": "Python [conda env:base] *",
   "language": "python",
   "name": "conda-base-py"
  },
  "language_info": {
   "codemirror_mode": {
    "name": "ipython",
    "version": 3
   },
   "file_extension": ".py",
   "mimetype": "text/x-python",
   "name": "python",
   "nbconvert_exporter": "python",
   "pygments_lexer": "ipython3",
   "version": "3.12.7"
  },
  "toc": {
   "base_numbering": 1,
   "nav_menu": {},
   "number_sections": true,
   "sideBar": true,
   "skip_h1_title": true,
   "title_cell": "Table of Contents",
   "title_sidebar": "Contents",
   "toc_cell": false,
   "toc_position": {},
   "toc_section_display": true,
   "toc_window_display": false
  }
 },
 "nbformat": 4,
 "nbformat_minor": 5
}
