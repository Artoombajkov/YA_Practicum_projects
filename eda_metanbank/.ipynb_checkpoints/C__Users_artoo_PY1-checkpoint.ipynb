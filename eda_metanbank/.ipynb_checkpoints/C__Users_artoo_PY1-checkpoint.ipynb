{
 "cells": [
  {
   "cell_type": "markdown",
   "id": "1532da09",
   "metadata": {
    "deletable": false,
    "editable": false,
    "id": "1532da09",
    "tags": [
     "660a4501-35e5-4f26-a2bf-dc9bba9a52e1"
    ]
   },
   "source": [
    "# Исследование профиля нелояльных клиентов банка «Метанпром»\n",
    "\n",
    "## Цель и задачи  \n",
    "\n",
    "**Цель:** Провести исследовательский анализ данных клиентов банка «Метанпром» с выявлением портрета клиентов, которые склонны уходить из банка.   \n",
    "\n",
    "**Задачи:**\n",
    "1. Загрузить данные и познакомиться с их содержимым.\n",
    "2. Провести предобработку данных.\n",
    "3. Провести исследовательский анализ данных:\n",
    "    - изучить данные более детально;\n",
    "    - изучить взаимосвязь данных в столбце `Сhurn` с другими данными.\n",
    "4. Сформулировать выводы по проведённому анализу.\n",
    "\n",
    "\n",
    "## Данные\n",
    "\n",
    "Для анализа поступили данные о клиентах банка «Метанпром». Данные состоят из двух датасетов:\n",
    "\n",
    "- `bank_information.csv` — информация об использовании клиентом услуг банка;\n",
    "- `clients_information.csv` —  персональная информация клиентов.\n",
    "\n",
    "### Описание датасета `bank_information`\n",
    "\n",
    "- `userid` — идентификатор клиента;\n",
    "- `score` — баллы кредитного скоринга;\n",
    "- `Objects` — количество объектов в собственности клиента;\n",
    "- `Balance` — баланс на счёте клиента;\n",
    "- `Products` — количество продуктов, которыми пользуется клиент;\n",
    "- `CreditCard` — есть ли у клиента кредитная карта;\n",
    "- `Loyalty` — считается ли клиент активным;\n",
    "- `estimated_salary` — заработная плата клиента;\n",
    "- `Churn` — ушёл ли клиент из банка.\n",
    "\n",
    "### Описание датасета `clients_information`\n",
    "\n",
    "- `userid` — идентификатор клиента;\n",
    "- `LastName` — фамилия клиента;\n",
    "- `FirstName` — имя клиента;\n",
    "- `City` — город обращения в банк;\n",
    "- `Gender` — пол;\n",
    "- `Age` — возраст.\n",
    "\n",
    "\n",
    "## Структура проекта\n",
    "\n",
    "1. Загрузка данных и знакомство с ними.\n",
    "2. Предобработка данных.\n",
    "3. Исследовательский анализ данных.\n",
    "4. Итоговые выводы.\n",
    "\n",
    "---"
   ]
  },
  {
   "cell_type": "markdown",
   "id": "311cf986",
   "metadata": {
    "id": "311cf986"
   },
   "source": [
    "## 1. Загрузка данных и знакомство с ними\n",
    "\n",
    "Начнём с загрузки библиотек и датасетов `bank_information` и `clients_information`. Будем использовать pandas и библиотеки визуализации данных matplotlib и seaborn, а также phik_matrix для построения матрицы корреляции. Данные датасетов сохраним в двух переменных: `bank_df` и `clients_df`."
   ]
  },
  {
   "cell_type": "code",
   "execution_count": null,
   "id": "604451ca",
   "metadata": {
    "id": "604451ca"
   },
   "outputs": [],
   "source": [
    "# Импортируем библиотеки\n",
    "import pandas as pd\n",
    "\n",
    "# Загружаем библиотеки для визуализации данных\n",
    "import matplotlib.pyplot as plt\n",
    "import seaborn as sns\n",
    "\n",
    "# Загружаем библиотеку для расчёта коэффициента корреляции phi_k\n",
    "from phik import phik_matrix"
   ]
  },
  {
   "cell_type": "code",
   "execution_count": null,
   "id": "6a6c884b",
   "metadata": {
    "id": "6a6c884b"
   },
   "outputs": [],
   "source": [
    "# Выгружаем данные в переменные bank_df и clients_df\n",
    "bank_df = pd.read_csv('https://code.s3.yandex.net/datasets/bank_information.csv')\n",
    "clients_df = pd.read_csv('https://code.s3.yandex.net/datasets/clients_information.csv')"
   ]
  },
  {
   "cell_type": "markdown",
   "id": "ca91b729",
   "metadata": {
    "id": "ca91b729"
   },
   "source": [
    "Познакомимся с данными датасета `bank_information.csv` — выведем первые строки методом `head()`, а информацию о датафрейме методом `info()`:"
   ]
  },
  {
   "cell_type": "code",
   "execution_count": null,
   "id": "0e81a323",
   "metadata": {
    "id": "0e81a323",
    "outputId": "ccfb0c97-94f7-4240-98c9-034d414a1925"
   },
   "outputs": [
    {
     "data": {
      "text/html": [
       "<div>\n",
       "<style scoped>\n",
       "    .dataframe tbody tr th:only-of-type {\n",
       "        vertical-align: middle;\n",
       "    }\n",
       "\n",
       "    .dataframe tbody tr th {\n",
       "        vertical-align: top;\n",
       "    }\n",
       "\n",
       "    .dataframe thead th {\n",
       "        text-align: right;\n",
       "    }\n",
       "</style>\n",
       "<table border=\"1\" class=\"dataframe\">\n",
       "  <thead>\n",
       "    <tr style=\"text-align: right;\">\n",
       "      <th></th>\n",
       "      <th>userid</th>\n",
       "      <th>score</th>\n",
       "      <th>Objects</th>\n",
       "      <th>Balance</th>\n",
       "      <th>Products</th>\n",
       "      <th>CreditCard</th>\n",
       "      <th>Loyalty</th>\n",
       "      <th>estimated_salary</th>\n",
       "      <th>Churn</th>\n",
       "    </tr>\n",
       "  </thead>\n",
       "  <tbody>\n",
       "    <tr>\n",
       "      <th>0</th>\n",
       "      <td>15677338</td>\n",
       "      <td>619</td>\n",
       "      <td>2</td>\n",
       "      <td>NaN</td>\n",
       "      <td>1</td>\n",
       "      <td>1</td>\n",
       "      <td>1</td>\n",
       "      <td>101348.88</td>\n",
       "      <td>1</td>\n",
       "    </tr>\n",
       "    <tr>\n",
       "      <th>1</th>\n",
       "      <td>15690047</td>\n",
       "      <td>608</td>\n",
       "      <td>1</td>\n",
       "      <td>83807.86</td>\n",
       "      <td>1</td>\n",
       "      <td>0</td>\n",
       "      <td>1</td>\n",
       "      <td>112542.58</td>\n",
       "      <td>0</td>\n",
       "    </tr>\n",
       "    <tr>\n",
       "      <th>2</th>\n",
       "      <td>15662040</td>\n",
       "      <td>502</td>\n",
       "      <td>8</td>\n",
       "      <td>159660.80</td>\n",
       "      <td>3</td>\n",
       "      <td>1</td>\n",
       "      <td>0</td>\n",
       "      <td>113931.57</td>\n",
       "      <td>1</td>\n",
       "    </tr>\n",
       "    <tr>\n",
       "      <th>3</th>\n",
       "      <td>15744090</td>\n",
       "      <td>699</td>\n",
       "      <td>1</td>\n",
       "      <td>NaN</td>\n",
       "      <td>2</td>\n",
       "      <td>0</td>\n",
       "      <td>0</td>\n",
       "      <td>93826.63</td>\n",
       "      <td>0</td>\n",
       "    </tr>\n",
       "    <tr>\n",
       "      <th>4</th>\n",
       "      <td>15780624</td>\n",
       "      <td>850</td>\n",
       "      <td>2</td>\n",
       "      <td>125510.82</td>\n",
       "      <td>1</td>\n",
       "      <td>1</td>\n",
       "      <td>1</td>\n",
       "      <td>79084.10</td>\n",
       "      <td>0</td>\n",
       "    </tr>\n",
       "  </tbody>\n",
       "</table>\n",
       "</div>"
      ],
      "text/plain": [
       "     userid  score  Objects    Balance  Products  CreditCard  Loyalty  \\\n",
       "0  15677338    619        2        NaN         1           1        1   \n",
       "1  15690047    608        1   83807.86         1           0        1   \n",
       "2  15662040    502        8  159660.80         3           1        0   \n",
       "3  15744090    699        1        NaN         2           0        0   \n",
       "4  15780624    850        2  125510.82         1           1        1   \n",
       "\n",
       "   estimated_salary  Churn  \n",
       "0         101348.88      1  \n",
       "1         112542.58      0  \n",
       "2         113931.57      1  \n",
       "3          93826.63      0  \n",
       "4          79084.10      0  "
      ]
     },
     "execution_count": 3,
     "metadata": {},
     "output_type": "execute_result"
    }
   ],
   "source": [
    "# Выводим первые строки датафрейма на экран\n",
    "bank_df.head()"
   ]
  },
  {
   "cell_type": "code",
   "execution_count": null,
   "id": "9d71d0f5",
   "metadata": {
    "id": "9d71d0f5",
    "outputId": "7ea9e069-8be0-46d6-b4e6-c82dc32e95ab"
   },
   "outputs": [
    {
     "name": "stdout",
     "output_type": "stream",
     "text": [
      "<class 'pandas.core.frame.DataFrame'>\n",
      "RangeIndex: 10000 entries, 0 to 9999\n",
      "Data columns (total 9 columns):\n",
      " #   Column            Non-Null Count  Dtype  \n",
      "---  ------            --------------  -----  \n",
      " 0   userid            10000 non-null  int64  \n",
      " 1   score             10000 non-null  int64  \n",
      " 2   Objects           10000 non-null  int64  \n",
      " 3   Balance           6383 non-null   float64\n",
      " 4   Products          10000 non-null  int64  \n",
      " 5   CreditCard        10000 non-null  int64  \n",
      " 6   Loyalty           10000 non-null  int64  \n",
      " 7   estimated_salary  10000 non-null  float64\n",
      " 8   Churn             10000 non-null  int64  \n",
      "dtypes: float64(2), int64(7)\n",
      "memory usage: 703.3 KB\n"
     ]
    }
   ],
   "source": [
    "# Выводим информацию о датафрейме\n",
    "bank_df.info()"
   ]
  },
  {
   "cell_type": "markdown",
   "id": "f744c4b2",
   "metadata": {
    "id": "f744c4b2"
   },
   "source": [
    "Датасет `bank_information.csv` содержит 9 столбцов и 10000 строк, в которых представлена информация об использовании клиентами услуг банка.\n",
    "\n",
    "После первичного анализа данных можно сделать следующие выводы:\n",
    "- Названия столбцов лучше привести к одному виду, например snake case.\n",
    "- Все представленные данные содержат числовые значения и хранятся в типах данных `int64` или `float64`. Значения в столбцах `score`, `Objects`, `Products`, `CreditCard`, `Loyalty` и `Churn` представлены целыми числами. Часть их них показывает наличие у клиента того или иного признака и содержит значения 1 или 0 — размерность этих данных можно оптимизировать.\n",
    "- Пропуски содержатся только в столбце `Balance`. Однако следует проверить и другие столбцы: в них могут встречаться значения-индикаторы, которые будут говорить об отсутствии данных.\n",
    "- Судя по первому знакомству с данными, значения в столбцах соответствуют своему описанию.\n",
    "\n",
    "Теперь познакомимся с данными датасета `clients_information.csv`."
   ]
  },
  {
   "cell_type": "code",
   "execution_count": null,
   "id": "6d416c6f",
   "metadata": {
    "id": "6d416c6f",
    "outputId": "08056cd5-e058-4d80-9ec9-f0ede1c2772f"
   },
   "outputs": [
    {
     "data": {
      "text/html": [
       "<div>\n",
       "<style scoped>\n",
       "    .dataframe tbody tr th:only-of-type {\n",
       "        vertical-align: middle;\n",
       "    }\n",
       "\n",
       "    .dataframe tbody tr th {\n",
       "        vertical-align: top;\n",
       "    }\n",
       "\n",
       "    .dataframe thead th {\n",
       "        text-align: right;\n",
       "    }\n",
       "</style>\n",
       "<table border=\"1\" class=\"dataframe\">\n",
       "  <thead>\n",
       "    <tr style=\"text-align: right;\">\n",
       "      <th></th>\n",
       "      <th>userid</th>\n",
       "      <th>LastName</th>\n",
       "      <th>FirstName</th>\n",
       "      <th>Age</th>\n",
       "      <th>Gender</th>\n",
       "      <th>City</th>\n",
       "    </tr>\n",
       "  </thead>\n",
       "  <tbody>\n",
       "    <tr>\n",
       "      <th>0</th>\n",
       "      <td>15677338</td>\n",
       "      <td>Лапина</td>\n",
       "      <td>Евпраксия</td>\n",
       "      <td>42</td>\n",
       "      <td>Ж</td>\n",
       "      <td>Ярославль</td>\n",
       "    </tr>\n",
       "    <tr>\n",
       "      <th>1</th>\n",
       "      <td>15690047</td>\n",
       "      <td>Александрова</td>\n",
       "      <td>Акулина</td>\n",
       "      <td>41</td>\n",
       "      <td>Ж</td>\n",
       "      <td>Рыбинск</td>\n",
       "    </tr>\n",
       "    <tr>\n",
       "      <th>2</th>\n",
       "      <td>15662040</td>\n",
       "      <td>Лаврентьева</td>\n",
       "      <td>Анна</td>\n",
       "      <td>42</td>\n",
       "      <td>Ж</td>\n",
       "      <td>Ярославль</td>\n",
       "    </tr>\n",
       "    <tr>\n",
       "      <th>3</th>\n",
       "      <td>15744090</td>\n",
       "      <td>Никитина</td>\n",
       "      <td>Олимпиада</td>\n",
       "      <td>39</td>\n",
       "      <td>Ж</td>\n",
       "      <td>Ярославль</td>\n",
       "    </tr>\n",
       "    <tr>\n",
       "      <th>4</th>\n",
       "      <td>15780624</td>\n",
       "      <td>Некрасова</td>\n",
       "      <td>Майя</td>\n",
       "      <td>43</td>\n",
       "      <td>Ж</td>\n",
       "      <td>Рыбинск</td>\n",
       "    </tr>\n",
       "  </tbody>\n",
       "</table>\n",
       "</div>"
      ],
      "text/plain": [
       "     userid      LastName  FirstName  Age Gender       City\n",
       "0  15677338        Лапина  Евпраксия   42      Ж  Ярославль\n",
       "1  15690047  Александрова    Акулина   41      Ж    Рыбинск\n",
       "2  15662040   Лаврентьева       Анна   42      Ж  Ярославль\n",
       "3  15744090      Никитина  Олимпиада   39      Ж  Ярославль\n",
       "4  15780624     Некрасова       Майя   43      Ж    Рыбинск"
      ]
     },
     "execution_count": 5,
     "metadata": {},
     "output_type": "execute_result"
    }
   ],
   "source": [
    "# Выводим первые строки датафрейма на экран\n",
    "clients_df.head()"
   ]
  },
  {
   "cell_type": "code",
   "execution_count": null,
   "id": "7bd582ee",
   "metadata": {
    "id": "7bd582ee",
    "outputId": "46178f42-9d5d-4aa1-e69e-da4f687ba281"
   },
   "outputs": [
    {
     "name": "stdout",
     "output_type": "stream",
     "text": [
      "<class 'pandas.core.frame.DataFrame'>\n",
      "RangeIndex: 10000 entries, 0 to 9999\n",
      "Data columns (total 6 columns):\n",
      " #   Column     Non-Null Count  Dtype \n",
      "---  ------     --------------  ----- \n",
      " 0   userid     10000 non-null  int64 \n",
      " 1   LastName   10000 non-null  object\n",
      " 2   FirstName  10000 non-null  object\n",
      " 3   Age        10000 non-null  int64 \n",
      " 4   Gender     10000 non-null  object\n",
      " 5   City       10000 non-null  object\n",
      "dtypes: int64(2), object(4)\n",
      "memory usage: 468.9+ KB\n"
     ]
    }
   ],
   "source": [
    "# Выводим информацию о датафрейме\n",
    "clients_df.info()"
   ]
  },
  {
   "cell_type": "markdown",
   "id": "ee72a164",
   "metadata": {
    "id": "ee72a164"
   },
   "source": [
    "Датасет `clients_information.csv` содержит 6 столбцов и 10000 строк, в которых представлена информация о клиентах банка. По аналогии с предыдущим датасетом можно отметить, что:\n",
    "\n",
    "- Названия столбцов лучше привести к единому виду, например snake case.\n",
    "- Типы данных соответствуют содержимому. Тип данных для столбца `Age` можно оптимизировать с понижением размерности. Маловероятно, что он хранит сильно завышенные значения.\n",
    "- Пропусков на первый взгляд нет, однако следует проверить в столбцах значения-индикаторы, которые могут говорить об отсутствии данных.\n",
    "- Значения в столбцах соответствуют описанию.\n",
    "\n",
    "Первичное знакомство показывает, что данные хорошего качества — в них практически нет пропущенных значений, а сами данные соответствуют описанию и выглядят корректными. Настало время следующего этапа — предобработки данных.\n",
    "\n",
    "---"
   ]
  },
  {
   "cell_type": "markdown",
   "id": "589727a2",
   "metadata": {
    "id": "589727a2"
   },
   "source": [
    "## 2. Предобработка данных\n",
    "\n",
    "### 2.1. Меняем названия, или метки, столбцов датафрейма\n",
    "\n",
    "Для переименования используем метод `rename()`, которому передадим словарь с новыми названиями столбцов. Однако сначала выведем все названия на экран — так будет удобнее составлять словарь."
   ]
  },
  {
   "cell_type": "code",
   "execution_count": null,
   "id": "95819756",
   "metadata": {
    "id": "95819756",
    "outputId": "491e4ab5-7059-4792-f226-0f34f14d97ae"
   },
   "outputs": [
    {
     "data": {
      "text/plain": [
       "Index(['userid', 'score', 'Objects', 'Balance', 'Products', 'CreditCard',\n",
       "       'Loyalty', 'estimated_salary', 'Churn'],\n",
       "      dtype='object')"
      ]
     },
     "execution_count": 7,
     "metadata": {},
     "output_type": "execute_result"
    }
   ],
   "source": [
    "# Выводим названия столбцов датафрейма bank_df\n",
    "bank_df.columns"
   ]
  },
  {
   "cell_type": "code",
   "execution_count": null,
   "id": "4b0bb4a9",
   "metadata": {
    "id": "4b0bb4a9"
   },
   "outputs": [],
   "source": [
    "# Передаём методу rename() словарь с названиями столбцов\n",
    "bank_df = bank_df.rename(columns={'userid': 'userid',\n",
    "                                  'Objects': 'objects',\n",
    "                                  'Balance': 'balance',\n",
    "                                  'Products': 'products',\n",
    "                                  'CreditCard': 'credit_card',\n",
    "                                  'Loyalty': 'loyalty',\n",
    "                                  'Churn': 'churn'})"
   ]
  },
  {
   "cell_type": "markdown",
   "id": "7172e4f2",
   "metadata": {
    "id": "7172e4f2"
   },
   "source": [
    "В названиях столбцов мы поменяли стиль и исправили так называемый CamelCase. При CamelCase (англ. «верблюжий регистр») каждое слово начинается с большой буквы, а между словами нет пробелов и других символов.\n",
    "\n",
    "Чтобы из CamelCase перейти в snake_case, необходимо все заглавные символы сделать строчными, а между словами добавить подчёркивание `_`. Напишем такую функцию:"
   ]
  },
  {
   "cell_type": "code",
   "execution_count": null,
   "id": "84cd8ef8",
   "metadata": {
    "id": "84cd8ef8"
   },
   "outputs": [],
   "source": [
    "# Напишем функцию для корректировки названия столбцов из CamelCase в snake_case\n",
    "def col_to_snake_case(df):\n",
    "    \"\"\"\n",
    "    Функция приводит названия столбцов из CamelCase в snake_case.\n",
    "    Пример: столбец FirstName станет first_name.\n",
    "    В качестве аргументов принимает датафрейм.\n",
    "    Перебирает столбцы и проверяет каждый столбец.\n",
    "    Если первый символ является заглавной буквой, то он меняется на прописную.\n",
    "    Если в названии отыскиваются другие заглавные буквы, перед ними вставляется символ\n",
    "    подчёркивания, и буква меняется на прописную.\n",
    "    Функция возвращает исправленный датафрейм.\n",
    "    \"\"\"\n",
    "\n",
    "    for col in df.columns:\n",
    "        str_bad = col\n",
    "        if str_bad[0].isupper():\n",
    "            str_bad = str_bad[0].lower() + str_bad[1:]\n",
    "        for index_s, item_s in enumerate(str_bad):\n",
    "            if item_s.isupper():\n",
    "                str_bad = str_bad[:index_s] + '_' + str_bad[index_s].lower() + str_bad[index_s + 1:]\n",
    "        df = df.rename(columns={col: str_bad})\n",
    "    return df"
   ]
  },
  {
   "cell_type": "markdown",
   "id": "240c78d3",
   "metadata": {
    "id": "240c78d3"
   },
   "source": [
    "В качестве аргумента функция принимает датафрейм. Она перебирает все значения `df.columns`, то есть названия столбцов. Условие  `if str_bad[0].isupper()` проверяет, является ли первая буква названия заглавной. Если да, то её регистр поменяется. Затем перебираются все символы названия столбца `for index_s, item_s in enumerate(str_bad)`. Если встречается ещё один заглавный символ, то его регистр также меняется на нижний, и перед символом добавляется знак `_`. Применим функцию к датафрейму `clients_df`:"
   ]
  },
  {
   "cell_type": "code",
   "execution_count": null,
   "id": "cd6c2b58",
   "metadata": {
    "id": "cd6c2b58"
   },
   "outputs": [],
   "source": [
    "# Применяем функцию col_to_snake_case()\n",
    "clients_df = col_to_snake_case(clients_df)"
   ]
  },
  {
   "cell_type": "code",
   "execution_count": null,
   "id": "83a60c79",
   "metadata": {
    "id": "83a60c79",
    "outputId": "d4135db8-7d52-42ac-c8ab-657289e17268"
   },
   "outputs": [
    {
     "data": {
      "text/plain": [
       "Index(['userid', 'last_name', 'first_name', 'age', 'gender', 'city'], dtype='object')"
      ]
     },
     "execution_count": 11,
     "metadata": {},
     "output_type": "execute_result"
    }
   ],
   "source": [
    "# Выводим названия столбцов датафрейма clients_df\n",
    "clients_df.columns"
   ]
  },
  {
   "cell_type": "code",
   "execution_count": null,
   "id": "ef0cf6c9",
   "metadata": {
    "id": "ef0cf6c9",
    "outputId": "bd219909-134a-4c5e-f7eb-1e6a7e832852"
   },
   "outputs": [
    {
     "data": {
      "text/plain": [
       "Index(['userid', 'last_name', 'first_name', 'age', 'gender', 'city'], dtype='object')"
      ]
     },
     "execution_count": 12,
     "metadata": {},
     "output_type": "execute_result"
    }
   ],
   "source": [
    "# Выводим названия столбцов датафрейма clients_df\n",
    "clients_df.columns"
   ]
  },
  {
   "cell_type": "markdown",
   "id": "ecf13657",
   "metadata": {
    "id": "ecf13657"
   },
   "source": [
    "Названия столбцов были скорректированы. Теперь можно перейти к преобразованию типов данных.\n",
    "\n",
    "---"
   ]
  },
  {
   "cell_type": "markdown",
   "id": "255f30ae",
   "metadata": {
    "id": "255f30ae"
   },
   "source": [
    "### 2.2. Оптимизируем типы данных\n",
    "\n",
    "С данными банка здесь работы не так много — понадобится только провести оптимизацию целочисленных данных. В целом этот шаг можно было бы пропустить, особенно если данных немного — такое несоответствие не будет ошибкой при обработке данных. Однако для примера оставим этот шаг и проведём оптимизацию целочисленных типов данных.\n",
    "\n",
    "Для оптимизации будем использовать метод `pd.to_numeric` с аргументом `downcast='integer'`:"
   ]
  },
  {
   "cell_type": "code",
   "execution_count": null,
   "id": "7ceaf8a3",
   "metadata": {
    "id": "7ceaf8a3"
   },
   "outputs": [],
   "source": [
    "# Оптимизируем целочисленный тип данных в датафрейме bank_df\n",
    "for column in ['score','objects','products',\n",
    "               'credit_card','loyalty','churn']:\n",
    "    bank_df[column] = pd.to_numeric(bank_df[column],\n",
    "                                    downcast='integer')\n",
    "\n",
    "# Оптимизируем целочисленный тип данных в датафрейме clients_df\n",
    "clients_df['age'] = pd.to_numeric(clients_df['age'], downcast='integer')"
   ]
  },
  {
   "cell_type": "code",
   "execution_count": null,
   "id": "d9b8185b",
   "metadata": {
    "id": "d9b8185b",
    "outputId": "fae767eb-f0c3-4fe0-b263-04c59bcc705a"
   },
   "outputs": [
    {
     "data": {
      "text/plain": [
       "userid                int64\n",
       "score                 int16\n",
       "objects                int8\n",
       "balance             float64\n",
       "products               int8\n",
       "credit_card            int8\n",
       "loyalty                int8\n",
       "estimated_salary    float64\n",
       "churn                  int8\n",
       "dtype: object"
      ]
     },
     "execution_count": 14,
     "metadata": {},
     "output_type": "execute_result"
    }
   ],
   "source": [
    "# Проверим типы данных в датафрейме bank_df с помощью атрибута dtypes\n",
    "bank_df.dtypes"
   ]
  },
  {
   "cell_type": "code",
   "execution_count": null,
   "id": "53bfcbc6",
   "metadata": {
    "id": "53bfcbc6",
    "outputId": "7fdc8029-cb90-46ea-cdc2-9cd57d4f30ea"
   },
   "outputs": [
    {
     "data": {
      "text/plain": [
       "userid         int64\n",
       "last_name     object\n",
       "first_name    object\n",
       "age             int8\n",
       "gender        object\n",
       "city          object\n",
       "dtype: object"
      ]
     },
     "execution_count": 15,
     "metadata": {},
     "output_type": "execute_result"
    }
   ],
   "source": [
    "# Проверим типы данных в датафрейме clients_df с помощью атрибута dtypes\n",
    "clients_df.dtypes"
   ]
  },
  {
   "cell_type": "markdown",
   "id": "ace0ba7d",
   "metadata": {
    "id": "ace0ba7d"
   },
   "source": [
    "Типы данных были успешно оптимизированы с понижением размерности целочисленных данных.\n",
    "\n",
    "---"
   ]
  },
  {
   "cell_type": "markdown",
   "id": "135f0651",
   "metadata": {
    "id": "135f0651"
   },
   "source": [
    "### 2.3. Проверяем наличие пропусков в данных\n",
    "\n",
    "При первичном анализе мы обнаружили пропуски в столбце `balance` датафрейма `bank_df`. Узнаем абсолютное и относительное количество пропусков в этом столбце."
   ]
  },
  {
   "cell_type": "code",
   "execution_count": null,
   "id": "f7989a4a",
   "metadata": {
    "id": "f7989a4a",
    "outputId": "745e6db9-e316-40fb-f5b3-7fdbbaceafb0"
   },
   "outputs": [
    {
     "data": {
      "text/plain": [
       "userid                 0\n",
       "score                  0\n",
       "objects                0\n",
       "balance             3617\n",
       "products               0\n",
       "credit_card            0\n",
       "loyalty                0\n",
       "estimated_salary       0\n",
       "churn                  0\n",
       "dtype: int64"
      ]
     },
     "execution_count": 16,
     "metadata": {},
     "output_type": "execute_result"
    }
   ],
   "source": [
    "# Применяем метод isna() к датафрейму bank_df\n",
    "bank_df.isna().sum()"
   ]
  },
  {
   "cell_type": "code",
   "execution_count": null,
   "id": "ee37014b",
   "metadata": {
    "id": "ee37014b",
    "outputId": "40c5f5ac-f38b-4e8b-bd1b-b07ff36f7893"
   },
   "outputs": [
    {
     "data": {
      "text/plain": [
       "userid              0.0000\n",
       "score               0.0000\n",
       "objects             0.0000\n",
       "balance             0.3617\n",
       "products            0.0000\n",
       "credit_card         0.0000\n",
       "loyalty             0.0000\n",
       "estimated_salary    0.0000\n",
       "churn               0.0000\n",
       "dtype: float64"
      ]
     },
     "execution_count": 17,
     "metadata": {},
     "output_type": "execute_result"
    }
   ],
   "source": [
    "# Подсчитываем долю строк с пропусками\n",
    "bank_df.isna().sum() / bank_df.shape[0]"
   ]
  },
  {
   "cell_type": "markdown",
   "id": "56347d27",
   "metadata": {
    "id": "56347d27"
   },
   "source": [
    "В датафрейме `bank_df` обнаружено 3617 пропусков в столбце `balance` — это 36% данных. Количество пропусков достаточно большое, чтобы их просто удалить.\n",
    "\n",
    "Пропуски в этом столбце могут быть вызваны:\n",
    "- Клиент не пользуется услугами банка, которые подразумевают открытие счёта. Среди таких услуг, к примеру, страхование. Однако у нас нет данных о типе услуги клиента, поэтому достоверно проверить эту гипотезу не получится. Этот тип пропусков можно отнести к типу MNAR.\n",
    "- При обработке данных произошёл технический сбой. Технические ошибки могут привести к пропускам в данных, включая случаи, когда баланс не был записан. Этот тип пропусков можно отнести к типу MCAR.\n",
    "- Клиент закрыл свой счёт и прекратил пользоваться услугами банка. Если клиент ушёл из банка и закрыл счёт, это также может быть причиной отсутствия данных о балансе. Можно проверить эту гипотезу, если проанализировать значения в столбцах `churn` и `products` в строках с пропусками. Этот тип пропусков можно отнести к типу MAR.\n",
    "\n",
    "\n",
    "Чтобы разобраться с причиной пропусков, обычно анализируют возможные взаимосвязи пропусков с другими данными. Для этого добавим новый столбец-признак `is_balance`, который укажет на наличие пропуска в столбце `balance`.\n",
    "\n",
    "Если в строке нет пропуска и в ней хранится информация о балансе, то значение в новом столбце будет 1, то есть `True`. Если в строке пропуск и баланса нет, то в столбец войдёт 0, то есть `False`. Такой подход помогает присвоить данным бинарный признак, как, например, в столбце `churn`. Затем можно использовать эти данные для изучения корреляции между данными с пропусками. Этот признак также можно использовать для группировки данных и сравнения результатов по данным с пропусками и без.\n",
    "\n",
    "Напишем небольшую функцию:"
   ]
  },
  {
   "cell_type": "code",
   "execution_count": null,
   "id": "98ce65b5",
   "metadata": {
    "id": "98ce65b5"
   },
   "outputs": [],
   "source": [
    "# Определяем функцию, которая создаст новый столбец с бинарным признаком в зависимости от наличия данных в другом столбце\n",
    "def create_is_na(x):\n",
    "    \"\"\"\n",
    "    Функция создаёт новый столбец с бинарным признаком, который указывает\n",
    "    на наличие данных в столбце. Функция применяется к столбцу после метода isna()\n",
    "    \"\"\"\n",
    "    if x:\n",
    "        return 0\n",
    "    return 1"
   ]
  },
  {
   "cell_type": "markdown",
   "id": "a4df77eb",
   "metadata": {
    "id": "a4df77eb"
   },
   "source": [
    "Функция применяется к столбцу, в котором следует проверить данные, после метода `isna()`. Как вы знаете, этот метод проверяет пропуски в данных и, если пропуск есть, возвращает `True`. В случае `True` срабатывает условие `if x` — функция возвращает 0, что означает, что в столбце нет данных. Если пропуска нет, метод `isna()` вернёт `False`. Тогда условие `if x` не сработает, и код вернёт 1. Применим эту функцию к столбцу `balance` и создадим новый столбец `is_balance`:"
   ]
  },
  {
   "cell_type": "markdown",
   "id": "z5z6aMi6uSaQ",
   "metadata": {
    "id": "z5z6aMi6uSaQ"
   },
   "source": []
  },
  {
   "cell_type": "code",
   "execution_count": null,
   "id": "44f06e35",
   "metadata": {
    "id": "44f06e35"
   },
   "outputs": [],
   "source": [
    "# Создаём столбец is_balance с помощью функции create_is_na\n",
    "bank_df['is_balance'] = bank_df['balance'].isna().apply(create_is_na)"
   ]
  },
  {
   "cell_type": "markdown",
   "id": "5619e200",
   "metadata": {
    "id": "5619e200"
   },
   "source": [
    "После того как столбец-признак `is_balance` был создан, можно посчитать средние значения или медиану по другим столбцам. Это поможет получить характеристики клиентов с пропуском и без пропуска в столбце `balance`. Для этого проведём агрегацию данных:\n",
    "\n",
    "- Для данных с дискретными признаками `objects` и `products` будем использовать медиану `median`. Для таких значений среднее может быть дробным числом, а медиана, как правило, будет числом целым, которое проще интерпретировать.\n",
    "- Для непрерывных вещественных данных `score` и `estimated_salary` используем среднее `mean`, чтобы охарактеризовать типичное значение.\n",
    "- Для бинарных данных `credit_card`, `loyalty` и `churn` также используем среднее значение `mean` — оно будет соответствовать доли значений с признаком 1."
   ]
  },
  {
   "cell_type": "code",
   "execution_count": null,
   "id": "d997d134",
   "metadata": {
    "id": "d997d134",
    "outputId": "0863a53a-6079-485e-8853-1214a3bd2073"
   },
   "outputs": [
    {
     "data": {
      "text/html": [
       "<div>\n",
       "<style scoped>\n",
       "    .dataframe tbody tr th:only-of-type {\n",
       "        vertical-align: middle;\n",
       "    }\n",
       "\n",
       "    .dataframe tbody tr th {\n",
       "        vertical-align: top;\n",
       "    }\n",
       "\n",
       "    .dataframe thead th {\n",
       "        text-align: right;\n",
       "    }\n",
       "</style>\n",
       "<table border=\"1\" class=\"dataframe\">\n",
       "  <thead>\n",
       "    <tr style=\"text-align: right;\">\n",
       "      <th></th>\n",
       "      <th>score</th>\n",
       "      <th>objects</th>\n",
       "      <th>products</th>\n",
       "      <th>credit_card</th>\n",
       "      <th>loyalty</th>\n",
       "      <th>churn</th>\n",
       "      <th>estimated_salary</th>\n",
       "    </tr>\n",
       "    <tr>\n",
       "      <th>is_balance</th>\n",
       "      <th></th>\n",
       "      <th></th>\n",
       "      <th></th>\n",
       "      <th></th>\n",
       "      <th></th>\n",
       "      <th></th>\n",
       "      <th></th>\n",
       "    </tr>\n",
       "  </thead>\n",
       "  <tbody>\n",
       "    <tr>\n",
       "      <th>0</th>\n",
       "      <td>649.452861</td>\n",
       "      <td>5.0</td>\n",
       "      <td>2.0</td>\n",
       "      <td>0.716616</td>\n",
       "      <td>0.517832</td>\n",
       "      <td>0.138236</td>\n",
       "      <td>98983.559549</td>\n",
       "    </tr>\n",
       "    <tr>\n",
       "      <th>1</th>\n",
       "      <td>651.138493</td>\n",
       "      <td>5.0</td>\n",
       "      <td>1.0</td>\n",
       "      <td>0.699201</td>\n",
       "      <td>0.513552</td>\n",
       "      <td>0.240796</td>\n",
       "      <td>100717.352956</td>\n",
       "    </tr>\n",
       "  </tbody>\n",
       "</table>\n",
       "</div>"
      ],
      "text/plain": [
       "                 score  objects  products  credit_card   loyalty     churn  \\\n",
       "is_balance                                                                   \n",
       "0           649.452861      5.0       2.0     0.716616  0.517832  0.138236   \n",
       "1           651.138493      5.0       1.0     0.699201  0.513552  0.240796   \n",
       "\n",
       "            estimated_salary  \n",
       "is_balance                    \n",
       "0               98983.559549  \n",
       "1              100717.352956  "
      ]
     },
     "execution_count": 20,
     "metadata": {},
     "output_type": "execute_result"
    }
   ],
   "source": [
    "# Проводим агрегацию данных по полю is_balance\n",
    "bank_df.groupby('is_balance').agg({\n",
    "    'score':'mean',\n",
    "    'objects':'median',\n",
    "    'products':'median',\n",
    "    'credit_card':'mean',\n",
    "    'loyalty':'mean',\n",
    "    'churn':'mean',\n",
    "    'estimated_salary':'mean'\n",
    "})"
   ]
  },
  {
   "cell_type": "markdown",
   "id": "48931a8a",
   "metadata": {
    "id": "48931a8a"
   },
   "source": [
    "Можно сделать такие выводы о связи между пропусками в столбце `balance` и другими характеристиками клиентов:\n",
    "\n",
    "- У клиентов с пропусками в `balance` в среднем больше продуктов, чем у клиентов без пропусков: у клиентов с пропусками в среднем два продукта, а у клиентов без пропусков — только один.\n",
    "- Клиенты с указанным балансом чаще перестают пользоваться услугами банка, а количество объектов недвижимости не влияет на наличие пропуска в столбце `balance`.\n",
    "\n",
    "Пропуски в столбце `balance`, скорее всего, неслучайны и могут зависеть от разных факторов, о которых у нас нет информации. Например, от названия продукта.\n",
    "\n",
    "---\n",
    "\n",
    "Далее проверим, встречаются ли в данных значения-индикаторы, которые можно рассматривать как пропуски. Иногда для анализа поступают уже частично или полностью подготовленные данные. Если аналитик не знает, по какому алгоритму происходили первичный сбор и обработка данных, лучше дополнительно проверить, использовались ли значения-индикаторы для замены пропусков. Это поможет понять качество данных и избежать ошибок при их агрегации, когда значение-индикатор будет учитываться при расчёте среднего или медианы, что исказит исходные данные.\n",
    "\n",
    "Посмотрим на уникальные значения в ключевых данных — среди них количество продуктов, объекты недвижимости, наличие кредитной карты, специальные условия обслуживания и признак, по которому клиент ушёл из банка."
   ]
  },
  {
   "cell_type": "code",
   "execution_count": null,
   "id": "e38d9019",
   "metadata": {
    "id": "e38d9019",
    "outputId": "e576e32b-37cb-465e-e7c5-f6b60f14869c"
   },
   "outputs": [
    {
     "name": "stdout",
     "output_type": "stream",
     "text": [
      "Уникальные значения в столбце objects:\n",
      "[ 0  1  2  3  4  5  6  7  8  9 10]\n",
      "\n",
      "Уникальные значения в столбце products:\n",
      "[1 2 3 4]\n",
      "\n",
      "Уникальные значения в столбце credit_card:\n",
      "[0 1]\n",
      "\n",
      "Уникальные значения в столбце loyalty:\n",
      "[0 1]\n",
      "\n",
      "Уникальные значения в столбце churn:\n",
      "[0 1]\n",
      "\n"
     ]
    }
   ],
   "source": [
    "# Проверяем уникальные значения в столбцах\n",
    "for column in ['objects', 'products', 'credit_card', 'loyalty', 'churn']:\n",
    "    print(f'Уникальные значения в столбце {column}:')\n",
    "    print(bank_df[column].sort_values().unique())\n",
    "    print()"
   ]
  },
  {
   "cell_type": "markdown",
   "id": "40aa8a6d",
   "metadata": {
    "id": "40aa8a6d"
   },
   "source": [
    "Все значения выглядят корректными. Теперь можно перейти к изучению дубликатов в данных.\n",
    "\n",
    "---"
   ]
  },
  {
   "cell_type": "markdown",
   "id": "3fb473cb",
   "metadata": {
    "id": "3fb473cb"
   },
   "source": [
    "### 2.4. Явные и неявные дубликаты в данных\n",
    "\n",
    "Проверим данные на наличие явных и неявных дубликатов. Начнём с полных дубликатов:"
   ]
  },
  {
   "cell_type": "code",
   "execution_count": null,
   "id": "8b9cafc2",
   "metadata": {
    "id": "8b9cafc2",
    "outputId": "6d7a6fbe-f95e-43bc-d378-0f95ac58cc44"
   },
   "outputs": [
    {
     "data": {
      "text/plain": [
       "0"
      ]
     },
     "execution_count": 22,
     "metadata": {},
     "output_type": "execute_result"
    }
   ],
   "source": [
    "# Проверяем полные дубликаты в датафрейме bank_df\n",
    "bank_df.duplicated().sum()"
   ]
  },
  {
   "cell_type": "code",
   "execution_count": null,
   "id": "c69b2069",
   "metadata": {
    "id": "c69b2069",
    "outputId": "dd6ad932-31eb-475f-822a-516579721609"
   },
   "outputs": [
    {
     "data": {
      "text/plain": [
       "0"
      ]
     },
     "execution_count": 23,
     "metadata": {},
     "output_type": "execute_result"
    }
   ],
   "source": [
    "# Проверяем полные дубликаты в датафрейме clients_df\n",
    "clients_df.duplicated().sum()"
   ]
  },
  {
   "cell_type": "markdown",
   "id": "08fb0131",
   "metadata": {
    "id": "08fb0131"
   },
   "source": [
    "В датафреймах нет полных дубликатов строк. Проверим неявные дубликаты — значения по `id` клиентов должны быть уникальными, то есть каждая строка в данных — уникальный клиент:"
   ]
  },
  {
   "cell_type": "code",
   "execution_count": null,
   "id": "51874b83",
   "metadata": {
    "id": "51874b83",
    "outputId": "8a5043d9-4c18-4bcf-87fa-4236578b93bc"
   },
   "outputs": [
    {
     "data": {
      "text/plain": [
       "0"
      ]
     },
     "execution_count": 24,
     "metadata": {},
     "output_type": "execute_result"
    }
   ],
   "source": [
    "# Проверяем неявные дубликаты в датафрейме bank_df\n",
    "bank_df.duplicated(subset='userid').sum()"
   ]
  },
  {
   "cell_type": "code",
   "execution_count": null,
   "id": "a042edd6",
   "metadata": {
    "id": "a042edd6",
    "outputId": "edc81cfe-320d-45e5-92c3-5a103955cebb"
   },
   "outputs": [
    {
     "data": {
      "text/plain": [
       "0"
      ]
     },
     "execution_count": 25,
     "metadata": {},
     "output_type": "execute_result"
    }
   ],
   "source": [
    "# Проверяем неявные дубликаты в датафрейме clients_df\n",
    "clients_df.duplicated(subset='userid').sum()"
   ]
  },
  {
   "cell_type": "markdown",
   "id": "f1e0db72",
   "metadata": {
    "id": "f1e0db72"
   },
   "source": [
    "Тут тоже всё хорошо — каждая строка соответствует уникальному клиенту. Теперь проверим корректность написания категориальных значений в данных `clients_df`."
   ]
  },
  {
   "cell_type": "code",
   "execution_count": null,
   "id": "e11e211f",
   "metadata": {
    "id": "e11e211f",
    "outputId": "8bd8a115-1a93-40d0-fe41-9d2ebc6c2aee"
   },
   "outputs": [
    {
     "name": "stdout",
     "output_type": "stream",
     "text": [
      "Уникальные значения в столбце gender:\n",
      "['Ж' 'М']\n",
      "\n",
      "Уникальные значения в столбце city:\n",
      "['Ростов Великий' 'Рыбинск' 'Ярославль']\n",
      "\n"
     ]
    }
   ],
   "source": [
    "# Проверяем уникальные значения в категориальных столбцах\n",
    "for column in ['gender', 'city']:\n",
    "    print(f'Уникальные значения в столбце {column}:')\n",
    "    print(clients_df[column].sort_values().unique())\n",
    "    print()"
   ]
  },
  {
   "cell_type": "markdown",
   "id": "8106aa7f",
   "metadata": {
    "id": "8106aa7f"
   },
   "source": [
    "В обозначении пола клиента и его города регистрации также нет ошибок.\n",
    "\n",
    "---"
   ]
  },
  {
   "cell_type": "markdown",
   "id": "11c220e5",
   "metadata": {
    "id": "11c220e5"
   },
   "source": [
    "### 2.5. Промежуточные выводы после предобработки\n",
    "\n",
    "На этом предобработка завершена. Предоставленные данные хорошего качества и требуют не так много действий по предобработке. Однако, независимо от качества данных, лучше завершить этот этап небольшим промежуточным выводом: отметить основные действия и ошибки, с которыми вы столкнулись на этом шаге.\n",
    "\n",
    "В результате предобработки данных были выполнены следующие действия:\n",
    "\n",
    "- Скорректированы названия столбцов — их привели к стилю snake case;\n",
    "- Изучены пропуски в данных. Пропуски обнаружились в столбце `balance` и составляют около 36% данных столбца. Учитывая это количество, пропуски могут отражать особенности использования услуг клиентами и не являться ошибкой в данных. Поэтому их оставили как есть.\n",
    "- Данные проверили на явные и неявные дубликаты — в данных их нет.\n",
    "\n",
    "---"
   ]
  },
  {
   "cell_type": "markdown",
   "id": "acc7d273",
   "metadata": {
    "id": "acc7d273"
   },
   "source": [
    "### 2.6. Подготовка единого датафрейма\n",
    "\n",
    "Задача проекта предполагает создание портрета клиента для анализа его лояльности. Поэтому можно соединить данные о том, как клиент пользуется банковскими продуктами из таблицы `bank_df`, с персональными данными — возрастом и городом проживания из таблицы `clients_df`.\n",
    "\n",
    "Каждая строка в этих датафреймах — это информация о клиенте, поэтому такие данные удобно соединить в один датафрейм, который можно использовать для поиска закономерностей в данных. Соединять данные будем по идентификатору клиента. При соединении оставим только полные данные — это значит, что значение `userid` клиента должно быть в двух датафреймах.\n",
    "\n",
    "Соединим данные, используя значение параметра `how` по умолчанию — `'inner'`. Это позволит оставить только полные данные по клиентам банка."
   ]
  },
  {
   "cell_type": "code",
   "execution_count": null,
   "id": "92ebc822",
   "metadata": {
    "id": "92ebc822"
   },
   "outputs": [],
   "source": [
    "# Соединяем данные в единый датафрейм df\n",
    "df = bank_df.merge(clients_df, on='userid')"
   ]
  },
  {
   "cell_type": "code",
   "execution_count": null,
   "id": "abf19dee",
   "metadata": {
    "id": "abf19dee",
    "outputId": "f1d9e7b0-bffc-405c-a35f-b28631d4e987"
   },
   "outputs": [
    {
     "name": "stdout",
     "output_type": "stream",
     "text": [
      "<class 'pandas.core.frame.DataFrame'>\n",
      "Int64Index: 10000 entries, 0 to 9999\n",
      "Data columns (total 15 columns):\n",
      " #   Column            Non-Null Count  Dtype  \n",
      "---  ------            --------------  -----  \n",
      " 0   userid            10000 non-null  int64  \n",
      " 1   score             10000 non-null  int16  \n",
      " 2   objects           10000 non-null  int8   \n",
      " 3   balance           6383 non-null   float64\n",
      " 4   products          10000 non-null  int8   \n",
      " 5   credit_card       10000 non-null  int8   \n",
      " 6   loyalty           10000 non-null  int8   \n",
      " 7   estimated_salary  10000 non-null  float64\n",
      " 8   churn             10000 non-null  int8   \n",
      " 9   is_balance        10000 non-null  int64  \n",
      " 10  last_name         10000 non-null  object \n",
      " 11  first_name        10000 non-null  object \n",
      " 12  age               10000 non-null  int8   \n",
      " 13  gender            10000 non-null  object \n",
      " 14  city              10000 non-null  object \n",
      "dtypes: float64(2), int16(1), int64(2), int8(6), object(4)\n",
      "memory usage: 781.2+ KB\n"
     ]
    }
   ],
   "source": [
    "# Выводим информацию о датафрейме\n",
    "df.info()"
   ]
  },
  {
   "cell_type": "markdown",
   "id": "4e6d952e",
   "metadata": {
    "id": "4e6d952e"
   },
   "source": [
    "Данные соединены, и информация обо всех пользователях сохранилась.\n",
    "\n",
    "---"
   ]
  },
  {
   "cell_type": "markdown",
   "id": "cdc4e8e9",
   "metadata": {
    "id": "cdc4e8e9"
   },
   "source": [
    "## 3. Исследовательский анализ данных\n"
   ]
  },
  {
   "cell_type": "markdown",
   "id": "bff28bdc",
   "metadata": {
    "id": "bff28bdc"
   },
   "source": [
    "### 3.1. Числовые данные с небольшим количеством значений\n",
    "\n",
    "Начнём с числовых данных. Рассмотрим ситуацию, когда уникальных значений немного и они дискретные, как, например, количество объектов собственности или количество продуктов банка, которые использует клиент. В таком случае стоит оценить распределение данных по этим категориям.\n",
    "\n",
    "Вторая ситуация — когда данные представлены непрерывными значениям, как, например, баланс клиента на счёте. Тогда будем оценивать их статистические показатели и строить гистограммы распределения значений и диаграммы размаха для проверки выбросов.\n",
    "\n",
    "Сначала разберём столбец `objects`, который хранит целочисленные дискретные значения. Количество уникальных значений в нём невелико — от 0 до 10. Это мы узнали на этапе предобработки данных."
   ]
  },
  {
   "cell_type": "code",
   "execution_count": null,
   "id": "b179b535",
   "metadata": {
    "id": "b179b535",
    "outputId": "8d8db216-4672-4d5c-b66f-fadcb690a680"
   },
   "outputs": [
    {
     "name": "stdout",
     "output_type": "stream",
     "text": [
      "Распределение данных по значениям столбца objects:\n"
     ]
    },
    {
     "data": {
      "text/plain": [
       "2     1048\n",
       "1     1035\n",
       "7     1028\n",
       "8     1025\n",
       "5     1012\n",
       "3     1009\n",
       "4      989\n",
       "9      984\n",
       "6      967\n",
       "10     490\n",
       "0      413\n",
       "Name: objects, dtype: int64"
      ]
     },
     "execution_count": 29,
     "metadata": {},
     "output_type": "execute_result"
    }
   ],
   "source": [
    "# Проверяем распределение данных по значениям столбца objects\n",
    "print('Распределение данных по значениям столбца objects:')\n",
    "df['objects'].value_counts()"
   ]
  },
  {
   "cell_type": "markdown",
   "id": "5718fbb1",
   "metadata": {
    "id": "5718fbb1"
   },
   "source": [
    "Результаты показывают, что всего в этом столбце 11 уникальных значений — от 0 до 10, при этом 0 и 10 самые непопулярные. Остальные значения содержат примерно равное количество клиентов — около 1000.\n",
    "\n",
    "По этим данным можно сделать вывод, что все значения в этом столбце примерно сопоставимы по количеству данных, за исключением двух категорий, где данных в два раза меньше (0 и 10 объектов). Это стоит учитывать при сравнении статистических показателей разных категорий."
   ]
  },
  {
   "cell_type": "markdown",
   "id": "a03deb61",
   "metadata": {
    "id": "a03deb61"
   },
   "source": [
    "Для анализа данных в таких столбцах можно использовать группировку по уникальному значению с подсчётом определённых параметров, например уникальных идентификаторов клиентов или среднего значения баланса. Узнаем уникальное количество клиентов по значениям столбца `objects`:"
   ]
  },
  {
   "cell_type": "code",
   "execution_count": null,
   "id": "c845e211",
   "metadata": {
    "id": "c845e211",
    "outputId": "c71bd0be-316c-48e3-a111-82a230f74e7d"
   },
   "outputs": [
    {
     "name": "stdout",
     "output_type": "stream",
     "text": [
      "Распределение клиентов по значениям столбца objects:\n"
     ]
    },
    {
     "data": {
      "text/plain": [
       "objects\n",
       "0      413\n",
       "1     1035\n",
       "2     1048\n",
       "3     1009\n",
       "4      989\n",
       "5     1012\n",
       "6      967\n",
       "7     1028\n",
       "8     1025\n",
       "9      984\n",
       "10     490\n",
       "Name: userid, dtype: int64"
      ]
     },
     "execution_count": 30,
     "metadata": {},
     "output_type": "execute_result"
    }
   ],
   "source": [
    "# Посчитаем количество уникальных клиентов для каждого значения столбца objects\n",
    "print('Распределение клиентов по значениям столбца objects:')\n",
    "df.groupby('objects')['userid'].nunique()"
   ]
  },
  {
   "cell_type": "markdown",
   "id": "5f084b03",
   "metadata": {
    "id": "5f084b03"
   },
   "source": [
    "Аналогичным образом проверим данные в столбце `products`:"
   ]
  },
  {
   "cell_type": "code",
   "execution_count": null,
   "id": "b0cba005",
   "metadata": {
    "id": "b0cba005",
    "outputId": "b56ed32e-7442-4350-c040-458f9f0c8937"
   },
   "outputs": [
    {
     "name": "stdout",
     "output_type": "stream",
     "text": [
      "Распределение данных по значениям столбца products:\n"
     ]
    },
    {
     "data": {
      "text/plain": [
       "1    5084\n",
       "2    4590\n",
       "3     266\n",
       "4      60\n",
       "Name: products, dtype: int64"
      ]
     },
     "execution_count": 31,
     "metadata": {},
     "output_type": "execute_result"
    }
   ],
   "source": [
    "# Проверяем распределение данных по значениям столбца products\n",
    "print('Распределение данных по значениям столбца products:')\n",
    "df['products'].value_counts()"
   ]
  },
  {
   "cell_type": "markdown",
   "id": "11894f9e",
   "metadata": {
    "id": "11894f9e"
   },
   "source": [
    "Клиенты в основном предпочитают один или два продукта, и общее количество клиентов в этих категориях представлено близкими значениями. А вот тремя и четырьмя продуктами пользуется гораздо меньше людей. Это значит, что клиенты распределены неравномерно между количеством продуктов, и это накладывает свои ограничения на сравнение групп между собой.\n",
    "\n",
    "Для визуального анализа такого распределения можно использовать столбчатые диаграммы. Визуализируем распределение в столбце `products`:"
   ]
  },
  {
   "cell_type": "code",
   "execution_count": null,
   "id": "62b634e7",
   "metadata": {
    "id": "62b634e7",
    "outputId": "3ce58865-cef9-483f-9471-0d050d35d872"
   },
   "outputs": [
    {
     "data": {
      "image/png": "[encoded data removed]",
      "text/plain": [
       "<Figure size 700x300 with 1 Axes>"
      ]
     },
     "metadata": {},
     "output_type": "display_data"
    }
   ],
   "source": [
    "# Создаём контейнер графика matplotlib и задаём его размер\n",
    "plt.figure(figsize=(7, 3))\n",
    "\n",
    "# Строим столбчатую диаграмму с помощью pandas через plot(kind='bar')\n",
    "df['products'].value_counts().plot(\n",
    "               kind='bar', # Тип графика - столбчатая диаграмма\n",
    "               rot=0, # Градус вращения подписи по оси Х\n",
    "               legend=False, # Выключаем легенду\n",
    "               title=f'Распределение клиентов в зависимости от количества продуктов банка'\n",
    ")\n",
    "\n",
    "# Настраиваем оформление графика\n",
    "plt.xlabel('Количество продуктов банка')\n",
    "plt.ylabel('Количество клиентов')\n",
    "# Добавляем сетку графика\n",
    "plt.grid()\n",
    "\n",
    "# Выводим график\n",
    "plt.show()"
   ]
  },
  {
   "cell_type": "markdown",
   "id": "eca82650",
   "metadata": {
    "id": "eca82650"
   },
   "source": [
    "Из категорий по количеству продуктов две значительно преобладают — теперь это хорошо видно.\n",
    "\n",
    "---"
   ]
  },
  {
   "cell_type": "markdown",
   "id": "5fc432ee",
   "metadata": {
    "id": "5fc432ee"
   },
   "source": [
    "### 3.2. Непрерывные числовые данные\n",
    "\n",
    "Теперь посмотрим на данные кредитного рейтинга клиента `score` и его баланса на счёте `balance`. Значения в них относятся к непрерывным вещественным данным.\n",
    "\n",
    "Начнём с баланса — при знакомстве с подобными данными вначале стоит оценить статические показатели. Для этого используем метод `describe()`:"
   ]
  },
  {
   "cell_type": "code",
   "execution_count": null,
   "id": "20b08ac2",
   "metadata": {
    "id": "20b08ac2",
    "outputId": "9a8ed35e-a359-4525-8c3e-24e4cde8ab42"
   },
   "outputs": [
    {
     "name": "stdout",
     "output_type": "stream",
     "text": [
      "Статистические показатели столбца balance:\n"
     ]
    },
    {
     "data": {
      "text/plain": [
       "count      6383.000000\n",
       "mean     119827.493793\n",
       "std       30095.056462\n",
       "min        3768.690000\n",
       "25%      100181.975000\n",
       "50%      119839.690000\n",
       "75%      139512.290000\n",
       "max      250898.090000\n",
       "Name: balance, dtype: float64"
      ]
     },
     "execution_count": 33,
     "metadata": {},
     "output_type": "execute_result"
    }
   ],
   "source": [
    "# Изучаем статистические показатели столбца balance\n",
    "print('Статистические показатели столбца balance:')\n",
    "df['balance'].describe()"
   ]
  },
  {
   "cell_type": "markdown",
   "id": "ad44812f",
   "metadata": {
    "id": "ad44812f"
   },
   "source": [
    "Можно предположить, что данные баланса имеют распределение, близкое к нормальному. Об этом говорит близость среднего и медианного значений. Однако значение стандартного отклонения довольно высокое — 30095.06, и при среднем 119827.49 это указывает, что данные могут иметь широкий разброс. Разница между минимальным и максимальным значениями это подтверждает.\n",
    "\n",
    "Дополнительно проверим это и построим гистограмму распределения значений и диаграмму размаха для столбца с балансом."
   ]
  },
  {
   "cell_type": "code",
   "execution_count": null,
   "id": "776c95d6",
   "metadata": {
    "id": "776c95d6",
    "outputId": "3ef4d7c9-6539-4af5-92e9-55bcd3823bbe"
   },
   "outputs": [
    {
     "data": {
      "image/png": "[encoded data removed]",
      "text/plain": [
       "<Figure size 700x300 with 1 Axes>"
      ]
     },
     "metadata": {},
     "output_type": "display_data"
    }
   ],
   "source": [
    "# Создаём контейнер графика matplotlib и задаём его размер\n",
    "plt.figure(figsize=(7, 3))\n",
    "\n",
    "# Строим гистограмму с помощью pandas через plot(kind='hist')\n",
    "df['balance'].plot(\n",
    "                kind='hist', # Тип графика - гистограмма\n",
    "                bins=25, # Устанавливаем количество корзин - всего 25\n",
    "                alpha=0.75,\n",
    "                edgecolor='black',\n",
    "                rot=0, # Градус вращения подписи по оси Х\n",
    ")\n",
    "\n",
    "# Настраиваем оформление графика\n",
    "plt.title('Распределение значений баланса клиентов')\n",
    "plt.xlabel('Баланс клиента')\n",
    "plt.ylabel('Частота')\n",
    "# Добавляем сетку графика\n",
    "plt.grid()\n",
    "\n",
    "# Выводим график\n",
    "plt.show()"
   ]
  },
  {
   "cell_type": "code",
   "execution_count": null,
   "id": "669d8324",
   "metadata": {
    "id": "669d8324",
    "outputId": "e217b820-4c42-4b6b-a0b1-1317a4e3631a"
   },
   "outputs": [
    {
     "data": {
      "image/png": "[encoded data removed]",
      "text/plain": [
       "<Figure size 700x200 with 1 Axes>"
      ]
     },
     "metadata": {},
     "output_type": "display_data"
    }
   ],
   "source": [
    "# Создаём контейнер графика matplotlib и задаём его размер\n",
    "plt.figure(figsize=(7, 2))\n",
    "\n",
    "# Строим диаграмму размаха значений в столбце balance\n",
    "df.boxplot(column='balance', vert=False)\n",
    "\n",
    "# Добавляем заголовок и метки оси\n",
    "plt.title('Распределение значений баланса клиента')\n",
    "plt.xlabel('Баланс клиента')\n",
    "\n",
    "# Выводим график\n",
    "plt.show()"
   ]
  },
  {
   "cell_type": "markdown",
   "id": "313601ca",
   "metadata": {
    "id": "313601ca"
   },
   "source": [
    "Распределение данных действительно выглядит нормальным, однако характеризуется широким разбросом и «хвостами» как в левой, так и в правой части гистограммы. Такие низкие и высокие значения можно отнести к выбросам. Однако сами значения, как минимальные, так и максимальные, не выглядят ошибкой, и такой баланс у клиента вполне допустим. Поэтому при анализе данных их оставим.\n",
    "\n",
    "Теперь изучим распределение значений в столбце `score`:"
   ]
  },
  {
   "cell_type": "code",
   "execution_count": null,
   "id": "a809b224",
   "metadata": {
    "id": "a809b224",
    "outputId": "05cf6903-9ac9-4f71-cd30-517a3b3cc5e2"
   },
   "outputs": [
    {
     "data": {
      "image/png": "[encoded data removed]",
      "text/plain": [
       "<Figure size 700x300 with 1 Axes>"
      ]
     },
     "metadata": {},
     "output_type": "display_data"
    }
   ],
   "source": [
    "# Создаём контейнер графика matplotlib и задаём его размер\n",
    "plt.figure(figsize=(7, 3))\n",
    "\n",
    "# Строим гистограмму с помощью pandas через plot(kind='hist')\n",
    "df['score'].plot(\n",
    "                kind='hist', # Тип графика - гистограмма\n",
    "                bins=50, # Устанавливаем количество корзин\n",
    "                alpha=0.75,\n",
    "                edgecolor='black',\n",
    "                rot=0, # Градус вращения подписи по оси Х\n",
    ")\n",
    "\n",
    "# Настраиваем оформление графика\n",
    "plt.title('Распределение значений кредитного рейтинга клиента')\n",
    "plt.xlabel('Кредитный рейтинг клиента')\n",
    "plt.ylabel('Частота')\n",
    "# Добавляем сетку графика\n",
    "plt.grid()\n",
    "\n",
    "# Выводим график\n",
    "plt.show()"
   ]
  },
  {
   "cell_type": "markdown",
   "id": "f19844a4",
   "metadata": {
    "id": "f19844a4"
   },
   "source": [
    "На гистограмме видно, что распределение значений в столбце `score` приближается к нормальному, но резко увеличивается количество высоких значений, близких к 850. Такой пик может означать, что 850 — это значение-индикатор, которое отражает пропуски. Например, у таких клиентов может не быть кредитного рейтинга, так как ранее они не оформляли кредиты. Может быть и другое объяснение. Допустим, кредитный рейтинг клиента составляет больше 850. Если значение 850 является максимальным, то всем клиентам с рейтингом выше может присваиваться значение 850.\n",
    "\n",
    "Проверим эту особенность данных отдельно и изучим распределение данных для значений рейтинга от 840 до 850:"
   ]
  },
  {
   "cell_type": "code",
   "execution_count": null,
   "id": "0b8056b0",
   "metadata": {
    "id": "0b8056b0",
    "outputId": "2a700fc0-8bee-4bd0-a9af-9dfe8fe5a242"
   },
   "outputs": [
    {
     "name": "stdout",
     "output_type": "stream",
     "text": [
      "Распределение данных по значениям столбца score 840 и выше:\n"
     ]
    },
    {
     "data": {
      "text/plain": [
       "850    233\n",
       "841     12\n",
       "849      8\n",
       "842      7\n",
       "844      7\n",
       "845      6\n",
       "847      6\n",
       "846      5\n",
       "840      5\n",
       "848      5\n",
       "843      2\n",
       "Name: score, dtype: int64"
      ]
     },
     "execution_count": 37,
     "metadata": {},
     "output_type": "execute_result"
    }
   ],
   "source": [
    "# Проверяем распределение данных по значениям столбца score 840 и выше\n",
    "print('Распределение данных по значениям столбца score 840 и выше:')\n",
    "df.loc[df['score'] >= 840]['score'].value_counts()"
   ]
  },
  {
   "cell_type": "markdown",
   "id": "ecee3166",
   "metadata": {
    "id": "ecee3166"
   },
   "source": [
    "Действительно, данных с рейтингом 850 значительно больше, чем с рейтингом от 840 до 849. Это может подтвердить одну из предложенных гипотез.\n",
    "\n",
    "---"
   ]
  },
  {
   "cell_type": "markdown",
   "id": "0f3a4239",
   "metadata": {
    "id": "0f3a4239"
   },
   "source": [
    "### 3.3. Бинарные признаки и категориальные данные\n",
    "\n",
    "Изучение бинарных признаков и категориальных данных похоже на изучение дискретных числовых данных с небольшим количеством значений. Для бинарных признаков важно оценить, как распределяются клиенты между признаками, а для категориальных данных — убедиться, что в них нет ошибок, а также проверить распределение значений по категориям.\n",
    "\n",
    "При исследовании таких данных можно использовать метод `value_counts()` с аргументом `normalize=True`, чтобы сравнить доли значений. Изучим значения в столбцах с бинарными признаками, применив метод `value_counts()` для каждого столбца в цикле:"
   ]
  },
  {
   "cell_type": "code",
   "execution_count": null,
   "id": "cc6774f4",
   "metadata": {
    "id": "cc6774f4",
    "outputId": "4c6f46c0-af24-4f71-cd33-d08af5f5d836"
   },
   "outputs": [
    {
     "name": "stdout",
     "output_type": "stream",
     "text": [
      "Распределение данных по значениям столбца credit_card:\n",
      "1    0.7055\n",
      "0    0.2945\n",
      "Name: credit_card, dtype: float64\n",
      "\n",
      "Распределение данных по значениям столбца loyalty:\n",
      "1    0.5151\n",
      "0    0.4849\n",
      "Name: loyalty, dtype: float64\n",
      "\n",
      "Распределение данных по значениям столбца churn:\n",
      "0    0.7963\n",
      "1    0.2037\n",
      "Name: churn, dtype: float64\n",
      "\n"
     ]
    }
   ],
   "source": [
    "# Проверяем распределение данных по значениям в столбце\n",
    "for column in ['credit_card','loyalty','churn']:\n",
    "    print(f'Распределение данных по значениям столбца {column}:')\n",
    "    print(df[column].value_counts(normalize=True))\n",
    "    print()"
   ]
  },
  {
   "cell_type": "markdown",
   "id": "11dd7c7f",
   "metadata": {
    "id": "11dd7c7f"
   },
   "source": [
    "Доля нелояльных клиентов, которые покинули банк, из столбца `churn` составляет около 20%, а доля клиентов без кредитных карт из столбца `credit_card` — около 30%. Распределение данных по уникальным значениям столбца `loyalty` примерно равно — 51% к 49%. Так соотносятся клиенты, которые участвуют в программах лояльности банка, с теми, кто предпочитает в них не участвовать.\n",
    "\n",
    "Результаты `value_counts()` можно также визуализировать с помощью столбчатой диаграммы. Посмотрим на распределение клиентов по значениям в столбцах с полом клиента и городом:"
   ]
  },
  {
   "cell_type": "code",
   "execution_count": null,
   "id": "342061ed",
   "metadata": {
    "id": "342061ed",
    "outputId": "5a914d86-45ac-4a06-f1f3-46ab21ee26e4"
   },
   "outputs": [
    {
     "data": {
      "image/png": "[encoded data removed]",
      "text/plain": [
       "<Figure size 700x300 with 1 Axes>"
      ]
     },
     "metadata": {},
     "output_type": "display_data"
    },
    {
     "data": {
      "image/png": "[encoded data removed]",
      "text/plain": [
       "<Figure size 700x300 with 1 Axes>"
      ]
     },
     "metadata": {},
     "output_type": "display_data"
    }
   ],
   "source": [
    "# Создаём контейнер графика matplotlib и задаём его размер\n",
    "plt.figure(figsize=(7, 3))\n",
    "\n",
    "# Строим столбчатую диаграмму с помощью pandas через plot(kind='bar')\n",
    "df['gender'].value_counts(normalize=True).plot(\n",
    "               kind='bar', # Тип графика — столбчатая диаграмма\n",
    "               rot=0, # Градус вращения подписи по оси Х\n",
    "               legend=False, # Выключаем легенду\n",
    "               title=f'Распределение клиентов в зависимости от пола'\n",
    ")\n",
    "\n",
    "# Настраиваем оформление графика\n",
    "plt.xlabel('Пол клиента (М - мужской, Ж - женский)')\n",
    "plt.ylabel('Доля клиентов')\n",
    "# Добавляем сетку графика\n",
    "plt.grid()\n",
    "\n",
    "# Выводим график\n",
    "plt.show()\n",
    "\n",
    "# Создаём контейнер графика matplotlib и задаём его размер\n",
    "plt.figure(figsize=(7, 3))\n",
    "\n",
    "# Строим столбчатую диаграмму с помощью pandas через plot(kind='bar')\n",
    "df['city'].value_counts(normalize=True).plot(\n",
    "               kind='bar', # Тип графика - столбчатая диаграмма\n",
    "               rot=0, # Градус вращения подписи по оси Х\n",
    "               legend=False, # Выключаем легенду\n",
    "               title=f'Распределение клиентов в зависимости от города'\n",
    ")\n",
    "\n",
    "# Настраиваем оформление графика\n",
    "plt.xlabel('Город первого обращения клиента')\n",
    "plt.ylabel('Доля клиентов')\n",
    "# Добавляем сетку графика\n",
    "plt.grid()\n",
    "\n",
    "# Выводим график\n",
    "plt.show()"
   ]
  },
  {
   "cell_type": "markdown",
   "id": "b37e7438",
   "metadata": {
    "id": "b37e7438"
   },
   "source": [
    "Судя по диаграммам, примерно 55% клиентов — женщины. Половина клиентов представляют Ярославль, а остальная половина — Ростов Великий и Рыбинск примерно поровну."
   ]
  },
  {
   "cell_type": "markdown",
   "id": "c63abf8e",
   "metadata": {
    "id": "c63abf8e"
   },
   "source": [
    "---\n",
    "\n",
    "Используя код этого блока, самостоятельно изучите данные в остальных столбцах.\n",
    "\n",
    "---"
   ]
  }
 ],
 "metadata": {
  "colab": {
   "provenance": []
  },
  "kernelspec": {
   "display_name": "Python 3 (ipykernel)",
   "language": "python",
   "name": "python3"
  },
  "language_info": {
   "codemirror_mode": {
    "name": "ipython",
    "version": 3
   },
   "file_extension": ".py",
   "mimetype": "text/x-python",
   "name": "python",
   "nbconvert_exporter": "python",
   "pygments_lexer": "ipython3",
   "version": "3.9.5"
  },
  "toc": {
   "base_numbering": 1,
   "nav_menu": {},
   "number_sections": true,
   "sideBar": true,
   "skip_h1_title": true,
   "title_cell": "Table of Contents",
   "title_sidebar": "Contents",
   "toc_cell": false,
   "toc_position": {},
   "toc_section_display": true,
   "toc_window_display": false
  }
 },
 "nbformat": 4,
 "nbformat_minor": 5
}
