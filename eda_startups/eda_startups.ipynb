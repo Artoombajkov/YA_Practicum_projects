{
 "cells": [
  {
   "cell_type": "markdown",
   "id": "cab305e9-4730-4333-9df2-f76aeb5e477e",
   "metadata": {},
   "source": [
    "# Изучение рынка стартапов для инвестиций"
   ]
  },
  {
   "cell_type": "markdown",
   "id": "1c66760f-85b4-4fe1-88f8-a96fb5558976",
   "metadata": {},
   "source": [
    "**Цель проекта:**\n",
    "\n",
    "Разработать аналитический фундамент для принятия решений о покупке, развитии и перепродаже перспективных стартапов, основываясь на исторических данных и с учетом их неполноты и возможных искажений.\n",
    "\n",
    "В более простых терминах, цель состоит в том, чтобы используя имеющиеся исторические данные, понять, какие стартапы потенциально выгодны для инвестиций, чтобы затем их развить и продать с прибылью.\n",
    "\n",
    "**Задачи проекта (детализация):**\n",
    "\n",
    "Для достижения поставленной цели, проект разбивается на следующие задачи:\n",
    "\n",
    "1. **Сбор и Подготовка Данных**:\n",
    "      -  Изучение предоставленных датасетов: Ознакомиться со структурой данных, типами столбцов и возможными связями между таблицами.\n",
    "      -  Объединение данных из разных таблиц: Определить ключевые столбцы, по которым можно корректно объединить данные из разных источников (например, по ID стартапа).\n",
    "      -  Очистка данных: Обработать пропущенные значения, дубликаты и возможные ошибки в данных.\n",
    "      -  Преобразование данных: Привести данные к необходимому формату для анализа (например, преобразование типов данных, создание новых признаков).\n",
    "\n",
    "2. **Анализ и Оценка Данных**:\n",
    "      -  Проверка на соответствие здравому смыслу: Оценить данные на предмет адекватности, выявить аномалии (например, покупки за 0 или 1 доллар) и объяснить их причины.\n",
    "      -  Оценка достоверности данных:\n",
    "        \n",
    "            *  Проанализировать данные о сотрудниках стартапов и их образовании на предмет точности и полноты.\n",
    "            *  Оценить, насколько можно доверять информации о финансировании стартапов.\n",
    "      -  Исследование ценообразования:\n",
    "        \n",
    "            *  Определить, как цена стартапа зависит от его категории и количества раундов финансирования.\n",
    "            *  Выявить другие факторы, влияющие на цену стартапа.\n",
    "      -  Расчет и анализ ключевых показателей:\n",
    "        \n",
    "            *  Рассчитать необходимые численные показатели для оценки стартапов (например, выручка, прибыль, темпы роста).\n",
    "            *  Проанализировать динамику этих показателей во времени.\n",
    "      -  Выявление признаков успеха:\n",
    "        \n",
    "            *  Постараться найти признаки и факторы, которые повышают вероятность успешной сделки по покупке компании.\n",
    "            *  Изучить взаимосвязи между показателями и признаками.\n",
    "      -  Оценка возможных искажений: Учитывать неполноту данных и потенциальные искажения при интерпретации результатов и формировании выводов.\n",
    "\n",
    "3. **Формирование выводов и рекомендаций**:\n",
    "      -  Подготовка отчета: Сформировать отчет с результатами проведенного анализа, включая описание данных, использованные методы, полученные выводы и рекомендации.\n",
    "      -  Формулирование бизнес-гипотез: Предложить на основе анализа гипотезы для дальнейшей проверки и уточнения бизнес-модели.\n",
    "      -  Предоставление бизнес-рекомендаций: Сформулировать конкретные рекомендации для финансовой компании по выбору перспективных стартапов для инвестиций, учитывая обнаруженные закономерности и риски.\n",
    "\n",
    "*Ключевые аспекты*:\n",
    "\n",
    "      -  Неполнота данных: Нужно быть готовым работать с неполными данными, искать способы их обработки и делать выводы с учетом возможных искажений.\n",
    "      -  Прикладной характер: Результаты должны иметь практическую ценность для заказчика и помогать в принятии решений о покупке стартапов.\n",
    "      -  Тщательность и осторожность: Необходимо проявлять осторожность при работе с данными и при интерпретации результатов, а также быть готовым критически оценивать полученные значения."
   ]
  },
  {
   "cell_type": "markdown",
   "id": "031c2180-7259-4e46-9914-842cb37af5e5",
   "metadata": {},
   "source": [
    "### Описание данных\n",
    "**Таблица** `acquisition` - Содержит информацию о покупках одними компаниями других компаний:\n",
    "\n",
    "-  `id` — идентификатор покупки.\n",
    "-  `acquiring_company_id` — идентификатор покупающей компании.\n",
    "-  `acquired_company_id` — идентификатор покупаемой компании.\n",
    "-  `term_code` — варианты расчёта.\n",
    "-  `price_amount` — сумма сделки.\n",
    "-  `acquired_at` — дата сделки.\n",
    "\n",
    "**Таблица** `company_and_rounds` - Содержит информацию о компаниях и раундах финансирования:\n",
    "\n",
    "-  `company ID` — идентификатор компании.\n",
    "-  `name` — название компании.\n",
    "-  `category code` — категория области деятельности компании.\n",
    "-  `status` — статус компании.\n",
    "-  `founded at` — дата инвестирования.\n",
    "-  `closed at` — дата закрытия компании.\n",
    "-  `domain` — официальный сайт компании.\n",
    "-  `network username` — ник компании в сети.\n",
    "-  `country code` — код страны компании.\n",
    "-  `investment rounds` — число инвестиционных раундов.\n",
    "-  `funding rounds` — число раундов финансирования.\n",
    "-  `funding total` — сумма финансирования.\n",
    "-  `milestones` — вехи финансирования.\n",
    "-  `funding round id` - идентификатор этапа финансирования.\n",
    "-  `company id` - идентификатор компании.\n",
    "-  `funded at` - дата финансирования.\n",
    "-  `funding round type` - тип финансирования.\n",
    "-  `raised amount` - сумма финансирования.\n",
    "-  `pre money valuation` - предварительная денежная оценка.\n",
    "-  `participants` - число участников.\n",
    "-  `is first round` - является ли раунд первым.\n",
    "-  `is last round` - является раунд последним.\n",
    "\n",
    "**Таблица** `education` - Содержит информацию об образовании сотрудника:\n",
    "\n",
    "-  `id` — идентификатор записи об образовании.\n",
    "-  `person_id` — идентификатор работника.\n",
    "-  `instituition` — название учебного заведения.\n",
    "-  `graduated_at` — дата получения образования.\n",
    "\n",
    "**Таблица** `people` - Содержит информацию о сотрудниках:\n",
    "\n",
    "-  `id` — идентификатор сотрудника.\n",
    "-  `first_name` — имя сотрудника.\n",
    "-  `last_name` — фамилия сотрудника.\n",
    "-  `company_id` — идентификатор компании.\n",
    "-  `network_username` — ник в социальных сетях.\n",
    "\n",
    "**Таблица** `degrees` - Содержит информацию о типе образования сотрудника:\n",
    "\n",
    "-  `id` — идентификатор записи.\n",
    "-  `object_id` — идентификатор сотрудника.\n",
    "-  `degree_type` — тип образования.\n",
    "-  `subject` — специальность.\n"
   ]
  },
  {
   "cell_type": "markdown",
   "id": "1dca0e32-6a41-433e-bdce-111a87d8a244",
   "metadata": {},
   "source": [
    "## Знакомство с данными: загрузка и первичная предобработка\n",
    "### Вывод общей информации"
   ]
  },
  {
   "cell_type": "markdown",
   "id": "088775de-f807-4a80-ad74-043c73656ff4",
   "metadata": {},
   "source": [
    "Добавляем бибилиотеки"
   ]
  },
  {
   "cell_type": "code",
   "execution_count": 1,
   "id": "979990d0-8e15-43da-a0af-b1c5de9e386b",
   "metadata": {},
   "outputs": [],
   "source": [
    "import pandas as pd\n",
    "import re\n",
    "import matplotlib.pyplot as plt\n",
    "import seaborn as sns"
   ]
  },
  {
   "cell_type": "code",
   "execution_count": 2,
   "id": "ce0d7f40-c4af-4da7-af15-ba429b94ad0e",
   "metadata": {},
   "outputs": [],
   "source": [
    "# Загрузка данных\n",
    "acquisition = pd.read_csv('https://code.s3.yandex.net/datasets/acquisition.csv')\n",
    "company_and_rounds = pd.read_csv('https://code.s3.yandex.net/datasets/company_and_rounds.csv')\n",
    "education = pd.read_csv('https://code.s3.yandex.net/datasets/education.csv')\n",
    "people = pd.read_csv('https://code.s3.yandex.net/datasets/people.csv')\n",
    "degrees = pd.read_csv('https://code.s3.yandex.net/datasets/degrees.csv')"
   ]
  },
  {
   "cell_type": "markdown",
   "id": "c0bafd0c-765b-4060-bd4e-72fbeabd1ec1",
   "metadata": {},
   "source": [
    "Через цикл выводим данные на экран для знакомства."
   ]
  },
  {
   "cell_type": "code",
   "execution_count": 3,
   "id": "44c25fe8-064b-4aae-8731-b6ed07b6411e",
   "metadata": {},
   "outputs": [
    {
     "name": "stdout",
     "output_type": "stream",
     "text": [
      "Информация о датасете acquisition:\n",
      "<class 'pandas.core.frame.DataFrame'>\n",
      "RangeIndex: 9407 entries, 0 to 9406\n",
      "Data columns (total 6 columns):\n",
      " #   Column                Non-Null Count  Dtype \n",
      "---  ------                --------------  ----- \n",
      " 0   id                    9407 non-null   int64 \n",
      " 1   acquiring_company_id  9407 non-null   int64 \n",
      " 2   acquired_company_id   9407 non-null   int64 \n",
      " 3   term_code             1831 non-null   object\n",
      " 4   price_amount          9407 non-null   int64 \n",
      " 5   acquired_at           9378 non-null   object\n",
      "dtypes: int64(4), object(2)\n",
      "memory usage: 441.1+ KB\n",
      "None\n",
      "\n",
      "Первые 5 строк:\n"
     ]
    },
    {
     "data": {
      "text/html": [
       "<div>\n",
       "<style scoped>\n",
       "    .dataframe tbody tr th:only-of-type {\n",
       "        vertical-align: middle;\n",
       "    }\n",
       "\n",
       "    .dataframe tbody tr th {\n",
       "        vertical-align: top;\n",
       "    }\n",
       "\n",
       "    .dataframe thead th {\n",
       "        text-align: right;\n",
       "    }\n",
       "</style>\n",
       "<table border=\"1\" class=\"dataframe\">\n",
       "  <thead>\n",
       "    <tr style=\"text-align: right;\">\n",
       "      <th></th>\n",
       "      <th>id</th>\n",
       "      <th>acquiring_company_id</th>\n",
       "      <th>acquired_company_id</th>\n",
       "      <th>term_code</th>\n",
       "      <th>price_amount</th>\n",
       "      <th>acquired_at</th>\n",
       "    </tr>\n",
       "  </thead>\n",
       "  <tbody>\n",
       "    <tr>\n",
       "      <th>0</th>\n",
       "      <td>1</td>\n",
       "      <td>11</td>\n",
       "      <td>10</td>\n",
       "      <td>NaN</td>\n",
       "      <td>20000000</td>\n",
       "      <td>2007-05-30</td>\n",
       "    </tr>\n",
       "    <tr>\n",
       "      <th>1</th>\n",
       "      <td>7</td>\n",
       "      <td>59</td>\n",
       "      <td>72</td>\n",
       "      <td>cash</td>\n",
       "      <td>60000000</td>\n",
       "      <td>2007-07-01</td>\n",
       "    </tr>\n",
       "    <tr>\n",
       "      <th>2</th>\n",
       "      <td>8</td>\n",
       "      <td>24</td>\n",
       "      <td>132</td>\n",
       "      <td>cash</td>\n",
       "      <td>280000000</td>\n",
       "      <td>2007-05-01</td>\n",
       "    </tr>\n",
       "    <tr>\n",
       "      <th>3</th>\n",
       "      <td>9</td>\n",
       "      <td>59</td>\n",
       "      <td>155</td>\n",
       "      <td>cash</td>\n",
       "      <td>100000000</td>\n",
       "      <td>2007-06-01</td>\n",
       "    </tr>\n",
       "    <tr>\n",
       "      <th>4</th>\n",
       "      <td>10</td>\n",
       "      <td>212</td>\n",
       "      <td>215</td>\n",
       "      <td>cash</td>\n",
       "      <td>25000000</td>\n",
       "      <td>2007-07-01</td>\n",
       "    </tr>\n",
       "  </tbody>\n",
       "</table>\n",
       "</div>"
      ],
      "text/plain": [
       "   id  acquiring_company_id  acquired_company_id term_code  price_amount  \\\n",
       "0   1                    11                   10       NaN      20000000   \n",
       "1   7                    59                   72      cash      60000000   \n",
       "2   8                    24                  132      cash     280000000   \n",
       "3   9                    59                  155      cash     100000000   \n",
       "4  10                   212                  215      cash      25000000   \n",
       "\n",
       "  acquired_at  \n",
       "0  2007-05-30  \n",
       "1  2007-07-01  \n",
       "2  2007-05-01  \n",
       "3  2007-06-01  \n",
       "4  2007-07-01  "
      ]
     },
     "metadata": {},
     "output_type": "display_data"
    },
    {
     "name": "stdout",
     "output_type": "stream",
     "text": [
      "\n",
      "==================================================\n",
      "\n",
      "Информация о датасете company_and_rounds:\n",
      "<class 'pandas.core.frame.DataFrame'>\n",
      "RangeIndex: 217774 entries, 0 to 217773\n",
      "Data columns (total 22 columns):\n",
      " #   Column                 Non-Null Count   Dtype  \n",
      "---  ------                 --------------   -----  \n",
      " 0   company  ID            217472 non-null  float64\n",
      " 1   name                   217472 non-null  object \n",
      " 2   category  code         143886 non-null  object \n",
      " 3   status                 217472 non-null  object \n",
      " 4   founded  at            109956 non-null  object \n",
      " 5   closed  at             3449 non-null    object \n",
      " 6   domain                 147159 non-null  object \n",
      " 7   network  username      95534 non-null   object \n",
      " 8   country  code          108607 non-null  object \n",
      " 9   investment  rounds     217472 non-null  float64\n",
      " 10  funding  rounds        217472 non-null  float64\n",
      " 11  funding  total         217472 non-null  float64\n",
      " 12  milestones             217472 non-null  float64\n",
      " 13  funding  round  id     52928 non-null   float64\n",
      " 14  company  id            52928 non-null   float64\n",
      " 15  funded  at             52680 non-null   object \n",
      " 16  funding  round  type   52928 non-null   object \n",
      " 17  raised  amount         52928 non-null   float64\n",
      " 18  pre  money  valuation  52928 non-null   float64\n",
      " 19  participants           52928 non-null   float64\n",
      " 20  is  first  round       52928 non-null   float64\n",
      " 21  is  last  round        52928 non-null   float64\n",
      "dtypes: float64(12), object(10)\n",
      "memory usage: 36.6+ MB\n",
      "None\n",
      "\n",
      "Первые 5 строк:\n"
     ]
    },
    {
     "data": {
      "text/html": [
       "<div>\n",
       "<style scoped>\n",
       "    .dataframe tbody tr th:only-of-type {\n",
       "        vertical-align: middle;\n",
       "    }\n",
       "\n",
       "    .dataframe tbody tr th {\n",
       "        vertical-align: top;\n",
       "    }\n",
       "\n",
       "    .dataframe thead th {\n",
       "        text-align: right;\n",
       "    }\n",
       "</style>\n",
       "<table border=\"1\" class=\"dataframe\">\n",
       "  <thead>\n",
       "    <tr style=\"text-align: right;\">\n",
       "      <th></th>\n",
       "      <th>company  ID</th>\n",
       "      <th>name</th>\n",
       "      <th>category  code</th>\n",
       "      <th>status</th>\n",
       "      <th>founded  at</th>\n",
       "      <th>closed  at</th>\n",
       "      <th>domain</th>\n",
       "      <th>network  username</th>\n",
       "      <th>country  code</th>\n",
       "      <th>investment  rounds</th>\n",
       "      <th>...</th>\n",
       "      <th>milestones</th>\n",
       "      <th>funding  round  id</th>\n",
       "      <th>company  id</th>\n",
       "      <th>funded  at</th>\n",
       "      <th>funding  round  type</th>\n",
       "      <th>raised  amount</th>\n",
       "      <th>pre  money  valuation</th>\n",
       "      <th>participants</th>\n",
       "      <th>is  first  round</th>\n",
       "      <th>is  last  round</th>\n",
       "    </tr>\n",
       "  </thead>\n",
       "  <tbody>\n",
       "    <tr>\n",
       "      <th>0</th>\n",
       "      <td>1.0</td>\n",
       "      <td>Wetpaint</td>\n",
       "      <td>web</td>\n",
       "      <td>operating</td>\n",
       "      <td>2005-10-17</td>\n",
       "      <td>NaN</td>\n",
       "      <td>wetpaint-inc.com</td>\n",
       "      <td>BachelrWetpaint</td>\n",
       "      <td>USA</td>\n",
       "      <td>0.0</td>\n",
       "      <td>...</td>\n",
       "      <td>5.0</td>\n",
       "      <td>888.0</td>\n",
       "      <td>1.0</td>\n",
       "      <td>2005-10-01</td>\n",
       "      <td>series-a</td>\n",
       "      <td>5250000.0</td>\n",
       "      <td>0.0</td>\n",
       "      <td>2.0</td>\n",
       "      <td>0.0</td>\n",
       "      <td>1.0</td>\n",
       "    </tr>\n",
       "    <tr>\n",
       "      <th>1</th>\n",
       "      <td>1.0</td>\n",
       "      <td>Wetpaint</td>\n",
       "      <td>web</td>\n",
       "      <td>operating</td>\n",
       "      <td>2005-10-17</td>\n",
       "      <td>NaN</td>\n",
       "      <td>wetpaint-inc.com</td>\n",
       "      <td>BachelrWetpaint</td>\n",
       "      <td>USA</td>\n",
       "      <td>0.0</td>\n",
       "      <td>...</td>\n",
       "      <td>5.0</td>\n",
       "      <td>889.0</td>\n",
       "      <td>1.0</td>\n",
       "      <td>2007-01-01</td>\n",
       "      <td>series-b</td>\n",
       "      <td>9500000.0</td>\n",
       "      <td>0.0</td>\n",
       "      <td>3.0</td>\n",
       "      <td>0.0</td>\n",
       "      <td>0.0</td>\n",
       "    </tr>\n",
       "    <tr>\n",
       "      <th>2</th>\n",
       "      <td>1.0</td>\n",
       "      <td>Wetpaint</td>\n",
       "      <td>web</td>\n",
       "      <td>operating</td>\n",
       "      <td>2005-10-17</td>\n",
       "      <td>NaN</td>\n",
       "      <td>wetpaint-inc.com</td>\n",
       "      <td>BachelrWetpaint</td>\n",
       "      <td>USA</td>\n",
       "      <td>0.0</td>\n",
       "      <td>...</td>\n",
       "      <td>5.0</td>\n",
       "      <td>2312.0</td>\n",
       "      <td>1.0</td>\n",
       "      <td>2008-05-19</td>\n",
       "      <td>series-c+</td>\n",
       "      <td>25000000.0</td>\n",
       "      <td>0.0</td>\n",
       "      <td>4.0</td>\n",
       "      <td>1.0</td>\n",
       "      <td>0.0</td>\n",
       "    </tr>\n",
       "    <tr>\n",
       "      <th>3</th>\n",
       "      <td>10.0</td>\n",
       "      <td>Flektor</td>\n",
       "      <td>games_video</td>\n",
       "      <td>acquired</td>\n",
       "      <td>NaN</td>\n",
       "      <td>NaN</td>\n",
       "      <td>flektor.com</td>\n",
       "      <td>NaN</td>\n",
       "      <td>USA</td>\n",
       "      <td>0.0</td>\n",
       "      <td>...</td>\n",
       "      <td>0.0</td>\n",
       "      <td>NaN</td>\n",
       "      <td>NaN</td>\n",
       "      <td>NaN</td>\n",
       "      <td>NaN</td>\n",
       "      <td>NaN</td>\n",
       "      <td>NaN</td>\n",
       "      <td>NaN</td>\n",
       "      <td>NaN</td>\n",
       "      <td>NaN</td>\n",
       "    </tr>\n",
       "    <tr>\n",
       "      <th>4</th>\n",
       "      <td>100.0</td>\n",
       "      <td>There</td>\n",
       "      <td>games_video</td>\n",
       "      <td>acquired</td>\n",
       "      <td>NaN</td>\n",
       "      <td>NaN</td>\n",
       "      <td>there.com</td>\n",
       "      <td>NaN</td>\n",
       "      <td>USA</td>\n",
       "      <td>0.0</td>\n",
       "      <td>...</td>\n",
       "      <td>4.0</td>\n",
       "      <td>NaN</td>\n",
       "      <td>NaN</td>\n",
       "      <td>NaN</td>\n",
       "      <td>NaN</td>\n",
       "      <td>NaN</td>\n",
       "      <td>NaN</td>\n",
       "      <td>NaN</td>\n",
       "      <td>NaN</td>\n",
       "      <td>NaN</td>\n",
       "    </tr>\n",
       "  </tbody>\n",
       "</table>\n",
       "<p>5 rows × 22 columns</p>\n",
       "</div>"
      ],
      "text/plain": [
       "   company  ID      name category  code     status founded  at closed  at  \\\n",
       "0          1.0  Wetpaint            web  operating  2005-10-17        NaN   \n",
       "1          1.0  Wetpaint            web  operating  2005-10-17        NaN   \n",
       "2          1.0  Wetpaint            web  operating  2005-10-17        NaN   \n",
       "3         10.0   Flektor    games_video   acquired         NaN        NaN   \n",
       "4        100.0     There    games_video   acquired         NaN        NaN   \n",
       "\n",
       "             domain network  username country  code  investment  rounds  ...  \\\n",
       "0  wetpaint-inc.com   BachelrWetpaint           USA                 0.0  ...   \n",
       "1  wetpaint-inc.com   BachelrWetpaint           USA                 0.0  ...   \n",
       "2  wetpaint-inc.com   BachelrWetpaint           USA                 0.0  ...   \n",
       "3       flektor.com               NaN           USA                 0.0  ...   \n",
       "4         there.com               NaN           USA                 0.0  ...   \n",
       "\n",
       "   milestones  funding  round  id  company  id  funded  at  \\\n",
       "0         5.0               888.0          1.0  2005-10-01   \n",
       "1         5.0               889.0          1.0  2007-01-01   \n",
       "2         5.0              2312.0          1.0  2008-05-19   \n",
       "3         0.0                 NaN          NaN         NaN   \n",
       "4         4.0                 NaN          NaN         NaN   \n",
       "\n",
       "   funding  round  type raised  amount pre  money  valuation  participants  \\\n",
       "0              series-a      5250000.0                   0.0           2.0   \n",
       "1              series-b      9500000.0                   0.0           3.0   \n",
       "2             series-c+     25000000.0                   0.0           4.0   \n",
       "3                   NaN            NaN                   NaN           NaN   \n",
       "4                   NaN            NaN                   NaN           NaN   \n",
       "\n",
       "   is  first  round  is  last  round  \n",
       "0               0.0              1.0  \n",
       "1               0.0              0.0  \n",
       "2               1.0              0.0  \n",
       "3               NaN              NaN  \n",
       "4               NaN              NaN  \n",
       "\n",
       "[5 rows x 22 columns]"
      ]
     },
     "metadata": {},
     "output_type": "display_data"
    },
    {
     "name": "stdout",
     "output_type": "stream",
     "text": [
      "\n",
      "==================================================\n",
      "\n",
      "Информация о датасете education:\n",
      "<class 'pandas.core.frame.DataFrame'>\n",
      "RangeIndex: 109610 entries, 0 to 109609\n",
      "Data columns (total 4 columns):\n",
      " #   Column        Non-Null Count   Dtype \n",
      "---  ------        --------------   ----- \n",
      " 0   id            109610 non-null  int64 \n",
      " 1   person_id     109610 non-null  int64 \n",
      " 2   instituition  109555 non-null  object\n",
      " 3   graduated_at  58054 non-null   object\n",
      "dtypes: int64(2), object(2)\n",
      "memory usage: 3.3+ MB\n",
      "None\n",
      "\n",
      "Первые 5 строк:\n"
     ]
    },
    {
     "data": {
      "text/html": [
       "<div>\n",
       "<style scoped>\n",
       "    .dataframe tbody tr th:only-of-type {\n",
       "        vertical-align: middle;\n",
       "    }\n",
       "\n",
       "    .dataframe tbody tr th {\n",
       "        vertical-align: top;\n",
       "    }\n",
       "\n",
       "    .dataframe thead th {\n",
       "        text-align: right;\n",
       "    }\n",
       "</style>\n",
       "<table border=\"1\" class=\"dataframe\">\n",
       "  <thead>\n",
       "    <tr style=\"text-align: right;\">\n",
       "      <th></th>\n",
       "      <th>id</th>\n",
       "      <th>person_id</th>\n",
       "      <th>instituition</th>\n",
       "      <th>graduated_at</th>\n",
       "    </tr>\n",
       "  </thead>\n",
       "  <tbody>\n",
       "    <tr>\n",
       "      <th>0</th>\n",
       "      <td>1</td>\n",
       "      <td>6117</td>\n",
       "      <td>NaN</td>\n",
       "      <td>NaN</td>\n",
       "    </tr>\n",
       "    <tr>\n",
       "      <th>1</th>\n",
       "      <td>2</td>\n",
       "      <td>6136</td>\n",
       "      <td>Washington University, St. Louis</td>\n",
       "      <td>1990-01-01</td>\n",
       "    </tr>\n",
       "    <tr>\n",
       "      <th>2</th>\n",
       "      <td>3</td>\n",
       "      <td>6136</td>\n",
       "      <td>Boston University</td>\n",
       "      <td>1992-01-01</td>\n",
       "    </tr>\n",
       "    <tr>\n",
       "      <th>3</th>\n",
       "      <td>4</td>\n",
       "      <td>6005</td>\n",
       "      <td>University of Greenwich</td>\n",
       "      <td>2006-01-01</td>\n",
       "    </tr>\n",
       "    <tr>\n",
       "      <th>4</th>\n",
       "      <td>5</td>\n",
       "      <td>5832</td>\n",
       "      <td>Rice University</td>\n",
       "      <td>NaN</td>\n",
       "    </tr>\n",
       "  </tbody>\n",
       "</table>\n",
       "</div>"
      ],
      "text/plain": [
       "   id  person_id                      instituition graduated_at\n",
       "0   1       6117                               NaN          NaN\n",
       "1   2       6136  Washington University, St. Louis   1990-01-01\n",
       "2   3       6136                 Boston University   1992-01-01\n",
       "3   4       6005           University of Greenwich   2006-01-01\n",
       "4   5       5832                   Rice University          NaN"
      ]
     },
     "metadata": {},
     "output_type": "display_data"
    },
    {
     "name": "stdout",
     "output_type": "stream",
     "text": [
      "\n",
      "==================================================\n",
      "\n",
      "Информация о датасете people:\n",
      "<class 'pandas.core.frame.DataFrame'>\n",
      "RangeIndex: 226709 entries, 0 to 226708\n",
      "Data columns (total 5 columns):\n",
      " #   Column            Non-Null Count   Dtype  \n",
      "---  ------            --------------   -----  \n",
      " 0   id                226709 non-null  int64  \n",
      " 1   first_name        226704 non-null  object \n",
      " 2   last_name         226708 non-null  object \n",
      " 3   company_id        34615 non-null   float64\n",
      " 4   network_username  38867 non-null   object \n",
      "dtypes: float64(1), int64(1), object(3)\n",
      "memory usage: 8.6+ MB\n",
      "None\n",
      "\n",
      "Первые 5 строк:\n"
     ]
    },
    {
     "data": {
      "text/html": [
       "<div>\n",
       "<style scoped>\n",
       "    .dataframe tbody tr th:only-of-type {\n",
       "        vertical-align: middle;\n",
       "    }\n",
       "\n",
       "    .dataframe tbody tr th {\n",
       "        vertical-align: top;\n",
       "    }\n",
       "\n",
       "    .dataframe thead th {\n",
       "        text-align: right;\n",
       "    }\n",
       "</style>\n",
       "<table border=\"1\" class=\"dataframe\">\n",
       "  <thead>\n",
       "    <tr style=\"text-align: right;\">\n",
       "      <th></th>\n",
       "      <th>id</th>\n",
       "      <th>first_name</th>\n",
       "      <th>last_name</th>\n",
       "      <th>company_id</th>\n",
       "      <th>network_username</th>\n",
       "    </tr>\n",
       "  </thead>\n",
       "  <tbody>\n",
       "    <tr>\n",
       "      <th>0</th>\n",
       "      <td>10</td>\n",
       "      <td>Mark</td>\n",
       "      <td>Zuckerberg</td>\n",
       "      <td>5.0</td>\n",
       "      <td>NaN</td>\n",
       "    </tr>\n",
       "    <tr>\n",
       "      <th>1</th>\n",
       "      <td>100</td>\n",
       "      <td>Peter</td>\n",
       "      <td>Lester</td>\n",
       "      <td>27.0</td>\n",
       "      <td>NaN</td>\n",
       "    </tr>\n",
       "    <tr>\n",
       "      <th>2</th>\n",
       "      <td>1000</td>\n",
       "      <td>Dr. Steven</td>\n",
       "      <td>E. Saunders</td>\n",
       "      <td>292.0</td>\n",
       "      <td>NaN</td>\n",
       "    </tr>\n",
       "    <tr>\n",
       "      <th>3</th>\n",
       "      <td>10000</td>\n",
       "      <td>Neil</td>\n",
       "      <td>Capel</td>\n",
       "      <td>2526.0</td>\n",
       "      <td>NaN</td>\n",
       "    </tr>\n",
       "    <tr>\n",
       "      <th>4</th>\n",
       "      <td>100000</td>\n",
       "      <td>Sue</td>\n",
       "      <td>Pilsch</td>\n",
       "      <td>NaN</td>\n",
       "      <td>NaN</td>\n",
       "    </tr>\n",
       "  </tbody>\n",
       "</table>\n",
       "</div>"
      ],
      "text/plain": [
       "       id  first_name    last_name  company_id network_username\n",
       "0      10        Mark   Zuckerberg         5.0              NaN\n",
       "1     100       Peter       Lester        27.0              NaN\n",
       "2    1000  Dr. Steven  E. Saunders       292.0              NaN\n",
       "3   10000        Neil        Capel      2526.0              NaN\n",
       "4  100000         Sue       Pilsch         NaN              NaN"
      ]
     },
     "metadata": {},
     "output_type": "display_data"
    },
    {
     "name": "stdout",
     "output_type": "stream",
     "text": [
      "\n",
      "==================================================\n",
      "\n",
      "Информация о датасете degrees:\n",
      "<class 'pandas.core.frame.DataFrame'>\n",
      "RangeIndex: 109610 entries, 0 to 109609\n",
      "Data columns (total 4 columns):\n",
      " #   Column       Non-Null Count   Dtype \n",
      "---  ------       --------------   ----- \n",
      " 0   id           109610 non-null  int64 \n",
      " 1   object_id    109610 non-null  object\n",
      " 2   degree_type  98392 non-null   object\n",
      " 3   subject      81298 non-null   object\n",
      "dtypes: int64(1), object(3)\n",
      "memory usage: 3.3+ MB\n",
      "None\n",
      "\n",
      "Первые 5 строк:\n"
     ]
    },
    {
     "data": {
      "text/html": [
       "<div>\n",
       "<style scoped>\n",
       "    .dataframe tbody tr th:only-of-type {\n",
       "        vertical-align: middle;\n",
       "    }\n",
       "\n",
       "    .dataframe tbody tr th {\n",
       "        vertical-align: top;\n",
       "    }\n",
       "\n",
       "    .dataframe thead th {\n",
       "        text-align: right;\n",
       "    }\n",
       "</style>\n",
       "<table border=\"1\" class=\"dataframe\">\n",
       "  <thead>\n",
       "    <tr style=\"text-align: right;\">\n",
       "      <th></th>\n",
       "      <th>id</th>\n",
       "      <th>object_id</th>\n",
       "      <th>degree_type</th>\n",
       "      <th>subject</th>\n",
       "    </tr>\n",
       "  </thead>\n",
       "  <tbody>\n",
       "    <tr>\n",
       "      <th>0</th>\n",
       "      <td>1</td>\n",
       "      <td>p:6117</td>\n",
       "      <td>MBA</td>\n",
       "      <td>NaN</td>\n",
       "    </tr>\n",
       "    <tr>\n",
       "      <th>1</th>\n",
       "      <td>2</td>\n",
       "      <td>p:6136</td>\n",
       "      <td>BA</td>\n",
       "      <td>English, French</td>\n",
       "    </tr>\n",
       "    <tr>\n",
       "      <th>2</th>\n",
       "      <td>3</td>\n",
       "      <td>p:6136</td>\n",
       "      <td>MS</td>\n",
       "      <td>Mass Communication</td>\n",
       "    </tr>\n",
       "    <tr>\n",
       "      <th>3</th>\n",
       "      <td>4</td>\n",
       "      <td>p:6005</td>\n",
       "      <td>MS</td>\n",
       "      <td>Internet Technology</td>\n",
       "    </tr>\n",
       "    <tr>\n",
       "      <th>4</th>\n",
       "      <td>5</td>\n",
       "      <td>p:5832</td>\n",
       "      <td>BCS</td>\n",
       "      <td>Computer Science, Psychology</td>\n",
       "    </tr>\n",
       "  </tbody>\n",
       "</table>\n",
       "</div>"
      ],
      "text/plain": [
       "   id object_id degree_type                       subject\n",
       "0   1    p:6117         MBA                           NaN\n",
       "1   2    p:6136          BA               English, French\n",
       "2   3    p:6136          MS            Mass Communication\n",
       "3   4    p:6005          MS           Internet Technology\n",
       "4   5    p:5832         BCS  Computer Science, Psychology"
      ]
     },
     "metadata": {},
     "output_type": "display_data"
    },
    {
     "name": "stdout",
     "output_type": "stream",
     "text": [
      "\n",
      "==================================================\n",
      "\n"
     ]
    }
   ],
   "source": [
    "# Вывод общей информации о каждом датасете\n",
    "for df, name in zip([acquisition, company_and_rounds, education, people, degrees], \n",
    "                    ['acquisition', 'company_and_rounds', 'education', 'people', 'degrees']):\n",
    "    print(f\"Информация о датасете {name}:\")\n",
    "    print(df.info())\n",
    "    print(\"\\nПервые 5 строк:\")\n",
    "    display(df.head())\n",
    "    print(\"\\n\" + \"=\"*50 + \"\\n\")"
   ]
  },
  {
   "cell_type": "markdown",
   "id": "98799b33-5076-4920-beb7-896870f96516",
   "metadata": {},
   "source": [
    "#### Предобработка данных, предварительное исследование\n",
    "\n",
    "##### Датасет `acquisition`\n",
    "\n",
    "- **Количество строк:** 9407\n",
    "- **Количество столбцов:** 6\n",
    "- **Типы данных:**\n",
    "    -   `int64`: `id`, `acquiring_company_id`, `acquired_company_id`, `price_amount`\n",
    "    -   `object`: `term_code`, `acquired_at`\n",
    "-   **Пропуски:**\n",
    "    -   `term_code`: Много пропущенных значений (больше половины).\n",
    "    -   `acquired_at`: Несколько пропущенных значений.\n",
    "-   **Период данных:** Необходимо определить диапазон дат в столбце `acquired_at`.\n",
    "-   **Предварительные замечания:**\n",
    "    -   Столбец `term_code` требует особого внимания из-за большого количества пропусков. Возможно, потребуется заполнение или исключение столбца из анализа.\n",
    "    -   Столбец `acquired_at` необходимо преобразовать в тип `datetime`.\n",
    "\n",
    "##### Датасет `company_and_rounds`\n",
    "\n",
    "-   **Количество строк:** 217774\n",
    "-   **Количество столбцов:** 22\n",
    "-   **Типы данных:**\n",
    "    -   `float64`: `company ID`, `investment rounds`, `funding rounds`, `funding total`, `milestones`, `funding round id`, `company id`, `raised amount`, `pre money valuation`, `participants`, `is first round`, `is last round`\n",
    "    -   `object`: `name`, `category code`, `status`, `founded at`, `closed at`, `domain`, `network username`, `country code`, `funded at`, `funding round type`\n",
    "-   **Пропуски:**\n",
    "    -   Очень много пропусков в столбцах `closed at` и `network username`.\n",
    "    -   Значительное количество пропусков в столбцах `category code`, `founded at`, `domain`, `country code`, `funding round id`, `company id`, `funded at`, `funding round type`, `raised amount`, `pre money valuation`, `participants`, `is first round`, `is last round`.\n",
    "-   **Период данных:** Необходимо определить диапазоны дат в столбцах `founded at`, `closed at` и `funded at`.\n",
    "-   **Предварительные замечания:**\n",
    "    -   Столбцы с большим количеством пропусков (`closed at`, `network username`) требуют особого внимания.\n",
    "    -   Столбцы с датами (`founded at`, `closed at`, `funded at`) необходимо преобразовать в тип `datetime`.\n",
    "    -   Необходимо привести названия столбцов к единому стилю (snake_case).\n",
    "    -   Cтолбцы \"company ID\", \"category code\" и другие содержат пробелы в названиях.\n",
    "\n",
    "##### Датасет `education`:\n",
    "\n",
    "-   **Количество строк:** 109610\n",
    "-   **Количество столбцов:** 4\n",
    "-   **Типы данных:**\n",
    "    -   `int64`: `id`, `person_id`\n",
    "    -   `object`: `instituition`, `graduated_at`\n",
    "-   **Пропуски:**\n",
    "    -   `instituition`: Небольшое количество пропусков (55).\n",
    "    -   `graduated_at`: Значительное количество пропусков (51556).\n",
    "-   **Срок:** Необходимо исследовать столбец `graduated_at` для определения периода дат.\n",
    "-   **Замечания:**\n",
    "    -   Столбец `graduated_at` имеет тип `object` и его следует преобразовать в `datetime`, если это необходимо для дальнейшего анализа.\n",
    "    -   Первые строки показывают наличие пропущенных значений в столбцах `instituition` и `graduated_at`.\n",
    "\n",
    "##### Датасет `people`:\n",
    "\n",
    "-   **Количество строк:** 226709\n",
    "-   **Количество столбцов:** 5\n",
    "-   **Типы данных:**\n",
    "    -   `int64`: `id`\n",
    "    -   `object`: `first_name`, `last_name`, `network_username`\n",
    "    -   `float64`: `company_id`\n",
    "-   **Пропуски:**\n",
    "    -   `first_name`: Небольшое количество пропусков (9).\n",
    "    -   `last_name`: Небольшое количество пропусков (4).\n",
    "    -   `company_id`: Значительное количество пропусков (192094).\n",
    "    -   `network_username`: Значительное количество пропусков (187842).\n",
    "-   **Замечания:**\n",
    "    -   `company_id` имеет тип `float64`, что нетипично для идентификаторов. Это может быть связано с наличием пропущенных значений. Следует рассмотреть преобразование к типу `int64` после обработки пропусков.\n",
    "\n",
    "##### Датасет `degrees`:\n",
    "\n",
    "-   **Количество строк:** 109610\n",
    "-   **Количество столбцов:** 4\n",
    "-   **Типы данных:**\n",
    "    -   `int64`: `id`\n",
    "    -   `object`: `object_id`, `degree_type`, `subject`\n",
    "-   **Пропуски:**\n",
    "    -   `degree_type`: Значительное количество пропусков (11221).\n",
    "    -   `subject`: Значительное количество пропусков (28312).\n",
    "-   **Замечания:**\n",
    "    -   Столбец `object_id` выглядит как внешний ключ, связывающий с другими таблицами (например, `people`).\n",
    "    -   Первые строки показывают наличие пропущенных значений в столбце `subject`."
   ]
  },
  {
   "cell_type": "markdown",
   "id": "3ef04944-6ee0-45b4-9e99-8305f1ba8ccb",
   "metadata": {},
   "source": [
    "#### Приведем столбцы к стилю `snake_case`"
   ]
  },
  {
   "cell_type": "code",
   "execution_count": 4,
   "id": "2ffe60f8-8457-4e8a-8af7-7d977e3c2512",
   "metadata": {},
   "outputs": [],
   "source": [
    "acquisition.rename(columns={\n",
    "    'id': 'id',\n",
    "    'acquiring_company_id': 'acquiring_company_id',\n",
    "    'acquired_company_id': 'acquired_company_id',\n",
    "    'term_code': 'term_code',\n",
    "    'price_amount': 'price_amount',\n",
    "    'acquired_at': 'acquired_at'\n",
    "}, inplace=True)\n",
    "\n",
    "company_and_rounds.rename(columns={\n",
    "    'company  ID': 'company_id',\n",
    "    'name': 'name',\n",
    "    'category  code': 'category_code',\n",
    "    'status': 'status',\n",
    "    'founded  at': 'founded_at',\n",
    "    'closed  at': 'closed_at',\n",
    "    'domain': 'domain',\n",
    "    'network  username': 'network_username',\n",
    "    'country  code': 'country_code',\n",
    "    'investment  rounds': 'investment_rounds',\n",
    "    'funding  rounds': 'funding_rounds',\n",
    "    'funding  total': 'funding_total',\n",
    "    'milestones': 'milestones',\n",
    "    'funding  round  id': 'funding_round_id',\n",
    "    'company  id': 'company_id_round',\n",
    "    'funded  at': 'funded_at',\n",
    "    'funding  round  type': 'funding_round_type',\n",
    "    'raised  amount': 'raised_amount',\n",
    "    'pre  money  valuation': 'pre_money_valuation',\n",
    "    'participants': 'participants',\n",
    "    'is  first  round': 'is_first_round',\n",
    "    'is  last  round': 'is_last_round'\n",
    "}, inplace=True)\n",
    "\n",
    "education.rename(columns={\n",
    "    'id': 'id',\n",
    "    'person_id': 'person_id',\n",
    "    'instituition': 'instituition',\n",
    "    'graduated_at': 'graduated_at'\n",
    "}, inplace=True)\n",
    "\n",
    "people.rename(columns={\n",
    "    'id': 'id',\n",
    "    'first_name': 'first_name',\n",
    "    'last_name': 'last_name',\n",
    "    'company_id': 'company_id',\n",
    "    'network_username': 'network_username'\n",
    "}, inplace=True)\n",
    "\n",
    "degrees.rename(columns={\n",
    "    'id': 'id',\n",
    "    'object_id': 'object_id',\n",
    "    'degree_type': 'degree_type',\n",
    "    'subject': 'subject'\n",
    "}, inplace=True)"
   ]
  },
  {
   "cell_type": "markdown",
   "id": "2b1762b1-6649-40d9-86b3-720807fad4b2",
   "metadata": {},
   "source": [
    "Все столцы приведены к стилю `snake_case`\n",
    "\n",
    "В датасете `company_and_rounds` одержится 2 столбца с идентичными названиями. Разделим их для дальнейшего анализа:\n",
    "- 'company  ID': 'company_id'\n",
    "- 'company  id': 'company_id_round'"
   ]
  },
  {
   "cell_type": "markdown",
   "id": "36e2c0f5-541f-47f5-a80c-b6bfca6f2f54",
   "metadata": {},
   "source": [
    "### Смена типов и анализ пропусков"
   ]
  },
  {
   "cell_type": "code",
   "execution_count": 5,
   "id": "a4a4f946-edc6-49ea-8958-fce2f315e2ef",
   "metadata": {},
   "outputs": [],
   "source": [
    "# Преобразование столбцов с датами\n",
    "company_and_rounds['founded_at'] = pd.to_datetime(company_and_rounds['founded_at'], errors='coerce')\n",
    "company_and_rounds['closed_at'] = pd.to_datetime(company_and_rounds['closed_at'], errors='coerce')\n",
    "company_and_rounds['funded_at'] = pd.to_datetime(company_and_rounds['funded_at'], errors='coerce')\n",
    "\n",
    "acquisition['acquired_at'] = pd.to_datetime(acquisition['acquired_at'], errors='coerce')\n",
    "\n",
    "education['graduated_at'] = pd.to_datetime(education['graduated_at'], errors='coerce')"
   ]
  },
  {
   "cell_type": "markdown",
   "id": "7b0a74af",
   "metadata": {},
   "source": []
  },
  {
   "cell_type": "markdown",
   "id": "8718212e-98ec-497a-bf68-92ad655fdb14",
   "metadata": {},
   "source": [
    "Все столбцы датасетов содержащих дату приведены к типу данных `datetime64`"
   ]
  },
  {
   "cell_type": "code",
   "execution_count": 6,
   "id": "7961eed5-86cc-4b30-a740-0f15093e3d91",
   "metadata": {},
   "outputs": [
    {
     "name": "stdout",
     "output_type": "stream",
     "text": [
      "Процент пропусков в датасете acquisition:\n",
      "id                       0.00\n",
      "acquiring_company_id     0.00\n",
      "acquired_company_id      0.00\n",
      "term_code               80.54\n",
      "price_amount             0.00\n",
      "acquired_at              0.31\n",
      "dtype: float64\n",
      "\n",
      "==================================================\n",
      "\n",
      "Процент пропусков в датасете company_and_rounds:\n",
      "company_id              0.14\n",
      "name                    0.14\n",
      "category_code          33.93\n",
      "status                  0.14\n",
      "founded_at             49.51\n",
      "closed_at              98.42\n",
      "domain                 32.43\n",
      "network_username       56.13\n",
      "country_code           50.13\n",
      "investment_rounds       0.14\n",
      "funding_rounds          0.14\n",
      "funding_total           0.14\n",
      "milestones              0.14\n",
      "funding_round_id       75.70\n",
      "company_id_round       75.70\n",
      "funded_at              75.81\n",
      "funding_round_type     75.70\n",
      "raised_amount          75.70\n",
      "pre_money_valuation    75.70\n",
      "participants           75.70\n",
      "is_first_round         75.70\n",
      "is_last_round          75.70\n",
      "dtype: float64\n",
      "\n",
      "==================================================\n",
      "\n",
      "Процент пропусков в датасете education:\n",
      "id               0.00\n",
      "person_id        0.00\n",
      "instituition     0.05\n",
      "graduated_at    47.04\n",
      "dtype: float64\n",
      "\n",
      "==================================================\n",
      "\n",
      "Процент пропусков в датасете people:\n",
      "id                   0.00\n",
      "first_name           0.00\n",
      "last_name            0.00\n",
      "company_id          84.73\n",
      "network_username    82.86\n",
      "dtype: float64\n",
      "\n",
      "==================================================\n",
      "\n",
      "Процент пропусков в датасете degrees:\n",
      "id              0.00\n",
      "object_id       0.00\n",
      "degree_type    10.23\n",
      "subject        25.83\n",
      "dtype: float64\n",
      "\n",
      "==================================================\n",
      "\n"
     ]
    }
   ],
   "source": [
    "# Анализ пропусков\n",
    "for df, name in zip([acquisition, company_and_rounds, education, people, degrees], \n",
    "                    ['acquisition', 'company_and_rounds', 'education', 'people', 'degrees']):\n",
    "    print(f\"Процент пропусков в датасете {name}:\")\n",
    "    print((df.isna().mean() * 100).round(2))\n",
    "    print(\"\\n\" + \"=\"*50 + \"\\n\")"
   ]
  },
  {
   "cell_type": "markdown",
   "id": "5f633357-18ba-4354-ac44-2eaee8672bc4",
   "metadata": {},
   "source": [
    "#### Выводы по анализу пропусков в датасетах:\n",
    "\n",
    "#####  Датасет `acquisition`:\n",
    "\n",
    "-   **`term_code`**:  Очень высокая доля пропущенных значений (80.54%).  Это может свидетельствовать о том, что вариант расчёта не всегда фиксируется или не применим к каждой сделке. Дальнейший анализ необходим, чтобы определить, стоит ли сохранять этот столбец.\n",
    "-   **`acquired_at`**:  Небольшая доля пропущенных значений (0.31%).  Вероятно, эти пропуски можно обработать удалением соответствующих строк или заполнением на основе других данных.\n",
    "\n",
    "#####  Датасет `company_and_rounds`:\n",
    "\n",
    "-   **`closed_at`**:  Крайне высокая доля пропущенных значений (98.42%). Это, скорее всего, означает, что большинство компаний из датасета не были закрыты (все еще функционируют или были приобретены).  Использование этого столбца для анализа может быть затруднено из-за такого большого количества пропусков.\n",
    "-   **`network_username`**:  Высокая доля пропущенных значений (56.13%).  Возможно, не все компании активно ведут социальные сети, или данные о них недоступны.\n",
    "-   **`country_code`**:  Высокая доля пропущенных значений (50.13%). Это может затруднить анализ по странам.\n",
    "-   **`category_code`**:  Значительная доля пропущенных значений (33.93%).  Это может повлиять на анализ по категориям компаний.\n",
    "-   `**funding_round_id, company_id_next, funded_at, funding_round_type, raised_amount, pre_money_valuation, participants, is_first_round, is_last_round`**: Очень высокая доля пропущенных значений (около 75%).  Необходимо разобраться, почему именно эти столбцы имеют так много пропусков. Возможно они связаны с каким-то определенным типом компаний или этапом развития. Возможно, эти данные нужно перенести в отдельный датафрейм.\n",
    "-   Остальные столбцы имеют небольшую долю пропусков (менее 1%), что не является критичным.\n",
    "\n",
    "#####  Датасет `education`:\n",
    "\n",
    "-   **`graduated_at`**:  Высокая доля пропущенных значений (47.04%).  Как и ранее, это может означать, что люди либо еще не закончили обучение, либо информация отсутствует.\n",
    "\n",
    "#####  Датасет `people`:\n",
    "\n",
    "-   **`company_id`**:  Очень высокая доля пропущенных значений (84.73%). Это указывает на то, что для большинства людей в датасете нет информации о том, в какой компании они работают (или, возможно, они не связаны ни с одной из компаний, представленных в датасете).\n",
    "-   **`network_username`**:  Очень высокая доля пропущенных значений (82.86%).  Как и в случае с `company_and_rounds`, это может быть связано с тем, что не все люди активно используют социальные сети или данные о них недоступны.\n",
    "\n",
    "#####  Датасет `degrees`:\n",
    "\n",
    "-   **`degree_type`**:  Небольшая доля пропущенных значений (10.24%).\n",
    "-   **`subject`**:  Значительная доля пропущенных значений (25.83%). Это может означать, что для многих людей информация о специальности отсутствует."
   ]
  },
  {
   "cell_type": "markdown",
   "id": "a79a444c-0e0b-40e2-8e1f-889ae1385964",
   "metadata": {},
   "source": [
    "##  Предобработка данных, предварительное исследование\n",
    "###  Раунды финансирования по годам"
   ]
  },
  {
   "cell_type": "code",
   "execution_count": 7,
   "id": "d80a9e6e-f350-4798-b057-62903c56d06a",
   "metadata": {},
   "outputs": [
    {
     "data": {
      "image/png": "[encoded data removed]",
      "text/plain": [
       "<Figure size 720x432 with 1 Axes>"
      ]
     },
     "metadata": {
      "needs_background": "light"
     },
     "output_type": "display_data"
    },
    {
     "name": "stdout",
     "output_type": "stream",
     "text": [
      "Год с максимальным типичным размером средств: 2005.0\n",
      "Данные за 2013 год:\n",
      "      year  typical_raised_amount  total_rounds\n",
      "29  2013.0              1200000.0         11072\n"
     ]
    }
   ],
   "source": [
    "# Фильтрация данных по годам с более чем 50 раундами\n",
    "company_and_rounds['year'] = company_and_rounds['funded_at'].dt.year\n",
    "rounds_by_year = company_and_rounds.groupby('year').agg(\n",
    "    typical_raised_amount=('raised_amount', 'median'),\n",
    "    total_rounds=('raised_amount', 'count')\n",
    ").reset_index()\n",
    "\n",
    "# Фильтрация по количеству раундов\n",
    "rounds_by_year = rounds_by_year[rounds_by_year['total_rounds'] > 50]\n",
    "\n",
    "plt.figure(figsize=(10, 6))\n",
    "plt.plot(rounds_by_year['year'], rounds_by_year['typical_raised_amount'], marker='o')\n",
    "plt.title('Динамика типичного размера средств в раундах финансирования')\n",
    "plt.xlabel('Год')\n",
    "plt.ylabel('Типичный размер средств')\n",
    "plt.grid(True)\n",
    "plt.show()\n",
    "\n",
    "# Ответы на вопросы\n",
    "max_year = rounds_by_year.loc[rounds_by_year['typical_raised_amount'].idxmax(), 'year']\n",
    "print(f\"Год с максимальным типичным размером средств: {max_year}\")\n",
    "\n",
    "# Анализ 2013 года\n",
    "year_2013 = rounds_by_year[rounds_by_year['year'] == 2013]\n",
    "print(f\"Данные за 2013 год:\\n{year_2013}\")"
   ]
  },
  {
   "cell_type": "markdown",
   "id": "59b8f519-25b7-4e8b-ab33-39af889a21da",
   "metadata": {},
   "source": [
    "###  Люди и их образование"
   ]
  },
  {
   "cell_type": "code",
   "execution_count": 8,
   "id": "159f5186-71a1-4b2c-95aa-60c56b0b29b4",
   "metadata": {},
   "outputs": [
    {
     "name": "stdout",
     "output_type": "stream",
     "text": [
      "employee_group\n",
      "0-10       0.460917\n",
      "11-50      0.306996\n",
      "51-200     0.182263\n",
      "201-500    0.191562\n",
      "500+       0.636363\n",
      "Name: missing_education_ratio, dtype: float64\n"
     ]
    },
    {
     "data": {
      "image/png": "[encoded data removed]",
      "text/plain": [
       "<Figure size 720x432 with 1 Axes>"
      ]
     },
     "metadata": {
      "needs_background": "light"
     },
     "output_type": "display_data"
    }
   ],
   "source": [
    "# Предобработка данных (заполняем пропуски и преобразуем типы)\n",
    "# заполняем пропуски для корректного подсчёта, чтобы потом их не учитывать как что-то\n",
    "people.fillna({'company_id': 0}, inplace=True)\n",
    "people['company_id'] = people['company_id'].astype(int)\n",
    "# убираем дубликаты, чтобы не считать одного и того же сотрудника дважды\n",
    "people = people.drop_duplicates(subset=['first_name', 'last_name', 'company_id'], keep='first')\n",
    "\n",
    "# 3. Объединение данных о людях и их образовании\n",
    "people_education = pd.merge(people, education, left_on='id', right_on='person_id', how='left')\n",
    "\n",
    "# 4. Оценка полноты данных об образовании\n",
    "# Создаем признак, указывающий на наличие информации об образовании\n",
    "people_education['has_education'] = people_education['instituition'].notna()\n",
    "\n",
    "# 5. Группировка по company_id и агрегация данных об образовании\n",
    "education_by_company = people_education.groupby('company_id').agg(\n",
    "    total_employees=('id_x', 'count'), #Считаем сколько всего сотрудников\n",
    "    employees_without_education=('has_education', lambda x: (x == False).sum()) #Считаем сколько сотрудников без образования\n",
    ").reset_index()\n",
    "\n",
    "# 6. Расчет доли сотрудников без информации об образовании\n",
    "education_by_company['missing_education_ratio'] = education_by_company['employees_without_education'] / education_by_company['total_employees']\n",
    "\n",
    "# 7. Разделение компаний на группы по количеству сотрудников\n",
    "# Обоснование границ:\n",
    "#   - [0, 10]:  Микропредприятия или стартапы с небольшим количеством сотрудников.\n",
    "#   - (10, 50]:  Малые предприятия.\n",
    "#   - (50, 200]:  Средние предприятия.\n",
    "#   - (200, 500]:  Крупные предприятия.\n",
    "#   - (500, float('inf')]: Очень крупные предприятия.\n",
    "bins = [0, 10, 50, 200, 500, float('inf')]\n",
    "labels = ['0-10', '11-50', '51-200', '201-500', '500+']\n",
    "education_by_company['employee_group'] = pd.cut(education_by_company['total_employees'], bins=bins, labels=labels, right=False)\n",
    "\n",
    "# 8. Анализ зависимости: средняя доля сотрудников без информации об образовании в каждой группе\n",
    "mean_missing_education = education_by_company.groupby('employee_group')['missing_education_ratio'].mean()\n",
    "print(mean_missing_education)\n",
    "plt.figure(figsize=(10, 6))\n",
    "sns.barplot(x=mean_missing_education.index, y=mean_missing_education.values)\n",
    "plt.title('Средняя доля сотрудников без информации об образовании по группам компаний')\n",
    "plt.xlabel('Группа компаний по количеству сотрудников')\n",
    "plt.ylabel('Средняя доля сотрудников без информации об образовании')\n",
    "plt.xticks(rotation=45)\n",
    "plt.tight_layout()\n",
    "plt.show()"
   ]
  },
  {
   "cell_type": "markdown",
   "id": "feb96d77-4485-4901-8e16-51d3308894b9",
   "metadata": {},
   "source": [
    "##### Выводы о зависимости полноты сведений об образовании от размера компании:\n",
    "\n",
    "На основании проведенного анализа, компании были разделены на следующие группы по количеству сотрудников:\n",
    "\n",
    "-   0-10 сотрудников (микропредприятия/стартапы)\n",
    "-   11-50 сотрудников (малые предприятия)\n",
    "-   51-200 сотрудников (средние предприятия)\n",
    "-   201-500 сотрудников (крупные предприятия)\n",
    "-   500+ сотрудников (очень крупные предприятия)\n",
    "\n",
    "Анализ показал следующие средние доли сотрудников без информации об образовании в каждой из групп:\n",
    "\n",
    "-   **0-10 сотрудников:** 46.09%\n",
    "-   **11-50 сотрудников:** 30.70%\n",
    "-   **51-200 сотрудников:** 18.23%\n",
    "-   **201-500 сотрудников:** 19.16%\n",
    "-   **500+ сотрудников:** 63.64%\n",
    "\n",
    "**Основные выводы:**\n",
    "\n",
    "1.  **Наиболее полные данные об образовании - в средних и крупных предприятиях (51-500 сотрудников):**\n",
    "    -   Компании в этих группах демонстрируют наименьшую долю сотрудников без информации об образовании (18.23% и 19.16% соответственно). Это может быть связано с более формализованными процессами HR и учета персонала в таких компаниях.\n",
    "2.  **Наименее полные данные - в микропредприятиях/стартапах (0-10 сотрудников) и очень крупных предприятиях (500+ сотрудников):**\n",
    "    -   Микропредприятия/стартапы (0-10 сотрудников) показывают высокую долю сотрудников без информации об образовании (46.09%). Это может быть связано с неформальным наймом, высокой текучестью кадров и отсутствием строгих требований к образованию на начальных этапах развития компании.\n",
    "    -   Очень крупные предприятия (500+ сотрудников) также демонстрируют высокую долю сотрудников без информации об образовании (63.64%). Это может быть связано с большим объемом данных, сложностями с их актуализацией и историческими особенностями (например, старые записи о сотрудниках, принятых на работу до внедрения современных HR-систем). Также, не все позиции в крупных компаниях требуют высшего образования, что может отражаться в данных.\n",
    "3.  **Рост компании - рост сведений об образовании**\n",
    "    -   С увеличением размера компании, растет количество сведений об образовании, однако только до определенной отметки - потом происходит спад. Это может быть связано с тем, что в какой-то момент компании просто перестают уделять этому внимание, либо же с тем, что в компании просто начинает работать слишком много людей, и всех просто не получается учесть.\n",
    "\n",
    "**Рекомендации:**\n",
    "\n",
    "-   **Для микропредприятий/стартапов:**\n",
    "    -   Рекомендуется внедрить более формализованные процессы сбора и учета информации о сотрудниках, включая данные об образовании.\n",
    "-   **Для очень крупных предприятий:**\n",
    "    -   Рекомендуется провести аудит и актуализацию данных о сотрудниках, чтобы повысить полноту сведений об образовании.\n",
    "-   **Общие рекомендации:**\n",
    "    -   Следует учитывать, что отсутствие информации об образовании не всегда означает отсутствие образования как такового. Возможно, данные просто не были предоставлены или не были корректно внесены в систему.\n",
    "    -   При анализе данных об образовании следует учитывать специфику каждой отрасли и компании. В некоторых отраслях образование может играть более важную роль, чем в других."
   ]
  },
  {
   "cell_type": "markdown",
   "id": "9651210d-47fd-4244-ab36-f04881e3c6d1",
   "metadata": {},
   "source": [
    "###  Объединять или не объединять — вот в чём вопрос"
   ]
  },
  {
   "cell_type": "code",
   "execution_count": 9,
   "id": "a25ff40b-6a50-41ef-b245-9ce7bc46c01d",
   "metadata": {},
   "outputs": [
    {
     "name": "stdout",
     "output_type": "stream",
     "text": [
      "Уникальные network_username в people: 37312\n",
      "Уникальные network_username в company_and_rounds: 79571\n",
      "Количество общих network_username: 2106\n"
     ]
    }
   ],
   "source": [
    "# Проверка уникальности network_username в разных датасетах\n",
    "network_username_in_people = people['network_username'].nunique()\n",
    "network_username_in_company = company_and_rounds['network_username'].nunique()\n",
    "\n",
    "print(f\"Уникальные network_username в people: {network_username_in_people}\")\n",
    "print(f\"Уникальные network_username в company_and_rounds: {network_username_in_company}\")\n",
    "\n",
    "# Проверка пересечения\n",
    "common_usernames = set(people['network_username'].dropna()) & set(company_and_rounds['network_username'].dropna())\n",
    "print(f\"Количество общих network_username: {len(common_usernames)}\")"
   ]
  },
  {
   "cell_type": "markdown",
   "id": "af36b083-2c2b-4ea0-8391-19b81a59667a",
   "metadata": {},
   "source": [
    "#### Оценка пригодности столбца `network_username` для объединения данных:\n",
    "\n",
    "**Исходные данные:**\n",
    "\n",
    "-   Количество уникальных `network_username` в датасете `people`: 38421\n",
    "-   Количество уникальных `network_username` в датасете `company_and_rounds`: 79571\n",
    "-   Количество общих `network_username` между двумя датасетами: 2199\n",
    "\n",
    "**Анализ:**\n",
    "\n",
    "1.  **Низкая доля общих значений:**\n",
    "    -   Количество общих `network_username` (2199) значительно меньше, чем количество уникальных значений в каждом датасете.\n",
    "    -   Доля общих `network_username` от общего количества уникальных значений в `people`: (2199 / 38421) * 100% ≈ 5.73%\n",
    "    -   Доля общих `network_username` от общего количества уникальных значений в `company_and_rounds`: (2199 / 79571) * 100% ≈ 2.76%\n",
    "    -   Это означает, что только небольшая часть `network_username` встречается в обоих датасетах.\n",
    "\n",
    "2.  **Разная природа данных:**\n",
    "    -   В датасете `people` столбец `network_username`, скорее всего, представляет собой никнейм сотрудника в какой-либо социальной сети или профессиональной платформе (например, LinkedIn).\n",
    "    -   В датасете `company_and_rounds` столбец `network_username`, вероятно, представляет собой никнейм компании в какой-либо сети.\n",
    "    -   Таким образом, значения в этих столбцах имеют разную природу и относятся к разным сущностям (сотрудники vs. компании).\n",
    "\n",
    "**Вывод:**\n",
    "\n",
    "Столбец `network_username` **не подходит** для объединения данных между датасетами `people` и `company_and_rounds`.\n",
    "\n",
    "**Обоснование:**\n",
    "\n",
    "-   **Малое количество общих значений:** Объединение по `network_username` приведет к потере большей части данных, так как большинство `network_username` уникальны для каждого датасета.\n",
    "-   **Разная семантика значений:** Объединение по столбцу с разной семантикой (сотрудники vs. компании) не имеет логического смысла и может привести к некорректным результатам.\n",
    "\n",
    "**Рекомендации:**\n",
    "\n",
    "-   Не использовать `network_username` для объединения `people` и `company_and_rounds`.\n",
    "-   Если необходимо связать данные о сотрудниках и компаниях, следует использовать столбец `company_id` из датасета `people` (который, как указано в задании, подходит для объединения).\n",
    "-   В дальнейшем следует избегать использования столбцов с одинаковым названием, но разным значением."
   ]
  },
  {
   "cell_type": "markdown",
   "id": "2866e015-33c0-4503-8b4f-1148f1f105e3",
   "metadata": {},
   "source": [
    "###  Проблемный датасет и причина возникновения пропусков"
   ]
  },
  {
   "cell_type": "code",
   "execution_count": 10,
   "id": "68d367ba-317c-46ac-a0db-aa03d9e76f32",
   "metadata": {},
   "outputs": [
    {
     "data": {
      "text/html": [
       "<div>\n",
       "<style scoped>\n",
       "    .dataframe tbody tr th:only-of-type {\n",
       "        vertical-align: middle;\n",
       "    }\n",
       "\n",
       "    .dataframe tbody tr th {\n",
       "        vertical-align: top;\n",
       "    }\n",
       "\n",
       "    .dataframe thead th {\n",
       "        text-align: right;\n",
       "    }\n",
       "</style>\n",
       "<table border=\"1\" class=\"dataframe\">\n",
       "  <thead>\n",
       "    <tr style=\"text-align: right;\">\n",
       "      <th></th>\n",
       "      <th>company_id</th>\n",
       "      <th>raised_amount</th>\n",
       "      <th>funding_round_id</th>\n",
       "      <th>funded_at</th>\n",
       "      <th>funding_round_type</th>\n",
       "      <th>pre_money_valuation</th>\n",
       "      <th>participants</th>\n",
       "      <th>is_first_round</th>\n",
       "      <th>is_last_round</th>\n",
       "    </tr>\n",
       "  </thead>\n",
       "  <tbody>\n",
       "    <tr>\n",
       "      <th>3</th>\n",
       "      <td>10.0</td>\n",
       "      <td>NaN</td>\n",
       "      <td>NaN</td>\n",
       "      <td>NaT</td>\n",
       "      <td>NaN</td>\n",
       "      <td>NaN</td>\n",
       "      <td>NaN</td>\n",
       "      <td>NaN</td>\n",
       "      <td>NaN</td>\n",
       "    </tr>\n",
       "    <tr>\n",
       "      <th>4</th>\n",
       "      <td>100.0</td>\n",
       "      <td>NaN</td>\n",
       "      <td>NaN</td>\n",
       "      <td>NaT</td>\n",
       "      <td>NaN</td>\n",
       "      <td>NaN</td>\n",
       "      <td>NaN</td>\n",
       "      <td>NaN</td>\n",
       "      <td>NaN</td>\n",
       "    </tr>\n",
       "    <tr>\n",
       "      <th>5</th>\n",
       "      <td>10000.0</td>\n",
       "      <td>NaN</td>\n",
       "      <td>NaN</td>\n",
       "      <td>NaT</td>\n",
       "      <td>NaN</td>\n",
       "      <td>NaN</td>\n",
       "      <td>NaN</td>\n",
       "      <td>NaN</td>\n",
       "      <td>NaN</td>\n",
       "    </tr>\n",
       "    <tr>\n",
       "      <th>6</th>\n",
       "      <td>10001.0</td>\n",
       "      <td>NaN</td>\n",
       "      <td>NaN</td>\n",
       "      <td>NaT</td>\n",
       "      <td>NaN</td>\n",
       "      <td>NaN</td>\n",
       "      <td>NaN</td>\n",
       "      <td>NaN</td>\n",
       "      <td>NaN</td>\n",
       "    </tr>\n",
       "    <tr>\n",
       "      <th>7</th>\n",
       "      <td>10002.0</td>\n",
       "      <td>NaN</td>\n",
       "      <td>NaN</td>\n",
       "      <td>NaT</td>\n",
       "      <td>NaN</td>\n",
       "      <td>NaN</td>\n",
       "      <td>NaN</td>\n",
       "      <td>NaN</td>\n",
       "      <td>NaN</td>\n",
       "    </tr>\n",
       "  </tbody>\n",
       "</table>\n",
       "</div>"
      ],
      "text/plain": [
       "   company_id  raised_amount  funding_round_id funded_at funding_round_type  \\\n",
       "3        10.0            NaN               NaN       NaT                NaN   \n",
       "4       100.0            NaN               NaN       NaT                NaN   \n",
       "5     10000.0            NaN               NaN       NaT                NaN   \n",
       "6     10001.0            NaN               NaN       NaT                NaN   \n",
       "7     10002.0            NaN               NaN       NaT                NaN   \n",
       "\n",
       "   pre_money_valuation  participants  is_first_round  is_last_round  \n",
       "3                  NaN           NaN             NaN            NaN  \n",
       "4                  NaN           NaN             NaN            NaN  \n",
       "5                  NaN           NaN             NaN            NaN  \n",
       "6                  NaN           NaN             NaN            NaN  \n",
       "7                  NaN           NaN             NaN            NaN  "
      ]
     },
     "metadata": {},
     "output_type": "display_data"
    }
   ],
   "source": [
    "#Делаем отдельную таблицу по компаниям\n",
    "df_company = company_and_rounds[['company_id', 'name', 'category_code', 'status', \n",
    "                             'founded_at', 'closed_at', 'domain', \n",
    "                             'network_username', 'country_code', \n",
    "                             'investment_rounds', 'funding_rounds', \n",
    "                            'funding_total', 'milestones']]\n",
    "#Убираем дубли записей\n",
    "df_company=company_and_rounds.drop_duplicates(subset=['company_id', 'name', 'category_code', 'status', \n",
    "                             'founded_at', 'closed_at', 'domain', \n",
    "                             'network_username', 'country_code', 'investment_rounds', 'funding_rounds', \n",
    "                            'funding_total', 'milestones'], keep='first')\n",
    "#Делаем отдельную таблицу по раундам инвестирования\n",
    "df_rounds = company_and_rounds[['company_id', 'raised_amount', 'funding_round_id', \n",
    "                            'funded_at', 'funding_round_type', 'pre_money_valuation', \n",
    "                            'participants', 'is_first_round', \n",
    "                            'is_last_round']]\n",
    "#смоторим пропуски\n",
    "display(df_rounds[df_rounds['funding_round_type'].isna()].head()) \n",
    "\n",
    "#убираем пропуски по колонке, тк их менее 1% (5 записей)\n",
    "df_rounds=df_rounds.dropna(subset=['funding_round_type'])"
   ]
  },
  {
   "cell_type": "markdown",
   "id": "a0901400-596e-4e32-8859-d6fe98441c4b",
   "metadata": {},
   "source": [
    "**Выводы:**\n",
    "\n",
    "В результате выполнения кода мы получили два DataFrame `df_rounds` и `df_company`. каждый из них содержит сгруппированную информацию. Первый о раундах финансирования, а второй о компаниях."
   ]
  },
  {
   "cell_type": "markdown",
   "id": "10bf2d5e-5853-49db-8b68-797ec1b8ce8f",
   "metadata": {},
   "source": [
    "## Исследовательский анализ объединённых таблиц"
   ]
  },
  {
   "cell_type": "markdown",
   "id": "9b77a22b-6d4c-4d7c-b8b4-2cbbff795ff1",
   "metadata": {},
   "source": [
    "### Объединение данных\n",
    "Цель: Объединить данные для анализа компаний, которые меняли или готовы менять владельцев. Это компании, которые:\n",
    "\n",
    "Получали инвестиции или финансирование (`funding_rounds` > 0 или `investment_rounds` > 0).\n",
    "\n",
    "Имеют статус `acquired`."
   ]
  },
  {
   "cell_type": "code",
   "execution_count": 11,
   "id": "9a1af40d-ec1e-4db0-8295-5beed97ccd9a",
   "metadata": {},
   "outputs": [
    {
     "name": "stdout",
     "output_type": "stream",
     "text": [
      "Размер таблицы после фильтрации: (40747, 23)\n",
      "\n",
      "Информация о таблице после фильтрации:\n",
      "<class 'pandas.core.frame.DataFrame'>\n",
      "Int64Index: 40747 entries, 0 to 217469\n",
      "Data columns (total 23 columns):\n",
      " #   Column               Non-Null Count  Dtype         \n",
      "---  ------               --------------  -----         \n",
      " 0   company_id           40747 non-null  float64       \n",
      " 1   name                 40747 non-null  object        \n",
      " 2   category_code        35315 non-null  object        \n",
      " 3   status               40747 non-null  object        \n",
      " 4   founded_at           27807 non-null  datetime64[ns]\n",
      " 5   closed_at            2128 non-null   datetime64[ns]\n",
      " 6   domain               35754 non-null  object        \n",
      " 7   network_username     20850 non-null  object        \n",
      " 8   country_code         34742 non-null  object        \n",
      " 9   investment_rounds    40747 non-null  float64       \n",
      " 10  funding_rounds       40747 non-null  float64       \n",
      " 11  funding_total        40747 non-null  float64       \n",
      " 12  milestones           40747 non-null  float64       \n",
      " 13  funding_round_id     31707 non-null  float64       \n",
      " 14  company_id_round     31707 non-null  float64       \n",
      " 15  funded_at            31486 non-null  datetime64[ns]\n",
      " 16  funding_round_type   31707 non-null  object        \n",
      " 17  raised_amount        31707 non-null  float64       \n",
      " 18  pre_money_valuation  31707 non-null  float64       \n",
      " 19  participants         31707 non-null  float64       \n",
      " 20  is_first_round       31707 non-null  float64       \n",
      " 21  is_last_round        31707 non-null  float64       \n",
      " 22  year                 31486 non-null  float64       \n",
      "dtypes: datetime64[ns](3), float64(13), object(7)\n",
      "memory usage: 7.5+ MB\n",
      "None\n",
      "\n",
      "Первые 5 строк таблицы после фильтрации:\n",
      "    company_id        name category_code     status founded_at closed_at  \\\n",
      "0          1.0    Wetpaint           web  operating 2005-10-17       NaT   \n",
      "3         10.0     Flektor   games_video   acquired        NaT       NaT   \n",
      "4        100.0       There   games_video   acquired        NaT       NaT   \n",
      "15      1001.0  FriendFeed           web   acquired 2007-10-01       NaT   \n",
      "20     10014.0     Mobclix        mobile   acquired 2008-03-01       NaT   \n",
      "\n",
      "              domain network_username country_code  investment_rounds  ...  \\\n",
      "0   wetpaint-inc.com  BachelrWetpaint          USA                0.0  ...   \n",
      "3        flektor.com              NaN          USA                0.0  ...   \n",
      "4          there.com              NaN          USA                0.0  ...   \n",
      "15    friendfeed.com       friendfeed          USA                0.0  ...   \n",
      "20       mobclix.com          mobclix          USA                0.0  ...   \n",
      "\n",
      "    funding_round_id  company_id_round  funded_at  funding_round_type  \\\n",
      "0              888.0               1.0 2005-10-01            series-a   \n",
      "3                NaN               NaN        NaT                 NaN   \n",
      "4                NaN               NaN        NaT                 NaN   \n",
      "15            1644.0            1001.0 2008-02-26            series-a   \n",
      "20            6682.0           10014.0 2008-09-01               angel   \n",
      "\n",
      "    raised_amount pre_money_valuation participants  is_first_round  \\\n",
      "0       5250000.0                 0.0          2.0             0.0   \n",
      "3             NaN                 NaN          NaN             NaN   \n",
      "4             NaN                 NaN          NaN             NaN   \n",
      "15      5000000.0                 0.0          3.0             1.0   \n",
      "20            0.0                 0.0          1.0             1.0   \n",
      "\n",
      "    is_last_round    year  \n",
      "0             1.0  2005.0  \n",
      "3             NaN     NaN  \n",
      "4             NaN     NaN  \n",
      "15            1.0  2008.0  \n",
      "20            1.0  2008.0  \n",
      "\n",
      "[5 rows x 23 columns]\n",
      "\n",
      "Количество уникальных компаний:\n",
      "40747\n"
     ]
    }
   ],
   "source": [
    "# Создаем маску для фильтрации\n",
    "mask = (\n",
    "    (df_company['funding_rounds'] > 0) |\n",
    "    (df_company['investment_rounds'] > 0) |\n",
    "    (df_company['status'] == 'acquired')\n",
    ")\n",
    "\n",
    "# Применяем маску для фильтрации company_and_rounds\n",
    "companies_of_interest = df_company[mask]\n",
    "\n",
    "# Проверяем размер получившейся таблицы\n",
    "print(f\"Размер таблицы после фильтрации: {companies_of_interest.shape}\")\n",
    "\n",
    "# Проверяем полноту и корректность (выводим основную информацию)\n",
    "print(\"\\nИнформация о таблице после фильтрации:\")\n",
    "print(companies_of_interest.info())\n",
    "\n",
    "# Выводим первые 5 строк для визуальной проверки\n",
    "print(\"\\nПервые 5 строк таблицы после фильтрации:\")\n",
    "print(companies_of_interest.head())\n",
    "\n",
    "# Количество уникальных компаний\n",
    "print(\"\\nКоличество уникальных компаний:\")\n",
    "print(companies_of_interest['company_id'].nunique())"
   ]
  },
  {
   "cell_type": "code",
   "execution_count": 12,
   "id": "13cca8f0-5aa0-4640-98a9-bd761bf9efc4",
   "metadata": {},
   "outputs": [
    {
     "name": "stdout",
     "output_type": "stream",
     "text": [
      "company_id              0.000000\n",
      "name                    0.000000\n",
      "category_code          13.331043\n",
      "status                  0.000000\n",
      "founded_at             31.756939\n",
      "closed_at              94.777530\n",
      "domain                 12.253663\n",
      "network_username       48.830589\n",
      "country_code           14.737281\n",
      "investment_rounds       0.000000\n",
      "funding_rounds          0.000000\n",
      "funding_total           0.000000\n",
      "milestones              0.000000\n",
      "funding_round_id       22.185682\n",
      "company_id_round       22.185682\n",
      "funded_at              22.728054\n",
      "funding_round_type     22.185682\n",
      "raised_amount          22.185682\n",
      "pre_money_valuation    22.185682\n",
      "participants           22.185682\n",
      "is_first_round         22.185682\n",
      "is_last_round          22.185682\n",
      "year                   22.728054\n",
      "dtype: float64\n"
     ]
    }
   ],
   "source": [
    "print(companies_of_interest.isna().mean() * 100)"
   ]
  },
  {
   "cell_type": "markdown",
   "id": "205d16d4-7356-4032-bc54-abc439b6be47",
   "metadata": {},
   "source": [
    "### Анализ выбросов\n",
    "- **Цель**: Оценить типичный размер общего финансирования (funding_total) для одной компании и выявить выбросы.\n",
    "\n",
    "- **Описательная статистика**:"
   ]
  },
  {
   "cell_type": "code",
   "execution_count": 13,
   "id": "8d32c865-e1ce-4ef0-98e1-ed23c68b25ae",
   "metadata": {},
   "outputs": [
    {
     "data": {
      "text/plain": [
       "count    4.074700e+04\n",
       "mean     1.013561e+07\n",
       "std      5.646436e+07\n",
       "min      0.000000e+00\n",
       "25%      0.000000e+00\n",
       "50%      6.000000e+05\n",
       "75%      5.650650e+06\n",
       "max      5.700000e+09\n",
       "Name: funding_total, dtype: float64"
      ]
     },
     "execution_count": 13,
     "metadata": {},
     "output_type": "execute_result"
    }
   ],
   "source": [
    "companies_of_interest['funding_total'].describe()"
   ]
  },
  {
   "cell_type": "code",
   "execution_count": 14,
   "id": "066f4c72-895c-4aba-9657-4f54be14acc9",
   "metadata": {},
   "outputs": [
    {
     "data": {
      "image/png": "[encoded data removed]",
      "text/plain": [
       "<Figure size 720x432 with 1 Axes>"
      ]
     },
     "metadata": {
      "needs_background": "light"
     },
     "output_type": "display_data"
    },
    {
     "name": "stderr",
     "output_type": "stream",
     "text": [
      "/opt/conda/lib/python3.9/site-packages/pandas/core/arraylike.py:358: RuntimeWarning: divide by zero encountered in log10\n",
      "  result = getattr(ufunc, method)(*inputs, **kwargs)\n"
     ]
    },
    {
     "ename": "ValueError",
     "evalue": "autodetected range of [-inf, 9.755874855672491] is not finite",
     "output_type": "error",
     "traceback": [
      "\u001b[0;31m---------------------------------------------------------------------------\u001b[0m",
      "\u001b[0;31mValueError\u001b[0m                                Traceback (most recent call last)",
      "\u001b[0;32m/tmp/ipykernel_87/2499973754.py\u001b[0m in \u001b[0;36m<module>\u001b[0;34m\u001b[0m\n\u001b[1;32m      8\u001b[0m \u001b[0;31m# 3. Гистограмма (с логарифмической шкалой)\u001b[0m\u001b[0;34m\u001b[0m\u001b[0;34m\u001b[0m\u001b[0;34m\u001b[0m\u001b[0m\n\u001b[1;32m      9\u001b[0m \u001b[0mplt\u001b[0m\u001b[0;34m.\u001b[0m\u001b[0mfigure\u001b[0m\u001b[0;34m(\u001b[0m\u001b[0mfigsize\u001b[0m\u001b[0;34m=\u001b[0m\u001b[0;34m(\u001b[0m\u001b[0;36m10\u001b[0m\u001b[0;34m,\u001b[0m \u001b[0;36m6\u001b[0m\u001b[0;34m)\u001b[0m\u001b[0;34m)\u001b[0m\u001b[0;34m\u001b[0m\u001b[0;34m\u001b[0m\u001b[0m\n\u001b[0;32m---> 10\u001b[0;31m \u001b[0msns\u001b[0m\u001b[0;34m.\u001b[0m\u001b[0mhistplot\u001b[0m\u001b[0;34m(\u001b[0m\u001b[0mcompanies_of_interest\u001b[0m\u001b[0;34m[\u001b[0m\u001b[0;34m'funding_total'\u001b[0m\u001b[0;34m]\u001b[0m\u001b[0;34m,\u001b[0m \u001b[0mkde\u001b[0m\u001b[0;34m=\u001b[0m\u001b[0;32mFalse\u001b[0m\u001b[0;34m,\u001b[0m \u001b[0mlog_scale\u001b[0m\u001b[0;34m=\u001b[0m\u001b[0;32mTrue\u001b[0m\u001b[0;34m,\u001b[0m \u001b[0mbins\u001b[0m \u001b[0;34m=\u001b[0m \u001b[0;36m60\u001b[0m\u001b[0;34m)\u001b[0m  \u001b[0;31m#log_scale=True\u001b[0m\u001b[0;34m\u001b[0m\u001b[0;34m\u001b[0m\u001b[0m\n\u001b[0m\u001b[1;32m     11\u001b[0m \u001b[0mplt\u001b[0m\u001b[0;34m.\u001b[0m\u001b[0mtitle\u001b[0m\u001b[0;34m(\u001b[0m\u001b[0;34m'Гистограмма funding_total (логарифмическая шкала)'\u001b[0m\u001b[0;34m)\u001b[0m\u001b[0;34m\u001b[0m\u001b[0;34m\u001b[0m\u001b[0m\n\u001b[1;32m     12\u001b[0m \u001b[0mplt\u001b[0m\u001b[0;34m.\u001b[0m\u001b[0mxlabel\u001b[0m\u001b[0;34m(\u001b[0m\u001b[0;34m'Сумма общего финансирования (логарифмическая шкала)'\u001b[0m\u001b[0;34m)\u001b[0m\u001b[0;34m\u001b[0m\u001b[0;34m\u001b[0m\u001b[0m\n",
      "\u001b[0;32m/opt/conda/lib/python3.9/site-packages/seaborn/distributions.py\u001b[0m in \u001b[0;36mhistplot\u001b[0;34m(data, x, y, hue, weights, stat, bins, binwidth, binrange, discrete, cumulative, common_bins, common_norm, multiple, element, fill, shrink, kde, kde_kws, line_kws, thresh, pthresh, pmax, cbar, cbar_ax, cbar_kws, palette, hue_order, hue_norm, color, log_scale, legend, ax, **kwargs)\u001b[0m\n\u001b[1;32m   1421\u001b[0m     \u001b[0;32mif\u001b[0m \u001b[0mp\u001b[0m\u001b[0;34m.\u001b[0m\u001b[0munivariate\u001b[0m\u001b[0;34m:\u001b[0m\u001b[0;34m\u001b[0m\u001b[0;34m\u001b[0m\u001b[0m\n\u001b[1;32m   1422\u001b[0m \u001b[0;34m\u001b[0m\u001b[0m\n\u001b[0;32m-> 1423\u001b[0;31m         p.plot_univariate_histogram(\n\u001b[0m\u001b[1;32m   1424\u001b[0m             \u001b[0mmultiple\u001b[0m\u001b[0;34m=\u001b[0m\u001b[0mmultiple\u001b[0m\u001b[0;34m,\u001b[0m\u001b[0;34m\u001b[0m\u001b[0;34m\u001b[0m\u001b[0m\n\u001b[1;32m   1425\u001b[0m             \u001b[0melement\u001b[0m\u001b[0;34m=\u001b[0m\u001b[0melement\u001b[0m\u001b[0;34m,\u001b[0m\u001b[0;34m\u001b[0m\u001b[0;34m\u001b[0m\u001b[0m\n",
      "\u001b[0;32m/opt/conda/lib/python3.9/site-packages/seaborn/distributions.py\u001b[0m in \u001b[0;36mplot_univariate_histogram\u001b[0;34m(self, multiple, element, fill, common_norm, common_bins, shrink, kde, kde_kws, color, legend, line_kws, estimate_kws, **plot_kws)\u001b[0m\n\u001b[1;32m    435\u001b[0m \u001b[0;34m\u001b[0m\u001b[0m\n\u001b[1;32m    436\u001b[0m             \u001b[0;31m# Do the histogram computation\u001b[0m\u001b[0;34m\u001b[0m\u001b[0;34m\u001b[0m\u001b[0;34m\u001b[0m\u001b[0m\n\u001b[0;32m--> 437\u001b[0;31m             \u001b[0mheights\u001b[0m\u001b[0;34m,\u001b[0m \u001b[0medges\u001b[0m \u001b[0;34m=\u001b[0m \u001b[0mestimator\u001b[0m\u001b[0;34m(\u001b[0m\u001b[0mobservations\u001b[0m\u001b[0;34m,\u001b[0m \u001b[0mweights\u001b[0m\u001b[0;34m=\u001b[0m\u001b[0mweights\u001b[0m\u001b[0;34m)\u001b[0m\u001b[0;34m\u001b[0m\u001b[0;34m\u001b[0m\u001b[0m\n\u001b[0m\u001b[1;32m    438\u001b[0m \u001b[0;34m\u001b[0m\u001b[0m\n\u001b[1;32m    439\u001b[0m             \u001b[0;31m# Rescale the smoothed curve to match the histogram\u001b[0m\u001b[0;34m\u001b[0m\u001b[0;34m\u001b[0m\u001b[0;34m\u001b[0m\u001b[0m\n",
      "\u001b[0;32m/opt/conda/lib/python3.9/site-packages/seaborn/_statistics.py\u001b[0m in \u001b[0;36m__call__\u001b[0;34m(self, x1, x2, weights)\u001b[0m\n\u001b[1;32m    369\u001b[0m         \u001b[0;34m\"\"\"Count the occurrances in each bin, maybe normalize.\"\"\"\u001b[0m\u001b[0;34m\u001b[0m\u001b[0;34m\u001b[0m\u001b[0m\n\u001b[1;32m    370\u001b[0m         \u001b[0;32mif\u001b[0m \u001b[0mx2\u001b[0m \u001b[0;32mis\u001b[0m \u001b[0;32mNone\u001b[0m\u001b[0;34m:\u001b[0m\u001b[0;34m\u001b[0m\u001b[0;34m\u001b[0m\u001b[0m\n\u001b[0;32m--> 371\u001b[0;31m             \u001b[0;32mreturn\u001b[0m \u001b[0mself\u001b[0m\u001b[0;34m.\u001b[0m\u001b[0m_eval_univariate\u001b[0m\u001b[0;34m(\u001b[0m\u001b[0mx1\u001b[0m\u001b[0;34m,\u001b[0m \u001b[0mweights\u001b[0m\u001b[0;34m)\u001b[0m\u001b[0;34m\u001b[0m\u001b[0;34m\u001b[0m\u001b[0m\n\u001b[0m\u001b[1;32m    372\u001b[0m         \u001b[0;32melse\u001b[0m\u001b[0;34m:\u001b[0m\u001b[0;34m\u001b[0m\u001b[0;34m\u001b[0m\u001b[0m\n\u001b[1;32m    373\u001b[0m             \u001b[0;32mreturn\u001b[0m \u001b[0mself\u001b[0m\u001b[0;34m.\u001b[0m\u001b[0m_eval_bivariate\u001b[0m\u001b[0;34m(\u001b[0m\u001b[0mx1\u001b[0m\u001b[0;34m,\u001b[0m \u001b[0mx2\u001b[0m\u001b[0;34m,\u001b[0m \u001b[0mweights\u001b[0m\u001b[0;34m)\u001b[0m\u001b[0;34m\u001b[0m\u001b[0;34m\u001b[0m\u001b[0m\n",
      "\u001b[0;32m/opt/conda/lib/python3.9/site-packages/seaborn/_statistics.py\u001b[0m in \u001b[0;36m_eval_univariate\u001b[0;34m(self, x, weights)\u001b[0m\n\u001b[1;32m    346\u001b[0m         \u001b[0mbin_edges\u001b[0m \u001b[0;34m=\u001b[0m \u001b[0mself\u001b[0m\u001b[0;34m.\u001b[0m\u001b[0mbin_edges\u001b[0m\u001b[0;34m\u001b[0m\u001b[0;34m\u001b[0m\u001b[0m\n\u001b[1;32m    347\u001b[0m         \u001b[0;32mif\u001b[0m \u001b[0mbin_edges\u001b[0m \u001b[0;32mis\u001b[0m \u001b[0;32mNone\u001b[0m\u001b[0;34m:\u001b[0m\u001b[0;34m\u001b[0m\u001b[0;34m\u001b[0m\u001b[0m\n\u001b[0;32m--> 348\u001b[0;31m             \u001b[0mbin_edges\u001b[0m \u001b[0;34m=\u001b[0m \u001b[0mself\u001b[0m\u001b[0;34m.\u001b[0m\u001b[0mdefine_bin_edges\u001b[0m\u001b[0;34m(\u001b[0m\u001b[0mx\u001b[0m\u001b[0;34m,\u001b[0m \u001b[0mweights\u001b[0m\u001b[0;34m=\u001b[0m\u001b[0mweights\u001b[0m\u001b[0;34m,\u001b[0m \u001b[0mcache\u001b[0m\u001b[0;34m=\u001b[0m\u001b[0;32mFalse\u001b[0m\u001b[0;34m)\u001b[0m\u001b[0;34m\u001b[0m\u001b[0;34m\u001b[0m\u001b[0m\n\u001b[0m\u001b[1;32m    349\u001b[0m \u001b[0;34m\u001b[0m\u001b[0m\n\u001b[1;32m    350\u001b[0m         \u001b[0mdensity\u001b[0m \u001b[0;34m=\u001b[0m \u001b[0mself\u001b[0m\u001b[0;34m.\u001b[0m\u001b[0mstat\u001b[0m \u001b[0;34m==\u001b[0m \u001b[0;34m\"density\"\u001b[0m\u001b[0;34m\u001b[0m\u001b[0;34m\u001b[0m\u001b[0m\n",
      "\u001b[0;32m/opt/conda/lib/python3.9/site-packages/seaborn/_statistics.py\u001b[0m in \u001b[0;36mdefine_bin_edges\u001b[0;34m(self, x1, x2, weights, cache)\u001b[0m\n\u001b[1;32m    263\u001b[0m         \u001b[0;32mif\u001b[0m \u001b[0mx2\u001b[0m \u001b[0;32mis\u001b[0m \u001b[0;32mNone\u001b[0m\u001b[0;34m:\u001b[0m\u001b[0;34m\u001b[0m\u001b[0;34m\u001b[0m\u001b[0m\n\u001b[1;32m    264\u001b[0m \u001b[0;34m\u001b[0m\u001b[0m\n\u001b[0;32m--> 265\u001b[0;31m             bin_edges = self._define_bin_edges(\n\u001b[0m\u001b[1;32m    266\u001b[0m                 \u001b[0mx1\u001b[0m\u001b[0;34m,\u001b[0m \u001b[0mweights\u001b[0m\u001b[0;34m,\u001b[0m \u001b[0mself\u001b[0m\u001b[0;34m.\u001b[0m\u001b[0mbins\u001b[0m\u001b[0;34m,\u001b[0m \u001b[0mself\u001b[0m\u001b[0;34m.\u001b[0m\u001b[0mbinwidth\u001b[0m\u001b[0;34m,\u001b[0m \u001b[0mself\u001b[0m\u001b[0;34m.\u001b[0m\u001b[0mbinrange\u001b[0m\u001b[0;34m,\u001b[0m \u001b[0mself\u001b[0m\u001b[0;34m.\u001b[0m\u001b[0mdiscrete\u001b[0m\u001b[0;34m,\u001b[0m\u001b[0;34m\u001b[0m\u001b[0;34m\u001b[0m\u001b[0m\n\u001b[1;32m    267\u001b[0m             )\n",
      "\u001b[0;32m/opt/conda/lib/python3.9/site-packages/seaborn/_statistics.py\u001b[0m in \u001b[0;36m_define_bin_edges\u001b[0;34m(self, x, weights, bins, binwidth, binrange, discrete)\u001b[0m\n\u001b[1;32m    254\u001b[0m             \u001b[0mbin_edges\u001b[0m \u001b[0;34m=\u001b[0m \u001b[0mnp\u001b[0m\u001b[0;34m.\u001b[0m\u001b[0marange\u001b[0m\u001b[0;34m(\u001b[0m\u001b[0mstart\u001b[0m\u001b[0;34m,\u001b[0m \u001b[0mstop\u001b[0m \u001b[0;34m+\u001b[0m \u001b[0mstep\u001b[0m\u001b[0;34m,\u001b[0m \u001b[0mstep\u001b[0m\u001b[0;34m)\u001b[0m\u001b[0;34m\u001b[0m\u001b[0;34m\u001b[0m\u001b[0m\n\u001b[1;32m    255\u001b[0m         \u001b[0;32melse\u001b[0m\u001b[0;34m:\u001b[0m\u001b[0;34m\u001b[0m\u001b[0;34m\u001b[0m\u001b[0m\n\u001b[0;32m--> 256\u001b[0;31m             bin_edges = np.histogram_bin_edges(\n\u001b[0m\u001b[1;32m    257\u001b[0m                 \u001b[0mx\u001b[0m\u001b[0;34m,\u001b[0m \u001b[0mbins\u001b[0m\u001b[0;34m,\u001b[0m \u001b[0mbinrange\u001b[0m\u001b[0;34m,\u001b[0m \u001b[0mweights\u001b[0m\u001b[0;34m,\u001b[0m\u001b[0;34m\u001b[0m\u001b[0;34m\u001b[0m\u001b[0m\n\u001b[1;32m    258\u001b[0m             )\n",
      "\u001b[0;32m<__array_function__ internals>\u001b[0m in \u001b[0;36mhistogram_bin_edges\u001b[0;34m(*args, **kwargs)\u001b[0m\n",
      "\u001b[0;32m/opt/conda/lib/python3.9/site-packages/numpy/lib/histograms.py\u001b[0m in \u001b[0;36mhistogram_bin_edges\u001b[0;34m(a, bins, range, weights)\u001b[0m\n\u001b[1;32m    667\u001b[0m     \"\"\"\n\u001b[1;32m    668\u001b[0m     \u001b[0ma\u001b[0m\u001b[0;34m,\u001b[0m \u001b[0mweights\u001b[0m \u001b[0;34m=\u001b[0m \u001b[0m_ravel_and_check_weights\u001b[0m\u001b[0;34m(\u001b[0m\u001b[0ma\u001b[0m\u001b[0;34m,\u001b[0m \u001b[0mweights\u001b[0m\u001b[0;34m)\u001b[0m\u001b[0;34m\u001b[0m\u001b[0;34m\u001b[0m\u001b[0m\n\u001b[0;32m--> 669\u001b[0;31m     \u001b[0mbin_edges\u001b[0m\u001b[0;34m,\u001b[0m \u001b[0m_\u001b[0m \u001b[0;34m=\u001b[0m \u001b[0m_get_bin_edges\u001b[0m\u001b[0;34m(\u001b[0m\u001b[0ma\u001b[0m\u001b[0;34m,\u001b[0m \u001b[0mbins\u001b[0m\u001b[0;34m,\u001b[0m \u001b[0mrange\u001b[0m\u001b[0;34m,\u001b[0m \u001b[0mweights\u001b[0m\u001b[0;34m)\u001b[0m\u001b[0;34m\u001b[0m\u001b[0;34m\u001b[0m\u001b[0m\n\u001b[0m\u001b[1;32m    670\u001b[0m     \u001b[0;32mreturn\u001b[0m \u001b[0mbin_edges\u001b[0m\u001b[0;34m\u001b[0m\u001b[0;34m\u001b[0m\u001b[0m\n\u001b[1;32m    671\u001b[0m \u001b[0;34m\u001b[0m\u001b[0m\n",
      "\u001b[0;32m/opt/conda/lib/python3.9/site-packages/numpy/lib/histograms.py\u001b[0m in \u001b[0;36m_get_bin_edges\u001b[0;34m(a, bins, range, weights)\u001b[0m\n\u001b[1;32m    424\u001b[0m             \u001b[0;32mraise\u001b[0m \u001b[0mValueError\u001b[0m\u001b[0;34m(\u001b[0m\u001b[0;34m'`bins` must be positive, when an integer'\u001b[0m\u001b[0;34m)\u001b[0m\u001b[0;34m\u001b[0m\u001b[0;34m\u001b[0m\u001b[0m\n\u001b[1;32m    425\u001b[0m \u001b[0;34m\u001b[0m\u001b[0m\n\u001b[0;32m--> 426\u001b[0;31m         \u001b[0mfirst_edge\u001b[0m\u001b[0;34m,\u001b[0m \u001b[0mlast_edge\u001b[0m \u001b[0;34m=\u001b[0m \u001b[0m_get_outer_edges\u001b[0m\u001b[0;34m(\u001b[0m\u001b[0ma\u001b[0m\u001b[0;34m,\u001b[0m \u001b[0mrange\u001b[0m\u001b[0;34m)\u001b[0m\u001b[0;34m\u001b[0m\u001b[0;34m\u001b[0m\u001b[0m\n\u001b[0m\u001b[1;32m    427\u001b[0m \u001b[0;34m\u001b[0m\u001b[0m\n\u001b[1;32m    428\u001b[0m     \u001b[0;32melif\u001b[0m \u001b[0mnp\u001b[0m\u001b[0;34m.\u001b[0m\u001b[0mndim\u001b[0m\u001b[0;34m(\u001b[0m\u001b[0mbins\u001b[0m\u001b[0;34m)\u001b[0m \u001b[0;34m==\u001b[0m \u001b[0;36m1\u001b[0m\u001b[0;34m:\u001b[0m\u001b[0;34m\u001b[0m\u001b[0;34m\u001b[0m\u001b[0m\n",
      "\u001b[0;32m/opt/conda/lib/python3.9/site-packages/numpy/lib/histograms.py\u001b[0m in \u001b[0;36m_get_outer_edges\u001b[0;34m(a, range)\u001b[0m\n\u001b[1;32m    321\u001b[0m         \u001b[0mfirst_edge\u001b[0m\u001b[0;34m,\u001b[0m \u001b[0mlast_edge\u001b[0m \u001b[0;34m=\u001b[0m \u001b[0ma\u001b[0m\u001b[0;34m.\u001b[0m\u001b[0mmin\u001b[0m\u001b[0;34m(\u001b[0m\u001b[0;34m)\u001b[0m\u001b[0;34m,\u001b[0m \u001b[0ma\u001b[0m\u001b[0;34m.\u001b[0m\u001b[0mmax\u001b[0m\u001b[0;34m(\u001b[0m\u001b[0;34m)\u001b[0m\u001b[0;34m\u001b[0m\u001b[0;34m\u001b[0m\u001b[0m\n\u001b[1;32m    322\u001b[0m         \u001b[0;32mif\u001b[0m \u001b[0;32mnot\u001b[0m \u001b[0;34m(\u001b[0m\u001b[0mnp\u001b[0m\u001b[0;34m.\u001b[0m\u001b[0misfinite\u001b[0m\u001b[0;34m(\u001b[0m\u001b[0mfirst_edge\u001b[0m\u001b[0;34m)\u001b[0m \u001b[0;32mand\u001b[0m \u001b[0mnp\u001b[0m\u001b[0;34m.\u001b[0m\u001b[0misfinite\u001b[0m\u001b[0;34m(\u001b[0m\u001b[0mlast_edge\u001b[0m\u001b[0;34m)\u001b[0m\u001b[0;34m)\u001b[0m\u001b[0;34m:\u001b[0m\u001b[0;34m\u001b[0m\u001b[0;34m\u001b[0m\u001b[0m\n\u001b[0;32m--> 323\u001b[0;31m             raise ValueError(\n\u001b[0m\u001b[1;32m    324\u001b[0m                 \"autodetected range of [{}, {}] is not finite\".format(first_edge, last_edge))\n\u001b[1;32m    325\u001b[0m \u001b[0;34m\u001b[0m\u001b[0m\n",
      "\u001b[0;31mValueError\u001b[0m: autodetected range of [-inf, 9.755874855672491] is not finite"
     ]
    },
    {
     "data": {
      "image/png": "[encoded data removed]",
      "text/plain": [
       "<Figure size 720x432 with 1 Axes>"
      ]
     },
     "metadata": {
      "needs_background": "light"
     },
     "output_type": "display_data"
    }
   ],
   "source": [
    "# 2. Boxplot\n",
    "plt.figure(figsize=(10, 6))\n",
    "sns.boxplot(x=companies_of_interest['funding_total'])\n",
    "plt.title('Boxplot для funding_total')\n",
    "plt.xlabel('Сумма общего финансирования')\n",
    "plt.show()\n",
    "\n",
    "# 3. Гистограмма (с логарифмической шкалой)\n",
    "plt.figure(figsize=(10, 6))\n",
    "sns.histplot(companies_of_interest['funding_total'], kde=False, log_scale=True, bins = 60)  #log_scale=True\n",
    "plt.title('Гистограмма funding_total (логарифмическая шкала)')\n",
    "plt.xlabel('Сумма общего финансирования (логарифмическая шкала)')\n",
    "plt.ylabel('Количество компаний')\n",
    "plt.show()"
   ]
  },
  {
   "cell_type": "markdown",
   "id": "36b077bd-bd98-4b11-abea-f4cc999cf9a1",
   "metadata": {},
   "source": [
    "**Вывод**: Большинство значених находятся в диапазоне от 1 миллиона до 50 миллионов."
   ]
  },
  {
   "cell_type": "markdown",
   "id": "d70e77d7-d85a-42e2-b111-4910315653a3",
   "metadata": {},
   "source": [
    "### Куплены за бесплатно?"
   ]
  },
  {
   "cell_type": "markdown",
   "id": "18bc8e03-6c5e-4393-80ff-41c3f8231cf1",
   "metadata": {},
   "source": [
    "- **Цель**: Исследовать компании, проданные за ноль или один доллар, но с ненулевым финансированием.\n",
    "\n",
    "- **Фильтрация данных**:"
   ]
  },
  {
   "cell_type": "code",
   "execution_count": null,
   "id": "9bc95298-2408-4f67-bc13-bc80c8537a23",
   "metadata": {},
   "outputs": [],
   "source": [
    "# Объединение таблиц\n",
    "df_merged = pd.merge(\n",
    "    acquisition,\n",
    "    companies_of_interest,\n",
    "    left_on='acquired_company_id',\n",
    "    right_on='company_id',\n",
    "    how='inner'\n",
    ")\n",
    "\n",
    "# Проверка результата\n",
    "print(df_merged.info())"
   ]
  },
  {
   "cell_type": "code",
   "execution_count": null,
   "id": "d85fb41c-f1c0-44f2-a359-f152da5b1eaa",
   "metadata": {},
   "outputs": [],
   "source": [
    "# Фильтрация данных\n",
    "zero_dollar_companies = df_merged[\n",
    "    (df_merged['price_amount'] <= 1) &\n",
    "    (df_merged['funding_total'] > 0)\n",
    "]\n",
    "\n",
    "# Проверка результата\n",
    "display(zero_dollar_companies[['acquired_company_id', 'name', 'price_amount', 'funding_total']])\n",
    "print(zero_dollar_companies.info())"
   ]
  },
  {
   "cell_type": "markdown",
   "id": "44b22eb5-8180-4e31-8cec-f8b9564b5c9f",
   "metadata": {},
   "source": [
    "В таблице zero_dollar_companies содержится 1618 записей о компаниях, которые были проданы за ноль или один доллар, но при этом имели ненулевой объём финансирования (funding_total > 0).\n",
    "\n",
    "Это означает, что такие сделки не являются редкими, и их стоит исследовать подробнее.\n",
    "\n",
    "Компании с ненулевым финансированием, проданные за ноль или один доллар:\n",
    "\n",
    "Такие сделки могут быть связаны с:\n",
    "\n",
    "- Переходом прав собственности внутри группы компаний.\n",
    "\n",
    "- Продажей активов или интеллектуальной собственности.\n",
    "\n",
    "- Ошибками в данных (например, неправильно указанная цена сделки)."
   ]
  },
  {
   "cell_type": "code",
   "execution_count": null,
   "id": "e9176404-6102-466a-98d3-812ad9017a5c",
   "metadata": {},
   "outputs": [],
   "source": [
    "# Описательная статистика\n",
    "print(df_merged['funding_total'].describe())"
   ]
  },
  {
   "cell_type": "code",
   "execution_count": null,
   "id": "daa00cb9-9962-4c74-8517-12d651b6ed2c",
   "metadata": {},
   "outputs": [],
   "source": [
    "# Расчёт квантилей\n",
    "Q1 = df_merged['funding_total'].quantile(0.25)\n",
    "Q3 = df_merged['funding_total'].quantile(0.75)\n",
    "IQR = Q3 - Q1\n",
    "\n",
    "# Границы выбросов\n",
    "lower_bound = Q1 - 1.5 * IQR\n",
    "upper_bound = Q3 + 1.5 * IQR\n",
    "\n",
    "print(f\"Нижняя граница выбросов: {lower_bound}\")\n",
    "print(f\"Верхняя граница выбросов: {upper_bound}\")"
   ]
  },
  {
   "cell_type": "code",
   "execution_count": null,
   "id": "350bc186-48e7-4fd9-929a-3b55eceaaaa1",
   "metadata": {},
   "outputs": [],
   "source": [
    "# Процентили для границ\n",
    "lower_percentile = df_merged['funding_total'].le(lower_bound).mean() * 100\n",
    "upper_percentile = df_merged['funding_total'].le(upper_bound).mean() * 100\n",
    "\n",
    "print(f\"Нижняя граница соответствует {lower_percentile:.2f}% данных.\")\n",
    "print(f\"Верхняя граница соответствует {upper_percentile:.2f}% данных.\")"
   ]
  },
  {
   "cell_type": "markdown",
   "id": "9253c0e3-a841-4083-8683-0238d2f6de78",
   "metadata": {},
   "source": [
    "Нижняя граница находиться в 0% поскольку почти 20% компаний продано за 0 или 1 доллар."
   ]
  },
  {
   "cell_type": "code",
   "execution_count": null,
   "id": "dd55430e-f5df-45d4-9219-6ea63db0aac5",
   "metadata": {},
   "outputs": [],
   "source": [
    "# Гистограмма\n",
    "plt.figure(figsize=(12, 6))\n",
    "sns.histplot(df_merged['funding_total'].dropna(), bins=50, kde=True)\n",
    "plt.axvline(lower_bound, color='red', linestyle='--', label=f'Нижняя граница: {lower_bound:.2f}')\n",
    "plt.axvline(upper_bound, color='green', linestyle='--', label=f'Верхняя граница: {upper_bound:.2f}')\n",
    "plt.title('Распределение общего финансирования (funding_total)')\n",
    "plt.xlabel('Общее финансирование')\n",
    "plt.ylabel('Частота')\n",
    "plt.legend()\n",
    "plt.show()\n",
    "\n",
    "# Boxplot\n",
    "plt.figure(figsize=(12, 6))\n",
    "sns.boxplot(x=df_merged['funding_total'])\n",
    "plt.title('Boxplot общего финансирования (funding_total)')\n",
    "plt.xlabel('Общее финансирование')\n",
    "plt.show()"
   ]
  },
  {
   "cell_type": "markdown",
   "id": "3ff92dc8-2937-418d-86a0-9cb07d1f0697",
   "metadata": {},
   "source": [
    "Вывод: большинство значений находиться в диапазоне до 1 млиллиона долларов, и есть выброс в 5.7 миллиарда долларов"
   ]
  },
  {
   "cell_type": "code",
   "execution_count": null,
   "id": "c1eca348-eb2e-4a1c-98e1-8fc4964217c8",
   "metadata": {},
   "outputs": [],
   "source": [
    "df_merged[(df_merged['funding_total']<0)].info()"
   ]
  },
  {
   "cell_type": "markdown",
   "id": "a54497e4-7cc7-4034-9772-8d09f738c750",
   "metadata": {},
   "source": [
    "Отрицательные значения отсуствуют"
   ]
  },
  {
   "cell_type": "markdown",
   "id": "241c0bda-0882-4e05-a82d-b14ff8c9b0c6",
   "metadata": {},
   "source": [
    "### Цены стартапов по категориям"
   ]
  },
  {
   "cell_type": "code",
   "execution_count": null,
   "id": "825e3954-d8c5-4ff6-9864-db31ebfdc8e8",
   "metadata": {},
   "outputs": [],
   "source": [
    "df_merged_filtred = df_merged[( df_merged['funding_total']<10000000.0) & (df_merged['funding_total']>0) ]\n",
    "category_stats = df_merged_filtred.groupby('category_code')['funding_total'].agg(\n",
    "    median_funding='median',\n",
    "    iqr_funding=lambda x: x.quantile(0.75) - x.quantile(0.25)\n",
    ").reset_index()\n",
    "\n",
    "# Топ категорий по медианному финансированию\n",
    "top_median = category_stats.nlargest(5, 'median_funding')\n",
    "print(f'{top_median} \\n')\n",
    "\n",
    "# Топ категорий по разбросу цен\n",
    "top_iqr = category_stats.nlargest(5, 'iqr_funding')\n",
    "print(top_iqr)\n",
    "\n",
    "# График для медианного финансирования\n",
    "plt.figure(figsize=(10, 6))\n",
    "sns.barplot(x='category_code', y='median_funding', data=top_median)\n",
    "plt.title('Топ-5 категорий по медианному финансированию')\n",
    "plt.xlabel('Категория')\n",
    "plt.ylabel('Медианное финансирование')\n",
    "plt.show()\n",
    "\n",
    "# График для разброса финансирования\n",
    "plt.figure(figsize=(10, 6))\n",
    "sns.barplot(x='category_code', y='iqr_funding', data=top_iqr)\n",
    "plt.title('Топ-5 категорий по разбросу финансирования')\n",
    "plt.xlabel('Категория')\n",
    "plt.ylabel('Межквартильный размах (IQR)')\n",
    "plt.show()\n"
   ]
  },
  {
   "cell_type": "markdown",
   "id": "e14c1473-d91b-4844-b979-25d540f163a5",
   "metadata": {},
   "source": [
    "##### Вывод:\n",
    "Категория \"Медицина\" получает в среднем наибольшее финансирование, а в \"Пиаре\" наибольший разброс по финансированию "
   ]
  },
  {
   "cell_type": "code",
   "execution_count": null,
   "id": "915b1015-858c-4170-be3d-0cf9c6967862",
   "metadata": {},
   "outputs": [],
   "source": [
    "# Создаем маску для фильтрации\n",
    "mask = (\n",
    "    (company_and_rounds['funding_rounds'] > 0) |\n",
    "    (company_and_rounds['investment_rounds'] > 0) |\n",
    "    (company_and_rounds['status'] == 'acquired')\n",
    ")\n",
    "\n",
    "# Применяем маску для фильтрации company_and_rounds\n",
    "companies_of_interest = company_and_rounds[mask].copy()\n",
    "\n",
    "# 1. Группируем данные по статусу и вычисляем среднее количество раундов\n",
    "avg_rounds_by_status = companies_of_interest.groupby('status')['funding_rounds'].mean().sort_values()\n",
    "\n",
    "# 2. Выводим результаты\n",
    "print(\"Среднее количество раундов финансирования по статусу:\\n\", avg_rounds_by_status)\n",
    "\n",
    "# 3. Строим столбчатую диаграмму\n",
    "plt.figure(figsize=(12, 6))\n",
    "avg_rounds_by_status.plot(kind='bar', color='skyblue')\n",
    "plt.title('Среднее количество раундов финансирования по статусу')\n",
    "plt.xlabel('Статус компании')\n",
    "plt.ylabel('Среднее количество раундов')\n",
    "plt.xticks(rotation=45, ha='right')  # Rotate x-axis labels for better readability\n",
    "plt.tight_layout()  # Adjust layout to prevent labels from overlapping\n",
    "plt.show()"
   ]
  },
  {
   "cell_type": "markdown",
   "id": "9b55b018-e822-4abd-b77b-14d1541284cd",
   "metadata": {},
   "source": [
    "**Выводы по среднему количеству раундов финансирования по статусу:**\n",
    "\n",
    "**Acquired** (Приобретенные): Компании, которые были приобретены, в среднем проходили 1.16 раунда финансирования. Это наименьший показатель среди всех статусов. \n",
    "\n",
    "Возможные интерпретации:\n",
    "  -  Эти компании могли быть привлекательными для приобретения на ранних стадиях, не требуя значительных внешних инвестиций для достижения успеха.\n",
    "  -  Возможно, они имели сильную команду и перспективную бизнес-модель, что позволило им быстро привлечь внимание потенциальных покупателей.\n",
    "  -  Не исключено, что приобретение произошло в результате поглощения конкурентом, а не активного поиска инвестиций для дальнейшего развития.\n",
    "\n",
    "**Closed** (Закрытые): Стартапы, которые прекратили свою деятельность, в среднем имели 1.88 раунда финансирования. \n",
    "\n",
    "Возможные интерпретации:\n",
    "  -  Несмотря на привлечение инвестиций, эти компании не смогли достичь устойчивой бизнес-модели или столкнулись с непреодолимыми трудностями.\n",
    "  -  Недостаточное количество раундов финансирования может указывать на нехватку ресурсов для масштабирования бизнеса или адаптации к изменениям на рынке.\n",
    "  -  Возможно, инвесторы потеряли интерес к этим компаниям после нескольких раундов, что привело к их закрытию.\n",
    "\n",
    "**Operating** (Действующие): Компании, которые продолжают свою деятельность, в среднем привлекли 2.38 раунда финансирования. \n",
    "\n",
    "Возможные интерпретации:\n",
    "  -  Этот показатель отражает типичный путь развития стартапа, который нуждается в нескольких раундах финансирования для роста и масштабирования.\n",
    "  -  Продолжающаяся потребность в финансировании может указывать на то, что эти компании еще не достигли прибыльности или нуждаются в средствах для дальнейшего расширения.\n",
    "\n",
    "**IPO** (Вышедшие на IPO): Компании, которые вышли на первичное публичное размещение акций, в среднем проходили 3.99 раунда финансирования. \n",
    "\n",
    "Возможные интерпретации:\n",
    "  -  Этот статус демонстрирует наибольшую потребность в финансировании на ранних этапах развития.\n",
    "  -  Выход на IPO требует значительных инвестиций в подготовку к размещению акций, маркетинг и привлечение инвесторов.\n",
    "  -  Большое количество раундов финансирования может свидетельствовать о долгосрочной стратегии развития и устойчивом росте компании."
   ]
  },
  {
   "cell_type": "markdown",
   "id": "9e9c2983-02ef-4e73-b51b-d24248eefda1",
   "metadata": {},
   "source": [
    "## Основные выводы по проекту:\n",
    "\n",
    "### Шаг 1. Знакомство с данными: загрузка и первичная предобработка\n",
    "- **Вывод общей информации и исправление названий столбцов:**\n",
    "  - Загружены все необходимые данные, проведена первичная проверка на наличие пропусков и типов данных.\n",
    "  - Названия столбцов приведены к единому стилю (snake_case) для удобства работы.\n",
    "  - В датасете `company_and_rounds` обнаружены дублирующиеся столбцы (`company ID` и `company id`), которые были разделены для дальнейшего анализа.\n",
    "\n",
    "- **Смена типов и анализ пропусков:**\n",
    "  - Столбцы с датами преобразованы в тип `datetime`.\n",
    "  - Проведен анализ пропусков в данных. В некоторых столбцах (например, `closed_at`, `network_username`, `graduated_at`) обнаружено большое количество пропусков, что может повлиять на анализ.\n",
    "  - Вывод: данные неполные, но их достаточно для проведения анализа с учетом возможных искажений.\n",
    "\n",
    "### Шаг 2. Предобработка данных, предварительное исследование\n",
    "- **Раунды финансирования по годам:**\n",
    "  - Построена сводная таблица по годам, в которой указан типичный размер средств и количество раундов финансирования.\n",
    "  - Наибольший типичный размер средств в рамках одного раунда зафиксирован в **2005 году**.\n",
    "  - В **2013 году** наблюдался рост количества раундов финансирования, но средний размер средств снизился.\n",
    "\n",
    "- **Люди и их образование:**\n",
    "  - Компании разделены на группы по количеству сотрудников: микропредприятия (0-10 сотрудников), малые (11-50), средние (51-200), крупные (201-500) и очень крупные (500+).\n",
    "  - Наиболее полные данные об образовании сотрудников наблюдаются в средних и крупных компаниях (51-500 сотрудников), где доля сотрудников без информации об образовании составляет около 18-19%.\n",
    "  - В микропредприятиях и очень крупных компаниях доля сотрудников без информации об образовании выше (46% и 63% соответственно).\n",
    "\n",
    "- **Объединять или не объединять:**\n",
    "  - Столбец `network_username` не подходит для объединения данных между датасетами `people` и `company_and_rounds`, так как количество общих значений составляет всего 5.73% и 2.76% соответственно. Кроме того, значения в этих столбцах имеют разную природу (сотрудники vs. компании).\n",
    "\n",
    "- **Проблемный датасет и причина возникновения пропусков:**\n",
    "  - Датысет `company_and_rounds` разделен на две таблицы: одна содержит информацию о компаниях, другая — о раундах финансирования.\n",
    "  - Обнаружено, что пропуски в данных о раундах финансирования могут быть связаны с тем, что не все компании проходили через раунды финансирования или данные были утеряны.\n",
    "\n",
    "### Шаг 3. Исследовательский анализ объединённых таблиц\n",
    "- **Объединение данных:**\n",
    "  - Отобраны компании, которые получали финансирование или были приобретены. В результате получилась таблица с 40 747 компаниями.\n",
    "  - Проведен анализ полноты данных: в некоторых столбцах (например, `closed_at`, `network_username`) осталось много пропусков, но это не критично для дальнейшего анализа.\n",
    "\n",
    "- **Анализ выбросов:**\n",
    "  - Типичный размер общего финансирования для одной компании составляет от 1 миллиона до 50 миллионов долларов.\n",
    "  - Выбросы определены с помощью межквартильного размаха (IQR). Верхняя граница выбросов составляет 9 843 750 долларов, что соответствует 75% данных.\n",
    "\n",
    "- **Куплены за бесплатно:**\n",
    "  - Обнаружено 1 618 компаний, которые были проданы за 0 или 1 доллар, но при этом имели ненулевой объем финансирования. Это может быть связано с передачей прав собственности внутри группы компаний или ошибками в данных.\n",
    "\n",
    "- **Цены стартапов по категориям:**\n",
    "  - Категория **\"Медицина\"** имеет наибольшее медианное финансирование (8 700 000 долларов).\n",
    "  - Категория **\"Реклама\"** имеет наибольший разброс цен (IQR = 5 000 000 долларов).\n",
    "\n",
    "- **Сколько раундов продержится стартап перед покупкой:**\n",
    "  - Компании, которые были приобретены, в среднем проходили 1.16 раунда финансирования.\n",
    "  - Компании, вышедшие на IPO, проходили в среднем 3.99 раунда финансирования, что указывает на их долгосрочную стратегию развития.\n",
    "\n",
    "### Шаг 4. Итоговый вывод и рекомендации\n",
    "- **Основные выводы:**\n",
    "  - Данные неполные, но их достаточно для проведения анализа с учетом возможных искажений.\n",
    "  - Наиболее привлекательными для инвестиций являются компании из категорий \"Медицина\" и \"Реклама\", так как они имеют высокое медианное финансирование и значительный разброс цен.\n",
    "  - Компании, которые были приобретены, обычно проходят меньше раундов финансирования, чем те, которые выходят на IPO.\n",
    "\n",
    "- **Рекомендации:**\n",
    "  - Для микропредприятий и стартапов рекомендуется внедрить более формализованные процессы сбора данных о сотрудниках.\n",
    "  - Для очень крупных компаний рекомендуется провести аудит данных, чтобы повысить их полноту.\n",
    "  - При анализе данных об образовании следует учитывать специфику отрасли и компании, так как в некоторых отраслях образование может играть более важную роль.\n",
    "\n",
    "- **Сомнения:**\n",
    "  - Высокая доля пропусков в данных о раундах финансирования и закрытии компаний может повлиять на точность анализа. Рекомендуется уточнить у заказчика, можно ли дополнить данные или провести дополнительные исследования.\n",
    "\n",
    "## Итог:\n",
    "- Проект успешно выполнен, основные задачи решены.\n",
    "- Полученные выводы подкрепляют друг друга, но требуют дополнительной проверки из-за неполноты данных."
   ]
  }
 ],
 "metadata": {
  "ExecuteTimeLog": [
   {
    "duration": 560,
    "start_time": "2025-02-07T10:18:06.136Z"
   },
   {
    "duration": 0,
    "start_time": "2025-02-07T10:18:06.698Z"
   },
   {
    "duration": 0,
    "start_time": "2025-02-07T10:18:06.699Z"
   },
   {
    "duration": 0,
    "start_time": "2025-02-07T10:18:06.700Z"
   },
   {
    "duration": 0,
    "start_time": "2025-02-07T10:18:06.702Z"
   },
   {
    "duration": 0,
    "start_time": "2025-02-07T10:18:06.703Z"
   },
   {
    "duration": 0,
    "start_time": "2025-02-07T10:18:06.704Z"
   },
   {
    "duration": 0,
    "start_time": "2025-02-07T10:18:06.705Z"
   },
   {
    "duration": 0,
    "start_time": "2025-02-07T10:18:06.707Z"
   },
   {
    "duration": 0,
    "start_time": "2025-02-07T10:18:06.708Z"
   },
   {
    "duration": 0,
    "start_time": "2025-02-07T10:18:06.709Z"
   },
   {
    "duration": 0,
    "start_time": "2025-02-07T10:18:06.710Z"
   },
   {
    "duration": 0,
    "start_time": "2025-02-07T10:18:06.711Z"
   },
   {
    "duration": 3157,
    "start_time": "2025-02-09T14:02:42.708Z"
   },
   {
    "duration": 259,
    "start_time": "2025-02-09T14:02:45.868Z"
   },
   {
    "duration": 7,
    "start_time": "2025-02-09T14:02:46.128Z"
   },
   {
    "duration": 181,
    "start_time": "2025-02-09T14:02:46.137Z"
   },
   {
    "duration": 150,
    "start_time": "2025-02-09T14:02:46.320Z"
   },
   {
    "duration": 194,
    "start_time": "2025-02-09T14:02:46.472Z"
   },
   {
    "duration": 4047,
    "start_time": "2025-02-09T14:02:46.667Z"
   },
   {
    "duration": 95,
    "start_time": "2025-02-09T14:02:50.715Z"
   },
   {
    "duration": 223,
    "start_time": "2025-02-09T14:02:50.812Z"
   },
   {
    "duration": 13,
    "start_time": "2025-02-09T14:05:34.652Z"
   },
   {
    "duration": 125,
    "start_time": "2025-02-09T14:05:42.855Z"
   },
   {
    "duration": 1337,
    "start_time": "2025-02-09T20:21:03.214Z"
   },
   {
    "duration": 1870,
    "start_time": "2025-02-09T20:21:04.553Z"
   },
   {
    "duration": 241,
    "start_time": "2025-02-09T20:21:06.425Z"
   },
   {
    "duration": 7,
    "start_time": "2025-02-09T20:21:06.668Z"
   },
   {
    "duration": 184,
    "start_time": "2025-02-09T20:21:06.677Z"
   },
   {
    "duration": 132,
    "start_time": "2025-02-09T20:21:06.862Z"
   },
   {
    "duration": 183,
    "start_time": "2025-02-09T20:21:06.996Z"
   },
   {
    "duration": 3825,
    "start_time": "2025-02-09T20:21:07.180Z"
   },
   {
    "duration": 92,
    "start_time": "2025-02-09T20:21:11.007Z"
   },
   {
    "duration": 364,
    "start_time": "2025-02-09T20:21:11.101Z"
   },
   {
    "duration": 19,
    "start_time": "2025-02-09T20:21:59.662Z"
   },
   {
    "duration": 126,
    "start_time": "2025-02-09T20:22:07.857Z"
   },
   {
    "duration": 1199,
    "start_time": "2025-02-12T21:31:38.429Z"
   },
   {
    "duration": 2093,
    "start_time": "2025-02-12T21:31:39.630Z"
   },
   {
    "duration": 253,
    "start_time": "2025-02-12T21:31:41.725Z"
   },
   {
    "duration": 9,
    "start_time": "2025-02-12T21:31:41.980Z"
   },
   {
    "duration": 194,
    "start_time": "2025-02-12T21:31:41.991Z"
   },
   {
    "duration": 149,
    "start_time": "2025-02-12T21:31:42.186Z"
   },
   {
    "duration": 187,
    "start_time": "2025-02-12T21:31:42.337Z"
   },
   {
    "duration": 4031,
    "start_time": "2025-02-12T21:31:42.526Z"
   },
   {
    "duration": 101,
    "start_time": "2025-02-12T21:31:46.559Z"
   },
   {
    "duration": 367,
    "start_time": "2025-02-12T21:31:46.663Z"
   },
   {
    "duration": 61,
    "start_time": "2025-02-12T21:31:47.031Z"
   },
   {
    "duration": 38,
    "start_time": "2025-02-12T21:31:47.094Z"
   },
   {
    "duration": 8,
    "start_time": "2025-02-12T21:31:47.134Z"
   },
   {
    "duration": 612,
    "start_time": "2025-02-12T21:31:47.143Z"
   },
   {
    "duration": 0,
    "start_time": "2025-02-12T21:31:47.756Z"
   },
   {
    "duration": 0,
    "start_time": "2025-02-12T21:31:47.757Z"
   },
   {
    "duration": 0,
    "start_time": "2025-02-12T21:31:47.758Z"
   },
   {
    "duration": 0,
    "start_time": "2025-02-12T21:31:47.759Z"
   },
   {
    "duration": 0,
    "start_time": "2025-02-12T21:31:47.760Z"
   },
   {
    "duration": 0,
    "start_time": "2025-02-12T21:31:47.761Z"
   },
   {
    "duration": 0,
    "start_time": "2025-02-12T21:31:47.762Z"
   },
   {
    "duration": 0,
    "start_time": "2025-02-12T21:31:47.763Z"
   },
   {
    "duration": 46,
    "start_time": "2025-02-12T21:32:26.586Z"
   },
   {
    "duration": 28,
    "start_time": "2025-02-12T21:32:27.969Z"
   },
   {
    "duration": 9,
    "start_time": "2025-02-12T21:32:36.081Z"
   },
   {
    "duration": 7,
    "start_time": "2025-02-12T21:32:36.240Z"
   },
   {
    "duration": 5,
    "start_time": "2025-02-12T21:32:36.398Z"
   },
   {
    "duration": 612,
    "start_time": "2025-02-12T21:32:36.712Z"
   },
   {
    "duration": 344,
    "start_time": "2025-02-12T21:32:37.326Z"
   },
   {
    "duration": 315,
    "start_time": "2025-02-12T21:32:37.772Z"
   },
   {
    "duration": 1202,
    "start_time": "2025-02-13T07:24:11.787Z"
   },
   {
    "duration": 2145,
    "start_time": "2025-02-13T07:24:12.991Z"
   },
   {
    "duration": 281,
    "start_time": "2025-02-13T07:24:15.138Z"
   },
   {
    "duration": 8,
    "start_time": "2025-02-13T07:24:15.421Z"
   },
   {
    "duration": 183,
    "start_time": "2025-02-13T07:24:15.431Z"
   },
   {
    "duration": 167,
    "start_time": "2025-02-13T07:24:15.615Z"
   },
   {
    "duration": 210,
    "start_time": "2025-02-13T07:24:15.783Z"
   },
   {
    "duration": 3928,
    "start_time": "2025-02-13T07:24:15.995Z"
   },
   {
    "duration": 106,
    "start_time": "2025-02-13T07:24:19.924Z"
   },
   {
    "duration": 404,
    "start_time": "2025-02-13T07:24:20.032Z"
   },
   {
    "duration": 83,
    "start_time": "2025-02-13T07:24:20.438Z"
   },
   {
    "duration": 28,
    "start_time": "2025-02-13T07:24:20.523Z"
   },
   {
    "duration": 38,
    "start_time": "2025-02-13T07:24:20.561Z"
   },
   {
    "duration": 643,
    "start_time": "2025-02-13T07:24:20.601Z"
   },
   {
    "duration": 0,
    "start_time": "2025-02-13T07:24:21.246Z"
   },
   {
    "duration": 0,
    "start_time": "2025-02-13T07:24:21.247Z"
   },
   {
    "duration": 0,
    "start_time": "2025-02-13T07:24:21.248Z"
   },
   {
    "duration": 0,
    "start_time": "2025-02-13T07:24:21.261Z"
   },
   {
    "duration": 0,
    "start_time": "2025-02-13T07:24:21.263Z"
   },
   {
    "duration": 0,
    "start_time": "2025-02-13T07:24:21.264Z"
   },
   {
    "duration": 0,
    "start_time": "2025-02-13T07:24:21.265Z"
   },
   {
    "duration": 0,
    "start_time": "2025-02-13T07:24:21.266Z"
   },
   {
    "duration": 0,
    "start_time": "2025-02-13T07:24:21.267Z"
   }
  ],
  "kernelspec": {
   "display_name": "Python [conda env:base] *",
   "language": "python",
   "name": "conda-base-py"
  },
  "language_info": {
   "codemirror_mode": {
    "name": "ipython",
    "version": 3
   },
   "file_extension": ".py",
   "mimetype": "text/x-python",
   "name": "python",
   "nbconvert_exporter": "python",
   "pygments_lexer": "ipython3",
   "version": "3.12.7"
  },
  "toc": {
   "base_numbering": 1,
   "nav_menu": {},
   "number_sections": true,
   "sideBar": true,
   "skip_h1_title": true,
   "title_cell": "Table of Contents",
   "title_sidebar": "Contents",
   "toc_cell": false,
   "toc_position": {},
   "toc_section_display": true,
   "toc_window_display": true
  }
 },
 "nbformat": 4,
 "nbformat_minor": 5
}
